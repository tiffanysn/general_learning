{
  "nbformat": 4,
  "nbformat_minor": 0,
  "metadata": {
    "colab": {
      "name": "Quantium_task_2.ipynb",
      "provenance": [],
      "collapsed_sections": [],
      "authorship_tag": "ABX9TyOWYGI11dVOdmnAmypsd/Kw",
      "include_colab_link": true
    },
    "kernelspec": {
      "name": "python3",
      "display_name": "Python 3"
    }
  },
  "cells": [
    {
      "cell_type": "markdown",
      "metadata": {
        "id": "view-in-github",
        "colab_type": "text"
      },
      "source": [
        "<a href=\"https://colab.research.google.com/github/tiffanysn/general_learning/blob/dev/Quantium_task_2.ipynb\" target=\"_parent\"><img src=\"https://colab.research.google.com/assets/colab-badge.svg\" alt=\"Open In Colab\"/></a>"
      ]
    },
    {
      "cell_type": "code",
      "metadata": {
        "id": "WV15JouTmfjc",
        "colab_type": "code",
        "colab": {
          "base_uri": "https://localhost:8080/",
          "height": 34
        },
        "outputId": "4b3aa834-73ba-4073-f58e-4880e61ed9d9"
      },
      "source": [
        "from google.colab import drive\n",
        "drive.mount('/content/drive')"
      ],
      "execution_count": 161,
      "outputs": [
        {
          "output_type": "stream",
          "text": [
            "Drive already mounted at /content/drive; to attempt to forcibly remount, call drive.mount(\"/content/drive\", force_remount=True).\n"
          ],
          "name": "stdout"
        }
      ]
    },
    {
      "cell_type": "markdown",
      "metadata": {
        "id": "BgtDuPel7Oqf",
        "colab_type": "text"
      },
      "source": [
        "## Load required libraries and datasets"
      ]
    },
    {
      "cell_type": "code",
      "metadata": {
        "id": "FporMb1EoxbE",
        "colab_type": "code",
        "colab": {}
      },
      "source": [
        "! cp drive/My\\ Drive/QVI_data.csv ."
      ],
      "execution_count": 162,
      "outputs": []
    },
    {
      "cell_type": "code",
      "metadata": {
        "id": "V9O_du2So_TN",
        "colab_type": "code",
        "colab": {}
      },
      "source": [
        "import pandas as pd"
      ],
      "execution_count": 163,
      "outputs": []
    },
    {
      "cell_type": "code",
      "metadata": {
        "id": "VgZm3hMap8YU",
        "colab_type": "code",
        "colab": {}
      },
      "source": [
        "import plotly.express as px"
      ],
      "execution_count": 164,
      "outputs": []
    },
    {
      "cell_type": "code",
      "metadata": {
        "id": "9rrlah5OqCaA",
        "colab_type": "code",
        "colab": {}
      },
      "source": [
        "import numpy as np\n"
      ],
      "execution_count": 165,
      "outputs": []
    },
    {
      "cell_type": "code",
      "metadata": {
        "id": "8HxuqUJAqLbW",
        "colab_type": "code",
        "colab": {}
      },
      "source": [
        "df=pd.read_csv('QVI_data.csv')"
      ],
      "execution_count": 166,
      "outputs": []
    },
    {
      "cell_type": "code",
      "metadata": {
        "id": "kxTLWZomqUhM",
        "colab_type": "code",
        "colab": {
          "base_uri": "https://localhost:8080/",
          "height": 34
        },
        "outputId": "6d6731e4-f9ea-4496-da44-bb86b124cc4e"
      },
      "source": [
        "df.shape"
      ],
      "execution_count": 167,
      "outputs": [
        {
          "output_type": "execute_result",
          "data": {
            "text/plain": [
              "(264834, 12)"
            ]
          },
          "metadata": {
            "tags": []
          },
          "execution_count": 167
        }
      ]
    },
    {
      "cell_type": "code",
      "metadata": {
        "id": "z9gWyfJHqVxL",
        "colab_type": "code",
        "colab": {
          "base_uri": "https://localhost:8080/",
          "height": 354
        },
        "outputId": "c80c1f43-10fc-4fdc-fbb1-f56e89a2f43d"
      },
      "source": [
        "df.info()"
      ],
      "execution_count": 168,
      "outputs": [
        {
          "output_type": "stream",
          "text": [
            "<class 'pandas.core.frame.DataFrame'>\n",
            "RangeIndex: 264834 entries, 0 to 264833\n",
            "Data columns (total 12 columns):\n",
            " #   Column            Non-Null Count   Dtype  \n",
            "---  ------            --------------   -----  \n",
            " 0   LYLTY_CARD_NBR    264834 non-null  int64  \n",
            " 1   DATE              264834 non-null  object \n",
            " 2   STORE_NBR         264834 non-null  int64  \n",
            " 3   TXN_ID            264834 non-null  int64  \n",
            " 4   PROD_NBR          264834 non-null  int64  \n",
            " 5   PROD_NAME         264834 non-null  object \n",
            " 6   PROD_QTY          264834 non-null  int64  \n",
            " 7   TOT_SALES         264834 non-null  float64\n",
            " 8   PACK_SIZE         264834 non-null  int64  \n",
            " 9   BRAND             264834 non-null  object \n",
            " 10  LIFESTAGE         264834 non-null  object \n",
            " 11  PREMIUM_CUSTOMER  264834 non-null  object \n",
            "dtypes: float64(1), int64(6), object(5)\n",
            "memory usage: 24.2+ MB\n"
          ],
          "name": "stdout"
        }
      ]
    },
    {
      "cell_type": "code",
      "metadata": {
        "id": "KTFUPhz8qXPx",
        "colab_type": "code",
        "colab": {
          "base_uri": "https://localhost:8080/",
          "height": 447
        },
        "outputId": "737b3aa3-36bb-4e01-9692-66924051cd37"
      },
      "source": [
        "df.describe(include= 'all')"
      ],
      "execution_count": 169,
      "outputs": [
        {
          "output_type": "execute_result",
          "data": {
            "text/html": [
              "<div>\n",
              "<style scoped>\n",
              "    .dataframe tbody tr th:only-of-type {\n",
              "        vertical-align: middle;\n",
              "    }\n",
              "\n",
              "    .dataframe tbody tr th {\n",
              "        vertical-align: top;\n",
              "    }\n",
              "\n",
              "    .dataframe thead th {\n",
              "        text-align: right;\n",
              "    }\n",
              "</style>\n",
              "<table border=\"1\" class=\"dataframe\">\n",
              "  <thead>\n",
              "    <tr style=\"text-align: right;\">\n",
              "      <th></th>\n",
              "      <th>LYLTY_CARD_NBR</th>\n",
              "      <th>DATE</th>\n",
              "      <th>STORE_NBR</th>\n",
              "      <th>TXN_ID</th>\n",
              "      <th>PROD_NBR</th>\n",
              "      <th>PROD_NAME</th>\n",
              "      <th>PROD_QTY</th>\n",
              "      <th>TOT_SALES</th>\n",
              "      <th>PACK_SIZE</th>\n",
              "      <th>BRAND</th>\n",
              "      <th>LIFESTAGE</th>\n",
              "      <th>PREMIUM_CUSTOMER</th>\n",
              "    </tr>\n",
              "  </thead>\n",
              "  <tbody>\n",
              "    <tr>\n",
              "      <th>count</th>\n",
              "      <td>2.648340e+05</td>\n",
              "      <td>264834</td>\n",
              "      <td>264834.000000</td>\n",
              "      <td>2.648340e+05</td>\n",
              "      <td>264834.000000</td>\n",
              "      <td>264834</td>\n",
              "      <td>264834.000000</td>\n",
              "      <td>264834.000000</td>\n",
              "      <td>264834.000000</td>\n",
              "      <td>264834</td>\n",
              "      <td>264834</td>\n",
              "      <td>264834</td>\n",
              "    </tr>\n",
              "    <tr>\n",
              "      <th>unique</th>\n",
              "      <td>NaN</td>\n",
              "      <td>364</td>\n",
              "      <td>NaN</td>\n",
              "      <td>NaN</td>\n",
              "      <td>NaN</td>\n",
              "      <td>114</td>\n",
              "      <td>NaN</td>\n",
              "      <td>NaN</td>\n",
              "      <td>NaN</td>\n",
              "      <td>21</td>\n",
              "      <td>7</td>\n",
              "      <td>3</td>\n",
              "    </tr>\n",
              "    <tr>\n",
              "      <th>top</th>\n",
              "      <td>NaN</td>\n",
              "      <td>2018-12-24</td>\n",
              "      <td>NaN</td>\n",
              "      <td>NaN</td>\n",
              "      <td>NaN</td>\n",
              "      <td>Kettle Mozzarella   Basil &amp; Pesto 175g</td>\n",
              "      <td>NaN</td>\n",
              "      <td>NaN</td>\n",
              "      <td>NaN</td>\n",
              "      <td>KETTLE</td>\n",
              "      <td>OLDER SINGLES/COUPLES</td>\n",
              "      <td>Mainstream</td>\n",
              "    </tr>\n",
              "    <tr>\n",
              "      <th>freq</th>\n",
              "      <td>NaN</td>\n",
              "      <td>939</td>\n",
              "      <td>NaN</td>\n",
              "      <td>NaN</td>\n",
              "      <td>NaN</td>\n",
              "      <td>3304</td>\n",
              "      <td>NaN</td>\n",
              "      <td>NaN</td>\n",
              "      <td>NaN</td>\n",
              "      <td>41288</td>\n",
              "      <td>54479</td>\n",
              "      <td>101988</td>\n",
              "    </tr>\n",
              "    <tr>\n",
              "      <th>mean</th>\n",
              "      <td>1.355488e+05</td>\n",
              "      <td>NaN</td>\n",
              "      <td>135.079423</td>\n",
              "      <td>1.351576e+05</td>\n",
              "      <td>56.583554</td>\n",
              "      <td>NaN</td>\n",
              "      <td>1.905813</td>\n",
              "      <td>7.299346</td>\n",
              "      <td>182.425512</td>\n",
              "      <td>NaN</td>\n",
              "      <td>NaN</td>\n",
              "      <td>NaN</td>\n",
              "    </tr>\n",
              "    <tr>\n",
              "      <th>std</th>\n",
              "      <td>8.057990e+04</td>\n",
              "      <td>NaN</td>\n",
              "      <td>76.784063</td>\n",
              "      <td>7.813292e+04</td>\n",
              "      <td>32.826444</td>\n",
              "      <td>NaN</td>\n",
              "      <td>0.343436</td>\n",
              "      <td>2.527241</td>\n",
              "      <td>64.325148</td>\n",
              "      <td>NaN</td>\n",
              "      <td>NaN</td>\n",
              "      <td>NaN</td>\n",
              "    </tr>\n",
              "    <tr>\n",
              "      <th>min</th>\n",
              "      <td>1.000000e+03</td>\n",
              "      <td>NaN</td>\n",
              "      <td>1.000000</td>\n",
              "      <td>1.000000e+00</td>\n",
              "      <td>1.000000</td>\n",
              "      <td>NaN</td>\n",
              "      <td>1.000000</td>\n",
              "      <td>1.500000</td>\n",
              "      <td>70.000000</td>\n",
              "      <td>NaN</td>\n",
              "      <td>NaN</td>\n",
              "      <td>NaN</td>\n",
              "    </tr>\n",
              "    <tr>\n",
              "      <th>25%</th>\n",
              "      <td>7.002100e+04</td>\n",
              "      <td>NaN</td>\n",
              "      <td>70.000000</td>\n",
              "      <td>6.760050e+04</td>\n",
              "      <td>28.000000</td>\n",
              "      <td>NaN</td>\n",
              "      <td>2.000000</td>\n",
              "      <td>5.400000</td>\n",
              "      <td>150.000000</td>\n",
              "      <td>NaN</td>\n",
              "      <td>NaN</td>\n",
              "      <td>NaN</td>\n",
              "    </tr>\n",
              "    <tr>\n",
              "      <th>50%</th>\n",
              "      <td>1.303570e+05</td>\n",
              "      <td>NaN</td>\n",
              "      <td>130.000000</td>\n",
              "      <td>1.351365e+05</td>\n",
              "      <td>56.000000</td>\n",
              "      <td>NaN</td>\n",
              "      <td>2.000000</td>\n",
              "      <td>7.400000</td>\n",
              "      <td>170.000000</td>\n",
              "      <td>NaN</td>\n",
              "      <td>NaN</td>\n",
              "      <td>NaN</td>\n",
              "    </tr>\n",
              "    <tr>\n",
              "      <th>75%</th>\n",
              "      <td>2.030940e+05</td>\n",
              "      <td>NaN</td>\n",
              "      <td>203.000000</td>\n",
              "      <td>2.026998e+05</td>\n",
              "      <td>85.000000</td>\n",
              "      <td>NaN</td>\n",
              "      <td>2.000000</td>\n",
              "      <td>9.200000</td>\n",
              "      <td>175.000000</td>\n",
              "      <td>NaN</td>\n",
              "      <td>NaN</td>\n",
              "      <td>NaN</td>\n",
              "    </tr>\n",
              "    <tr>\n",
              "      <th>max</th>\n",
              "      <td>2.373711e+06</td>\n",
              "      <td>NaN</td>\n",
              "      <td>272.000000</td>\n",
              "      <td>2.415841e+06</td>\n",
              "      <td>114.000000</td>\n",
              "      <td>NaN</td>\n",
              "      <td>5.000000</td>\n",
              "      <td>29.500000</td>\n",
              "      <td>380.000000</td>\n",
              "      <td>NaN</td>\n",
              "      <td>NaN</td>\n",
              "      <td>NaN</td>\n",
              "    </tr>\n",
              "  </tbody>\n",
              "</table>\n",
              "</div>"
            ],
            "text/plain": [
              "        LYLTY_CARD_NBR        DATE  ...              LIFESTAGE  PREMIUM_CUSTOMER\n",
              "count     2.648340e+05      264834  ...                 264834            264834\n",
              "unique             NaN         364  ...                      7                 3\n",
              "top                NaN  2018-12-24  ...  OLDER SINGLES/COUPLES        Mainstream\n",
              "freq               NaN         939  ...                  54479            101988\n",
              "mean      1.355488e+05         NaN  ...                    NaN               NaN\n",
              "std       8.057990e+04         NaN  ...                    NaN               NaN\n",
              "min       1.000000e+03         NaN  ...                    NaN               NaN\n",
              "25%       7.002100e+04         NaN  ...                    NaN               NaN\n",
              "50%       1.303570e+05         NaN  ...                    NaN               NaN\n",
              "75%       2.030940e+05         NaN  ...                    NaN               NaN\n",
              "max       2.373711e+06         NaN  ...                    NaN               NaN\n",
              "\n",
              "[11 rows x 12 columns]"
            ]
          },
          "metadata": {
            "tags": []
          },
          "execution_count": 169
        }
      ]
    },
    {
      "cell_type": "code",
      "metadata": {
        "id": "T1_cL0vRqgfe",
        "colab_type": "code",
        "colab": {
          "base_uri": "https://localhost:8080/",
          "height": 417
        },
        "outputId": "eb5834fc-74e0-408c-915a-3de24536e738"
      },
      "source": [
        "df.head()"
      ],
      "execution_count": 170,
      "outputs": [
        {
          "output_type": "execute_result",
          "data": {
            "text/html": [
              "<div>\n",
              "<style scoped>\n",
              "    .dataframe tbody tr th:only-of-type {\n",
              "        vertical-align: middle;\n",
              "    }\n",
              "\n",
              "    .dataframe tbody tr th {\n",
              "        vertical-align: top;\n",
              "    }\n",
              "\n",
              "    .dataframe thead th {\n",
              "        text-align: right;\n",
              "    }\n",
              "</style>\n",
              "<table border=\"1\" class=\"dataframe\">\n",
              "  <thead>\n",
              "    <tr style=\"text-align: right;\">\n",
              "      <th></th>\n",
              "      <th>LYLTY_CARD_NBR</th>\n",
              "      <th>DATE</th>\n",
              "      <th>STORE_NBR</th>\n",
              "      <th>TXN_ID</th>\n",
              "      <th>PROD_NBR</th>\n",
              "      <th>PROD_NAME</th>\n",
              "      <th>PROD_QTY</th>\n",
              "      <th>TOT_SALES</th>\n",
              "      <th>PACK_SIZE</th>\n",
              "      <th>BRAND</th>\n",
              "      <th>LIFESTAGE</th>\n",
              "      <th>PREMIUM_CUSTOMER</th>\n",
              "    </tr>\n",
              "  </thead>\n",
              "  <tbody>\n",
              "    <tr>\n",
              "      <th>0</th>\n",
              "      <td>1000</td>\n",
              "      <td>2018-10-17</td>\n",
              "      <td>1</td>\n",
              "      <td>1</td>\n",
              "      <td>5</td>\n",
              "      <td>Natural Chip        Compny SeaSalt175g</td>\n",
              "      <td>2</td>\n",
              "      <td>6.0</td>\n",
              "      <td>175</td>\n",
              "      <td>NATURAL</td>\n",
              "      <td>YOUNG SINGLES/COUPLES</td>\n",
              "      <td>Premium</td>\n",
              "    </tr>\n",
              "    <tr>\n",
              "      <th>1</th>\n",
              "      <td>1002</td>\n",
              "      <td>2018-09-16</td>\n",
              "      <td>1</td>\n",
              "      <td>2</td>\n",
              "      <td>58</td>\n",
              "      <td>Red Rock Deli Chikn&amp;Garlic Aioli 150g</td>\n",
              "      <td>1</td>\n",
              "      <td>2.7</td>\n",
              "      <td>150</td>\n",
              "      <td>RRD</td>\n",
              "      <td>YOUNG SINGLES/COUPLES</td>\n",
              "      <td>Mainstream</td>\n",
              "    </tr>\n",
              "    <tr>\n",
              "      <th>2</th>\n",
              "      <td>1003</td>\n",
              "      <td>2019-03-07</td>\n",
              "      <td>1</td>\n",
              "      <td>3</td>\n",
              "      <td>52</td>\n",
              "      <td>Grain Waves Sour    Cream&amp;Chives 210G</td>\n",
              "      <td>1</td>\n",
              "      <td>3.6</td>\n",
              "      <td>210</td>\n",
              "      <td>GRNWVES</td>\n",
              "      <td>YOUNG FAMILIES</td>\n",
              "      <td>Budget</td>\n",
              "    </tr>\n",
              "    <tr>\n",
              "      <th>3</th>\n",
              "      <td>1003</td>\n",
              "      <td>2019-03-08</td>\n",
              "      <td>1</td>\n",
              "      <td>4</td>\n",
              "      <td>106</td>\n",
              "      <td>Natural ChipCo      Hony Soy Chckn175g</td>\n",
              "      <td>1</td>\n",
              "      <td>3.0</td>\n",
              "      <td>175</td>\n",
              "      <td>NATURAL</td>\n",
              "      <td>YOUNG FAMILIES</td>\n",
              "      <td>Budget</td>\n",
              "    </tr>\n",
              "    <tr>\n",
              "      <th>4</th>\n",
              "      <td>1004</td>\n",
              "      <td>2018-11-02</td>\n",
              "      <td>1</td>\n",
              "      <td>5</td>\n",
              "      <td>96</td>\n",
              "      <td>WW Original Stacked Chips 160g</td>\n",
              "      <td>1</td>\n",
              "      <td>1.9</td>\n",
              "      <td>160</td>\n",
              "      <td>WOOLWORTHS</td>\n",
              "      <td>OLDER SINGLES/COUPLES</td>\n",
              "      <td>Mainstream</td>\n",
              "    </tr>\n",
              "  </tbody>\n",
              "</table>\n",
              "</div>"
            ],
            "text/plain": [
              "   LYLTY_CARD_NBR        DATE  ...              LIFESTAGE  PREMIUM_CUSTOMER\n",
              "0            1000  2018-10-17  ...  YOUNG SINGLES/COUPLES           Premium\n",
              "1            1002  2018-09-16  ...  YOUNG SINGLES/COUPLES        Mainstream\n",
              "2            1003  2019-03-07  ...         YOUNG FAMILIES            Budget\n",
              "3            1003  2019-03-08  ...         YOUNG FAMILIES            Budget\n",
              "4            1004  2018-11-02  ...  OLDER SINGLES/COUPLES        Mainstream\n",
              "\n",
              "[5 rows x 12 columns]"
            ]
          },
          "metadata": {
            "tags": []
          },
          "execution_count": 170
        }
      ]
    },
    {
      "cell_type": "markdown",
      "metadata": {
        "id": "YCK583UF7Yzn",
        "colab_type": "text"
      },
      "source": [
        "## Select control stores"
      ]
    },
    {
      "cell_type": "markdown",
      "metadata": {
        "id": "qDf1S9dD9r_5",
        "colab_type": "text"
      },
      "source": [
        "#### Add Month column"
      ]
    },
    {
      "cell_type": "code",
      "metadata": {
        "id": "OwHZe5VV92nj",
        "colab_type": "code",
        "colab": {}
      },
      "source": [
        "import datetime"
      ],
      "execution_count": 171,
      "outputs": []
    },
    {
      "cell_type": "code",
      "metadata": {
        "id": "I1Z1mGGG92zw",
        "colab_type": "code",
        "colab": {
          "base_uri": "https://localhost:8080/",
          "height": 776
        },
        "outputId": "17158492-3710-4436-8dde-ad3cb9371579"
      },
      "source": [
        "df['year'] = pd.DatetimeIndex(df['DATE']).year\n",
        "df['month']=pd.DatetimeIndex(df['DATE']).month\n",
        "df['year_month']=pd.to_datetime(df['DATE']).dt.floor('d') - pd.offsets.MonthBegin(1)\n",
        "df"
      ],
      "execution_count": 172,
      "outputs": [
        {
          "output_type": "execute_result",
          "data": {
            "text/html": [
              "<div>\n",
              "<style scoped>\n",
              "    .dataframe tbody tr th:only-of-type {\n",
              "        vertical-align: middle;\n",
              "    }\n",
              "\n",
              "    .dataframe tbody tr th {\n",
              "        vertical-align: top;\n",
              "    }\n",
              "\n",
              "    .dataframe thead th {\n",
              "        text-align: right;\n",
              "    }\n",
              "</style>\n",
              "<table border=\"1\" class=\"dataframe\">\n",
              "  <thead>\n",
              "    <tr style=\"text-align: right;\">\n",
              "      <th></th>\n",
              "      <th>LYLTY_CARD_NBR</th>\n",
              "      <th>DATE</th>\n",
              "      <th>STORE_NBR</th>\n",
              "      <th>TXN_ID</th>\n",
              "      <th>PROD_NBR</th>\n",
              "      <th>PROD_NAME</th>\n",
              "      <th>PROD_QTY</th>\n",
              "      <th>TOT_SALES</th>\n",
              "      <th>PACK_SIZE</th>\n",
              "      <th>BRAND</th>\n",
              "      <th>LIFESTAGE</th>\n",
              "      <th>PREMIUM_CUSTOMER</th>\n",
              "      <th>year</th>\n",
              "      <th>month</th>\n",
              "      <th>year_month</th>\n",
              "    </tr>\n",
              "  </thead>\n",
              "  <tbody>\n",
              "    <tr>\n",
              "      <th>0</th>\n",
              "      <td>1000</td>\n",
              "      <td>2018-10-17</td>\n",
              "      <td>1</td>\n",
              "      <td>1</td>\n",
              "      <td>5</td>\n",
              "      <td>Natural Chip        Compny SeaSalt175g</td>\n",
              "      <td>2</td>\n",
              "      <td>6.0</td>\n",
              "      <td>175</td>\n",
              "      <td>NATURAL</td>\n",
              "      <td>YOUNG SINGLES/COUPLES</td>\n",
              "      <td>Premium</td>\n",
              "      <td>2018</td>\n",
              "      <td>10</td>\n",
              "      <td>2018-10-01</td>\n",
              "    </tr>\n",
              "    <tr>\n",
              "      <th>1</th>\n",
              "      <td>1002</td>\n",
              "      <td>2018-09-16</td>\n",
              "      <td>1</td>\n",
              "      <td>2</td>\n",
              "      <td>58</td>\n",
              "      <td>Red Rock Deli Chikn&amp;Garlic Aioli 150g</td>\n",
              "      <td>1</td>\n",
              "      <td>2.7</td>\n",
              "      <td>150</td>\n",
              "      <td>RRD</td>\n",
              "      <td>YOUNG SINGLES/COUPLES</td>\n",
              "      <td>Mainstream</td>\n",
              "      <td>2018</td>\n",
              "      <td>9</td>\n",
              "      <td>2018-09-01</td>\n",
              "    </tr>\n",
              "    <tr>\n",
              "      <th>2</th>\n",
              "      <td>1003</td>\n",
              "      <td>2019-03-07</td>\n",
              "      <td>1</td>\n",
              "      <td>3</td>\n",
              "      <td>52</td>\n",
              "      <td>Grain Waves Sour    Cream&amp;Chives 210G</td>\n",
              "      <td>1</td>\n",
              "      <td>3.6</td>\n",
              "      <td>210</td>\n",
              "      <td>GRNWVES</td>\n",
              "      <td>YOUNG FAMILIES</td>\n",
              "      <td>Budget</td>\n",
              "      <td>2019</td>\n",
              "      <td>3</td>\n",
              "      <td>2019-03-01</td>\n",
              "    </tr>\n",
              "    <tr>\n",
              "      <th>3</th>\n",
              "      <td>1003</td>\n",
              "      <td>2019-03-08</td>\n",
              "      <td>1</td>\n",
              "      <td>4</td>\n",
              "      <td>106</td>\n",
              "      <td>Natural ChipCo      Hony Soy Chckn175g</td>\n",
              "      <td>1</td>\n",
              "      <td>3.0</td>\n",
              "      <td>175</td>\n",
              "      <td>NATURAL</td>\n",
              "      <td>YOUNG FAMILIES</td>\n",
              "      <td>Budget</td>\n",
              "      <td>2019</td>\n",
              "      <td>3</td>\n",
              "      <td>2019-03-01</td>\n",
              "    </tr>\n",
              "    <tr>\n",
              "      <th>4</th>\n",
              "      <td>1004</td>\n",
              "      <td>2018-11-02</td>\n",
              "      <td>1</td>\n",
              "      <td>5</td>\n",
              "      <td>96</td>\n",
              "      <td>WW Original Stacked Chips 160g</td>\n",
              "      <td>1</td>\n",
              "      <td>1.9</td>\n",
              "      <td>160</td>\n",
              "      <td>WOOLWORTHS</td>\n",
              "      <td>OLDER SINGLES/COUPLES</td>\n",
              "      <td>Mainstream</td>\n",
              "      <td>2018</td>\n",
              "      <td>11</td>\n",
              "      <td>2018-11-01</td>\n",
              "    </tr>\n",
              "    <tr>\n",
              "      <th>...</th>\n",
              "      <td>...</td>\n",
              "      <td>...</td>\n",
              "      <td>...</td>\n",
              "      <td>...</td>\n",
              "      <td>...</td>\n",
              "      <td>...</td>\n",
              "      <td>...</td>\n",
              "      <td>...</td>\n",
              "      <td>...</td>\n",
              "      <td>...</td>\n",
              "      <td>...</td>\n",
              "      <td>...</td>\n",
              "      <td>...</td>\n",
              "      <td>...</td>\n",
              "      <td>...</td>\n",
              "    </tr>\n",
              "    <tr>\n",
              "      <th>264829</th>\n",
              "      <td>2370701</td>\n",
              "      <td>2018-12-08</td>\n",
              "      <td>88</td>\n",
              "      <td>240378</td>\n",
              "      <td>24</td>\n",
              "      <td>Grain Waves         Sweet Chilli 210g</td>\n",
              "      <td>2</td>\n",
              "      <td>7.2</td>\n",
              "      <td>210</td>\n",
              "      <td>GRNWVES</td>\n",
              "      <td>YOUNG FAMILIES</td>\n",
              "      <td>Mainstream</td>\n",
              "      <td>2018</td>\n",
              "      <td>12</td>\n",
              "      <td>2018-12-01</td>\n",
              "    </tr>\n",
              "    <tr>\n",
              "      <th>264830</th>\n",
              "      <td>2370751</td>\n",
              "      <td>2018-10-01</td>\n",
              "      <td>88</td>\n",
              "      <td>240394</td>\n",
              "      <td>60</td>\n",
              "      <td>Kettle Tortilla ChpsFeta&amp;Garlic 150g</td>\n",
              "      <td>2</td>\n",
              "      <td>9.2</td>\n",
              "      <td>150</td>\n",
              "      <td>KETTLE</td>\n",
              "      <td>YOUNG FAMILIES</td>\n",
              "      <td>Premium</td>\n",
              "      <td>2018</td>\n",
              "      <td>10</td>\n",
              "      <td>2018-09-01</td>\n",
              "    </tr>\n",
              "    <tr>\n",
              "      <th>264831</th>\n",
              "      <td>2370961</td>\n",
              "      <td>2018-10-24</td>\n",
              "      <td>88</td>\n",
              "      <td>240480</td>\n",
              "      <td>70</td>\n",
              "      <td>Tyrrells Crisps     Lightly Salted 165g</td>\n",
              "      <td>2</td>\n",
              "      <td>8.4</td>\n",
              "      <td>165</td>\n",
              "      <td>TYRRELLS</td>\n",
              "      <td>OLDER FAMILIES</td>\n",
              "      <td>Budget</td>\n",
              "      <td>2018</td>\n",
              "      <td>10</td>\n",
              "      <td>2018-10-01</td>\n",
              "    </tr>\n",
              "    <tr>\n",
              "      <th>264832</th>\n",
              "      <td>2370961</td>\n",
              "      <td>2018-10-27</td>\n",
              "      <td>88</td>\n",
              "      <td>240481</td>\n",
              "      <td>65</td>\n",
              "      <td>Old El Paso Salsa   Dip Chnky Tom Ht300g</td>\n",
              "      <td>2</td>\n",
              "      <td>10.2</td>\n",
              "      <td>300</td>\n",
              "      <td>OLD</td>\n",
              "      <td>OLDER FAMILIES</td>\n",
              "      <td>Budget</td>\n",
              "      <td>2018</td>\n",
              "      <td>10</td>\n",
              "      <td>2018-10-01</td>\n",
              "    </tr>\n",
              "    <tr>\n",
              "      <th>264833</th>\n",
              "      <td>2373711</td>\n",
              "      <td>2018-12-14</td>\n",
              "      <td>88</td>\n",
              "      <td>241815</td>\n",
              "      <td>16</td>\n",
              "      <td>Smiths Crinkle Chips Salt &amp; Vinegar 330g</td>\n",
              "      <td>2</td>\n",
              "      <td>11.4</td>\n",
              "      <td>330</td>\n",
              "      <td>SMITHS</td>\n",
              "      <td>YOUNG SINGLES/COUPLES</td>\n",
              "      <td>Mainstream</td>\n",
              "      <td>2018</td>\n",
              "      <td>12</td>\n",
              "      <td>2018-12-01</td>\n",
              "    </tr>\n",
              "  </tbody>\n",
              "</table>\n",
              "<p>264834 rows × 15 columns</p>\n",
              "</div>"
            ],
            "text/plain": [
              "        LYLTY_CARD_NBR        DATE  STORE_NBR  ...  year  month year_month\n",
              "0                 1000  2018-10-17          1  ...  2018     10 2018-10-01\n",
              "1                 1002  2018-09-16          1  ...  2018      9 2018-09-01\n",
              "2                 1003  2019-03-07          1  ...  2019      3 2019-03-01\n",
              "3                 1003  2019-03-08          1  ...  2019      3 2019-03-01\n",
              "4                 1004  2018-11-02          1  ...  2018     11 2018-11-01\n",
              "...                ...         ...        ...  ...   ...    ...        ...\n",
              "264829         2370701  2018-12-08         88  ...  2018     12 2018-12-01\n",
              "264830         2370751  2018-10-01         88  ...  2018     10 2018-09-01\n",
              "264831         2370961  2018-10-24         88  ...  2018     10 2018-10-01\n",
              "264832         2370961  2018-10-27         88  ...  2018     10 2018-10-01\n",
              "264833         2373711  2018-12-14         88  ...  2018     12 2018-12-01\n",
              "\n",
              "[264834 rows x 15 columns]"
            ]
          },
          "metadata": {
            "tags": []
          },
          "execution_count": 172
        }
      ]
    },
    {
      "cell_type": "markdown",
      "metadata": {
        "id": "ow2VK0ZSB_Fh",
        "colab_type": "text"
      },
      "source": [
        "#### Monthly calculation for each store"
      ]
    },
    {
      "cell_type": "code",
      "metadata": {
        "id": "-oT8zlsJqiMt",
        "colab_type": "code",
        "colab": {
          "base_uri": "https://localhost:8080/",
          "height": 230
        },
        "outputId": "44bcd7e3-eb82-496a-9a2d-bb3fbd535ac5"
      },
      "source": [
        "totSales= df.groupby(['STORE_NBR','year_month'])['TOT_SALES'].sum().reset_index(drop=True)\n",
        "totSales"
      ],
      "execution_count": 238,
      "outputs": [
        {
          "output_type": "execute_result",
          "data": {
            "text/plain": [
              "0         4.8\n",
              "1       220.2\n",
              "2       171.8\n",
              "3       278.2\n",
              "4       186.4\n",
              "        ...  \n",
              "3382    395.5\n",
              "3383    478.5\n",
              "3384    415.5\n",
              "3385    322.8\n",
              "3386    297.3\n",
              "Name: TOT_SALES, Length: 3387, dtype: float64"
            ]
          },
          "metadata": {
            "tags": []
          },
          "execution_count": 238
        }
      ]
    },
    {
      "cell_type": "code",
      "metadata": {
        "id": "Ywu-sPw_AMdI",
        "colab_type": "code",
        "colab": {}
      },
      "source": [
        "measureOverTime2 = pd.DataFrame(data=totSales)"
      ],
      "execution_count": 218,
      "outputs": []
    },
    {
      "cell_type": "code",
      "metadata": {
        "id": "-Ibl7TFEJE0f",
        "colab_type": "code",
        "colab": {
          "base_uri": "https://localhost:8080/",
          "height": 542
        },
        "outputId": "e0fa48fe-cb7c-4a39-dfb5-f972db6ec800"
      },
      "source": [
        "px.bar(data_frame=monthly_store_sales, x='year_month', y='TOT_SALES', color='STORE_NBR')"
      ],
      "execution_count": 174,
      "outputs": [
        {
          "output_type": "display_data",
          "data": {
            "text/html": [
              "<html>\n",
              "<head><meta charset=\"utf-8\" /></head>\n",
              "<body>\n",
              "    <div>\n",
              "            <script src=\"https://cdnjs.cloudflare.com/ajax/libs/mathjax/2.7.5/MathJax.js?config=TeX-AMS-MML_SVG\"></script><script type=\"text/javascript\">if (window.MathJax) {MathJax.Hub.Config({SVG: {font: \"STIX-Web\"}});}</script>\n",
              "                <script type=\"text/javascript\">window.PlotlyConfig = {MathJaxConfig: 'local'};</script>\n",
              "        <script src=\"https://cdn.plot.ly/plotly-latest.min.js\"></script>    \n",
              "            <div id=\"0eff6f93-f667-44ee-971a-1073652392e8\" class=\"plotly-graph-div\" style=\"height:525px; width:100%;\"></div>\n",
              "            <script type=\"text/javascript\">\n",
              "                \n",
              "                    window.PLOTLYENV=window.PLOTLYENV || {};\n",
              "                    \n",
              "                if (document.getElementById(\"0eff6f93-f667-44ee-971a-1073652392e8\")) {\n",
              "                    Plotly.newPlot(\n",
              "                        '0eff6f93-f667-44ee-971a-1073652392e8',\n",
              "                        [{\"alignmentgroup\": \"True\", \"hoverlabel\": {\"namelength\": 0}, \"hovertemplate\": \"year_month=%{x}<br>TOT_SALES=%{y}<br>STORE_NBR=%{marker.color}\", \"legendgroup\": \"\", \"marker\": {\"color\": [1, 2, 3, 4, 5, 6, 7, 8, 9, 10, 12, 13, 15, 16, 17, 18, 19, 20, 21, 23, 24, 25, 26, 27, 28, 29, 30, 32, 33, 35, 36, 37, 38, 39, 40, 43, 45, 46, 47, 48, 49, 51, 53, 54, 55, 56, 57, 58, 59, 60, 61, 62, 63, 64, 65, 66, 67, 68, 69, 70, 71, 72, 73, 74, 75, 77, 78, 79, 80, 81, 82, 83, 84, 86, 87, 88, 89, 91, 93, 94, 95, 97, 98, 100, 101, 102, 103, 104, 105, 106, 107, 108, 109, 110, 111, 112, 113, 114, 115, 116, 118, 119, 120, 122, 123, 124, 125, 126, 128, 129, 130, 131, 133, 134, 137, 138, 139, 141, 143, 144, 145, 147, 148, 149, 150, 152, 153, 154, 155, 156, 157, 160, 164, 165, 166, 167, 168, 169, 171, 172, 173, 174, 175, 176, 178, 179, 180, 181, 182, 183, 184, 185, 186, 189, 190, 191, 194, 195, 196, 197, 199, 200, 201, 202, 203, 205, 207, 208, 209, 210, 212, 213, 214, 215, 216, 217, 219, 220, 221, 222, 223, 225, 226, 227, 229, 230, 231, 232, 233, 235, 236, 237, 238, 239, 240, 241, 242, 245, 246, 247, 249, 250, 251, 254, 255, 256, 257, 259, 260, 261, 262, 263, 264, 265, 268, 269, 270, 271, 272, 1, 2, 3, 4, 5, 6, 7, 8, 9, 10, 12, 13, 14, 15, 16, 17, 18, 19, 20, 21, 22, 23, 24, 25, 26, 27, 28, 29, 30, 32, 33, 34, 35, 36, 37, 38, 39, 40, 41, 42, 43, 44, 45, 46, 47, 48, 49, 50, 51, 52, 53, 54, 55, 56, 57, 58, 59, 60, 61, 62, 63, 64, 65, 66, 67, 68, 69, 70, 71, 72, 73, 74, 75, 77, 78, 79, 80, 81, 82, 83, 84, 85, 86, 87, 88, 89, 90, 91, 93, 94, 95, 96, 97, 98, 99, 100, 101, 102, 103, 104, 105, 106, 107, 108, 109, 110, 111, 112, 113, 114, 115, 116, 117, 118, 119, 120, 121, 122, 123, 124, 125, 126, 127, 128, 129, 130, 131, 132, 133, 134, 135, 136, 137, 138, 139, 140, 141, 142, 143, 144, 145, 146, 147, 148, 149, 150, 151, 152, 153, 154, 155, 156, 157, 158, 159, 160, 161, 162, 163, 164, 165, 166, 167, 168, 169, 170, 171, 172, 173, 174, 175, 176, 177, 178, 179, 180, 181, 182, 183, 184, 185, 186, 187, 188, 189, 190, 191, 192, 194, 195, 196, 197, 198, 199, 200, 201, 202, 203, 204, 205, 206, 207, 208, 209, 210, 211, 212, 213, 214, 215, 216, 217, 218, 219, 220, 221, 222, 223, 224, 225, 226, 227, 228, 229, 230, 231, 232, 233, 234, 235, 236, 237, 238, 239, 240, 241, 242, 243, 244, 245, 246, 247, 248, 249, 250, 251, 253, 254, 255, 256, 257, 258, 259, 260, 261, 262, 263, 264, 265, 266, 267, 268, 269, 270, 271, 272, 1, 2, 3, 4, 5, 6, 7, 8, 9, 10, 12, 13, 14, 15, 16, 17, 18, 19, 20, 21, 22, 23, 24, 25, 26, 27, 28, 29, 30, 31, 32, 33, 34, 35, 36, 37, 38, 39, 40, 41, 42, 43, 45, 46, 47, 48, 49, 50, 51, 52, 53, 54, 55, 56, 57, 58, 59, 60, 61, 62, 63, 64, 65, 66, 67, 68, 69, 70, 71, 72, 73, 74, 75, 77, 78, 79, 80, 81, 82, 83, 84, 86, 87, 88, 89, 90, 91, 93, 94, 95, 96, 97, 98, 99, 100, 101, 102, 103, 104, 105, 106, 107, 108, 109, 110, 111, 112, 113, 114, 115, 116, 117, 118, 119, 120, 121, 122, 123, 124, 125, 126, 127, 128, 129, 130, 131, 132, 133, 134, 135, 136, 137, 138, 139, 140, 141, 142, 143, 144, 145, 146, 147, 148, 149, 150, 151, 152, 153, 154, 155, 156, 157, 158, 159, 160, 161, 162, 163, 164, 165, 166, 167, 168, 169, 170, 171, 172, 173, 174, 175, 176, 177, 178, 179, 180, 181, 182, 183, 184, 185, 186, 187, 188, 189, 190, 191, 192, 194, 195, 196, 197, 198, 199, 200, 201, 202, 203, 204, 205, 207, 208, 209, 210, 212, 213, 214, 215, 216, 217, 218, 219, 220, 221, 222, 223, 224, 225, 226, 227, 228, 229, 230, 231, 232, 233, 234, 235, 236, 237, 238, 239, 240, 241, 242, 243, 244, 245, 246, 247, 248, 249, 250, 251, 252, 253, 254, 255, 256, 257, 258, 259, 260, 261, 262, 263, 264, 265, 266, 267, 268, 269, 270, 271, 272, 1, 2, 3, 4, 5, 6, 7, 8, 9, 10, 12, 13, 14, 15, 16, 17, 18, 19, 20, 21, 22, 23, 24, 25, 26, 27, 28, 29, 30, 32, 33, 34, 35, 36, 37, 38, 39, 40, 41, 42, 43, 44, 45, 46, 47, 48, 49, 50, 51, 52, 53, 54, 55, 56, 57, 58, 59, 60, 61, 62, 63, 64, 65, 66, 67, 68, 69, 70, 71, 72, 73, 74, 75, 77, 78, 79, 80, 81, 82, 83, 84, 86, 87, 88, 89, 90, 91, 93, 94, 95, 96, 97, 98, 99, 100, 101, 102, 103, 104, 105, 106, 107, 108, 109, 110, 111, 112, 113, 114, 115, 116, 117, 118, 119, 120, 121, 122, 123, 124, 125, 126, 127, 128, 129, 130, 131, 132, 133, 134, 135, 136, 137, 138, 139, 140, 141, 142, 143, 144, 145, 146, 147, 148, 149, 150, 151, 152, 153, 154, 155, 156, 157, 158, 159, 160, 161, 162, 163, 164, 165, 166, 167, 168, 169, 170, 171, 172, 173, 174, 175, 176, 177, 178, 179, 180, 181, 182, 183, 184, 185, 186, 187, 188, 189, 190, 191, 192, 194, 195, 196, 197, 198, 199, 200, 201, 202, 203, 204, 205, 207, 208, 209, 210, 212, 213, 214, 215, 216, 217, 218, 219, 220, 221, 222, 223, 224, 225, 226, 227, 228, 229, 230, 231, 232, 233, 234, 235, 236, 237, 238, 239, 240, 241, 242, 243, 244, 245, 246, 247, 248, 249, 250, 251, 253, 254, 255, 256, 257, 258, 259, 260, 261, 262, 263, 264, 265, 266, 267, 268, 269, 270, 271, 272, 1, 2, 3, 4, 5, 6, 7, 8, 9, 10, 11, 12, 13, 14, 15, 16, 17, 18, 19, 20, 21, 22, 23, 24, 25, 26, 27, 28, 29, 30, 32, 33, 34, 35, 36, 37, 38, 39, 40, 41, 42, 43, 44, 45, 46, 47, 48, 49, 50, 51, 52, 53, 54, 55, 56, 57, 58, 59, 60, 61, 62, 63, 64, 65, 66, 67, 68, 69, 70, 71, 72, 73, 74, 75, 76, 77, 78, 79, 80, 81, 82, 83, 84, 86, 87, 88, 89, 90, 91, 93, 94, 95, 96, 97, 98, 99, 100, 101, 102, 103, 104, 105, 106, 107, 108, 109, 110, 111, 112, 113, 114, 115, 116, 117, 118, 119, 120, 121, 122, 123, 124, 125, 126, 127, 128, 129, 130, 131, 132, 133, 134, 135, 136, 137, 138, 139, 140, 141, 142, 143, 144, 145, 146, 147, 148, 149, 150, 151, 152, 153, 154, 155, 156, 157, 158, 159, 160, 161, 162, 163, 164, 165, 166, 167, 168, 169, 170, 171, 172, 173, 174, 175, 176, 177, 178, 179, 180, 181, 182, 183, 184, 185, 186, 187, 188, 189, 190, 191, 192, 194, 195, 196, 197, 198, 199, 200, 201, 202, 203, 204, 205, 207, 208, 209, 210, 212, 213, 214, 215, 216, 217, 218, 219, 220, 221, 222, 223, 224, 225, 226, 227, 228, 229, 230, 231, 232, 233, 234, 235, 236, 237, 238, 239, 240, 241, 242, 243, 244, 245, 246, 247, 248, 249, 250, 251, 253, 254, 255, 256, 257, 258, 259, 260, 261, 262, 263, 264, 265, 266, 267, 268, 269, 270, 271, 272, 1, 2, 3, 4, 5, 6, 7, 8, 9, 10, 12, 13, 14, 15, 16, 17, 18, 19, 20, 21, 22, 23, 24, 25, 26, 27, 28, 29, 30, 31, 32, 33, 34, 35, 36, 37, 38, 39, 40, 41, 42, 43, 44, 45, 46, 47, 48, 49, 50, 51, 52, 53, 54, 55, 56, 57, 58, 59, 60, 61, 62, 63, 64, 65, 66, 67, 68, 69, 70, 71, 72, 73, 74, 75, 77, 78, 79, 80, 81, 82, 83, 84, 86, 87, 88, 89, 90, 91, 93, 94, 95, 96, 97, 98, 99, 100, 101, 102, 103, 104, 105, 106, 107, 108, 109, 110, 111, 112, 113, 114, 115, 116, 117, 118, 119, 120, 121, 122, 123, 124, 125, 126, 127, 128, 129, 130, 131, 132, 133, 134, 135, 136, 137, 138, 139, 140, 141, 142, 143, 144, 145, 146, 147, 148, 149, 150, 151, 152, 153, 154, 155, 156, 157, 158, 159, 160, 161, 162, 163, 164, 165, 166, 167, 168, 169, 170, 171, 172, 173, 174, 175, 176, 177, 178, 179, 180, 181, 182, 183, 184, 185, 186, 187, 188, 189, 190, 191, 192, 194, 195, 196, 197, 198, 199, 200, 201, 202, 203, 204, 205, 207, 208, 209, 210, 212, 213, 214, 215, 216, 217, 218, 219, 220, 221, 222, 223, 224, 225, 226, 227, 228, 229, 230, 231, 232, 233, 234, 235, 236, 237, 238, 239, 240, 241, 242, 243, 244, 245, 246, 247, 248, 249, 250, 251, 253, 254, 255, 256, 257, 258, 259, 260, 261, 262, 263, 264, 265, 266, 267, 268, 269, 270, 271, 272, 1, 2, 3, 4, 5, 6, 7, 8, 9, 10, 11, 12, 13, 14, 15, 16, 17, 18, 19, 20, 21, 22, 23, 24, 25, 26, 27, 28, 29, 30, 32, 33, 34, 35, 36, 37, 38, 39, 40, 41, 42, 43, 44, 45, 46, 47, 48, 49, 50, 51, 52, 53, 54, 55, 56, 57, 58, 59, 60, 61, 62, 63, 64, 65, 66, 67, 68, 69, 70, 71, 72, 73, 74, 75, 77, 78, 79, 80, 81, 82, 83, 84, 86, 87, 88, 89, 90, 91, 93, 94, 95, 96, 97, 98, 99, 100, 101, 102, 103, 104, 105, 106, 107, 108, 109, 110, 111, 112, 113, 114, 115, 116, 117, 118, 119, 120, 121, 122, 123, 124, 125, 126, 127, 128, 129, 130, 131, 132, 133, 134, 135, 136, 137, 138, 139, 140, 141, 142, 143, 144, 145, 146, 147, 148, 149, 150, 151, 152, 153, 154, 155, 156, 157, 158, 159, 160, 161, 162, 163, 164, 165, 166, 167, 168, 169, 170, 171, 172, 173, 174, 175, 176, 177, 178, 179, 180, 181, 182, 183, 184, 185, 186, 187, 188, 189, 190, 191, 192, 194, 195, 196, 197, 198, 199, 200, 201, 202, 203, 204, 205, 207, 208, 209, 210, 212, 213, 214, 215, 216, 217, 219, 220, 221, 222, 223, 224, 225, 226, 227, 228, 229, 230, 231, 232, 233, 234, 235, 236, 237, 238, 239, 240, 241, 242, 243, 244, 245, 246, 247, 248, 249, 250, 251, 253, 254, 255, 256, 257, 258, 259, 260, 261, 262, 263, 264, 265, 266, 267, 268, 269, 270, 271, 272, 1, 2, 3, 4, 5, 6, 7, 8, 9, 10, 12, 13, 14, 15, 16, 17, 18, 19, 20, 21, 22, 23, 24, 25, 26, 27, 28, 29, 30, 32, 33, 34, 35, 36, 37, 38, 39, 40, 41, 42, 43, 44, 45, 46, 47, 48, 49, 50, 51, 52, 53, 54, 55, 56, 57, 58, 59, 60, 61, 62, 63, 64, 65, 66, 67, 68, 69, 70, 71, 72, 73, 74, 75, 77, 78, 79, 80, 81, 82, 83, 84, 86, 87, 88, 89, 90, 91, 93, 94, 95, 96, 97, 98, 99, 100, 101, 102, 103, 104, 105, 106, 107, 108, 109, 110, 111, 112, 113, 114, 115, 116, 118, 119, 120, 121, 122, 123, 124, 125, 126, 127, 128, 129, 130, 131, 132, 133, 134, 135, 136, 137, 138, 139, 140, 141, 142, 143, 144, 145, 146, 147, 148, 149, 150, 151, 152, 153, 154, 155, 156, 157, 158, 159, 160, 161, 162, 163, 164, 165, 166, 167, 168, 169, 170, 171, 172, 173, 174, 175, 176, 177, 178, 179, 180, 181, 182, 183, 184, 185, 186, 187, 188, 189, 190, 191, 192, 193, 194, 195, 196, 197, 198, 199, 200, 201, 202, 203, 204, 205, 207, 208, 209, 210, 212, 213, 214, 215, 216, 217, 218, 219, 220, 221, 222, 223, 224, 225, 226, 227, 228, 229, 230, 231, 232, 233, 234, 235, 236, 237, 238, 239, 240, 241, 242, 243, 244, 245, 246, 247, 248, 249, 250, 251, 253, 254, 255, 256, 257, 258, 259, 260, 261, 262, 263, 264, 265, 266, 267, 268, 269, 270, 271, 272, 1, 2, 3, 4, 5, 6, 7, 8, 9, 10, 12, 13, 14, 15, 16, 17, 18, 19, 20, 21, 22, 23, 24, 25, 26, 27, 28, 29, 30, 32, 33, 34, 35, 36, 37, 38, 39, 40, 41, 42, 43, 44, 45, 46, 47, 48, 49, 50, 51, 52, 53, 54, 55, 56, 57, 58, 59, 60, 61, 62, 63, 64, 65, 66, 67, 68, 69, 70, 71, 72, 73, 74, 75, 77, 78, 79, 80, 81, 82, 83, 84, 86, 87, 88, 89, 90, 91, 93, 94, 95, 96, 97, 98, 99, 100, 101, 102, 103, 104, 105, 106, 107, 108, 109, 110, 111, 112, 113, 114, 115, 116, 117, 118, 119, 120, 121, 122, 123, 124, 125, 126, 127, 128, 129, 130, 131, 132, 133, 134, 135, 136, 137, 138, 139, 140, 141, 142, 143, 144, 145, 146, 147, 148, 149, 150, 151, 152, 153, 154, 155, 156, 157, 158, 159, 160, 161, 162, 163, 164, 165, 166, 167, 168, 169, 170, 171, 172, 173, 174, 175, 176, 177, 178, 179, 180, 181, 182, 183, 184, 185, 186, 187, 188, 189, 190, 191, 192, 193, 194, 195, 196, 197, 198, 199, 200, 201, 202, 203, 204, 205, 207, 208, 209, 210, 212, 213, 214, 215, 216, 217, 218, 219, 220, 221, 222, 223, 224, 225, 226, 227, 228, 229, 230, 231, 232, 233, 234, 235, 236, 237, 238, 239, 240, 241, 242, 243, 244, 245, 246, 247, 248, 249, 250, 251, 253, 254, 255, 256, 257, 258, 259, 260, 261, 262, 263, 264, 265, 266, 267, 268, 269, 270, 271, 272, 1, 2, 3, 4, 5, 6, 7, 8, 9, 10, 12, 13, 14, 15, 16, 17, 18, 19, 20, 21, 22, 23, 24, 25, 26, 27, 28, 29, 30, 32, 33, 34, 35, 36, 37, 38, 39, 40, 41, 42, 43, 44, 45, 46, 47, 48, 49, 50, 51, 52, 53, 54, 55, 56, 57, 58, 59, 60, 61, 62, 63, 64, 65, 66, 67, 68, 69, 70, 71, 72, 73, 74, 75, 77, 78, 79, 80, 81, 82, 83, 84, 86, 87, 88, 89, 90, 91, 92, 93, 94, 95, 96, 97, 98, 99, 100, 101, 102, 103, 104, 105, 106, 107, 108, 109, 110, 111, 112, 113, 114, 115, 116, 117, 118, 119, 120, 121, 122, 123, 124, 125, 126, 127, 128, 129, 130, 131, 132, 133, 134, 135, 136, 137, 138, 139, 140, 141, 142, 143, 144, 145, 146, 147, 148, 149, 150, 151, 152, 153, 154, 155, 156, 157, 158, 159, 160, 161, 162, 163, 164, 165, 166, 167, 168, 169, 170, 171, 172, 173, 174, 175, 176, 177, 178, 179, 180, 181, 182, 183, 184, 185, 186, 187, 188, 189, 190, 191, 192, 194, 195, 196, 197, 198, 199, 200, 201, 202, 203, 204, 205, 207, 208, 209, 210, 212, 213, 214, 215, 216, 217, 218, 219, 220, 221, 222, 223, 224, 225, 226, 227, 228, 229, 230, 231, 232, 233, 234, 235, 236, 237, 238, 239, 240, 241, 242, 243, 244, 245, 246, 247, 248, 249, 250, 251, 252, 253, 254, 255, 256, 257, 258, 259, 260, 261, 262, 263, 264, 265, 266, 267, 268, 269, 270, 271, 272, 1, 2, 3, 4, 5, 6, 7, 8, 9, 10, 12, 13, 14, 15, 16, 17, 18, 19, 20, 21, 22, 23, 24, 25, 26, 27, 28, 29, 30, 32, 33, 34, 35, 36, 37, 38, 39, 40, 41, 42, 43, 44, 45, 46, 47, 48, 49, 50, 51, 52, 53, 54, 55, 56, 57, 58, 59, 60, 61, 62, 63, 64, 65, 66, 67, 68, 69, 70, 71, 72, 73, 74, 75, 77, 78, 79, 80, 81, 82, 83, 84, 86, 87, 88, 89, 90, 91, 93, 94, 95, 96, 97, 98, 99, 100, 101, 102, 103, 104, 105, 106, 107, 108, 109, 110, 111, 112, 113, 114, 115, 116, 117, 118, 119, 120, 121, 122, 123, 124, 125, 126, 127, 128, 129, 130, 131, 132, 133, 134, 135, 136, 137, 138, 139, 140, 141, 142, 143, 144, 145, 146, 147, 148, 149, 150, 151, 152, 153, 154, 155, 156, 157, 158, 159, 160, 161, 162, 163, 164, 165, 166, 167, 168, 169, 170, 171, 172, 173, 174, 175, 176, 178, 179, 180, 181, 182, 183, 184, 185, 186, 187, 188, 189, 190, 191, 192, 194, 195, 196, 197, 198, 199, 200, 201, 202, 203, 204, 205, 206, 207, 208, 209, 210, 211, 212, 213, 214, 215, 216, 217, 218, 219, 220, 221, 222, 223, 224, 225, 226, 227, 228, 229, 230, 231, 232, 233, 234, 235, 236, 237, 238, 239, 240, 241, 242, 243, 244, 245, 246, 247, 248, 249, 250, 251, 253, 254, 255, 256, 257, 258, 259, 260, 261, 262, 263, 264, 265, 266, 267, 268, 269, 270, 271, 272, 1, 2, 3, 4, 5, 6, 7, 8, 9, 10, 12, 13, 14, 15, 16, 17, 18, 19, 20, 21, 22, 23, 24, 25, 26, 27, 28, 29, 30, 32, 33, 34, 35, 36, 37, 38, 39, 40, 41, 42, 43, 44, 45, 46, 47, 48, 49, 50, 51, 52, 53, 54, 55, 56, 57, 58, 59, 60, 61, 62, 63, 64, 65, 66, 67, 68, 69, 70, 71, 72, 73, 74, 75, 77, 78, 79, 80, 81, 82, 83, 84, 86, 87, 88, 89, 90, 91, 93, 94, 95, 96, 97, 98, 99, 100, 101, 102, 103, 104, 105, 106, 107, 108, 109, 110, 111, 112, 113, 114, 115, 116, 117, 118, 119, 120, 121, 122, 123, 124, 125, 126, 127, 128, 129, 130, 131, 132, 133, 134, 135, 136, 137, 138, 139, 140, 141, 142, 143, 144, 145, 146, 147, 148, 149, 150, 151, 152, 153, 154, 155, 156, 157, 158, 159, 160, 161, 162, 163, 164, 165, 166, 167, 168, 169, 170, 171, 172, 173, 174, 175, 176, 177, 178, 179, 180, 181, 182, 183, 184, 185, 186, 187, 188, 189, 190, 191, 192, 194, 195, 196, 197, 198, 199, 200, 201, 202, 203, 204, 205, 207, 208, 209, 210, 212, 213, 214, 215, 216, 217, 218, 219, 220, 221, 222, 223, 224, 225, 226, 227, 228, 229, 230, 231, 232, 233, 234, 235, 236, 237, 238, 239, 240, 241, 242, 243, 244, 245, 246, 247, 248, 249, 250, 251, 253, 254, 255, 256, 257, 258, 259, 260, 261, 262, 263, 264, 265, 266, 267, 268, 269, 270, 271, 272, 1, 2, 3, 4, 5, 6, 7, 8, 9, 10, 12, 13, 14, 15, 16, 17, 18, 19, 20, 21, 22, 23, 24, 25, 26, 27, 28, 29, 30, 32, 33, 34, 35, 36, 37, 38, 39, 40, 41, 42, 43, 44, 45, 46, 47, 48, 49, 50, 51, 52, 53, 54, 55, 56, 57, 58, 59, 60, 61, 62, 63, 64, 65, 66, 67, 68, 69, 70, 71, 72, 73, 74, 75, 77, 78, 79, 80, 81, 82, 83, 84, 86, 87, 88, 89, 90, 91, 93, 94, 95, 96, 97, 98, 99, 100, 101, 102, 103, 104, 105, 106, 107, 108, 109, 110, 111, 112, 113, 114, 115, 116, 117, 118, 119, 120, 121, 122, 123, 124, 125, 126, 127, 128, 129, 130, 131, 132, 133, 134, 135, 136, 137, 138, 139, 140, 141, 142, 143, 144, 145, 146, 147, 148, 149, 150, 151, 152, 153, 154, 155, 156, 157, 158, 159, 160, 161, 162, 163, 164, 165, 166, 167, 168, 169, 170, 171, 172, 173, 174, 175, 176, 177, 178, 179, 180, 181, 182, 183, 184, 185, 186, 187, 188, 189, 190, 191, 192, 193, 194, 195, 196, 197, 198, 199, 200, 201, 202, 203, 204, 205, 207, 208, 209, 210, 212, 213, 214, 215, 216, 217, 218, 219, 220, 221, 222, 223, 224, 225, 226, 227, 228, 229, 230, 231, 232, 233, 234, 235, 236, 237, 238, 239, 240, 241, 242, 243, 244, 245, 246, 247, 248, 249, 250, 251, 253, 254, 255, 256, 257, 258, 259, 260, 261, 262, 263, 264, 265, 266, 267, 268, 269, 270, 271, 272], \"coloraxis\": \"coloraxis\"}, \"name\": \"\", \"offsetgroup\": \"\", \"orientation\": \"v\", \"showlegend\": false, \"textposition\": \"auto\", \"type\": \"bar\", \"x\": [\"2018-06-01T00:00:00\", \"2018-06-01T00:00:00\", \"2018-06-01T00:00:00\", \"2018-06-01T00:00:00\", \"2018-06-01T00:00:00\", \"2018-06-01T00:00:00\", \"2018-06-01T00:00:00\", \"2018-06-01T00:00:00\", \"2018-06-01T00:00:00\", \"2018-06-01T00:00:00\", \"2018-06-01T00:00:00\", \"2018-06-01T00:00:00\", \"2018-06-01T00:00:00\", \"2018-06-01T00:00:00\", \"2018-06-01T00:00:00\", \"2018-06-01T00:00:00\", \"2018-06-01T00:00:00\", \"2018-06-01T00:00:00\", \"2018-06-01T00:00:00\", \"2018-06-01T00:00:00\", \"2018-06-01T00:00:00\", \"2018-06-01T00:00:00\", \"2018-06-01T00:00:00\", \"2018-06-01T00:00:00\", \"2018-06-01T00:00:00\", \"2018-06-01T00:00:00\", \"2018-06-01T00:00:00\", \"2018-06-01T00:00:00\", \"2018-06-01T00:00:00\", \"2018-06-01T00:00:00\", \"2018-06-01T00:00:00\", \"2018-06-01T00:00:00\", \"2018-06-01T00:00:00\", \"2018-06-01T00:00:00\", \"2018-06-01T00:00:00\", \"2018-06-01T00:00:00\", \"2018-06-01T00:00:00\", \"2018-06-01T00:00:00\", \"2018-06-01T00:00:00\", \"2018-06-01T00:00:00\", \"2018-06-01T00:00:00\", \"2018-06-01T00:00:00\", \"2018-06-01T00:00:00\", \"2018-06-01T00:00:00\", \"2018-06-01T00:00:00\", \"2018-06-01T00:00:00\", \"2018-06-01T00:00:00\", \"2018-06-01T00:00:00\", \"2018-06-01T00:00:00\", \"2018-06-01T00:00:00\", \"2018-06-01T00:00:00\", \"2018-06-01T00:00:00\", \"2018-06-01T00:00:00\", \"2018-06-01T00:00:00\", \"2018-06-01T00:00:00\", \"2018-06-01T00:00:00\", \"2018-06-01T00:00:00\", \"2018-06-01T00:00:00\", \"2018-06-01T00:00:00\", \"2018-06-01T00:00:00\", \"2018-06-01T00:00:00\", \"2018-06-01T00:00:00\", \"2018-06-01T00:00:00\", \"2018-06-01T00:00:00\", \"2018-06-01T00:00:00\", \"2018-06-01T00:00:00\", \"2018-06-01T00:00:00\", \"2018-06-01T00:00:00\", \"2018-06-01T00:00:00\", \"2018-06-01T00:00:00\", \"2018-06-01T00:00:00\", \"2018-06-01T00:00:00\", \"2018-06-01T00:00:00\", \"2018-06-01T00:00:00\", \"2018-06-01T00:00:00\", \"2018-06-01T00:00:00\", \"2018-06-01T00:00:00\", \"2018-06-01T00:00:00\", \"2018-06-01T00:00:00\", \"2018-06-01T00:00:00\", \"2018-06-01T00:00:00\", \"2018-06-01T00:00:00\", \"2018-06-01T00:00:00\", \"2018-06-01T00:00:00\", \"2018-06-01T00:00:00\", \"2018-06-01T00:00:00\", \"2018-06-01T00:00:00\", \"2018-06-01T00:00:00\", \"2018-06-01T00:00:00\", \"2018-06-01T00:00:00\", \"2018-06-01T00:00:00\", \"2018-06-01T00:00:00\", \"2018-06-01T00:00:00\", \"2018-06-01T00:00:00\", \"2018-06-01T00:00:00\", \"2018-06-01T00:00:00\", \"2018-06-01T00:00:00\", \"2018-06-01T00:00:00\", \"2018-06-01T00:00:00\", \"2018-06-01T00:00:00\", \"2018-06-01T00:00:00\", \"2018-06-01T00:00:00\", \"2018-06-01T00:00:00\", \"2018-06-01T00:00:00\", \"2018-06-01T00:00:00\", \"2018-06-01T00:00:00\", \"2018-06-01T00:00:00\", \"2018-06-01T00:00:00\", \"2018-06-01T00:00:00\", \"2018-06-01T00:00:00\", \"2018-06-01T00:00:00\", \"2018-06-01T00:00:00\", \"2018-06-01T00:00:00\", \"2018-06-01T00:00:00\", \"2018-06-01T00:00:00\", \"2018-06-01T00:00:00\", \"2018-06-01T00:00:00\", \"2018-06-01T00:00:00\", \"2018-06-01T00:00:00\", \"2018-06-01T00:00:00\", \"2018-06-01T00:00:00\", \"2018-06-01T00:00:00\", \"2018-06-01T00:00:00\", \"2018-06-01T00:00:00\", \"2018-06-01T00:00:00\", \"2018-06-01T00:00:00\", \"2018-06-01T00:00:00\", \"2018-06-01T00:00:00\", \"2018-06-01T00:00:00\", \"2018-06-01T00:00:00\", \"2018-06-01T00:00:00\", \"2018-06-01T00:00:00\", \"2018-06-01T00:00:00\", \"2018-06-01T00:00:00\", \"2018-06-01T00:00:00\", \"2018-06-01T00:00:00\", \"2018-06-01T00:00:00\", \"2018-06-01T00:00:00\", \"2018-06-01T00:00:00\", \"2018-06-01T00:00:00\", \"2018-06-01T00:00:00\", \"2018-06-01T00:00:00\", \"2018-06-01T00:00:00\", \"2018-06-01T00:00:00\", \"2018-06-01T00:00:00\", \"2018-06-01T00:00:00\", \"2018-06-01T00:00:00\", \"2018-06-01T00:00:00\", \"2018-06-01T00:00:00\", \"2018-06-01T00:00:00\", \"2018-06-01T00:00:00\", \"2018-06-01T00:00:00\", \"2018-06-01T00:00:00\", \"2018-06-01T00:00:00\", \"2018-06-01T00:00:00\", \"2018-06-01T00:00:00\", \"2018-06-01T00:00:00\", \"2018-06-01T00:00:00\", \"2018-06-01T00:00:00\", \"2018-06-01T00:00:00\", \"2018-06-01T00:00:00\", \"2018-06-01T00:00:00\", \"2018-06-01T00:00:00\", \"2018-06-01T00:00:00\", \"2018-06-01T00:00:00\", \"2018-06-01T00:00:00\", \"2018-06-01T00:00:00\", \"2018-06-01T00:00:00\", \"2018-06-01T00:00:00\", \"2018-06-01T00:00:00\", \"2018-06-01T00:00:00\", \"2018-06-01T00:00:00\", \"2018-06-01T00:00:00\", \"2018-06-01T00:00:00\", \"2018-06-01T00:00:00\", \"2018-06-01T00:00:00\", \"2018-06-01T00:00:00\", \"2018-06-01T00:00:00\", \"2018-06-01T00:00:00\", \"2018-06-01T00:00:00\", \"2018-06-01T00:00:00\", \"2018-06-01T00:00:00\", \"2018-06-01T00:00:00\", \"2018-06-01T00:00:00\", \"2018-06-01T00:00:00\", \"2018-06-01T00:00:00\", \"2018-06-01T00:00:00\", \"2018-06-01T00:00:00\", \"2018-06-01T00:00:00\", \"2018-06-01T00:00:00\", \"2018-06-01T00:00:00\", \"2018-06-01T00:00:00\", \"2018-06-01T00:00:00\", \"2018-06-01T00:00:00\", \"2018-06-01T00:00:00\", \"2018-06-01T00:00:00\", \"2018-06-01T00:00:00\", \"2018-06-01T00:00:00\", \"2018-06-01T00:00:00\", \"2018-06-01T00:00:00\", \"2018-06-01T00:00:00\", \"2018-06-01T00:00:00\", \"2018-06-01T00:00:00\", \"2018-06-01T00:00:00\", \"2018-06-01T00:00:00\", \"2018-06-01T00:00:00\", \"2018-06-01T00:00:00\", \"2018-06-01T00:00:00\", \"2018-06-01T00:00:00\", \"2018-06-01T00:00:00\", \"2018-06-01T00:00:00\", \"2018-06-01T00:00:00\", \"2018-06-01T00:00:00\", \"2018-06-01T00:00:00\", \"2018-06-01T00:00:00\", \"2018-06-01T00:00:00\", \"2018-06-01T00:00:00\", \"2018-06-01T00:00:00\", \"2018-06-01T00:00:00\", \"2018-07-01T00:00:00\", \"2018-07-01T00:00:00\", \"2018-07-01T00:00:00\", \"2018-07-01T00:00:00\", \"2018-07-01T00:00:00\", \"2018-07-01T00:00:00\", \"2018-07-01T00:00:00\", \"2018-07-01T00:00:00\", \"2018-07-01T00:00:00\", \"2018-07-01T00:00:00\", \"2018-07-01T00:00:00\", \"2018-07-01T00:00:00\", \"2018-07-01T00:00:00\", \"2018-07-01T00:00:00\", \"2018-07-01T00:00:00\", \"2018-07-01T00:00:00\", \"2018-07-01T00:00:00\", \"2018-07-01T00:00:00\", \"2018-07-01T00:00:00\", \"2018-07-01T00:00:00\", \"2018-07-01T00:00:00\", \"2018-07-01T00:00:00\", \"2018-07-01T00:00:00\", \"2018-07-01T00:00:00\", \"2018-07-01T00:00:00\", \"2018-07-01T00:00:00\", \"2018-07-01T00:00:00\", \"2018-07-01T00:00:00\", \"2018-07-01T00:00:00\", \"2018-07-01T00:00:00\", \"2018-07-01T00:00:00\", \"2018-07-01T00:00:00\", \"2018-07-01T00:00:00\", \"2018-07-01T00:00:00\", \"2018-07-01T00:00:00\", \"2018-07-01T00:00:00\", \"2018-07-01T00:00:00\", \"2018-07-01T00:00:00\", \"2018-07-01T00:00:00\", \"2018-07-01T00:00:00\", \"2018-07-01T00:00:00\", \"2018-07-01T00:00:00\", \"2018-07-01T00:00:00\", \"2018-07-01T00:00:00\", \"2018-07-01T00:00:00\", \"2018-07-01T00:00:00\", \"2018-07-01T00:00:00\", \"2018-07-01T00:00:00\", \"2018-07-01T00:00:00\", \"2018-07-01T00:00:00\", \"2018-07-01T00:00:00\", \"2018-07-01T00:00:00\", \"2018-07-01T00:00:00\", \"2018-07-01T00:00:00\", \"2018-07-01T00:00:00\", \"2018-07-01T00:00:00\", \"2018-07-01T00:00:00\", \"2018-07-01T00:00:00\", \"2018-07-01T00:00:00\", \"2018-07-01T00:00:00\", \"2018-07-01T00:00:00\", \"2018-07-01T00:00:00\", \"2018-07-01T00:00:00\", \"2018-07-01T00:00:00\", \"2018-07-01T00:00:00\", \"2018-07-01T00:00:00\", \"2018-07-01T00:00:00\", \"2018-07-01T00:00:00\", \"2018-07-01T00:00:00\", \"2018-07-01T00:00:00\", \"2018-07-01T00:00:00\", \"2018-07-01T00:00:00\", \"2018-07-01T00:00:00\", \"2018-07-01T00:00:00\", \"2018-07-01T00:00:00\", \"2018-07-01T00:00:00\", \"2018-07-01T00:00:00\", \"2018-07-01T00:00:00\", \"2018-07-01T00:00:00\", \"2018-07-01T00:00:00\", \"2018-07-01T00:00:00\", \"2018-07-01T00:00:00\", \"2018-07-01T00:00:00\", \"2018-07-01T00:00:00\", \"2018-07-01T00:00:00\", \"2018-07-01T00:00:00\", \"2018-07-01T00:00:00\", \"2018-07-01T00:00:00\", \"2018-07-01T00:00:00\", \"2018-07-01T00:00:00\", \"2018-07-01T00:00:00\", \"2018-07-01T00:00:00\", \"2018-07-01T00:00:00\", \"2018-07-01T00:00:00\", \"2018-07-01T00:00:00\", \"2018-07-01T00:00:00\", \"2018-07-01T00:00:00\", \"2018-07-01T00:00:00\", \"2018-07-01T00:00:00\", \"2018-07-01T00:00:00\", \"2018-07-01T00:00:00\", \"2018-07-01T00:00:00\", \"2018-07-01T00:00:00\", \"2018-07-01T00:00:00\", \"2018-07-01T00:00:00\", \"2018-07-01T00:00:00\", \"2018-07-01T00:00:00\", \"2018-07-01T00:00:00\", \"2018-07-01T00:00:00\", \"2018-07-01T00:00:00\", \"2018-07-01T00:00:00\", \"2018-07-01T00:00:00\", \"2018-07-01T00:00:00\", \"2018-07-01T00:00:00\", \"2018-07-01T00:00:00\", \"2018-07-01T00:00:00\", \"2018-07-01T00:00:00\", \"2018-07-01T00:00:00\", \"2018-07-01T00:00:00\", \"2018-07-01T00:00:00\", \"2018-07-01T00:00:00\", \"2018-07-01T00:00:00\", \"2018-07-01T00:00:00\", \"2018-07-01T00:00:00\", \"2018-07-01T00:00:00\", \"2018-07-01T00:00:00\", \"2018-07-01T00:00:00\", \"2018-07-01T00:00:00\", \"2018-07-01T00:00:00\", \"2018-07-01T00:00:00\", \"2018-07-01T00:00:00\", \"2018-07-01T00:00:00\", \"2018-07-01T00:00:00\", \"2018-07-01T00:00:00\", \"2018-07-01T00:00:00\", \"2018-07-01T00:00:00\", \"2018-07-01T00:00:00\", \"2018-07-01T00:00:00\", \"2018-07-01T00:00:00\", \"2018-07-01T00:00:00\", \"2018-07-01T00:00:00\", \"2018-07-01T00:00:00\", \"2018-07-01T00:00:00\", \"2018-07-01T00:00:00\", \"2018-07-01T00:00:00\", \"2018-07-01T00:00:00\", \"2018-07-01T00:00:00\", \"2018-07-01T00:00:00\", \"2018-07-01T00:00:00\", \"2018-07-01T00:00:00\", \"2018-07-01T00:00:00\", \"2018-07-01T00:00:00\", \"2018-07-01T00:00:00\", \"2018-07-01T00:00:00\", \"2018-07-01T00:00:00\", \"2018-07-01T00:00:00\", \"2018-07-01T00:00:00\", \"2018-07-01T00:00:00\", \"2018-07-01T00:00:00\", \"2018-07-01T00:00:00\", \"2018-07-01T00:00:00\", \"2018-07-01T00:00:00\", \"2018-07-01T00:00:00\", \"2018-07-01T00:00:00\", \"2018-07-01T00:00:00\", \"2018-07-01T00:00:00\", \"2018-07-01T00:00:00\", \"2018-07-01T00:00:00\", \"2018-07-01T00:00:00\", \"2018-07-01T00:00:00\", \"2018-07-01T00:00:00\", \"2018-07-01T00:00:00\", \"2018-07-01T00:00:00\", \"2018-07-01T00:00:00\", \"2018-07-01T00:00:00\", \"2018-07-01T00:00:00\", \"2018-07-01T00:00:00\", \"2018-07-01T00:00:00\", \"2018-07-01T00:00:00\", \"2018-07-01T00:00:00\", \"2018-07-01T00:00:00\", \"2018-07-01T00:00:00\", \"2018-07-01T00:00:00\", \"2018-07-01T00:00:00\", \"2018-07-01T00:00:00\", \"2018-07-01T00:00:00\", \"2018-07-01T00:00:00\", \"2018-07-01T00:00:00\", \"2018-07-01T00:00:00\", \"2018-07-01T00:00:00\", \"2018-07-01T00:00:00\", \"2018-07-01T00:00:00\", \"2018-07-01T00:00:00\", \"2018-07-01T00:00:00\", \"2018-07-01T00:00:00\", \"2018-07-01T00:00:00\", \"2018-07-01T00:00:00\", \"2018-07-01T00:00:00\", \"2018-07-01T00:00:00\", \"2018-07-01T00:00:00\", \"2018-07-01T00:00:00\", \"2018-07-01T00:00:00\", \"2018-07-01T00:00:00\", \"2018-07-01T00:00:00\", \"2018-07-01T00:00:00\", \"2018-07-01T00:00:00\", \"2018-07-01T00:00:00\", \"2018-07-01T00:00:00\", \"2018-07-01T00:00:00\", \"2018-07-01T00:00:00\", \"2018-07-01T00:00:00\", \"2018-07-01T00:00:00\", \"2018-07-01T00:00:00\", \"2018-07-01T00:00:00\", \"2018-07-01T00:00:00\", \"2018-07-01T00:00:00\", \"2018-07-01T00:00:00\", \"2018-07-01T00:00:00\", \"2018-07-01T00:00:00\", \"2018-07-01T00:00:00\", \"2018-07-01T00:00:00\", \"2018-07-01T00:00:00\", \"2018-07-01T00:00:00\", \"2018-07-01T00:00:00\", \"2018-07-01T00:00:00\", \"2018-07-01T00:00:00\", \"2018-07-01T00:00:00\", \"2018-07-01T00:00:00\", \"2018-07-01T00:00:00\", \"2018-07-01T00:00:00\", \"2018-07-01T00:00:00\", \"2018-07-01T00:00:00\", \"2018-07-01T00:00:00\", \"2018-07-01T00:00:00\", \"2018-07-01T00:00:00\", \"2018-07-01T00:00:00\", \"2018-07-01T00:00:00\", \"2018-07-01T00:00:00\", \"2018-07-01T00:00:00\", \"2018-07-01T00:00:00\", \"2018-07-01T00:00:00\", \"2018-07-01T00:00:00\", \"2018-07-01T00:00:00\", \"2018-07-01T00:00:00\", \"2018-07-01T00:00:00\", \"2018-07-01T00:00:00\", \"2018-07-01T00:00:00\", \"2018-07-01T00:00:00\", \"2018-07-01T00:00:00\", \"2018-07-01T00:00:00\", \"2018-07-01T00:00:00\", \"2018-07-01T00:00:00\", \"2018-07-01T00:00:00\", \"2018-07-01T00:00:00\", \"2018-07-01T00:00:00\", \"2018-07-01T00:00:00\", \"2018-07-01T00:00:00\", \"2018-07-01T00:00:00\", \"2018-07-01T00:00:00\", \"2018-07-01T00:00:00\", \"2018-07-01T00:00:00\", \"2018-07-01T00:00:00\", \"2018-07-01T00:00:00\", \"2018-07-01T00:00:00\", \"2018-07-01T00:00:00\", \"2018-07-01T00:00:00\", \"2018-08-01T00:00:00\", \"2018-08-01T00:00:00\", \"2018-08-01T00:00:00\", \"2018-08-01T00:00:00\", \"2018-08-01T00:00:00\", \"2018-08-01T00:00:00\", \"2018-08-01T00:00:00\", \"2018-08-01T00:00:00\", \"2018-08-01T00:00:00\", \"2018-08-01T00:00:00\", \"2018-08-01T00:00:00\", \"2018-08-01T00:00:00\", \"2018-08-01T00:00:00\", \"2018-08-01T00:00:00\", \"2018-08-01T00:00:00\", \"2018-08-01T00:00:00\", \"2018-08-01T00:00:00\", \"2018-08-01T00:00:00\", \"2018-08-01T00:00:00\", \"2018-08-01T00:00:00\", \"2018-08-01T00:00:00\", \"2018-08-01T00:00:00\", \"2018-08-01T00:00:00\", \"2018-08-01T00:00:00\", \"2018-08-01T00:00:00\", \"2018-08-01T00:00:00\", \"2018-08-01T00:00:00\", \"2018-08-01T00:00:00\", \"2018-08-01T00:00:00\", \"2018-08-01T00:00:00\", \"2018-08-01T00:00:00\", \"2018-08-01T00:00:00\", \"2018-08-01T00:00:00\", \"2018-08-01T00:00:00\", \"2018-08-01T00:00:00\", \"2018-08-01T00:00:00\", \"2018-08-01T00:00:00\", \"2018-08-01T00:00:00\", \"2018-08-01T00:00:00\", \"2018-08-01T00:00:00\", \"2018-08-01T00:00:00\", \"2018-08-01T00:00:00\", \"2018-08-01T00:00:00\", \"2018-08-01T00:00:00\", \"2018-08-01T00:00:00\", \"2018-08-01T00:00:00\", \"2018-08-01T00:00:00\", \"2018-08-01T00:00:00\", \"2018-08-01T00:00:00\", \"2018-08-01T00:00:00\", \"2018-08-01T00:00:00\", \"2018-08-01T00:00:00\", \"2018-08-01T00:00:00\", \"2018-08-01T00:00:00\", \"2018-08-01T00:00:00\", \"2018-08-01T00:00:00\", \"2018-08-01T00:00:00\", \"2018-08-01T00:00:00\", \"2018-08-01T00:00:00\", \"2018-08-01T00:00:00\", \"2018-08-01T00:00:00\", \"2018-08-01T00:00:00\", \"2018-08-01T00:00:00\", \"2018-08-01T00:00:00\", \"2018-08-01T00:00:00\", \"2018-08-01T00:00:00\", \"2018-08-01T00:00:00\", \"2018-08-01T00:00:00\", \"2018-08-01T00:00:00\", \"2018-08-01T00:00:00\", \"2018-08-01T00:00:00\", \"2018-08-01T00:00:00\", \"2018-08-01T00:00:00\", \"2018-08-01T00:00:00\", \"2018-08-01T00:00:00\", \"2018-08-01T00:00:00\", \"2018-08-01T00:00:00\", \"2018-08-01T00:00:00\", \"2018-08-01T00:00:00\", \"2018-08-01T00:00:00\", \"2018-08-01T00:00:00\", \"2018-08-01T00:00:00\", \"2018-08-01T00:00:00\", \"2018-08-01T00:00:00\", \"2018-08-01T00:00:00\", \"2018-08-01T00:00:00\", \"2018-08-01T00:00:00\", \"2018-08-01T00:00:00\", \"2018-08-01T00:00:00\", \"2018-08-01T00:00:00\", \"2018-08-01T00:00:00\", \"2018-08-01T00:00:00\", \"2018-08-01T00:00:00\", \"2018-08-01T00:00:00\", \"2018-08-01T00:00:00\", \"2018-08-01T00:00:00\", \"2018-08-01T00:00:00\", \"2018-08-01T00:00:00\", \"2018-08-01T00:00:00\", \"2018-08-01T00:00:00\", \"2018-08-01T00:00:00\", \"2018-08-01T00:00:00\", \"2018-08-01T00:00:00\", \"2018-08-01T00:00:00\", \"2018-08-01T00:00:00\", \"2018-08-01T00:00:00\", \"2018-08-01T00:00:00\", \"2018-08-01T00:00:00\", \"2018-08-01T00:00:00\", \"2018-08-01T00:00:00\", \"2018-08-01T00:00:00\", \"2018-08-01T00:00:00\", \"2018-08-01T00:00:00\", \"2018-08-01T00:00:00\", \"2018-08-01T00:00:00\", \"2018-08-01T00:00:00\", \"2018-08-01T00:00:00\", \"2018-08-01T00:00:00\", \"2018-08-01T00:00:00\", \"2018-08-01T00:00:00\", \"2018-08-01T00:00:00\", \"2018-08-01T00:00:00\", \"2018-08-01T00:00:00\", \"2018-08-01T00:00:00\", \"2018-08-01T00:00:00\", \"2018-08-01T00:00:00\", \"2018-08-01T00:00:00\", \"2018-08-01T00:00:00\", \"2018-08-01T00:00:00\", \"2018-08-01T00:00:00\", \"2018-08-01T00:00:00\", \"2018-08-01T00:00:00\", \"2018-08-01T00:00:00\", \"2018-08-01T00:00:00\", \"2018-08-01T00:00:00\", \"2018-08-01T00:00:00\", \"2018-08-01T00:00:00\", \"2018-08-01T00:00:00\", \"2018-08-01T00:00:00\", \"2018-08-01T00:00:00\", \"2018-08-01T00:00:00\", \"2018-08-01T00:00:00\", \"2018-08-01T00:00:00\", \"2018-08-01T00:00:00\", \"2018-08-01T00:00:00\", \"2018-08-01T00:00:00\", \"2018-08-01T00:00:00\", \"2018-08-01T00:00:00\", \"2018-08-01T00:00:00\", \"2018-08-01T00:00:00\", \"2018-08-01T00:00:00\", \"2018-08-01T00:00:00\", \"2018-08-01T00:00:00\", \"2018-08-01T00:00:00\", \"2018-08-01T00:00:00\", \"2018-08-01T00:00:00\", \"2018-08-01T00:00:00\", \"2018-08-01T00:00:00\", \"2018-08-01T00:00:00\", \"2018-08-01T00:00:00\", \"2018-08-01T00:00:00\", \"2018-08-01T00:00:00\", \"2018-08-01T00:00:00\", \"2018-08-01T00:00:00\", \"2018-08-01T00:00:00\", \"2018-08-01T00:00:00\", \"2018-08-01T00:00:00\", \"2018-08-01T00:00:00\", \"2018-08-01T00:00:00\", \"2018-08-01T00:00:00\", \"2018-08-01T00:00:00\", \"2018-08-01T00:00:00\", \"2018-08-01T00:00:00\", \"2018-08-01T00:00:00\", \"2018-08-01T00:00:00\", \"2018-08-01T00:00:00\", \"2018-08-01T00:00:00\", \"2018-08-01T00:00:00\", \"2018-08-01T00:00:00\", \"2018-08-01T00:00:00\", \"2018-08-01T00:00:00\", \"2018-08-01T00:00:00\", \"2018-08-01T00:00:00\", \"2018-08-01T00:00:00\", \"2018-08-01T00:00:00\", \"2018-08-01T00:00:00\", \"2018-08-01T00:00:00\", \"2018-08-01T00:00:00\", \"2018-08-01T00:00:00\", \"2018-08-01T00:00:00\", \"2018-08-01T00:00:00\", \"2018-08-01T00:00:00\", \"2018-08-01T00:00:00\", \"2018-08-01T00:00:00\", \"2018-08-01T00:00:00\", \"2018-08-01T00:00:00\", \"2018-08-01T00:00:00\", \"2018-08-01T00:00:00\", \"2018-08-01T00:00:00\", \"2018-08-01T00:00:00\", \"2018-08-01T00:00:00\", \"2018-08-01T00:00:00\", \"2018-08-01T00:00:00\", \"2018-08-01T00:00:00\", \"2018-08-01T00:00:00\", \"2018-08-01T00:00:00\", \"2018-08-01T00:00:00\", \"2018-08-01T00:00:00\", \"2018-08-01T00:00:00\", \"2018-08-01T00:00:00\", \"2018-08-01T00:00:00\", \"2018-08-01T00:00:00\", \"2018-08-01T00:00:00\", \"2018-08-01T00:00:00\", \"2018-08-01T00:00:00\", \"2018-08-01T00:00:00\", \"2018-08-01T00:00:00\", \"2018-08-01T00:00:00\", \"2018-08-01T00:00:00\", \"2018-08-01T00:00:00\", \"2018-08-01T00:00:00\", \"2018-08-01T00:00:00\", \"2018-08-01T00:00:00\", \"2018-08-01T00:00:00\", \"2018-08-01T00:00:00\", \"2018-08-01T00:00:00\", \"2018-08-01T00:00:00\", \"2018-08-01T00:00:00\", \"2018-08-01T00:00:00\", \"2018-08-01T00:00:00\", \"2018-08-01T00:00:00\", \"2018-08-01T00:00:00\", \"2018-08-01T00:00:00\", \"2018-08-01T00:00:00\", \"2018-08-01T00:00:00\", \"2018-08-01T00:00:00\", \"2018-08-01T00:00:00\", \"2018-08-01T00:00:00\", \"2018-08-01T00:00:00\", \"2018-08-01T00:00:00\", \"2018-08-01T00:00:00\", \"2018-08-01T00:00:00\", \"2018-08-01T00:00:00\", \"2018-08-01T00:00:00\", \"2018-08-01T00:00:00\", \"2018-08-01T00:00:00\", \"2018-08-01T00:00:00\", \"2018-08-01T00:00:00\", \"2018-08-01T00:00:00\", \"2018-08-01T00:00:00\", \"2018-08-01T00:00:00\", \"2018-08-01T00:00:00\", \"2018-08-01T00:00:00\", \"2018-08-01T00:00:00\", \"2018-08-01T00:00:00\", \"2018-08-01T00:00:00\", \"2018-08-01T00:00:00\", \"2018-08-01T00:00:00\", \"2018-08-01T00:00:00\", \"2018-08-01T00:00:00\", \"2018-08-01T00:00:00\", \"2018-08-01T00:00:00\", \"2018-08-01T00:00:00\", \"2018-08-01T00:00:00\", \"2018-09-01T00:00:00\", \"2018-09-01T00:00:00\", \"2018-09-01T00:00:00\", \"2018-09-01T00:00:00\", \"2018-09-01T00:00:00\", \"2018-09-01T00:00:00\", \"2018-09-01T00:00:00\", \"2018-09-01T00:00:00\", \"2018-09-01T00:00:00\", \"2018-09-01T00:00:00\", \"2018-09-01T00:00:00\", \"2018-09-01T00:00:00\", \"2018-09-01T00:00:00\", \"2018-09-01T00:00:00\", \"2018-09-01T00:00:00\", \"2018-09-01T00:00:00\", \"2018-09-01T00:00:00\", \"2018-09-01T00:00:00\", \"2018-09-01T00:00:00\", \"2018-09-01T00:00:00\", \"2018-09-01T00:00:00\", \"2018-09-01T00:00:00\", \"2018-09-01T00:00:00\", \"2018-09-01T00:00:00\", \"2018-09-01T00:00:00\", \"2018-09-01T00:00:00\", \"2018-09-01T00:00:00\", \"2018-09-01T00:00:00\", \"2018-09-01T00:00:00\", \"2018-09-01T00:00:00\", \"2018-09-01T00:00:00\", \"2018-09-01T00:00:00\", \"2018-09-01T00:00:00\", \"2018-09-01T00:00:00\", \"2018-09-01T00:00:00\", \"2018-09-01T00:00:00\", \"2018-09-01T00:00:00\", \"2018-09-01T00:00:00\", \"2018-09-01T00:00:00\", \"2018-09-01T00:00:00\", \"2018-09-01T00:00:00\", \"2018-09-01T00:00:00\", \"2018-09-01T00:00:00\", \"2018-09-01T00:00:00\", \"2018-09-01T00:00:00\", \"2018-09-01T00:00:00\", \"2018-09-01T00:00:00\", \"2018-09-01T00:00:00\", \"2018-09-01T00:00:00\", \"2018-09-01T00:00:00\", \"2018-09-01T00:00:00\", \"2018-09-01T00:00:00\", \"2018-09-01T00:00:00\", \"2018-09-01T00:00:00\", \"2018-09-01T00:00:00\", \"2018-09-01T00:00:00\", \"2018-09-01T00:00:00\", \"2018-09-01T00:00:00\", \"2018-09-01T00:00:00\", \"2018-09-01T00:00:00\", \"2018-09-01T00:00:00\", \"2018-09-01T00:00:00\", \"2018-09-01T00:00:00\", \"2018-09-01T00:00:00\", \"2018-09-01T00:00:00\", \"2018-09-01T00:00:00\", \"2018-09-01T00:00:00\", \"2018-09-01T00:00:00\", \"2018-09-01T00:00:00\", \"2018-09-01T00:00:00\", \"2018-09-01T00:00:00\", \"2018-09-01T00:00:00\", \"2018-09-01T00:00:00\", \"2018-09-01T00:00:00\", \"2018-09-01T00:00:00\", \"2018-09-01T00:00:00\", \"2018-09-01T00:00:00\", \"2018-09-01T00:00:00\", \"2018-09-01T00:00:00\", \"2018-09-01T00:00:00\", \"2018-09-01T00:00:00\", \"2018-09-01T00:00:00\", \"2018-09-01T00:00:00\", \"2018-09-01T00:00:00\", \"2018-09-01T00:00:00\", \"2018-09-01T00:00:00\", \"2018-09-01T00:00:00\", \"2018-09-01T00:00:00\", \"2018-09-01T00:00:00\", \"2018-09-01T00:00:00\", \"2018-09-01T00:00:00\", \"2018-09-01T00:00:00\", \"2018-09-01T00:00:00\", \"2018-09-01T00:00:00\", \"2018-09-01T00:00:00\", \"2018-09-01T00:00:00\", \"2018-09-01T00:00:00\", \"2018-09-01T00:00:00\", \"2018-09-01T00:00:00\", \"2018-09-01T00:00:00\", \"2018-09-01T00:00:00\", \"2018-09-01T00:00:00\", \"2018-09-01T00:00:00\", \"2018-09-01T00:00:00\", \"2018-09-01T00:00:00\", \"2018-09-01T00:00:00\", \"2018-09-01T00:00:00\", \"2018-09-01T00:00:00\", \"2018-09-01T00:00:00\", \"2018-09-01T00:00:00\", \"2018-09-01T00:00:00\", \"2018-09-01T00:00:00\", \"2018-09-01T00:00:00\", \"2018-09-01T00:00:00\", \"2018-09-01T00:00:00\", \"2018-09-01T00:00:00\", \"2018-09-01T00:00:00\", \"2018-09-01T00:00:00\", \"2018-09-01T00:00:00\", \"2018-09-01T00:00:00\", \"2018-09-01T00:00:00\", \"2018-09-01T00:00:00\", \"2018-09-01T00:00:00\", \"2018-09-01T00:00:00\", \"2018-09-01T00:00:00\", \"2018-09-01T00:00:00\", \"2018-09-01T00:00:00\", \"2018-09-01T00:00:00\", \"2018-09-01T00:00:00\", \"2018-09-01T00:00:00\", \"2018-09-01T00:00:00\", \"2018-09-01T00:00:00\", \"2018-09-01T00:00:00\", \"2018-09-01T00:00:00\", \"2018-09-01T00:00:00\", \"2018-09-01T00:00:00\", \"2018-09-01T00:00:00\", \"2018-09-01T00:00:00\", \"2018-09-01T00:00:00\", \"2018-09-01T00:00:00\", \"2018-09-01T00:00:00\", \"2018-09-01T00:00:00\", \"2018-09-01T00:00:00\", \"2018-09-01T00:00:00\", \"2018-09-01T00:00:00\", \"2018-09-01T00:00:00\", \"2018-09-01T00:00:00\", \"2018-09-01T00:00:00\", \"2018-09-01T00:00:00\", \"2018-09-01T00:00:00\", \"2018-09-01T00:00:00\", \"2018-09-01T00:00:00\", \"2018-09-01T00:00:00\", \"2018-09-01T00:00:00\", \"2018-09-01T00:00:00\", \"2018-09-01T00:00:00\", \"2018-09-01T00:00:00\", \"2018-09-01T00:00:00\", \"2018-09-01T00:00:00\", \"2018-09-01T00:00:00\", \"2018-09-01T00:00:00\", \"2018-09-01T00:00:00\", \"2018-09-01T00:00:00\", \"2018-09-01T00:00:00\", \"2018-09-01T00:00:00\", \"2018-09-01T00:00:00\", \"2018-09-01T00:00:00\", \"2018-09-01T00:00:00\", \"2018-09-01T00:00:00\", \"2018-09-01T00:00:00\", \"2018-09-01T00:00:00\", \"2018-09-01T00:00:00\", \"2018-09-01T00:00:00\", \"2018-09-01T00:00:00\", \"2018-09-01T00:00:00\", \"2018-09-01T00:00:00\", \"2018-09-01T00:00:00\", \"2018-09-01T00:00:00\", \"2018-09-01T00:00:00\", \"2018-09-01T00:00:00\", \"2018-09-01T00:00:00\", \"2018-09-01T00:00:00\", \"2018-09-01T00:00:00\", \"2018-09-01T00:00:00\", \"2018-09-01T00:00:00\", \"2018-09-01T00:00:00\", \"2018-09-01T00:00:00\", \"2018-09-01T00:00:00\", \"2018-09-01T00:00:00\", \"2018-09-01T00:00:00\", \"2018-09-01T00:00:00\", \"2018-09-01T00:00:00\", \"2018-09-01T00:00:00\", \"2018-09-01T00:00:00\", \"2018-09-01T00:00:00\", \"2018-09-01T00:00:00\", \"2018-09-01T00:00:00\", \"2018-09-01T00:00:00\", \"2018-09-01T00:00:00\", \"2018-09-01T00:00:00\", \"2018-09-01T00:00:00\", \"2018-09-01T00:00:00\", \"2018-09-01T00:00:00\", \"2018-09-01T00:00:00\", \"2018-09-01T00:00:00\", \"2018-09-01T00:00:00\", \"2018-09-01T00:00:00\", \"2018-09-01T00:00:00\", \"2018-09-01T00:00:00\", \"2018-09-01T00:00:00\", \"2018-09-01T00:00:00\", \"2018-09-01T00:00:00\", \"2018-09-01T00:00:00\", \"2018-09-01T00:00:00\", \"2018-09-01T00:00:00\", \"2018-09-01T00:00:00\", \"2018-09-01T00:00:00\", \"2018-09-01T00:00:00\", \"2018-09-01T00:00:00\", \"2018-09-01T00:00:00\", \"2018-09-01T00:00:00\", \"2018-09-01T00:00:00\", \"2018-09-01T00:00:00\", \"2018-09-01T00:00:00\", \"2018-09-01T00:00:00\", \"2018-09-01T00:00:00\", \"2018-09-01T00:00:00\", \"2018-09-01T00:00:00\", \"2018-09-01T00:00:00\", \"2018-09-01T00:00:00\", \"2018-09-01T00:00:00\", \"2018-09-01T00:00:00\", \"2018-09-01T00:00:00\", \"2018-09-01T00:00:00\", \"2018-09-01T00:00:00\", \"2018-09-01T00:00:00\", \"2018-09-01T00:00:00\", \"2018-09-01T00:00:00\", \"2018-09-01T00:00:00\", \"2018-09-01T00:00:00\", \"2018-09-01T00:00:00\", \"2018-09-01T00:00:00\", \"2018-09-01T00:00:00\", \"2018-09-01T00:00:00\", \"2018-09-01T00:00:00\", \"2018-09-01T00:00:00\", \"2018-09-01T00:00:00\", \"2018-09-01T00:00:00\", \"2018-09-01T00:00:00\", \"2018-09-01T00:00:00\", \"2018-09-01T00:00:00\", \"2018-09-01T00:00:00\", \"2018-09-01T00:00:00\", \"2018-09-01T00:00:00\", \"2018-09-01T00:00:00\", \"2018-09-01T00:00:00\", \"2018-09-01T00:00:00\", \"2018-09-01T00:00:00\", \"2018-09-01T00:00:00\", \"2018-09-01T00:00:00\", \"2018-09-01T00:00:00\", \"2018-09-01T00:00:00\", \"2018-09-01T00:00:00\", \"2018-10-01T00:00:00\", \"2018-10-01T00:00:00\", \"2018-10-01T00:00:00\", \"2018-10-01T00:00:00\", \"2018-10-01T00:00:00\", \"2018-10-01T00:00:00\", \"2018-10-01T00:00:00\", \"2018-10-01T00:00:00\", \"2018-10-01T00:00:00\", \"2018-10-01T00:00:00\", \"2018-10-01T00:00:00\", \"2018-10-01T00:00:00\", \"2018-10-01T00:00:00\", \"2018-10-01T00:00:00\", \"2018-10-01T00:00:00\", \"2018-10-01T00:00:00\", \"2018-10-01T00:00:00\", \"2018-10-01T00:00:00\", \"2018-10-01T00:00:00\", \"2018-10-01T00:00:00\", \"2018-10-01T00:00:00\", \"2018-10-01T00:00:00\", \"2018-10-01T00:00:00\", \"2018-10-01T00:00:00\", \"2018-10-01T00:00:00\", \"2018-10-01T00:00:00\", \"2018-10-01T00:00:00\", \"2018-10-01T00:00:00\", \"2018-10-01T00:00:00\", \"2018-10-01T00:00:00\", \"2018-10-01T00:00:00\", \"2018-10-01T00:00:00\", \"2018-10-01T00:00:00\", \"2018-10-01T00:00:00\", \"2018-10-01T00:00:00\", \"2018-10-01T00:00:00\", \"2018-10-01T00:00:00\", \"2018-10-01T00:00:00\", \"2018-10-01T00:00:00\", \"2018-10-01T00:00:00\", \"2018-10-01T00:00:00\", \"2018-10-01T00:00:00\", \"2018-10-01T00:00:00\", \"2018-10-01T00:00:00\", \"2018-10-01T00:00:00\", \"2018-10-01T00:00:00\", \"2018-10-01T00:00:00\", \"2018-10-01T00:00:00\", \"2018-10-01T00:00:00\", \"2018-10-01T00:00:00\", \"2018-10-01T00:00:00\", \"2018-10-01T00:00:00\", \"2018-10-01T00:00:00\", \"2018-10-01T00:00:00\", \"2018-10-01T00:00:00\", \"2018-10-01T00:00:00\", \"2018-10-01T00:00:00\", \"2018-10-01T00:00:00\", \"2018-10-01T00:00:00\", \"2018-10-01T00:00:00\", \"2018-10-01T00:00:00\", \"2018-10-01T00:00:00\", \"2018-10-01T00:00:00\", \"2018-10-01T00:00:00\", \"2018-10-01T00:00:00\", \"2018-10-01T00:00:00\", \"2018-10-01T00:00:00\", \"2018-10-01T00:00:00\", \"2018-10-01T00:00:00\", \"2018-10-01T00:00:00\", \"2018-10-01T00:00:00\", \"2018-10-01T00:00:00\", \"2018-10-01T00:00:00\", \"2018-10-01T00:00:00\", \"2018-10-01T00:00:00\", \"2018-10-01T00:00:00\", \"2018-10-01T00:00:00\", \"2018-10-01T00:00:00\", \"2018-10-01T00:00:00\", \"2018-10-01T00:00:00\", \"2018-10-01T00:00:00\", \"2018-10-01T00:00:00\", \"2018-10-01T00:00:00\", \"2018-10-01T00:00:00\", \"2018-10-01T00:00:00\", \"2018-10-01T00:00:00\", \"2018-10-01T00:00:00\", \"2018-10-01T00:00:00\", \"2018-10-01T00:00:00\", \"2018-10-01T00:00:00\", \"2018-10-01T00:00:00\", \"2018-10-01T00:00:00\", \"2018-10-01T00:00:00\", \"2018-10-01T00:00:00\", \"2018-10-01T00:00:00\", \"2018-10-01T00:00:00\", \"2018-10-01T00:00:00\", \"2018-10-01T00:00:00\", \"2018-10-01T00:00:00\", \"2018-10-01T00:00:00\", \"2018-10-01T00:00:00\", \"2018-10-01T00:00:00\", \"2018-10-01T00:00:00\", \"2018-10-01T00:00:00\", \"2018-10-01T00:00:00\", \"2018-10-01T00:00:00\", \"2018-10-01T00:00:00\", \"2018-10-01T00:00:00\", \"2018-10-01T00:00:00\", \"2018-10-01T00:00:00\", \"2018-10-01T00:00:00\", \"2018-10-01T00:00:00\", \"2018-10-01T00:00:00\", \"2018-10-01T00:00:00\", \"2018-10-01T00:00:00\", \"2018-10-01T00:00:00\", \"2018-10-01T00:00:00\", \"2018-10-01T00:00:00\", \"2018-10-01T00:00:00\", \"2018-10-01T00:00:00\", \"2018-10-01T00:00:00\", \"2018-10-01T00:00:00\", \"2018-10-01T00:00:00\", \"2018-10-01T00:00:00\", \"2018-10-01T00:00:00\", \"2018-10-01T00:00:00\", \"2018-10-01T00:00:00\", \"2018-10-01T00:00:00\", \"2018-10-01T00:00:00\", \"2018-10-01T00:00:00\", \"2018-10-01T00:00:00\", \"2018-10-01T00:00:00\", \"2018-10-01T00:00:00\", \"2018-10-01T00:00:00\", \"2018-10-01T00:00:00\", \"2018-10-01T00:00:00\", \"2018-10-01T00:00:00\", \"2018-10-01T00:00:00\", \"2018-10-01T00:00:00\", \"2018-10-01T00:00:00\", \"2018-10-01T00:00:00\", \"2018-10-01T00:00:00\", \"2018-10-01T00:00:00\", \"2018-10-01T00:00:00\", \"2018-10-01T00:00:00\", \"2018-10-01T00:00:00\", \"2018-10-01T00:00:00\", \"2018-10-01T00:00:00\", \"2018-10-01T00:00:00\", \"2018-10-01T00:00:00\", \"2018-10-01T00:00:00\", \"2018-10-01T00:00:00\", \"2018-10-01T00:00:00\", \"2018-10-01T00:00:00\", \"2018-10-01T00:00:00\", \"2018-10-01T00:00:00\", \"2018-10-01T00:00:00\", \"2018-10-01T00:00:00\", \"2018-10-01T00:00:00\", \"2018-10-01T00:00:00\", \"2018-10-01T00:00:00\", \"2018-10-01T00:00:00\", \"2018-10-01T00:00:00\", \"2018-10-01T00:00:00\", \"2018-10-01T00:00:00\", \"2018-10-01T00:00:00\", \"2018-10-01T00:00:00\", \"2018-10-01T00:00:00\", \"2018-10-01T00:00:00\", \"2018-10-01T00:00:00\", \"2018-10-01T00:00:00\", \"2018-10-01T00:00:00\", \"2018-10-01T00:00:00\", \"2018-10-01T00:00:00\", \"2018-10-01T00:00:00\", \"2018-10-01T00:00:00\", \"2018-10-01T00:00:00\", \"2018-10-01T00:00:00\", \"2018-10-01T00:00:00\", \"2018-10-01T00:00:00\", \"2018-10-01T00:00:00\", \"2018-10-01T00:00:00\", \"2018-10-01T00:00:00\", \"2018-10-01T00:00:00\", \"2018-10-01T00:00:00\", \"2018-10-01T00:00:00\", \"2018-10-01T00:00:00\", \"2018-10-01T00:00:00\", \"2018-10-01T00:00:00\", \"2018-10-01T00:00:00\", \"2018-10-01T00:00:00\", \"2018-10-01T00:00:00\", \"2018-10-01T00:00:00\", \"2018-10-01T00:00:00\", \"2018-10-01T00:00:00\", \"2018-10-01T00:00:00\", \"2018-10-01T00:00:00\", \"2018-10-01T00:00:00\", \"2018-10-01T00:00:00\", \"2018-10-01T00:00:00\", \"2018-10-01T00:00:00\", \"2018-10-01T00:00:00\", \"2018-10-01T00:00:00\", \"2018-10-01T00:00:00\", \"2018-10-01T00:00:00\", \"2018-10-01T00:00:00\", \"2018-10-01T00:00:00\", \"2018-10-01T00:00:00\", \"2018-10-01T00:00:00\", \"2018-10-01T00:00:00\", \"2018-10-01T00:00:00\", \"2018-10-01T00:00:00\", \"2018-10-01T00:00:00\", \"2018-10-01T00:00:00\", \"2018-10-01T00:00:00\", \"2018-10-01T00:00:00\", \"2018-10-01T00:00:00\", \"2018-10-01T00:00:00\", \"2018-10-01T00:00:00\", \"2018-10-01T00:00:00\", \"2018-10-01T00:00:00\", \"2018-10-01T00:00:00\", \"2018-10-01T00:00:00\", \"2018-10-01T00:00:00\", \"2018-10-01T00:00:00\", \"2018-10-01T00:00:00\", \"2018-10-01T00:00:00\", \"2018-10-01T00:00:00\", \"2018-10-01T00:00:00\", \"2018-10-01T00:00:00\", \"2018-10-01T00:00:00\", \"2018-10-01T00:00:00\", \"2018-10-01T00:00:00\", \"2018-10-01T00:00:00\", \"2018-10-01T00:00:00\", \"2018-10-01T00:00:00\", \"2018-10-01T00:00:00\", \"2018-10-01T00:00:00\", \"2018-10-01T00:00:00\", \"2018-10-01T00:00:00\", \"2018-10-01T00:00:00\", \"2018-10-01T00:00:00\", \"2018-10-01T00:00:00\", \"2018-10-01T00:00:00\", \"2018-10-01T00:00:00\", \"2018-10-01T00:00:00\", \"2018-10-01T00:00:00\", \"2018-10-01T00:00:00\", \"2018-10-01T00:00:00\", \"2018-10-01T00:00:00\", \"2018-10-01T00:00:00\", \"2018-10-01T00:00:00\", \"2018-10-01T00:00:00\", \"2018-10-01T00:00:00\", \"2018-10-01T00:00:00\", \"2018-10-01T00:00:00\", \"2018-10-01T00:00:00\", \"2018-10-01T00:00:00\", \"2018-10-01T00:00:00\", \"2018-10-01T00:00:00\", \"2018-10-01T00:00:00\", \"2018-10-01T00:00:00\", \"2018-10-01T00:00:00\", \"2018-10-01T00:00:00\", \"2018-10-01T00:00:00\", \"2018-11-01T00:00:00\", \"2018-11-01T00:00:00\", \"2018-11-01T00:00:00\", \"2018-11-01T00:00:00\", \"2018-11-01T00:00:00\", \"2018-11-01T00:00:00\", \"2018-11-01T00:00:00\", \"2018-11-01T00:00:00\", \"2018-11-01T00:00:00\", \"2018-11-01T00:00:00\", \"2018-11-01T00:00:00\", \"2018-11-01T00:00:00\", \"2018-11-01T00:00:00\", \"2018-11-01T00:00:00\", \"2018-11-01T00:00:00\", \"2018-11-01T00:00:00\", \"2018-11-01T00:00:00\", \"2018-11-01T00:00:00\", \"2018-11-01T00:00:00\", \"2018-11-01T00:00:00\", \"2018-11-01T00:00:00\", \"2018-11-01T00:00:00\", \"2018-11-01T00:00:00\", \"2018-11-01T00:00:00\", \"2018-11-01T00:00:00\", \"2018-11-01T00:00:00\", \"2018-11-01T00:00:00\", \"2018-11-01T00:00:00\", \"2018-11-01T00:00:00\", \"2018-11-01T00:00:00\", \"2018-11-01T00:00:00\", \"2018-11-01T00:00:00\", \"2018-11-01T00:00:00\", \"2018-11-01T00:00:00\", \"2018-11-01T00:00:00\", \"2018-11-01T00:00:00\", \"2018-11-01T00:00:00\", \"2018-11-01T00:00:00\", \"2018-11-01T00:00:00\", \"2018-11-01T00:00:00\", \"2018-11-01T00:00:00\", \"2018-11-01T00:00:00\", \"2018-11-01T00:00:00\", \"2018-11-01T00:00:00\", \"2018-11-01T00:00:00\", \"2018-11-01T00:00:00\", \"2018-11-01T00:00:00\", \"2018-11-01T00:00:00\", \"2018-11-01T00:00:00\", \"2018-11-01T00:00:00\", \"2018-11-01T00:00:00\", \"2018-11-01T00:00:00\", \"2018-11-01T00:00:00\", \"2018-11-01T00:00:00\", \"2018-11-01T00:00:00\", \"2018-11-01T00:00:00\", \"2018-11-01T00:00:00\", \"2018-11-01T00:00:00\", \"2018-11-01T00:00:00\", \"2018-11-01T00:00:00\", \"2018-11-01T00:00:00\", \"2018-11-01T00:00:00\", \"2018-11-01T00:00:00\", \"2018-11-01T00:00:00\", \"2018-11-01T00:00:00\", \"2018-11-01T00:00:00\", \"2018-11-01T00:00:00\", \"2018-11-01T00:00:00\", \"2018-11-01T00:00:00\", \"2018-11-01T00:00:00\", \"2018-11-01T00:00:00\", \"2018-11-01T00:00:00\", \"2018-11-01T00:00:00\", \"2018-11-01T00:00:00\", \"2018-11-01T00:00:00\", \"2018-11-01T00:00:00\", \"2018-11-01T00:00:00\", \"2018-11-01T00:00:00\", \"2018-11-01T00:00:00\", \"2018-11-01T00:00:00\", \"2018-11-01T00:00:00\", \"2018-11-01T00:00:00\", \"2018-11-01T00:00:00\", \"2018-11-01T00:00:00\", \"2018-11-01T00:00:00\", \"2018-11-01T00:00:00\", \"2018-11-01T00:00:00\", \"2018-11-01T00:00:00\", \"2018-11-01T00:00:00\", \"2018-11-01T00:00:00\", \"2018-11-01T00:00:00\", \"2018-11-01T00:00:00\", \"2018-11-01T00:00:00\", \"2018-11-01T00:00:00\", \"2018-11-01T00:00:00\", \"2018-11-01T00:00:00\", \"2018-11-01T00:00:00\", \"2018-11-01T00:00:00\", \"2018-11-01T00:00:00\", \"2018-11-01T00:00:00\", \"2018-11-01T00:00:00\", \"2018-11-01T00:00:00\", \"2018-11-01T00:00:00\", \"2018-11-01T00:00:00\", \"2018-11-01T00:00:00\", \"2018-11-01T00:00:00\", \"2018-11-01T00:00:00\", \"2018-11-01T00:00:00\", \"2018-11-01T00:00:00\", \"2018-11-01T00:00:00\", \"2018-11-01T00:00:00\", \"2018-11-01T00:00:00\", \"2018-11-01T00:00:00\", \"2018-11-01T00:00:00\", \"2018-11-01T00:00:00\", \"2018-11-01T00:00:00\", \"2018-11-01T00:00:00\", \"2018-11-01T00:00:00\", \"2018-11-01T00:00:00\", \"2018-11-01T00:00:00\", \"2018-11-01T00:00:00\", \"2018-11-01T00:00:00\", \"2018-11-01T00:00:00\", \"2018-11-01T00:00:00\", \"2018-11-01T00:00:00\", \"2018-11-01T00:00:00\", \"2018-11-01T00:00:00\", \"2018-11-01T00:00:00\", \"2018-11-01T00:00:00\", \"2018-11-01T00:00:00\", \"2018-11-01T00:00:00\", \"2018-11-01T00:00:00\", \"2018-11-01T00:00:00\", \"2018-11-01T00:00:00\", \"2018-11-01T00:00:00\", \"2018-11-01T00:00:00\", \"2018-11-01T00:00:00\", \"2018-11-01T00:00:00\", \"2018-11-01T00:00:00\", \"2018-11-01T00:00:00\", \"2018-11-01T00:00:00\", \"2018-11-01T00:00:00\", \"2018-11-01T00:00:00\", \"2018-11-01T00:00:00\", \"2018-11-01T00:00:00\", \"2018-11-01T00:00:00\", \"2018-11-01T00:00:00\", \"2018-11-01T00:00:00\", \"2018-11-01T00:00:00\", \"2018-11-01T00:00:00\", \"2018-11-01T00:00:00\", \"2018-11-01T00:00:00\", \"2018-11-01T00:00:00\", \"2018-11-01T00:00:00\", \"2018-11-01T00:00:00\", \"2018-11-01T00:00:00\", \"2018-11-01T00:00:00\", \"2018-11-01T00:00:00\", \"2018-11-01T00:00:00\", \"2018-11-01T00:00:00\", \"2018-11-01T00:00:00\", \"2018-11-01T00:00:00\", \"2018-11-01T00:00:00\", \"2018-11-01T00:00:00\", \"2018-11-01T00:00:00\", \"2018-11-01T00:00:00\", \"2018-11-01T00:00:00\", \"2018-11-01T00:00:00\", \"2018-11-01T00:00:00\", \"2018-11-01T00:00:00\", \"2018-11-01T00:00:00\", \"2018-11-01T00:00:00\", \"2018-11-01T00:00:00\", \"2018-11-01T00:00:00\", \"2018-11-01T00:00:00\", \"2018-11-01T00:00:00\", \"2018-11-01T00:00:00\", \"2018-11-01T00:00:00\", \"2018-11-01T00:00:00\", \"2018-11-01T00:00:00\", \"2018-11-01T00:00:00\", \"2018-11-01T00:00:00\", \"2018-11-01T00:00:00\", \"2018-11-01T00:00:00\", \"2018-11-01T00:00:00\", \"2018-11-01T00:00:00\", \"2018-11-01T00:00:00\", \"2018-11-01T00:00:00\", \"2018-11-01T00:00:00\", \"2018-11-01T00:00:00\", \"2018-11-01T00:00:00\", \"2018-11-01T00:00:00\", \"2018-11-01T00:00:00\", \"2018-11-01T00:00:00\", \"2018-11-01T00:00:00\", \"2018-11-01T00:00:00\", \"2018-11-01T00:00:00\", \"2018-11-01T00:00:00\", \"2018-11-01T00:00:00\", \"2018-11-01T00:00:00\", \"2018-11-01T00:00:00\", \"2018-11-01T00:00:00\", \"2018-11-01T00:00:00\", \"2018-11-01T00:00:00\", \"2018-11-01T00:00:00\", \"2018-11-01T00:00:00\", \"2018-11-01T00:00:00\", \"2018-11-01T00:00:00\", \"2018-11-01T00:00:00\", \"2018-11-01T00:00:00\", \"2018-11-01T00:00:00\", \"2018-11-01T00:00:00\", \"2018-11-01T00:00:00\", \"2018-11-01T00:00:00\", \"2018-11-01T00:00:00\", \"2018-11-01T00:00:00\", \"2018-11-01T00:00:00\", \"2018-11-01T00:00:00\", \"2018-11-01T00:00:00\", \"2018-11-01T00:00:00\", \"2018-11-01T00:00:00\", \"2018-11-01T00:00:00\", \"2018-11-01T00:00:00\", \"2018-11-01T00:00:00\", \"2018-11-01T00:00:00\", \"2018-11-01T00:00:00\", \"2018-11-01T00:00:00\", \"2018-11-01T00:00:00\", \"2018-11-01T00:00:00\", \"2018-11-01T00:00:00\", \"2018-11-01T00:00:00\", \"2018-11-01T00:00:00\", \"2018-11-01T00:00:00\", \"2018-11-01T00:00:00\", \"2018-11-01T00:00:00\", \"2018-11-01T00:00:00\", \"2018-11-01T00:00:00\", \"2018-11-01T00:00:00\", \"2018-11-01T00:00:00\", \"2018-11-01T00:00:00\", \"2018-11-01T00:00:00\", \"2018-11-01T00:00:00\", \"2018-11-01T00:00:00\", \"2018-11-01T00:00:00\", \"2018-11-01T00:00:00\", \"2018-11-01T00:00:00\", \"2018-11-01T00:00:00\", \"2018-11-01T00:00:00\", \"2018-11-01T00:00:00\", \"2018-11-01T00:00:00\", \"2018-11-01T00:00:00\", \"2018-11-01T00:00:00\", \"2018-11-01T00:00:00\", \"2018-11-01T00:00:00\", \"2018-11-01T00:00:00\", \"2018-11-01T00:00:00\", \"2018-11-01T00:00:00\", \"2018-11-01T00:00:00\", \"2018-11-01T00:00:00\", \"2018-11-01T00:00:00\", \"2018-11-01T00:00:00\", \"2018-11-01T00:00:00\", \"2018-11-01T00:00:00\", \"2018-11-01T00:00:00\", \"2018-12-01T00:00:00\", \"2018-12-01T00:00:00\", \"2018-12-01T00:00:00\", \"2018-12-01T00:00:00\", \"2018-12-01T00:00:00\", \"2018-12-01T00:00:00\", \"2018-12-01T00:00:00\", \"2018-12-01T00:00:00\", \"2018-12-01T00:00:00\", \"2018-12-01T00:00:00\", \"2018-12-01T00:00:00\", \"2018-12-01T00:00:00\", \"2018-12-01T00:00:00\", \"2018-12-01T00:00:00\", \"2018-12-01T00:00:00\", \"2018-12-01T00:00:00\", \"2018-12-01T00:00:00\", \"2018-12-01T00:00:00\", \"2018-12-01T00:00:00\", \"2018-12-01T00:00:00\", \"2018-12-01T00:00:00\", \"2018-12-01T00:00:00\", \"2018-12-01T00:00:00\", \"2018-12-01T00:00:00\", \"2018-12-01T00:00:00\", \"2018-12-01T00:00:00\", \"2018-12-01T00:00:00\", \"2018-12-01T00:00:00\", \"2018-12-01T00:00:00\", \"2018-12-01T00:00:00\", \"2018-12-01T00:00:00\", \"2018-12-01T00:00:00\", \"2018-12-01T00:00:00\", \"2018-12-01T00:00:00\", \"2018-12-01T00:00:00\", \"2018-12-01T00:00:00\", \"2018-12-01T00:00:00\", \"2018-12-01T00:00:00\", \"2018-12-01T00:00:00\", \"2018-12-01T00:00:00\", \"2018-12-01T00:00:00\", \"2018-12-01T00:00:00\", \"2018-12-01T00:00:00\", \"2018-12-01T00:00:00\", \"2018-12-01T00:00:00\", \"2018-12-01T00:00:00\", \"2018-12-01T00:00:00\", \"2018-12-01T00:00:00\", \"2018-12-01T00:00:00\", \"2018-12-01T00:00:00\", \"2018-12-01T00:00:00\", \"2018-12-01T00:00:00\", \"2018-12-01T00:00:00\", \"2018-12-01T00:00:00\", \"2018-12-01T00:00:00\", \"2018-12-01T00:00:00\", \"2018-12-01T00:00:00\", \"2018-12-01T00:00:00\", \"2018-12-01T00:00:00\", \"2018-12-01T00:00:00\", \"2018-12-01T00:00:00\", \"2018-12-01T00:00:00\", \"2018-12-01T00:00:00\", \"2018-12-01T00:00:00\", \"2018-12-01T00:00:00\", \"2018-12-01T00:00:00\", \"2018-12-01T00:00:00\", \"2018-12-01T00:00:00\", \"2018-12-01T00:00:00\", \"2018-12-01T00:00:00\", \"2018-12-01T00:00:00\", \"2018-12-01T00:00:00\", \"2018-12-01T00:00:00\", \"2018-12-01T00:00:00\", \"2018-12-01T00:00:00\", \"2018-12-01T00:00:00\", \"2018-12-01T00:00:00\", \"2018-12-01T00:00:00\", \"2018-12-01T00:00:00\", \"2018-12-01T00:00:00\", \"2018-12-01T00:00:00\", \"2018-12-01T00:00:00\", \"2018-12-01T00:00:00\", \"2018-12-01T00:00:00\", \"2018-12-01T00:00:00\", \"2018-12-01T00:00:00\", \"2018-12-01T00:00:00\", \"2018-12-01T00:00:00\", \"2018-12-01T00:00:00\", \"2018-12-01T00:00:00\", \"2018-12-01T00:00:00\", \"2018-12-01T00:00:00\", \"2018-12-01T00:00:00\", \"2018-12-01T00:00:00\", \"2018-12-01T00:00:00\", \"2018-12-01T00:00:00\", \"2018-12-01T00:00:00\", \"2018-12-01T00:00:00\", \"2018-12-01T00:00:00\", \"2018-12-01T00:00:00\", \"2018-12-01T00:00:00\", \"2018-12-01T00:00:00\", \"2018-12-01T00:00:00\", \"2018-12-01T00:00:00\", \"2018-12-01T00:00:00\", \"2018-12-01T00:00:00\", \"2018-12-01T00:00:00\", \"2018-12-01T00:00:00\", \"2018-12-01T00:00:00\", \"2018-12-01T00:00:00\", \"2018-12-01T00:00:00\", \"2018-12-01T00:00:00\", \"2018-12-01T00:00:00\", \"2018-12-01T00:00:00\", \"2018-12-01T00:00:00\", \"2018-12-01T00:00:00\", \"2018-12-01T00:00:00\", \"2018-12-01T00:00:00\", \"2018-12-01T00:00:00\", \"2018-12-01T00:00:00\", \"2018-12-01T00:00:00\", \"2018-12-01T00:00:00\", \"2018-12-01T00:00:00\", \"2018-12-01T00:00:00\", \"2018-12-01T00:00:00\", \"2018-12-01T00:00:00\", \"2018-12-01T00:00:00\", \"2018-12-01T00:00:00\", \"2018-12-01T00:00:00\", \"2018-12-01T00:00:00\", \"2018-12-01T00:00:00\", \"2018-12-01T00:00:00\", \"2018-12-01T00:00:00\", \"2018-12-01T00:00:00\", \"2018-12-01T00:00:00\", \"2018-12-01T00:00:00\", \"2018-12-01T00:00:00\", \"2018-12-01T00:00:00\", \"2018-12-01T00:00:00\", \"2018-12-01T00:00:00\", \"2018-12-01T00:00:00\", \"2018-12-01T00:00:00\", \"2018-12-01T00:00:00\", \"2018-12-01T00:00:00\", \"2018-12-01T00:00:00\", \"2018-12-01T00:00:00\", \"2018-12-01T00:00:00\", \"2018-12-01T00:00:00\", \"2018-12-01T00:00:00\", \"2018-12-01T00:00:00\", \"2018-12-01T00:00:00\", \"2018-12-01T00:00:00\", \"2018-12-01T00:00:00\", \"2018-12-01T00:00:00\", \"2018-12-01T00:00:00\", \"2018-12-01T00:00:00\", \"2018-12-01T00:00:00\", \"2018-12-01T00:00:00\", \"2018-12-01T00:00:00\", \"2018-12-01T00:00:00\", \"2018-12-01T00:00:00\", \"2018-12-01T00:00:00\", \"2018-12-01T00:00:00\", \"2018-12-01T00:00:00\", \"2018-12-01T00:00:00\", \"2018-12-01T00:00:00\", \"2018-12-01T00:00:00\", \"2018-12-01T00:00:00\", \"2018-12-01T00:00:00\", \"2018-12-01T00:00:00\", \"2018-12-01T00:00:00\", \"2018-12-01T00:00:00\", \"2018-12-01T00:00:00\", \"2018-12-01T00:00:00\", \"2018-12-01T00:00:00\", \"2018-12-01T00:00:00\", \"2018-12-01T00:00:00\", \"2018-12-01T00:00:00\", \"2018-12-01T00:00:00\", \"2018-12-01T00:00:00\", \"2018-12-01T00:00:00\", \"2018-12-01T00:00:00\", \"2018-12-01T00:00:00\", \"2018-12-01T00:00:00\", \"2018-12-01T00:00:00\", \"2018-12-01T00:00:00\", \"2018-12-01T00:00:00\", \"2018-12-01T00:00:00\", \"2018-12-01T00:00:00\", \"2018-12-01T00:00:00\", \"2018-12-01T00:00:00\", \"2018-12-01T00:00:00\", \"2018-12-01T00:00:00\", \"2018-12-01T00:00:00\", \"2018-12-01T00:00:00\", \"2018-12-01T00:00:00\", \"2018-12-01T00:00:00\", \"2018-12-01T00:00:00\", \"2018-12-01T00:00:00\", \"2018-12-01T00:00:00\", \"2018-12-01T00:00:00\", \"2018-12-01T00:00:00\", \"2018-12-01T00:00:00\", \"2018-12-01T00:00:00\", \"2018-12-01T00:00:00\", \"2018-12-01T00:00:00\", \"2018-12-01T00:00:00\", \"2018-12-01T00:00:00\", \"2018-12-01T00:00:00\", \"2018-12-01T00:00:00\", \"2018-12-01T00:00:00\", \"2018-12-01T00:00:00\", \"2018-12-01T00:00:00\", \"2018-12-01T00:00:00\", \"2018-12-01T00:00:00\", \"2018-12-01T00:00:00\", \"2018-12-01T00:00:00\", \"2018-12-01T00:00:00\", \"2018-12-01T00:00:00\", \"2018-12-01T00:00:00\", \"2018-12-01T00:00:00\", \"2018-12-01T00:00:00\", \"2018-12-01T00:00:00\", \"2018-12-01T00:00:00\", \"2018-12-01T00:00:00\", \"2018-12-01T00:00:00\", \"2018-12-01T00:00:00\", \"2018-12-01T00:00:00\", \"2018-12-01T00:00:00\", \"2018-12-01T00:00:00\", \"2018-12-01T00:00:00\", \"2018-12-01T00:00:00\", \"2018-12-01T00:00:00\", \"2018-12-01T00:00:00\", \"2018-12-01T00:00:00\", \"2018-12-01T00:00:00\", \"2018-12-01T00:00:00\", \"2018-12-01T00:00:00\", \"2018-12-01T00:00:00\", \"2018-12-01T00:00:00\", \"2018-12-01T00:00:00\", \"2018-12-01T00:00:00\", \"2018-12-01T00:00:00\", \"2018-12-01T00:00:00\", \"2018-12-01T00:00:00\", \"2018-12-01T00:00:00\", \"2018-12-01T00:00:00\", \"2018-12-01T00:00:00\", \"2018-12-01T00:00:00\", \"2018-12-01T00:00:00\", \"2018-12-01T00:00:00\", \"2018-12-01T00:00:00\", \"2018-12-01T00:00:00\", \"2018-12-01T00:00:00\", \"2018-12-01T00:00:00\", \"2018-12-01T00:00:00\", \"2018-12-01T00:00:00\", \"2018-12-01T00:00:00\", \"2018-12-01T00:00:00\", \"2018-12-01T00:00:00\", \"2018-12-01T00:00:00\", \"2018-12-01T00:00:00\", \"2018-12-01T00:00:00\", \"2019-01-01T00:00:00\", \"2019-01-01T00:00:00\", \"2019-01-01T00:00:00\", \"2019-01-01T00:00:00\", \"2019-01-01T00:00:00\", \"2019-01-01T00:00:00\", \"2019-01-01T00:00:00\", \"2019-01-01T00:00:00\", \"2019-01-01T00:00:00\", \"2019-01-01T00:00:00\", \"2019-01-01T00:00:00\", \"2019-01-01T00:00:00\", \"2019-01-01T00:00:00\", \"2019-01-01T00:00:00\", \"2019-01-01T00:00:00\", \"2019-01-01T00:00:00\", \"2019-01-01T00:00:00\", \"2019-01-01T00:00:00\", \"2019-01-01T00:00:00\", \"2019-01-01T00:00:00\", \"2019-01-01T00:00:00\", \"2019-01-01T00:00:00\", \"2019-01-01T00:00:00\", \"2019-01-01T00:00:00\", \"2019-01-01T00:00:00\", \"2019-01-01T00:00:00\", \"2019-01-01T00:00:00\", \"2019-01-01T00:00:00\", \"2019-01-01T00:00:00\", \"2019-01-01T00:00:00\", \"2019-01-01T00:00:00\", \"2019-01-01T00:00:00\", \"2019-01-01T00:00:00\", \"2019-01-01T00:00:00\", \"2019-01-01T00:00:00\", \"2019-01-01T00:00:00\", \"2019-01-01T00:00:00\", \"2019-01-01T00:00:00\", \"2019-01-01T00:00:00\", \"2019-01-01T00:00:00\", \"2019-01-01T00:00:00\", \"2019-01-01T00:00:00\", \"2019-01-01T00:00:00\", \"2019-01-01T00:00:00\", \"2019-01-01T00:00:00\", \"2019-01-01T00:00:00\", \"2019-01-01T00:00:00\", \"2019-01-01T00:00:00\", \"2019-01-01T00:00:00\", \"2019-01-01T00:00:00\", \"2019-01-01T00:00:00\", \"2019-01-01T00:00:00\", \"2019-01-01T00:00:00\", \"2019-01-01T00:00:00\", \"2019-01-01T00:00:00\", \"2019-01-01T00:00:00\", \"2019-01-01T00:00:00\", \"2019-01-01T00:00:00\", \"2019-01-01T00:00:00\", \"2019-01-01T00:00:00\", \"2019-01-01T00:00:00\", \"2019-01-01T00:00:00\", \"2019-01-01T00:00:00\", \"2019-01-01T00:00:00\", \"2019-01-01T00:00:00\", \"2019-01-01T00:00:00\", \"2019-01-01T00:00:00\", \"2019-01-01T00:00:00\", \"2019-01-01T00:00:00\", \"2019-01-01T00:00:00\", \"2019-01-01T00:00:00\", \"2019-01-01T00:00:00\", \"2019-01-01T00:00:00\", \"2019-01-01T00:00:00\", \"2019-01-01T00:00:00\", \"2019-01-01T00:00:00\", \"2019-01-01T00:00:00\", \"2019-01-01T00:00:00\", \"2019-01-01T00:00:00\", \"2019-01-01T00:00:00\", \"2019-01-01T00:00:00\", \"2019-01-01T00:00:00\", \"2019-01-01T00:00:00\", \"2019-01-01T00:00:00\", \"2019-01-01T00:00:00\", \"2019-01-01T00:00:00\", \"2019-01-01T00:00:00\", \"2019-01-01T00:00:00\", \"2019-01-01T00:00:00\", \"2019-01-01T00:00:00\", \"2019-01-01T00:00:00\", \"2019-01-01T00:00:00\", \"2019-01-01T00:00:00\", \"2019-01-01T00:00:00\", \"2019-01-01T00:00:00\", \"2019-01-01T00:00:00\", \"2019-01-01T00:00:00\", \"2019-01-01T00:00:00\", \"2019-01-01T00:00:00\", \"2019-01-01T00:00:00\", \"2019-01-01T00:00:00\", \"2019-01-01T00:00:00\", \"2019-01-01T00:00:00\", \"2019-01-01T00:00:00\", \"2019-01-01T00:00:00\", \"2019-01-01T00:00:00\", \"2019-01-01T00:00:00\", \"2019-01-01T00:00:00\", \"2019-01-01T00:00:00\", \"2019-01-01T00:00:00\", \"2019-01-01T00:00:00\", \"2019-01-01T00:00:00\", \"2019-01-01T00:00:00\", \"2019-01-01T00:00:00\", \"2019-01-01T00:00:00\", \"2019-01-01T00:00:00\", \"2019-01-01T00:00:00\", \"2019-01-01T00:00:00\", \"2019-01-01T00:00:00\", \"2019-01-01T00:00:00\", \"2019-01-01T00:00:00\", \"2019-01-01T00:00:00\", \"2019-01-01T00:00:00\", \"2019-01-01T00:00:00\", \"2019-01-01T00:00:00\", \"2019-01-01T00:00:00\", \"2019-01-01T00:00:00\", \"2019-01-01T00:00:00\", \"2019-01-01T00:00:00\", \"2019-01-01T00:00:00\", \"2019-01-01T00:00:00\", \"2019-01-01T00:00:00\", \"2019-01-01T00:00:00\", \"2019-01-01T00:00:00\", \"2019-01-01T00:00:00\", \"2019-01-01T00:00:00\", \"2019-01-01T00:00:00\", \"2019-01-01T00:00:00\", \"2019-01-01T00:00:00\", \"2019-01-01T00:00:00\", \"2019-01-01T00:00:00\", \"2019-01-01T00:00:00\", \"2019-01-01T00:00:00\", \"2019-01-01T00:00:00\", \"2019-01-01T00:00:00\", \"2019-01-01T00:00:00\", \"2019-01-01T00:00:00\", \"2019-01-01T00:00:00\", \"2019-01-01T00:00:00\", \"2019-01-01T00:00:00\", \"2019-01-01T00:00:00\", \"2019-01-01T00:00:00\", \"2019-01-01T00:00:00\", \"2019-01-01T00:00:00\", \"2019-01-01T00:00:00\", \"2019-01-01T00:00:00\", \"2019-01-01T00:00:00\", \"2019-01-01T00:00:00\", \"2019-01-01T00:00:00\", \"2019-01-01T00:00:00\", \"2019-01-01T00:00:00\", \"2019-01-01T00:00:00\", \"2019-01-01T00:00:00\", \"2019-01-01T00:00:00\", \"2019-01-01T00:00:00\", \"2019-01-01T00:00:00\", \"2019-01-01T00:00:00\", \"2019-01-01T00:00:00\", \"2019-01-01T00:00:00\", \"2019-01-01T00:00:00\", \"2019-01-01T00:00:00\", \"2019-01-01T00:00:00\", \"2019-01-01T00:00:00\", \"2019-01-01T00:00:00\", \"2019-01-01T00:00:00\", \"2019-01-01T00:00:00\", \"2019-01-01T00:00:00\", \"2019-01-01T00:00:00\", \"2019-01-01T00:00:00\", \"2019-01-01T00:00:00\", \"2019-01-01T00:00:00\", \"2019-01-01T00:00:00\", \"2019-01-01T00:00:00\", \"2019-01-01T00:00:00\", \"2019-01-01T00:00:00\", \"2019-01-01T00:00:00\", \"2019-01-01T00:00:00\", \"2019-01-01T00:00:00\", \"2019-01-01T00:00:00\", \"2019-01-01T00:00:00\", \"2019-01-01T00:00:00\", \"2019-01-01T00:00:00\", \"2019-01-01T00:00:00\", \"2019-01-01T00:00:00\", \"2019-01-01T00:00:00\", \"2019-01-01T00:00:00\", \"2019-01-01T00:00:00\", \"2019-01-01T00:00:00\", \"2019-01-01T00:00:00\", \"2019-01-01T00:00:00\", \"2019-01-01T00:00:00\", \"2019-01-01T00:00:00\", \"2019-01-01T00:00:00\", \"2019-01-01T00:00:00\", \"2019-01-01T00:00:00\", \"2019-01-01T00:00:00\", \"2019-01-01T00:00:00\", \"2019-01-01T00:00:00\", \"2019-01-01T00:00:00\", \"2019-01-01T00:00:00\", \"2019-01-01T00:00:00\", \"2019-01-01T00:00:00\", \"2019-01-01T00:00:00\", \"2019-01-01T00:00:00\", \"2019-01-01T00:00:00\", \"2019-01-01T00:00:00\", \"2019-01-01T00:00:00\", \"2019-01-01T00:00:00\", \"2019-01-01T00:00:00\", \"2019-01-01T00:00:00\", \"2019-01-01T00:00:00\", \"2019-01-01T00:00:00\", \"2019-01-01T00:00:00\", \"2019-01-01T00:00:00\", \"2019-01-01T00:00:00\", \"2019-01-01T00:00:00\", \"2019-01-01T00:00:00\", \"2019-01-01T00:00:00\", \"2019-01-01T00:00:00\", \"2019-01-01T00:00:00\", \"2019-01-01T00:00:00\", \"2019-01-01T00:00:00\", \"2019-01-01T00:00:00\", \"2019-01-01T00:00:00\", \"2019-01-01T00:00:00\", \"2019-01-01T00:00:00\", \"2019-01-01T00:00:00\", \"2019-01-01T00:00:00\", \"2019-01-01T00:00:00\", \"2019-01-01T00:00:00\", \"2019-01-01T00:00:00\", \"2019-01-01T00:00:00\", \"2019-01-01T00:00:00\", \"2019-01-01T00:00:00\", \"2019-01-01T00:00:00\", \"2019-01-01T00:00:00\", \"2019-01-01T00:00:00\", \"2019-01-01T00:00:00\", \"2019-01-01T00:00:00\", \"2019-01-01T00:00:00\", \"2019-01-01T00:00:00\", \"2019-01-01T00:00:00\", \"2019-01-01T00:00:00\", \"2019-01-01T00:00:00\", \"2019-01-01T00:00:00\", \"2019-01-01T00:00:00\", \"2019-01-01T00:00:00\", \"2019-01-01T00:00:00\", \"2019-01-01T00:00:00\", \"2019-01-01T00:00:00\", \"2019-01-01T00:00:00\", \"2019-01-01T00:00:00\", \"2019-01-01T00:00:00\", \"2019-02-01T00:00:00\", \"2019-02-01T00:00:00\", \"2019-02-01T00:00:00\", \"2019-02-01T00:00:00\", \"2019-02-01T00:00:00\", \"2019-02-01T00:00:00\", \"2019-02-01T00:00:00\", \"2019-02-01T00:00:00\", \"2019-02-01T00:00:00\", \"2019-02-01T00:00:00\", \"2019-02-01T00:00:00\", \"2019-02-01T00:00:00\", \"2019-02-01T00:00:00\", \"2019-02-01T00:00:00\", \"2019-02-01T00:00:00\", \"2019-02-01T00:00:00\", \"2019-02-01T00:00:00\", \"2019-02-01T00:00:00\", \"2019-02-01T00:00:00\", \"2019-02-01T00:00:00\", \"2019-02-01T00:00:00\", \"2019-02-01T00:00:00\", \"2019-02-01T00:00:00\", \"2019-02-01T00:00:00\", \"2019-02-01T00:00:00\", \"2019-02-01T00:00:00\", \"2019-02-01T00:00:00\", \"2019-02-01T00:00:00\", \"2019-02-01T00:00:00\", \"2019-02-01T00:00:00\", \"2019-02-01T00:00:00\", \"2019-02-01T00:00:00\", \"2019-02-01T00:00:00\", \"2019-02-01T00:00:00\", \"2019-02-01T00:00:00\", \"2019-02-01T00:00:00\", \"2019-02-01T00:00:00\", \"2019-02-01T00:00:00\", \"2019-02-01T00:00:00\", \"2019-02-01T00:00:00\", \"2019-02-01T00:00:00\", \"2019-02-01T00:00:00\", \"2019-02-01T00:00:00\", \"2019-02-01T00:00:00\", \"2019-02-01T00:00:00\", \"2019-02-01T00:00:00\", \"2019-02-01T00:00:00\", \"2019-02-01T00:00:00\", \"2019-02-01T00:00:00\", \"2019-02-01T00:00:00\", \"2019-02-01T00:00:00\", \"2019-02-01T00:00:00\", \"2019-02-01T00:00:00\", \"2019-02-01T00:00:00\", \"2019-02-01T00:00:00\", \"2019-02-01T00:00:00\", \"2019-02-01T00:00:00\", \"2019-02-01T00:00:00\", \"2019-02-01T00:00:00\", \"2019-02-01T00:00:00\", \"2019-02-01T00:00:00\", \"2019-02-01T00:00:00\", \"2019-02-01T00:00:00\", \"2019-02-01T00:00:00\", \"2019-02-01T00:00:00\", \"2019-02-01T00:00:00\", \"2019-02-01T00:00:00\", \"2019-02-01T00:00:00\", \"2019-02-01T00:00:00\", \"2019-02-01T00:00:00\", \"2019-02-01T00:00:00\", \"2019-02-01T00:00:00\", \"2019-02-01T00:00:00\", \"2019-02-01T00:00:00\", \"2019-02-01T00:00:00\", \"2019-02-01T00:00:00\", \"2019-02-01T00:00:00\", \"2019-02-01T00:00:00\", \"2019-02-01T00:00:00\", \"2019-02-01T00:00:00\", \"2019-02-01T00:00:00\", \"2019-02-01T00:00:00\", \"2019-02-01T00:00:00\", \"2019-02-01T00:00:00\", \"2019-02-01T00:00:00\", \"2019-02-01T00:00:00\", \"2019-02-01T00:00:00\", \"2019-02-01T00:00:00\", \"2019-02-01T00:00:00\", \"2019-02-01T00:00:00\", \"2019-02-01T00:00:00\", \"2019-02-01T00:00:00\", \"2019-02-01T00:00:00\", \"2019-02-01T00:00:00\", \"2019-02-01T00:00:00\", \"2019-02-01T00:00:00\", \"2019-02-01T00:00:00\", \"2019-02-01T00:00:00\", \"2019-02-01T00:00:00\", \"2019-02-01T00:00:00\", \"2019-02-01T00:00:00\", \"2019-02-01T00:00:00\", \"2019-02-01T00:00:00\", \"2019-02-01T00:00:00\", \"2019-02-01T00:00:00\", \"2019-02-01T00:00:00\", \"2019-02-01T00:00:00\", \"2019-02-01T00:00:00\", \"2019-02-01T00:00:00\", \"2019-02-01T00:00:00\", \"2019-02-01T00:00:00\", \"2019-02-01T00:00:00\", \"2019-02-01T00:00:00\", \"2019-02-01T00:00:00\", \"2019-02-01T00:00:00\", \"2019-02-01T00:00:00\", \"2019-02-01T00:00:00\", \"2019-02-01T00:00:00\", \"2019-02-01T00:00:00\", \"2019-02-01T00:00:00\", \"2019-02-01T00:00:00\", \"2019-02-01T00:00:00\", \"2019-02-01T00:00:00\", \"2019-02-01T00:00:00\", \"2019-02-01T00:00:00\", \"2019-02-01T00:00:00\", \"2019-02-01T00:00:00\", \"2019-02-01T00:00:00\", \"2019-02-01T00:00:00\", \"2019-02-01T00:00:00\", \"2019-02-01T00:00:00\", \"2019-02-01T00:00:00\", \"2019-02-01T00:00:00\", \"2019-02-01T00:00:00\", \"2019-02-01T00:00:00\", \"2019-02-01T00:00:00\", \"2019-02-01T00:00:00\", \"2019-02-01T00:00:00\", \"2019-02-01T00:00:00\", \"2019-02-01T00:00:00\", \"2019-02-01T00:00:00\", \"2019-02-01T00:00:00\", \"2019-02-01T00:00:00\", \"2019-02-01T00:00:00\", \"2019-02-01T00:00:00\", \"2019-02-01T00:00:00\", \"2019-02-01T00:00:00\", \"2019-02-01T00:00:00\", \"2019-02-01T00:00:00\", \"2019-02-01T00:00:00\", \"2019-02-01T00:00:00\", \"2019-02-01T00:00:00\", \"2019-02-01T00:00:00\", \"2019-02-01T00:00:00\", \"2019-02-01T00:00:00\", \"2019-02-01T00:00:00\", \"2019-02-01T00:00:00\", \"2019-02-01T00:00:00\", \"2019-02-01T00:00:00\", \"2019-02-01T00:00:00\", \"2019-02-01T00:00:00\", \"2019-02-01T00:00:00\", \"2019-02-01T00:00:00\", \"2019-02-01T00:00:00\", \"2019-02-01T00:00:00\", \"2019-02-01T00:00:00\", \"2019-02-01T00:00:00\", \"2019-02-01T00:00:00\", \"2019-02-01T00:00:00\", \"2019-02-01T00:00:00\", \"2019-02-01T00:00:00\", \"2019-02-01T00:00:00\", \"2019-02-01T00:00:00\", \"2019-02-01T00:00:00\", \"2019-02-01T00:00:00\", \"2019-02-01T00:00:00\", \"2019-02-01T00:00:00\", \"2019-02-01T00:00:00\", \"2019-02-01T00:00:00\", \"2019-02-01T00:00:00\", \"2019-02-01T00:00:00\", \"2019-02-01T00:00:00\", \"2019-02-01T00:00:00\", \"2019-02-01T00:00:00\", \"2019-02-01T00:00:00\", \"2019-02-01T00:00:00\", \"2019-02-01T00:00:00\", \"2019-02-01T00:00:00\", \"2019-02-01T00:00:00\", \"2019-02-01T00:00:00\", \"2019-02-01T00:00:00\", \"2019-02-01T00:00:00\", \"2019-02-01T00:00:00\", \"2019-02-01T00:00:00\", \"2019-02-01T00:00:00\", \"2019-02-01T00:00:00\", \"2019-02-01T00:00:00\", \"2019-02-01T00:00:00\", \"2019-02-01T00:00:00\", \"2019-02-01T00:00:00\", \"2019-02-01T00:00:00\", \"2019-02-01T00:00:00\", \"2019-02-01T00:00:00\", \"2019-02-01T00:00:00\", \"2019-02-01T00:00:00\", \"2019-02-01T00:00:00\", \"2019-02-01T00:00:00\", \"2019-02-01T00:00:00\", \"2019-02-01T00:00:00\", \"2019-02-01T00:00:00\", \"2019-02-01T00:00:00\", \"2019-02-01T00:00:00\", \"2019-02-01T00:00:00\", \"2019-02-01T00:00:00\", \"2019-02-01T00:00:00\", \"2019-02-01T00:00:00\", \"2019-02-01T00:00:00\", \"2019-02-01T00:00:00\", \"2019-02-01T00:00:00\", \"2019-02-01T00:00:00\", \"2019-02-01T00:00:00\", \"2019-02-01T00:00:00\", \"2019-02-01T00:00:00\", \"2019-02-01T00:00:00\", \"2019-02-01T00:00:00\", \"2019-02-01T00:00:00\", \"2019-02-01T00:00:00\", \"2019-02-01T00:00:00\", \"2019-02-01T00:00:00\", \"2019-02-01T00:00:00\", \"2019-02-01T00:00:00\", \"2019-02-01T00:00:00\", \"2019-02-01T00:00:00\", \"2019-02-01T00:00:00\", \"2019-02-01T00:00:00\", \"2019-02-01T00:00:00\", \"2019-02-01T00:00:00\", \"2019-02-01T00:00:00\", \"2019-02-01T00:00:00\", \"2019-02-01T00:00:00\", \"2019-02-01T00:00:00\", \"2019-02-01T00:00:00\", \"2019-02-01T00:00:00\", \"2019-02-01T00:00:00\", \"2019-02-01T00:00:00\", \"2019-02-01T00:00:00\", \"2019-02-01T00:00:00\", \"2019-02-01T00:00:00\", \"2019-02-01T00:00:00\", \"2019-02-01T00:00:00\", \"2019-02-01T00:00:00\", \"2019-02-01T00:00:00\", \"2019-02-01T00:00:00\", \"2019-02-01T00:00:00\", \"2019-02-01T00:00:00\", \"2019-02-01T00:00:00\", \"2019-02-01T00:00:00\", \"2019-02-01T00:00:00\", \"2019-02-01T00:00:00\", \"2019-02-01T00:00:00\", \"2019-02-01T00:00:00\", \"2019-02-01T00:00:00\", \"2019-02-01T00:00:00\", \"2019-02-01T00:00:00\", \"2019-03-01T00:00:00\", \"2019-03-01T00:00:00\", \"2019-03-01T00:00:00\", \"2019-03-01T00:00:00\", \"2019-03-01T00:00:00\", \"2019-03-01T00:00:00\", \"2019-03-01T00:00:00\", \"2019-03-01T00:00:00\", \"2019-03-01T00:00:00\", \"2019-03-01T00:00:00\", \"2019-03-01T00:00:00\", \"2019-03-01T00:00:00\", \"2019-03-01T00:00:00\", \"2019-03-01T00:00:00\", \"2019-03-01T00:00:00\", \"2019-03-01T00:00:00\", \"2019-03-01T00:00:00\", \"2019-03-01T00:00:00\", \"2019-03-01T00:00:00\", \"2019-03-01T00:00:00\", \"2019-03-01T00:00:00\", \"2019-03-01T00:00:00\", \"2019-03-01T00:00:00\", \"2019-03-01T00:00:00\", \"2019-03-01T00:00:00\", \"2019-03-01T00:00:00\", \"2019-03-01T00:00:00\", \"2019-03-01T00:00:00\", \"2019-03-01T00:00:00\", \"2019-03-01T00:00:00\", \"2019-03-01T00:00:00\", \"2019-03-01T00:00:00\", \"2019-03-01T00:00:00\", \"2019-03-01T00:00:00\", \"2019-03-01T00:00:00\", \"2019-03-01T00:00:00\", \"2019-03-01T00:00:00\", \"2019-03-01T00:00:00\", \"2019-03-01T00:00:00\", \"2019-03-01T00:00:00\", \"2019-03-01T00:00:00\", \"2019-03-01T00:00:00\", \"2019-03-01T00:00:00\", \"2019-03-01T00:00:00\", \"2019-03-01T00:00:00\", \"2019-03-01T00:00:00\", \"2019-03-01T00:00:00\", \"2019-03-01T00:00:00\", \"2019-03-01T00:00:00\", \"2019-03-01T00:00:00\", \"2019-03-01T00:00:00\", \"2019-03-01T00:00:00\", \"2019-03-01T00:00:00\", \"2019-03-01T00:00:00\", \"2019-03-01T00:00:00\", \"2019-03-01T00:00:00\", \"2019-03-01T00:00:00\", \"2019-03-01T00:00:00\", \"2019-03-01T00:00:00\", \"2019-03-01T00:00:00\", \"2019-03-01T00:00:00\", \"2019-03-01T00:00:00\", \"2019-03-01T00:00:00\", \"2019-03-01T00:00:00\", \"2019-03-01T00:00:00\", \"2019-03-01T00:00:00\", \"2019-03-01T00:00:00\", \"2019-03-01T00:00:00\", \"2019-03-01T00:00:00\", \"2019-03-01T00:00:00\", \"2019-03-01T00:00:00\", \"2019-03-01T00:00:00\", \"2019-03-01T00:00:00\", \"2019-03-01T00:00:00\", \"2019-03-01T00:00:00\", \"2019-03-01T00:00:00\", \"2019-03-01T00:00:00\", \"2019-03-01T00:00:00\", \"2019-03-01T00:00:00\", \"2019-03-01T00:00:00\", \"2019-03-01T00:00:00\", \"2019-03-01T00:00:00\", \"2019-03-01T00:00:00\", \"2019-03-01T00:00:00\", \"2019-03-01T00:00:00\", \"2019-03-01T00:00:00\", \"2019-03-01T00:00:00\", \"2019-03-01T00:00:00\", \"2019-03-01T00:00:00\", \"2019-03-01T00:00:00\", \"2019-03-01T00:00:00\", \"2019-03-01T00:00:00\", \"2019-03-01T00:00:00\", \"2019-03-01T00:00:00\", \"2019-03-01T00:00:00\", \"2019-03-01T00:00:00\", \"2019-03-01T00:00:00\", \"2019-03-01T00:00:00\", \"2019-03-01T00:00:00\", \"2019-03-01T00:00:00\", \"2019-03-01T00:00:00\", \"2019-03-01T00:00:00\", \"2019-03-01T00:00:00\", \"2019-03-01T00:00:00\", \"2019-03-01T00:00:00\", \"2019-03-01T00:00:00\", \"2019-03-01T00:00:00\", \"2019-03-01T00:00:00\", \"2019-03-01T00:00:00\", \"2019-03-01T00:00:00\", \"2019-03-01T00:00:00\", \"2019-03-01T00:00:00\", \"2019-03-01T00:00:00\", \"2019-03-01T00:00:00\", \"2019-03-01T00:00:00\", \"2019-03-01T00:00:00\", \"2019-03-01T00:00:00\", \"2019-03-01T00:00:00\", \"2019-03-01T00:00:00\", \"2019-03-01T00:00:00\", \"2019-03-01T00:00:00\", \"2019-03-01T00:00:00\", \"2019-03-01T00:00:00\", \"2019-03-01T00:00:00\", \"2019-03-01T00:00:00\", \"2019-03-01T00:00:00\", \"2019-03-01T00:00:00\", \"2019-03-01T00:00:00\", \"2019-03-01T00:00:00\", \"2019-03-01T00:00:00\", \"2019-03-01T00:00:00\", \"2019-03-01T00:00:00\", \"2019-03-01T00:00:00\", \"2019-03-01T00:00:00\", \"2019-03-01T00:00:00\", \"2019-03-01T00:00:00\", \"2019-03-01T00:00:00\", \"2019-03-01T00:00:00\", \"2019-03-01T00:00:00\", \"2019-03-01T00:00:00\", \"2019-03-01T00:00:00\", \"2019-03-01T00:00:00\", \"2019-03-01T00:00:00\", \"2019-03-01T00:00:00\", \"2019-03-01T00:00:00\", \"2019-03-01T00:00:00\", \"2019-03-01T00:00:00\", \"2019-03-01T00:00:00\", \"2019-03-01T00:00:00\", \"2019-03-01T00:00:00\", \"2019-03-01T00:00:00\", \"2019-03-01T00:00:00\", \"2019-03-01T00:00:00\", \"2019-03-01T00:00:00\", \"2019-03-01T00:00:00\", \"2019-03-01T00:00:00\", \"2019-03-01T00:00:00\", \"2019-03-01T00:00:00\", \"2019-03-01T00:00:00\", \"2019-03-01T00:00:00\", \"2019-03-01T00:00:00\", \"2019-03-01T00:00:00\", \"2019-03-01T00:00:00\", \"2019-03-01T00:00:00\", \"2019-03-01T00:00:00\", \"2019-03-01T00:00:00\", \"2019-03-01T00:00:00\", \"2019-03-01T00:00:00\", \"2019-03-01T00:00:00\", \"2019-03-01T00:00:00\", \"2019-03-01T00:00:00\", \"2019-03-01T00:00:00\", \"2019-03-01T00:00:00\", \"2019-03-01T00:00:00\", \"2019-03-01T00:00:00\", \"2019-03-01T00:00:00\", \"2019-03-01T00:00:00\", \"2019-03-01T00:00:00\", \"2019-03-01T00:00:00\", \"2019-03-01T00:00:00\", \"2019-03-01T00:00:00\", \"2019-03-01T00:00:00\", \"2019-03-01T00:00:00\", \"2019-03-01T00:00:00\", \"2019-03-01T00:00:00\", \"2019-03-01T00:00:00\", \"2019-03-01T00:00:00\", \"2019-03-01T00:00:00\", \"2019-03-01T00:00:00\", \"2019-03-01T00:00:00\", \"2019-03-01T00:00:00\", \"2019-03-01T00:00:00\", \"2019-03-01T00:00:00\", \"2019-03-01T00:00:00\", \"2019-03-01T00:00:00\", \"2019-03-01T00:00:00\", \"2019-03-01T00:00:00\", \"2019-03-01T00:00:00\", \"2019-03-01T00:00:00\", \"2019-03-01T00:00:00\", \"2019-03-01T00:00:00\", \"2019-03-01T00:00:00\", \"2019-03-01T00:00:00\", \"2019-03-01T00:00:00\", \"2019-03-01T00:00:00\", \"2019-03-01T00:00:00\", \"2019-03-01T00:00:00\", \"2019-03-01T00:00:00\", \"2019-03-01T00:00:00\", \"2019-03-01T00:00:00\", \"2019-03-01T00:00:00\", \"2019-03-01T00:00:00\", \"2019-03-01T00:00:00\", \"2019-03-01T00:00:00\", \"2019-03-01T00:00:00\", \"2019-03-01T00:00:00\", \"2019-03-01T00:00:00\", \"2019-03-01T00:00:00\", \"2019-03-01T00:00:00\", \"2019-03-01T00:00:00\", \"2019-03-01T00:00:00\", \"2019-03-01T00:00:00\", \"2019-03-01T00:00:00\", \"2019-03-01T00:00:00\", \"2019-03-01T00:00:00\", \"2019-03-01T00:00:00\", \"2019-03-01T00:00:00\", \"2019-03-01T00:00:00\", \"2019-03-01T00:00:00\", \"2019-03-01T00:00:00\", \"2019-03-01T00:00:00\", \"2019-03-01T00:00:00\", \"2019-03-01T00:00:00\", \"2019-03-01T00:00:00\", \"2019-03-01T00:00:00\", \"2019-03-01T00:00:00\", \"2019-03-01T00:00:00\", \"2019-03-01T00:00:00\", \"2019-03-01T00:00:00\", \"2019-03-01T00:00:00\", \"2019-03-01T00:00:00\", \"2019-03-01T00:00:00\", \"2019-03-01T00:00:00\", \"2019-03-01T00:00:00\", \"2019-03-01T00:00:00\", \"2019-03-01T00:00:00\", \"2019-03-01T00:00:00\", \"2019-03-01T00:00:00\", \"2019-03-01T00:00:00\", \"2019-03-01T00:00:00\", \"2019-03-01T00:00:00\", \"2019-03-01T00:00:00\", \"2019-03-01T00:00:00\", \"2019-03-01T00:00:00\", \"2019-03-01T00:00:00\", \"2019-03-01T00:00:00\", \"2019-03-01T00:00:00\", \"2019-03-01T00:00:00\", \"2019-03-01T00:00:00\", \"2019-03-01T00:00:00\", \"2019-03-01T00:00:00\", \"2019-03-01T00:00:00\", \"2019-03-01T00:00:00\", \"2019-03-01T00:00:00\", \"2019-03-01T00:00:00\", \"2019-04-01T00:00:00\", \"2019-04-01T00:00:00\", \"2019-04-01T00:00:00\", \"2019-04-01T00:00:00\", \"2019-04-01T00:00:00\", \"2019-04-01T00:00:00\", \"2019-04-01T00:00:00\", \"2019-04-01T00:00:00\", \"2019-04-01T00:00:00\", \"2019-04-01T00:00:00\", \"2019-04-01T00:00:00\", \"2019-04-01T00:00:00\", \"2019-04-01T00:00:00\", \"2019-04-01T00:00:00\", \"2019-04-01T00:00:00\", \"2019-04-01T00:00:00\", \"2019-04-01T00:00:00\", \"2019-04-01T00:00:00\", \"2019-04-01T00:00:00\", \"2019-04-01T00:00:00\", \"2019-04-01T00:00:00\", \"2019-04-01T00:00:00\", \"2019-04-01T00:00:00\", \"2019-04-01T00:00:00\", \"2019-04-01T00:00:00\", \"2019-04-01T00:00:00\", \"2019-04-01T00:00:00\", \"2019-04-01T00:00:00\", \"2019-04-01T00:00:00\", \"2019-04-01T00:00:00\", \"2019-04-01T00:00:00\", \"2019-04-01T00:00:00\", \"2019-04-01T00:00:00\", \"2019-04-01T00:00:00\", \"2019-04-01T00:00:00\", \"2019-04-01T00:00:00\", \"2019-04-01T00:00:00\", \"2019-04-01T00:00:00\", \"2019-04-01T00:00:00\", \"2019-04-01T00:00:00\", \"2019-04-01T00:00:00\", \"2019-04-01T00:00:00\", \"2019-04-01T00:00:00\", \"2019-04-01T00:00:00\", \"2019-04-01T00:00:00\", \"2019-04-01T00:00:00\", \"2019-04-01T00:00:00\", \"2019-04-01T00:00:00\", \"2019-04-01T00:00:00\", \"2019-04-01T00:00:00\", \"2019-04-01T00:00:00\", \"2019-04-01T00:00:00\", \"2019-04-01T00:00:00\", \"2019-04-01T00:00:00\", \"2019-04-01T00:00:00\", \"2019-04-01T00:00:00\", \"2019-04-01T00:00:00\", \"2019-04-01T00:00:00\", \"2019-04-01T00:00:00\", \"2019-04-01T00:00:00\", \"2019-04-01T00:00:00\", \"2019-04-01T00:00:00\", \"2019-04-01T00:00:00\", \"2019-04-01T00:00:00\", \"2019-04-01T00:00:00\", \"2019-04-01T00:00:00\", \"2019-04-01T00:00:00\", \"2019-04-01T00:00:00\", \"2019-04-01T00:00:00\", \"2019-04-01T00:00:00\", \"2019-04-01T00:00:00\", \"2019-04-01T00:00:00\", \"2019-04-01T00:00:00\", \"2019-04-01T00:00:00\", \"2019-04-01T00:00:00\", \"2019-04-01T00:00:00\", \"2019-04-01T00:00:00\", \"2019-04-01T00:00:00\", \"2019-04-01T00:00:00\", \"2019-04-01T00:00:00\", \"2019-04-01T00:00:00\", \"2019-04-01T00:00:00\", \"2019-04-01T00:00:00\", \"2019-04-01T00:00:00\", \"2019-04-01T00:00:00\", \"2019-04-01T00:00:00\", \"2019-04-01T00:00:00\", \"2019-04-01T00:00:00\", \"2019-04-01T00:00:00\", \"2019-04-01T00:00:00\", \"2019-04-01T00:00:00\", \"2019-04-01T00:00:00\", \"2019-04-01T00:00:00\", \"2019-04-01T00:00:00\", \"2019-04-01T00:00:00\", \"2019-04-01T00:00:00\", \"2019-04-01T00:00:00\", \"2019-04-01T00:00:00\", \"2019-04-01T00:00:00\", \"2019-04-01T00:00:00\", \"2019-04-01T00:00:00\", \"2019-04-01T00:00:00\", \"2019-04-01T00:00:00\", \"2019-04-01T00:00:00\", \"2019-04-01T00:00:00\", \"2019-04-01T00:00:00\", \"2019-04-01T00:00:00\", \"2019-04-01T00:00:00\", \"2019-04-01T00:00:00\", \"2019-04-01T00:00:00\", \"2019-04-01T00:00:00\", \"2019-04-01T00:00:00\", \"2019-04-01T00:00:00\", \"2019-04-01T00:00:00\", \"2019-04-01T00:00:00\", \"2019-04-01T00:00:00\", \"2019-04-01T00:00:00\", \"2019-04-01T00:00:00\", \"2019-04-01T00:00:00\", \"2019-04-01T00:00:00\", \"2019-04-01T00:00:00\", \"2019-04-01T00:00:00\", \"2019-04-01T00:00:00\", \"2019-04-01T00:00:00\", \"2019-04-01T00:00:00\", \"2019-04-01T00:00:00\", \"2019-04-01T00:00:00\", \"2019-04-01T00:00:00\", \"2019-04-01T00:00:00\", \"2019-04-01T00:00:00\", \"2019-04-01T00:00:00\", \"2019-04-01T00:00:00\", \"2019-04-01T00:00:00\", \"2019-04-01T00:00:00\", \"2019-04-01T00:00:00\", \"2019-04-01T00:00:00\", \"2019-04-01T00:00:00\", \"2019-04-01T00:00:00\", \"2019-04-01T00:00:00\", \"2019-04-01T00:00:00\", \"2019-04-01T00:00:00\", \"2019-04-01T00:00:00\", \"2019-04-01T00:00:00\", \"2019-04-01T00:00:00\", \"2019-04-01T00:00:00\", \"2019-04-01T00:00:00\", \"2019-04-01T00:00:00\", \"2019-04-01T00:00:00\", \"2019-04-01T00:00:00\", \"2019-04-01T00:00:00\", \"2019-04-01T00:00:00\", \"2019-04-01T00:00:00\", \"2019-04-01T00:00:00\", \"2019-04-01T00:00:00\", \"2019-04-01T00:00:00\", \"2019-04-01T00:00:00\", \"2019-04-01T00:00:00\", \"2019-04-01T00:00:00\", \"2019-04-01T00:00:00\", \"2019-04-01T00:00:00\", \"2019-04-01T00:00:00\", \"2019-04-01T00:00:00\", \"2019-04-01T00:00:00\", \"2019-04-01T00:00:00\", \"2019-04-01T00:00:00\", \"2019-04-01T00:00:00\", \"2019-04-01T00:00:00\", \"2019-04-01T00:00:00\", \"2019-04-01T00:00:00\", \"2019-04-01T00:00:00\", \"2019-04-01T00:00:00\", \"2019-04-01T00:00:00\", \"2019-04-01T00:00:00\", \"2019-04-01T00:00:00\", \"2019-04-01T00:00:00\", \"2019-04-01T00:00:00\", \"2019-04-01T00:00:00\", \"2019-04-01T00:00:00\", \"2019-04-01T00:00:00\", \"2019-04-01T00:00:00\", \"2019-04-01T00:00:00\", \"2019-04-01T00:00:00\", \"2019-04-01T00:00:00\", \"2019-04-01T00:00:00\", \"2019-04-01T00:00:00\", \"2019-04-01T00:00:00\", \"2019-04-01T00:00:00\", \"2019-04-01T00:00:00\", \"2019-04-01T00:00:00\", \"2019-04-01T00:00:00\", \"2019-04-01T00:00:00\", \"2019-04-01T00:00:00\", \"2019-04-01T00:00:00\", \"2019-04-01T00:00:00\", \"2019-04-01T00:00:00\", \"2019-04-01T00:00:00\", \"2019-04-01T00:00:00\", \"2019-04-01T00:00:00\", \"2019-04-01T00:00:00\", \"2019-04-01T00:00:00\", \"2019-04-01T00:00:00\", \"2019-04-01T00:00:00\", \"2019-04-01T00:00:00\", \"2019-04-01T00:00:00\", \"2019-04-01T00:00:00\", \"2019-04-01T00:00:00\", \"2019-04-01T00:00:00\", \"2019-04-01T00:00:00\", \"2019-04-01T00:00:00\", \"2019-04-01T00:00:00\", \"2019-04-01T00:00:00\", \"2019-04-01T00:00:00\", \"2019-04-01T00:00:00\", \"2019-04-01T00:00:00\", \"2019-04-01T00:00:00\", \"2019-04-01T00:00:00\", \"2019-04-01T00:00:00\", \"2019-04-01T00:00:00\", \"2019-04-01T00:00:00\", \"2019-04-01T00:00:00\", \"2019-04-01T00:00:00\", \"2019-04-01T00:00:00\", \"2019-04-01T00:00:00\", \"2019-04-01T00:00:00\", \"2019-04-01T00:00:00\", \"2019-04-01T00:00:00\", \"2019-04-01T00:00:00\", \"2019-04-01T00:00:00\", \"2019-04-01T00:00:00\", \"2019-04-01T00:00:00\", \"2019-04-01T00:00:00\", \"2019-04-01T00:00:00\", \"2019-04-01T00:00:00\", \"2019-04-01T00:00:00\", \"2019-04-01T00:00:00\", \"2019-04-01T00:00:00\", \"2019-04-01T00:00:00\", \"2019-04-01T00:00:00\", \"2019-04-01T00:00:00\", \"2019-04-01T00:00:00\", \"2019-04-01T00:00:00\", \"2019-04-01T00:00:00\", \"2019-04-01T00:00:00\", \"2019-04-01T00:00:00\", \"2019-04-01T00:00:00\", \"2019-04-01T00:00:00\", \"2019-04-01T00:00:00\", \"2019-04-01T00:00:00\", \"2019-04-01T00:00:00\", \"2019-04-01T00:00:00\", \"2019-04-01T00:00:00\", \"2019-04-01T00:00:00\", \"2019-04-01T00:00:00\", \"2019-04-01T00:00:00\", \"2019-04-01T00:00:00\", \"2019-04-01T00:00:00\", \"2019-04-01T00:00:00\", \"2019-04-01T00:00:00\", \"2019-04-01T00:00:00\", \"2019-04-01T00:00:00\", \"2019-04-01T00:00:00\", \"2019-04-01T00:00:00\", \"2019-04-01T00:00:00\", \"2019-04-01T00:00:00\", \"2019-05-01T00:00:00\", \"2019-05-01T00:00:00\", \"2019-05-01T00:00:00\", \"2019-05-01T00:00:00\", \"2019-05-01T00:00:00\", \"2019-05-01T00:00:00\", \"2019-05-01T00:00:00\", \"2019-05-01T00:00:00\", \"2019-05-01T00:00:00\", \"2019-05-01T00:00:00\", \"2019-05-01T00:00:00\", \"2019-05-01T00:00:00\", \"2019-05-01T00:00:00\", \"2019-05-01T00:00:00\", \"2019-05-01T00:00:00\", \"2019-05-01T00:00:00\", \"2019-05-01T00:00:00\", \"2019-05-01T00:00:00\", \"2019-05-01T00:00:00\", \"2019-05-01T00:00:00\", \"2019-05-01T00:00:00\", \"2019-05-01T00:00:00\", \"2019-05-01T00:00:00\", \"2019-05-01T00:00:00\", \"2019-05-01T00:00:00\", \"2019-05-01T00:00:00\", \"2019-05-01T00:00:00\", \"2019-05-01T00:00:00\", \"2019-05-01T00:00:00\", \"2019-05-01T00:00:00\", \"2019-05-01T00:00:00\", \"2019-05-01T00:00:00\", \"2019-05-01T00:00:00\", \"2019-05-01T00:00:00\", \"2019-05-01T00:00:00\", \"2019-05-01T00:00:00\", \"2019-05-01T00:00:00\", \"2019-05-01T00:00:00\", \"2019-05-01T00:00:00\", \"2019-05-01T00:00:00\", \"2019-05-01T00:00:00\", \"2019-05-01T00:00:00\", \"2019-05-01T00:00:00\", \"2019-05-01T00:00:00\", \"2019-05-01T00:00:00\", \"2019-05-01T00:00:00\", \"2019-05-01T00:00:00\", \"2019-05-01T00:00:00\", \"2019-05-01T00:00:00\", \"2019-05-01T00:00:00\", \"2019-05-01T00:00:00\", \"2019-05-01T00:00:00\", \"2019-05-01T00:00:00\", \"2019-05-01T00:00:00\", \"2019-05-01T00:00:00\", \"2019-05-01T00:00:00\", \"2019-05-01T00:00:00\", \"2019-05-01T00:00:00\", \"2019-05-01T00:00:00\", \"2019-05-01T00:00:00\", \"2019-05-01T00:00:00\", \"2019-05-01T00:00:00\", \"2019-05-01T00:00:00\", \"2019-05-01T00:00:00\", \"2019-05-01T00:00:00\", \"2019-05-01T00:00:00\", \"2019-05-01T00:00:00\", \"2019-05-01T00:00:00\", \"2019-05-01T00:00:00\", \"2019-05-01T00:00:00\", \"2019-05-01T00:00:00\", \"2019-05-01T00:00:00\", \"2019-05-01T00:00:00\", \"2019-05-01T00:00:00\", \"2019-05-01T00:00:00\", \"2019-05-01T00:00:00\", \"2019-05-01T00:00:00\", \"2019-05-01T00:00:00\", \"2019-05-01T00:00:00\", \"2019-05-01T00:00:00\", \"2019-05-01T00:00:00\", \"2019-05-01T00:00:00\", \"2019-05-01T00:00:00\", \"2019-05-01T00:00:00\", \"2019-05-01T00:00:00\", \"2019-05-01T00:00:00\", \"2019-05-01T00:00:00\", \"2019-05-01T00:00:00\", \"2019-05-01T00:00:00\", \"2019-05-01T00:00:00\", \"2019-05-01T00:00:00\", \"2019-05-01T00:00:00\", \"2019-05-01T00:00:00\", \"2019-05-01T00:00:00\", \"2019-05-01T00:00:00\", \"2019-05-01T00:00:00\", \"2019-05-01T00:00:00\", \"2019-05-01T00:00:00\", \"2019-05-01T00:00:00\", \"2019-05-01T00:00:00\", \"2019-05-01T00:00:00\", \"2019-05-01T00:00:00\", \"2019-05-01T00:00:00\", \"2019-05-01T00:00:00\", \"2019-05-01T00:00:00\", \"2019-05-01T00:00:00\", \"2019-05-01T00:00:00\", \"2019-05-01T00:00:00\", \"2019-05-01T00:00:00\", \"2019-05-01T00:00:00\", \"2019-05-01T00:00:00\", \"2019-05-01T00:00:00\", \"2019-05-01T00:00:00\", \"2019-05-01T00:00:00\", \"2019-05-01T00:00:00\", \"2019-05-01T00:00:00\", \"2019-05-01T00:00:00\", \"2019-05-01T00:00:00\", \"2019-05-01T00:00:00\", \"2019-05-01T00:00:00\", \"2019-05-01T00:00:00\", \"2019-05-01T00:00:00\", \"2019-05-01T00:00:00\", \"2019-05-01T00:00:00\", \"2019-05-01T00:00:00\", \"2019-05-01T00:00:00\", \"2019-05-01T00:00:00\", \"2019-05-01T00:00:00\", \"2019-05-01T00:00:00\", \"2019-05-01T00:00:00\", \"2019-05-01T00:00:00\", \"2019-05-01T00:00:00\", \"2019-05-01T00:00:00\", \"2019-05-01T00:00:00\", \"2019-05-01T00:00:00\", \"2019-05-01T00:00:00\", \"2019-05-01T00:00:00\", \"2019-05-01T00:00:00\", \"2019-05-01T00:00:00\", \"2019-05-01T00:00:00\", \"2019-05-01T00:00:00\", \"2019-05-01T00:00:00\", \"2019-05-01T00:00:00\", \"2019-05-01T00:00:00\", \"2019-05-01T00:00:00\", \"2019-05-01T00:00:00\", \"2019-05-01T00:00:00\", \"2019-05-01T00:00:00\", \"2019-05-01T00:00:00\", \"2019-05-01T00:00:00\", \"2019-05-01T00:00:00\", \"2019-05-01T00:00:00\", \"2019-05-01T00:00:00\", \"2019-05-01T00:00:00\", \"2019-05-01T00:00:00\", \"2019-05-01T00:00:00\", \"2019-05-01T00:00:00\", \"2019-05-01T00:00:00\", \"2019-05-01T00:00:00\", \"2019-05-01T00:00:00\", \"2019-05-01T00:00:00\", \"2019-05-01T00:00:00\", \"2019-05-01T00:00:00\", \"2019-05-01T00:00:00\", \"2019-05-01T00:00:00\", \"2019-05-01T00:00:00\", \"2019-05-01T00:00:00\", \"2019-05-01T00:00:00\", \"2019-05-01T00:00:00\", \"2019-05-01T00:00:00\", \"2019-05-01T00:00:00\", \"2019-05-01T00:00:00\", \"2019-05-01T00:00:00\", \"2019-05-01T00:00:00\", \"2019-05-01T00:00:00\", \"2019-05-01T00:00:00\", \"2019-05-01T00:00:00\", \"2019-05-01T00:00:00\", \"2019-05-01T00:00:00\", \"2019-05-01T00:00:00\", \"2019-05-01T00:00:00\", \"2019-05-01T00:00:00\", \"2019-05-01T00:00:00\", \"2019-05-01T00:00:00\", \"2019-05-01T00:00:00\", \"2019-05-01T00:00:00\", \"2019-05-01T00:00:00\", \"2019-05-01T00:00:00\", \"2019-05-01T00:00:00\", \"2019-05-01T00:00:00\", \"2019-05-01T00:00:00\", \"2019-05-01T00:00:00\", \"2019-05-01T00:00:00\", \"2019-05-01T00:00:00\", \"2019-05-01T00:00:00\", \"2019-05-01T00:00:00\", \"2019-05-01T00:00:00\", \"2019-05-01T00:00:00\", \"2019-05-01T00:00:00\", \"2019-05-01T00:00:00\", \"2019-05-01T00:00:00\", \"2019-05-01T00:00:00\", \"2019-05-01T00:00:00\", \"2019-05-01T00:00:00\", \"2019-05-01T00:00:00\", \"2019-05-01T00:00:00\", \"2019-05-01T00:00:00\", \"2019-05-01T00:00:00\", \"2019-05-01T00:00:00\", \"2019-05-01T00:00:00\", \"2019-05-01T00:00:00\", \"2019-05-01T00:00:00\", \"2019-05-01T00:00:00\", \"2019-05-01T00:00:00\", \"2019-05-01T00:00:00\", \"2019-05-01T00:00:00\", \"2019-05-01T00:00:00\", \"2019-05-01T00:00:00\", \"2019-05-01T00:00:00\", \"2019-05-01T00:00:00\", \"2019-05-01T00:00:00\", \"2019-05-01T00:00:00\", \"2019-05-01T00:00:00\", \"2019-05-01T00:00:00\", \"2019-05-01T00:00:00\", \"2019-05-01T00:00:00\", \"2019-05-01T00:00:00\", \"2019-05-01T00:00:00\", \"2019-05-01T00:00:00\", \"2019-05-01T00:00:00\", \"2019-05-01T00:00:00\", \"2019-05-01T00:00:00\", \"2019-05-01T00:00:00\", \"2019-05-01T00:00:00\", \"2019-05-01T00:00:00\", \"2019-05-01T00:00:00\", \"2019-05-01T00:00:00\", \"2019-05-01T00:00:00\", \"2019-05-01T00:00:00\", \"2019-05-01T00:00:00\", \"2019-05-01T00:00:00\", \"2019-05-01T00:00:00\", \"2019-05-01T00:00:00\", \"2019-05-01T00:00:00\", \"2019-05-01T00:00:00\", \"2019-05-01T00:00:00\", \"2019-05-01T00:00:00\", \"2019-05-01T00:00:00\", \"2019-05-01T00:00:00\", \"2019-05-01T00:00:00\", \"2019-05-01T00:00:00\", \"2019-05-01T00:00:00\", \"2019-05-01T00:00:00\", \"2019-05-01T00:00:00\", \"2019-05-01T00:00:00\", \"2019-05-01T00:00:00\", \"2019-05-01T00:00:00\", \"2019-05-01T00:00:00\", \"2019-05-01T00:00:00\", \"2019-05-01T00:00:00\", \"2019-05-01T00:00:00\", \"2019-05-01T00:00:00\", \"2019-05-01T00:00:00\", \"2019-06-01T00:00:00\", \"2019-06-01T00:00:00\", \"2019-06-01T00:00:00\", \"2019-06-01T00:00:00\", \"2019-06-01T00:00:00\", \"2019-06-01T00:00:00\", \"2019-06-01T00:00:00\", \"2019-06-01T00:00:00\", \"2019-06-01T00:00:00\", \"2019-06-01T00:00:00\", \"2019-06-01T00:00:00\", \"2019-06-01T00:00:00\", \"2019-06-01T00:00:00\", \"2019-06-01T00:00:00\", \"2019-06-01T00:00:00\", \"2019-06-01T00:00:00\", \"2019-06-01T00:00:00\", \"2019-06-01T00:00:00\", \"2019-06-01T00:00:00\", \"2019-06-01T00:00:00\", \"2019-06-01T00:00:00\", \"2019-06-01T00:00:00\", \"2019-06-01T00:00:00\", \"2019-06-01T00:00:00\", \"2019-06-01T00:00:00\", \"2019-06-01T00:00:00\", \"2019-06-01T00:00:00\", \"2019-06-01T00:00:00\", \"2019-06-01T00:00:00\", \"2019-06-01T00:00:00\", \"2019-06-01T00:00:00\", \"2019-06-01T00:00:00\", \"2019-06-01T00:00:00\", \"2019-06-01T00:00:00\", \"2019-06-01T00:00:00\", \"2019-06-01T00:00:00\", \"2019-06-01T00:00:00\", \"2019-06-01T00:00:00\", \"2019-06-01T00:00:00\", \"2019-06-01T00:00:00\", \"2019-06-01T00:00:00\", \"2019-06-01T00:00:00\", \"2019-06-01T00:00:00\", \"2019-06-01T00:00:00\", \"2019-06-01T00:00:00\", \"2019-06-01T00:00:00\", \"2019-06-01T00:00:00\", \"2019-06-01T00:00:00\", \"2019-06-01T00:00:00\", \"2019-06-01T00:00:00\", \"2019-06-01T00:00:00\", \"2019-06-01T00:00:00\", \"2019-06-01T00:00:00\", \"2019-06-01T00:00:00\", \"2019-06-01T00:00:00\", \"2019-06-01T00:00:00\", \"2019-06-01T00:00:00\", \"2019-06-01T00:00:00\", \"2019-06-01T00:00:00\", \"2019-06-01T00:00:00\", \"2019-06-01T00:00:00\", \"2019-06-01T00:00:00\", \"2019-06-01T00:00:00\", \"2019-06-01T00:00:00\", \"2019-06-01T00:00:00\", \"2019-06-01T00:00:00\", \"2019-06-01T00:00:00\", \"2019-06-01T00:00:00\", \"2019-06-01T00:00:00\", \"2019-06-01T00:00:00\", \"2019-06-01T00:00:00\", \"2019-06-01T00:00:00\", \"2019-06-01T00:00:00\", \"2019-06-01T00:00:00\", \"2019-06-01T00:00:00\", \"2019-06-01T00:00:00\", \"2019-06-01T00:00:00\", \"2019-06-01T00:00:00\", \"2019-06-01T00:00:00\", \"2019-06-01T00:00:00\", \"2019-06-01T00:00:00\", \"2019-06-01T00:00:00\", \"2019-06-01T00:00:00\", \"2019-06-01T00:00:00\", \"2019-06-01T00:00:00\", \"2019-06-01T00:00:00\", \"2019-06-01T00:00:00\", \"2019-06-01T00:00:00\", \"2019-06-01T00:00:00\", \"2019-06-01T00:00:00\", \"2019-06-01T00:00:00\", \"2019-06-01T00:00:00\", \"2019-06-01T00:00:00\", \"2019-06-01T00:00:00\", \"2019-06-01T00:00:00\", \"2019-06-01T00:00:00\", \"2019-06-01T00:00:00\", \"2019-06-01T00:00:00\", \"2019-06-01T00:00:00\", \"2019-06-01T00:00:00\", \"2019-06-01T00:00:00\", \"2019-06-01T00:00:00\", \"2019-06-01T00:00:00\", \"2019-06-01T00:00:00\", \"2019-06-01T00:00:00\", \"2019-06-01T00:00:00\", \"2019-06-01T00:00:00\", \"2019-06-01T00:00:00\", \"2019-06-01T00:00:00\", \"2019-06-01T00:00:00\", \"2019-06-01T00:00:00\", \"2019-06-01T00:00:00\", \"2019-06-01T00:00:00\", \"2019-06-01T00:00:00\", \"2019-06-01T00:00:00\", \"2019-06-01T00:00:00\", \"2019-06-01T00:00:00\", \"2019-06-01T00:00:00\", \"2019-06-01T00:00:00\", \"2019-06-01T00:00:00\", \"2019-06-01T00:00:00\", \"2019-06-01T00:00:00\", \"2019-06-01T00:00:00\", \"2019-06-01T00:00:00\", \"2019-06-01T00:00:00\", \"2019-06-01T00:00:00\", \"2019-06-01T00:00:00\", \"2019-06-01T00:00:00\", \"2019-06-01T00:00:00\", \"2019-06-01T00:00:00\", \"2019-06-01T00:00:00\", \"2019-06-01T00:00:00\", \"2019-06-01T00:00:00\", \"2019-06-01T00:00:00\", \"2019-06-01T00:00:00\", \"2019-06-01T00:00:00\", \"2019-06-01T00:00:00\", \"2019-06-01T00:00:00\", \"2019-06-01T00:00:00\", \"2019-06-01T00:00:00\", \"2019-06-01T00:00:00\", \"2019-06-01T00:00:00\", \"2019-06-01T00:00:00\", \"2019-06-01T00:00:00\", \"2019-06-01T00:00:00\", \"2019-06-01T00:00:00\", \"2019-06-01T00:00:00\", \"2019-06-01T00:00:00\", \"2019-06-01T00:00:00\", \"2019-06-01T00:00:00\", \"2019-06-01T00:00:00\", \"2019-06-01T00:00:00\", \"2019-06-01T00:00:00\", \"2019-06-01T00:00:00\", \"2019-06-01T00:00:00\", \"2019-06-01T00:00:00\", \"2019-06-01T00:00:00\", \"2019-06-01T00:00:00\", \"2019-06-01T00:00:00\", \"2019-06-01T00:00:00\", \"2019-06-01T00:00:00\", \"2019-06-01T00:00:00\", \"2019-06-01T00:00:00\", \"2019-06-01T00:00:00\", \"2019-06-01T00:00:00\", \"2019-06-01T00:00:00\", \"2019-06-01T00:00:00\", \"2019-06-01T00:00:00\", \"2019-06-01T00:00:00\", \"2019-06-01T00:00:00\", \"2019-06-01T00:00:00\", \"2019-06-01T00:00:00\", \"2019-06-01T00:00:00\", \"2019-06-01T00:00:00\", \"2019-06-01T00:00:00\", \"2019-06-01T00:00:00\", \"2019-06-01T00:00:00\", \"2019-06-01T00:00:00\", \"2019-06-01T00:00:00\", \"2019-06-01T00:00:00\", \"2019-06-01T00:00:00\", \"2019-06-01T00:00:00\", \"2019-06-01T00:00:00\", \"2019-06-01T00:00:00\", \"2019-06-01T00:00:00\", \"2019-06-01T00:00:00\", \"2019-06-01T00:00:00\", \"2019-06-01T00:00:00\", \"2019-06-01T00:00:00\", \"2019-06-01T00:00:00\", \"2019-06-01T00:00:00\", \"2019-06-01T00:00:00\", \"2019-06-01T00:00:00\", \"2019-06-01T00:00:00\", \"2019-06-01T00:00:00\", \"2019-06-01T00:00:00\", \"2019-06-01T00:00:00\", \"2019-06-01T00:00:00\", \"2019-06-01T00:00:00\", \"2019-06-01T00:00:00\", \"2019-06-01T00:00:00\", \"2019-06-01T00:00:00\", \"2019-06-01T00:00:00\", \"2019-06-01T00:00:00\", \"2019-06-01T00:00:00\", \"2019-06-01T00:00:00\", \"2019-06-01T00:00:00\", \"2019-06-01T00:00:00\", \"2019-06-01T00:00:00\", \"2019-06-01T00:00:00\", \"2019-06-01T00:00:00\", \"2019-06-01T00:00:00\", \"2019-06-01T00:00:00\", \"2019-06-01T00:00:00\", \"2019-06-01T00:00:00\", \"2019-06-01T00:00:00\", \"2019-06-01T00:00:00\", \"2019-06-01T00:00:00\", \"2019-06-01T00:00:00\", \"2019-06-01T00:00:00\", \"2019-06-01T00:00:00\", \"2019-06-01T00:00:00\", \"2019-06-01T00:00:00\", \"2019-06-01T00:00:00\", \"2019-06-01T00:00:00\", \"2019-06-01T00:00:00\", \"2019-06-01T00:00:00\", \"2019-06-01T00:00:00\", \"2019-06-01T00:00:00\", \"2019-06-01T00:00:00\", \"2019-06-01T00:00:00\", \"2019-06-01T00:00:00\", \"2019-06-01T00:00:00\", \"2019-06-01T00:00:00\", \"2019-06-01T00:00:00\", \"2019-06-01T00:00:00\", \"2019-06-01T00:00:00\", \"2019-06-01T00:00:00\", \"2019-06-01T00:00:00\", \"2019-06-01T00:00:00\", \"2019-06-01T00:00:00\", \"2019-06-01T00:00:00\", \"2019-06-01T00:00:00\", \"2019-06-01T00:00:00\", \"2019-06-01T00:00:00\", \"2019-06-01T00:00:00\", \"2019-06-01T00:00:00\", \"2019-06-01T00:00:00\", \"2019-06-01T00:00:00\", \"2019-06-01T00:00:00\", \"2019-06-01T00:00:00\", \"2019-06-01T00:00:00\", \"2019-06-01T00:00:00\", \"2019-06-01T00:00:00\", \"2019-06-01T00:00:00\", \"2019-06-01T00:00:00\", \"2019-06-01T00:00:00\", \"2019-06-01T00:00:00\", \"2019-06-01T00:00:00\", \"2019-06-01T00:00:00\", \"2019-06-01T00:00:00\", \"2019-06-01T00:00:00\", \"2019-06-01T00:00:00\", \"2019-06-01T00:00:00\"], \"xaxis\": \"x\", \"y\": [4.8, 12.1, 7.4, 43.1, 15.2, 2.1, 19.0, 25.6, 16.2, 41.599999999999994, 16.6, 24.200000000000003, 12.0, 3.7, 16.4, 3.0, 61.5, 28.799999999999997, 35.2, 49.60000000000001, 22.6, 45.199999999999996, 6.6, 8.4, 36.400000000000006, 17.4, 36.6, 7.6, 36.2, 6.3, 27.2, 31.2, 6.0, 22.6, 57.2, 12.8, 36.00000000000001, 5.2, 26.200000000000003, 9.2, 7.8, 5.4, 3.3, 20.6, 25.8, 31.2, 59.0, 71.0, 53.0, 34.6, 13.6, 12.0, 36.8, 16.6, 16.799999999999997, 7.8, 17.4, 22.6, 34.2, 33.199999999999996, 45.4, 33.6, 36.3, 8.1, 62.2, 15.6, 24.0, 34.8, 51.7, 22.6, 4.3, 18.2, 22.200000000000003, 37.8, 13.0, 46.599999999999994, 3.0, 6.6, 34.0, 18.8, 6.6, 25.4, 11.899999999999999, 22.400000000000002, 15.399999999999999, 36.4, 3.4, 47.199999999999996, 16.2, 18.6, 23.599999999999998, 16.200000000000003, 45.8, 31.7, 12.1, 46.39999999999999, 25.2, 42.800000000000004, 5.4, 17.6, 19.2, 54.2, 5.800000000000001, 30.0, 40.0, 6.5, 13.0, 10.8, 58.599999999999994, 42.0, 36.0, 3.8, 30.4, 11.4, 25.400000000000002, 10.8, 1.5, 10.8, 18.6, 21.0, 10.2, 23.8, 42.0, 28.0, 9.2, 23.400000000000002, 23.0, 42.400000000000006, 11.399999999999999, 36.2, 13.6, 13.8, 26.800000000000004, 36.800000000000004, 16.6, 3.3, 15.799999999999999, 14.5, 20.6, 21.6, 7.8, 31.799999999999997, 14.5, 14.5, 39.4, 44.60000000000001, 22.200000000000003, 26.0, 36.4, 17.4, 42.8, 6.9, 18.0, 3.1, 53.6, 31.6, 44.8, 9.8, 31.0, 50.6, 65.19999999999999, 17.200000000000003, 38.8, 7.4, 49.0, 3.0, 40.0, 18.8, 3.8, 29.400000000000002, 5.2, 42.599999999999994, 3.0, 9.2, 43.8, 19.6, 16.0, 7.4, 21.1, 17.4, 37.6, 23.0, 69.4, 14.8, 61.8, 25.6, 45.0, 51.6, 6.6, 25.2, 19.0, 36.8, 41.2, 30.2, 9.2, 37.2, 10.8, 23.9, 8.8, 38.800000000000004, 7.6, 7.6, 17.6, 3.3, 4.6, 17.0, 36.199999999999996, 42.6, 26.4, 41.0, 41.0, 6.0, 4.2, 12.899999999999999, 5.4, 18.6, 73.8, 51.599999999999994, 24.0, 220.20000000000005, 145.2, 1254.1, 1388.5999999999992, 835.7999999999996, 263.8999999999999, 1019.6999999999992, 355.99999999999994, 279.50000000000006, 884.7999999999998, 413.00000000000006, 827.9999999999997, 57.699999999999996, 756.9999999999995, 114.50000000000004, 495.09999999999997, 323.6000000000001, 696.4000000000004, 243.39999999999992, 380.8, 318.0, 857.5999999999999, 711.1999999999998, 386.4, 1275.1999999999994, 469.1, 750.1999999999999, 291.8, 876.7999999999997, 789.5999999999998, 1052.7999999999997, 372.00000000000006, 120.59999999999998, 1032.0, 449.2000000000002, 308.59999999999985, 886.3999999999997, 1346.1999999999998, 216.4, 27.3, 1036.3999999999994, 23.7, 977.5999999999998, 256.79999999999995, 271.5, 959.5999999999996, 1107.8999999999996, 317.69999999999993, 110.80000000000001, 28.299999999999997, 244.1, 484.79999999999995, 899.8000000000001, 687.8, 825.2000000000002, 1571.4000000000008, 1239.8000000000002, 1088.2, 24.799999999999997, 978.5999999999996, 1026.4, 518.0, 1030.1999999999996, 380.2000000000001, 883.4000000000004, 299.3, 948.7999999999997, 945.9999999999999, 1095.8, 1363.9999999999993, 343.59999999999985, 206.29999999999998, 1039.5000000000007, 289.1, 799.4, 1045.2999999999997, 1016.6000000000001, 1226.4999999999995, 368.0, 799.1999999999997, 521.8000000000001, 13.9, 891.6000000000001, 306.6, 1308.1999999999994, 219.40000000000003, 248.39999999999998, 876.6000000000004, 1058.1999999999994, 954.1999999999995, 1072.7999999999997, 366.6, 870.1999999999999, 119.7, 18.5, 1030.3999999999992, 885.5999999999997, 779.7999999999995, 197.10000000000005, 787.4000000000001, 948.4999999999997, 1048.3999999999999, 801.3999999999997, 260.70000000000005, 857.9999999999997, 680.0000000000001, 223.89999999999992, 970.7999999999997, 960.3999999999999, 923.5999999999998, 381.4, 864.3999999999997, 2.6, 816.1999999999996, 1059.9999999999995, 100.09999999999998, 401.69999999999993, 868.4000000000001, 1082.2000000000003, 98.4, 1083.5999999999997, 328.40000000000003, 43.9, 1028.4000000000003, 745.8, 1299.0, 266.3, 52.3, 1002.5999999999992, 415.4000000000001, 27.3, 127.8, 1014.9999999999998, 832.8000000000001, 35.0, 15.0, 262.0, 467.79999999999995, 343.90000000000015, 704.1999999999998, 388.0, 12.0, 757.2, 669.1, 402.29999999999995, 429.6, 158.29999999999995, 1075.1999999999996, 1085.8000000000002, 979.9999999999997, 953.1999999999992, 1043.4, 1072.0000000000005, 28.0, 26.8, 903.8000000000001, 38.10000000000001, 925.9999999999998, 198.49999999999997, 873.3999999999996, 1448.9999999999998, 1150.2999999999997, 234.90000000000003, 1089.7999999999995, 237.00000000000006, 548.9999999999999, 291.80000000000007, 810.9999999999997, 443.20000000000005, 315.99999999999994, 1020.7, 275.40000000000003, 11.299999999999999, 973.7999999999997, 919.3999999999992, 807.6000000000001, 1378.8999999999994, 384.00000000000006, 861.2000000000002, 991.9999999999991, 240.70000000000002, 125.9, 259.80000000000007, 234.39999999999998, 134.39999999999998, 787.4, 816.8000000000002, 34.300000000000004, 1073.9, 228.79999999999998, 886.5999999999998, 328.2, 20.299999999999997, 1282.0, 509.8000000000002, 1133.7999999999995, 637.4, 1234.3999999999987, 40.400000000000006, 326.59999999999997, 3.0, 948.2000000000004, 681.9999999999998, 730.3999999999997, 1207.0, 2.6, 708.2000000000002, 1085.3999999999994, 197.20000000000002, 373.4000000000001, 1126.3999999999994, 1342.1999999999996, 36.79999999999999, 940.7999999999995, 258.70000000000005, 959.8000000000002, 942.0000000000002, 918.5999999999999, 19.2, 848.6, 1434.0000000000005, 882.9999999999994, 343.2000000000001, 856.3999999999996, 1012.7999999999997, 1090.4999999999998, 993.4999999999994, 286.19999999999993, 470.49999999999994, 540.9999999999999, 943.1999999999996, 1460.799999999999, 1054.3000000000004, 346.9, 412.7, 840.2, 439.2000000000001, 344.4, 15.299999999999999, 351.30000000000007, 402.00000000000006, 834.6, 417.6000000000001, 242.79999999999995, 1213.1000000000006, 430.9999999999999, 390.9999999999999, 162.3, 255.49999999999997, 239.2, 1044.6000000000006, 16.2, 952.8, 426.59999999999997, 1116.4999999999995, 724.3000000000002, 32.699999999999996, 228.4, 247.7, 132.40000000000003, 6.199999999999999, 227.9000000000001, 994.2000000000004, 925.3999999999999, 924.3999999999999, 428.09999999999985, 171.80000000000004, 191.89999999999998, 1066.75, 1269.3000000000004, 743.3000000000002, 208.2, 1134.1000000000006, 390.4, 339.50000000000006, 872.85, 377.40000000000015, 739.2999999999998, 47.0, 833.9999999999995, 153.2, 355.30000000000007, 279.6, 717.4, 208.30000000000004, 503.4999999999999, 214.70000000000005, 987.4999999999999, 812.0999999999996, 331.7000000000001, 1074.4, 536.9000000000001, 765.1499999999997, 403.3000000000001, 932.1999999999999, 6.0, 743.3999999999995, 921.1999999999999, 314.69999999999993, 152.2, 1059.25, 557.3500000000001, 273.9, 919.3999999999997, 1159.3999999999987, 209.79999999999995, 44.900000000000006, 1007.0999999999995, 652.5000000000001, 246.69999999999996, 413.84999999999997, 831.1000000000001, 879.1000000000003, 301.8, 213.0, 40.3, 248.09999999999997, 392.6000000000001, 922.6999999999994, 629.3000000000002, 887.2, 1035.9499999999996, 958.6999999999996, 1063.4000000000003, 36.7, 820.6000000000003, 1014.6000000000001, 362.7, 955.1999999999994, 468.40000000000003, 893.1000000000003, 302.3, 986.4499999999997, 807.1999999999997, 944.2999999999997, 1192.8999999999994, 292.20000000000005, 132.70000000000002, 1119.3999999999999, 247.6, 822.3999999999997, 962.8499999999996, 960.0000000000001, 1098.1, 302.9, 793.3999999999997, 435.1000000000001, 758.2499999999999, 334.3999999999999, 1330.7999999999997, 188.29999999999998, 230.5, 909.8000000000001, 1003.0999999999993, 1145.6499999999999, 1293.4499999999994, 396.2, 875.7499999999995, 92.10000000000001, 20.0, 926.7999999999996, 847.6000000000003, 979.7999999999998, 250.89999999999998, 870.2999999999997, 909.6999999999998, 792.8500000000003, 858.3000000000002, 376.3999999999999, 834.9000000000001, 766.5999999999996, 266.1, 988.8, 969.0999999999996, 885.1499999999996, 314.5, 825.8, 14.399999999999999, 736.9499999999995, 988.2999999999998, 248.89999999999995, 287.0, 879.4999999999998, 1408.0000000000005, 200.9, 1094.1499999999996, 306.69999999999993, 39.699999999999996, 873.4999999999995, 876.2999999999997, 1200.9499999999998, 230.70000000000007, 24.2, 937.9000000000002, 441.25, 30.400000000000002, 173.80000000000004, 931.3499999999999, 717.1999999999999, 39.800000000000004, 17.8, 228.99999999999997, 495.8000000000002, 434.4499999999999, 709.1999999999996, 315.4000000000001, 47.99999999999999, 680.4500000000003, 752.1000000000003, 457.6000000000001, 402.30000000000007, 135.2, 956.6999999999995, 1044.1000000000004, 1128.6499999999996, 767.8999999999997, 986.4000000000002, 922.8999999999995, 29.8, 14.7, 785.7999999999997, 29.900000000000006, 890.7, 179.10000000000008, 906.1999999999996, 1216.9999999999998, 890.5999999999997, 207.30000000000004, 910.3499999999998, 209.99999999999997, 307.40000000000003, 393.2, 806.4000000000001, 594.3499999999999, 499.59999999999997, 971.7999999999996, 151.7, 22.0, 873.4999999999999, 967.6999999999998, 814.2999999999992, 1048.75, 448.8999999999998, 707.8, 829.4000000000002, 271.0999999999999, 145.1, 212.79999999999993, 219.1, 151.8, 824.3999999999999, 853.8000000000001, 43.4, 959.65, 321.15, 827.9000000000001, 284.79999999999995, 13.6, 1184.7999999999993, 686.3000000000001, 1091.7000000000003, 479.7000000000001, 1216.3999999999994, 39.9, 274.6000000000001, 797.9, 669.4500000000002, 773.6999999999999, 977.5999999999999, 673.1999999999997, 897.2000000000002, 236.19999999999993, 390.50000000000006, 1068.7, 1124.499999999999, 83.9, 775.6999999999998, 272.00000000000006, 912.8999999999997, 782.1999999999998, 902.3999999999995, 44.5, 875.3999999999997, 1234.85, 884.1, 275.3, 767.5999999999993, 971.8999999999999, 981.8999999999993, 758.4999999999997, 300.20000000000005, 311.9, 412.64999999999986, 993.3999999999997, 1388.3999999999992, 1255.2999999999993, 323.40000000000003, 336.40000000000003, 709.1999999999998, 466.7999999999998, 419.09999999999997, 32.800000000000004, 394.40000000000015, 475.1999999999998, 765.1999999999994, 342.4, 309.49999999999994, 1310.4999999999995, 349.54999999999984, 3.7, 397.7, 195.1999999999999, 165.9, 360.4, 960.0000000000003, 21.0, 896.0999999999999, 342.4, 1157.0999999999995, 823.4999999999993, 28.0, 213.29999999999995, 218.89999999999998, 160.39999999999995, 24.900000000000002, 318.44999999999993, 813.4999999999992, 1020.5499999999996, 675.7, 362.65000000000003, 278.19999999999993, 152.79999999999995, 986.2999999999992, 1234.3999999999996, 908.1999999999995, 196.70000000000002, 1176.1000000000001, 306.1999999999999, 368.0999999999999, 945.5999999999995, 410.20000000000005, 833.8000000000001, 36.5, 844.8000000000001, 136.79999999999995, 349.19999999999993, 256.5, 794.4, 200.30000000000004, 390.00000000000017, 294.29999999999995, 680.7999999999998, 840.9999999999997, 413.0, 1273.4, 419.0000000000001, 764.0, 472.9000000000001, 863.9999999999997, 759.6, 935.1999999999999, 319.29999999999995, 116.40000000000002, 949.0000000000001, 377.80000000000007, 275.59999999999997, 858.4, 1347.3999999999996, 226.20000000000005, 21.200000000000003, 991.9999999999998, 16.4, 695.4000000000001, 230.79999999999995, 436.50000000000006, 822.7999999999998, 1070.0999999999997, 254.80000000000004, 164.19999999999996, 25.8, 177.39999999999998, 471.3999999999999, 994.1999999999997, 677.9999999999994, 825.6, 1498.4, 1086.3999999999992, 1045.3, 90.2, 970.1999999999997, 990.3999999999997, 431.4000000000001, 952.2999999999997, 493.3999999999999, 834.0000000000001, 302.20000000000005, 948.8000000000001, 904.3999999999993, 890.3999999999997, 1189.3999999999992, 355.7999999999999, 174.99999999999997, 1123.6, 225.2, 782.3999999999997, 1110.4000000000003, 1037.1, 1359.6000000000001, 341.5999999999999, 857.9999999999999, 416.6000000000001, 910.3999999999997, 313.6000000000001, 1423.9999999999993, 188.8, 157.0, 958.6999999999999, 1150.7999999999993, 977.9999999999999, 1122.5999999999995, 353.99999999999994, 939.9999999999997, 112.00000000000001, 18.2, 940.4000000000002, 860.9999999999997, 965.2, 274.3, 875.8000000000001, 849.7999999999996, 1149.9999999999998, 774.4000000000003, 325.9, 880.4000000000001, 700.9999999999999, 155.7, 917.0, 955.9999999999997, 916.3999999999994, 276.40000000000003, 868.7999999999998, 15.399999999999999, 737.1999999999998, 993.3999999999994, 139.40000000000003, 349.1000000000001, 923.3999999999999, 1115.5999999999995, 153.70000000000002, 1216.2, 360.6, 33.6, 974.3999999999996, 876.0000000000005, 1005.5999999999999, 204.50000000000003, 42.400000000000006, 904.9999999999994, 458.39999999999986, 26.0, 156.30000000000004, 1002.3999999999995, 914.4000000000001, 15.5, 27.2, 229.10000000000002, 414.8, 315.1000000000001, 606.6000000000003, 356.09999999999997, 24.400000000000002, 803.1999999999996, 703.6, 421.49999999999994, 463.2, 141.19999999999996, 933.7999999999994, 1061.0999999999997, 894.4999999999998, 999.9999999999998, 1046.8000000000004, 863.5999999999996, 40.5, 56.599999999999994, 870.8, 62.199999999999996, 821.7999999999997, 263.5999999999999, 827.3999999999999, 1295.2, 913.6000000000001, 213.59999999999997, 892.6, 270.59999999999997, 401.5, 412.49999999999994, 804.1999999999995, 331.2, 253.2, 905.1999999999994, 192.5, 21.599999999999998, 955.5999999999995, 869.5999999999996, 883.6000000000003, 1132.0, 404.40000000000003, 825.5999999999996, 894.7999999999997, 190.20000000000002, 171.50000000000006, 277.1, 278.5999999999999, 103.49999999999999, 906.5999999999998, 801.8000000000001, 26.0, 1086.9999999999993, 155.89999999999998, 843.1999999999995, 310.79999999999995, 17.8, 1122.1999999999996, 616.1999999999999, 1156.1999999999998, 517.7999999999998, 1310.7, 57.400000000000006, 222.20000000000007, 761.4000000000003, 739.3999999999996, 795.3999999999996, 1127.9999999999995, 756.7999999999997, 1046.0, 236.3, 273.9000000000001, 1057.1000000000001, 1340.3999999999994, 23.0, 907.2, 215.1999999999999, 736.5999999999996, 924.7999999999995, 1001.3999999999997, 11.8, 952.9999999999998, 1418.6000000000004, 784.0000000000002, 351.90000000000003, 890.4, 915.4999999999999, 1090.5999999999995, 910.8, 228.00000000000003, 429.80000000000007, 429.2000000000001, 850.8, 1303.5999999999988, 1229.2, 357.29999999999995, 454.2999999999999, 842.1999999999994, 479.79999999999995, 404.1000000000001, 32.4, 301.70000000000005, 489.5999999999999, 878.1999999999998, 468.0999999999999, 277.3999999999999, 959.3000000000004, 308.5999999999999, 461.3999999999999, 130.60000000000002, 243.5000000000001, 297.5, 1008.5999999999996, 40.0, 985.5999999999995, 410.2, 1127.6999999999991, 607.3999999999999, 21.799999999999997, 204.69999999999996, 137.5, 133.70000000000002, 23.299999999999997, 173.1, 905.6000000000004, 820.5999999999995, 821.9999999999997, 295.90000000000003, 186.39999999999998, 170.1, 1072.7000000000003, 1283.9999999999998, 763.4000000000001, 304.9, 1044.0999999999995, 411.4, 347.6, 919.7999999999997, 2.9, 453.4, 873.3999999999997, 41.99999999999999, 838.7999999999996, 133.59999999999997, 357.7, 349.5000000000001, 775.3, 174.29999999999998, 358.2, 339.90000000000015, 818.5999999999998, 839.7999999999998, 474.0, 1171.1999999999998, 360.0, 746.9999999999998, 287.20000000000005, 855.5999999999999, 1015.7999999999992, 938.7999999999996, 451.8999999999999, 125.69999999999999, 1118.9999999999986, 372.40000000000003, 245.49999999999994, 820.9999999999999, 1309.3999999999994, 146.4, 14.700000000000001, 1013.3999999999995, 26.9, 724.7999999999998, 274.30000000000007, 369.70000000000005, 895.7999999999996, 1121.2, 259.0, 131.0, 39.7, 238.9, 486.99999999999994, 1038.0, 857.5999999999996, 951.2, 1399.0, 1137.3999999999996, 949.8000000000001, 61.400000000000006, 847.9999999999995, 894.4000000000001, 462.99999999999994, 1137.8, 385.20000000000016, 911.4000000000002, 273.8, 886.9999999999998, 788.9999999999999, 857.7999999999996, 1233.6000000000001, 349.8999999999999, 222.7, 1264.1999999999996, 6.0, 204.5, 853.5999999999997, 1000.2999999999994, 1085.6, 1013.1999999999998, 301.2, 713.8000000000001, 472.8, 941.1999999999999, 364.0, 1342.7999999999995, 266.5, 312.3999999999999, 892.3999999999997, 1067.9999999999993, 1042.0, 1196.7999999999993, 297.0, 1002.0000000000006, 151.20000000000002, 14.7, 1039.4, 895.6000000000003, 916.5999999999998, 255.00000000000009, 909.3999999999999, 874.0000000000001, 980.7999999999995, 824.1999999999998, 215.2, 964.7999999999993, 771.7999999999996, 207.30000000000004, 917.7999999999998, 886.5999999999998, 1079.1999999999998, 280.4, 870.0, 20.1, 786.0000000000002, 862.7999999999997, 108.90000000000002, 295.09999999999997, 881.3999999999996, 1295.9000000000003, 175.0, 1157.9, 323.3, 19.0, 1089.4000000000003, 787.8, 1295.7, 224.3, 57.8, 978.9999999999992, 481.5999999999999, 33.8, 179.59999999999994, 1037.7999999999995, 1025.7999999999997, 38.8, 26.5, 281.9, 463.19999999999993, 387.20000000000005, 828.9999999999999, 325.4000000000001, 8.4, 947.7999999999997, 737.2, 397.0, 387.2, 140.1, 935.0000000000005, 1144.7999999999993, 1049.7999999999993, 980.2000000000003, 967.6000000000004, 977.2000000000003, 23.700000000000003, 21.0, 898.5999999999999, 13.7, 794.9999999999998, 182.9, 868.5999999999999, 1235.1999999999985, 1134.499999999999, 182.29999999999998, 1037.9999999999995, 305.19999999999993, 454.4000000000001, 430.79999999999995, 1022.1999999999999, 549.0000000000002, 336.7999999999999, 861.8, 250.39999999999998, 2.7, 978.1999999999997, 987.5999999999992, 860.1999999999997, 1298.7000000000003, 392.1999999999999, 869.7999999999996, 905.2, 211.20000000000002, 172.89999999999998, 183.40000000000006, 251.20000000000005, 138.10000000000005, 785.3999999999997, 853.3999999999996, 17.0, 1198.0999999999995, 283.7, 860.2, 360.70000000000005, 26.200000000000003, 1328.0000000000005, 469.7, 1240.7999999999997, 507.8000000000001, 1284.0000000000005, 35.400000000000006, 276.40000000000003, 940.4, 799.2000000000006, 834.4000000000001, 1086.6, 786.3999999999996, 916.5999999999996, 163.90000000000006, 429.49999999999994, 1155.3000000000006, 991.1999999999991, 57.599999999999994, 835.9999999999995, 287.59999999999997, 929.7, 871.5999999999996, 968.5999999999999, 35.9, 919.1999999999997, 1555.3999999999999, 1033.1999999999994, 383.3, 820.9999999999997, 1007.3999999999995, 1155.6000000000001, 916.9999999999994, 194.09999999999997, 273.3, 493.0, 894.2000000000002, 1297.1, 1073.6999999999998, 322.7, 439.00000000000006, 928.3999999999999, 515.5999999999998, 346.0, 42.5, 293.59999999999997, 579.2, 1002.7999999999997, 298.90000000000003, 348.4, 1090.1999999999994, 413.0, 394.8, 107.70000000000003, 225.20000000000002, 261.59999999999997, 694.1999999999997, 31.8, 878.0000000000005, 547.1000000000001, 1209.9, 921.3999999999994, 36.6, 154.79999999999998, 162.3, 164.70000000000002, 14.400000000000002, 237.0, 1102.7999999999995, 831.7999999999998, 765.4000000000001, 437.99999999999994, 195.70000000000002, 163.49999999999997, 989.5999999999999, 1236.1999999999998, 791.9999999999999, 246.39999999999998, 1051.2999999999997, 347.6, 371.4, 883.8000000000003, 439.2000000000001, 1052.7999999999995, 47.599999999999994, 618.5999999999998, 150.10000000000005, 386.9999999999999, 262.29999999999995, 769.4, 165.3, 539.5999999999999, 256.2, 806.3999999999996, 696.5999999999997, 565.5999999999998, 1225.3999999999994, 379.09999999999997, 886.9999999999997, 363.2000000000001, 840.6, 8.8, 1025.4, 862.9999999999998, 339.5, 121.2, 1100.2, 266.30000000000007, 337.4000000000001, 907.5999999999998, 1136.5999999999997, 199.3, 8.4, 950.7999999999998, 26.6, 810.1999999999997, 282.1, 355.7000000000002, 767.9999999999998, 1076.6999999999996, 207.20000000000002, 163.49999999999997, 30.200000000000003, 226.40000000000006, 483.2, 766.9999999999998, 719.3999999999997, 831.6, 1183.6, 950.5999999999999, 1191.9, 47.599999999999994, 935.3999999999999, 917.8000000000002, 409.3999999999998, 1106.6999999999994, 319.39999999999986, 778.3999999999999, 386.59999999999985, 1081.5999999999997, 779.4, 988.3999999999995, 1073.1999999999998, 243.30000000000007, 132.9, 1161.799999999999, 247.70000000000005, 748.4000000000001, 1051.3000000000002, 889.0999999999996, 1071.2999999999997, 306.29999999999995, 842.7999999999997, 430.60000000000014, 917.8, 271.8, 1362.7999999999997, 182.09999999999997, 219.6, 884.4000000000001, 952.5999999999995, 984.9000000000001, 1161.1999999999996, 355.20000000000005, 849.8000000000001, 106.10000000000005, 17.2, 866.7999999999998, 854.5999999999999, 923.4, 444.6999999999998, 755.9999999999999, 766.2, 950.2, 772.6000000000003, 281.70000000000005, 920.4, 770.3999999999999, 191.49999999999997, 893.7999999999993, 955.1999999999994, 945.0000000000001, 323.1, 835.9999999999995, 26.799999999999997, 736.1999999999998, 929.5999999999998, 129.5, 246.60000000000002, 763.3999999999994, 1170.5, 229.99999999999997, 1168.0000000000005, 443.10000000000014, 47.7, 1013.399999999999, 702.7999999999998, 1118.8999999999994, 205.10000000000002, 39.3, 968.1999999999999, 457.00000000000017, 26.0, 142.00000000000003, 860.3999999999999, 962.4000000000003, 19.3, 24.5, 238.60000000000002, 487.4, 350.7, 716.3999999999999, 308.3999999999999, 13.399999999999999, 750.0, 633.9000000000003, 364.20000000000005, 569.9999999999998, 127.40000000000003, 1118.5999999999997, 1124.4999999999995, 1005.9000000000001, 910.1999999999995, 902.4, 913.9999999999999, 27.6, 39.49999999999999, 953.9999999999998, 41.39999999999999, 803.6000000000003, 275.3999999999999, 830.6000000000001, 1303.1999999999998, 1032.8999999999996, 194.90000000000003, 994.7999999999997, 372.4000000000001, 397.2000000000001, 401.6, 851.4000000000001, 415.59999999999997, 375.79999999999995, 747.4000000000002, 173.99999999999997, 39.3, 994.7999999999996, 1073.1999999999996, 836.0000000000002, 1172.1999999999996, 454.8, 747.9999999999999, 859.3999999999994, 205.50000000000006, 160.70000000000002, 343.3, 225.29999999999995, 110.80000000000004, 775.1999999999997, 873.4000000000002, 50.400000000000006, 1077.7999999999995, 200.79999999999998, 775.1999999999997, 279.5, 43.50000000000001, 1146.8, 425.7999999999999, 1218.4999999999995, 469.5999999999999, 1324.8000000000002, 45.699999999999996, 215.79999999999998, 958.4000000000003, 764.8000000000004, 717.3999999999999, 1224.8999999999996, 721.2000000000003, 1201.1999999999998, 182.50000000000003, 407.6000000000001, 989.3999999999997, 1262.1999999999996, 44.6, 589.9999999999999, 286.6, 951.8999999999999, 864.4, 952.2000000000002, 33.6, 830.1999999999997, 1596.5999999999997, 858.6000000000001, 451.1000000000001, 860.9999999999997, 916.3999999999992, 1065.0, 961.3999999999996, 209.39999999999998, 399.7, 421.0, 701.6, 1433.9999999999998, 1227.2000000000003, 291.50000000000006, 428.19999999999993, 650.8000000000002, 486.20000000000005, 401.79999999999984, 14.3, 492.70000000000005, 493.40000000000003, 809.5999999999997, 379.30000000000007, 227.89999999999998, 1053.8999999999994, 526.9999999999999, 512.6, 131.20000000000002, 251.60000000000002, 277.90000000000003, 1080.3999999999999, 11.8, 1065.1999999999996, 446.5999999999999, 1106.6000000000006, 764.0, 15.799999999999999, 207.1, 280.49999999999994, 151.40000000000006, 40.300000000000004, 230.3000000000001, 968.3999999999995, 952.7999999999997, 900.0, 384.00000000000006, 179.4, 133.1, 1126.5999999999995, 1183.4, 876.4000000000003, 214.69999999999996, 924.1000000000003, 374.2000000000001, 382.5999999999999, 918.9999999999998, 3.8, 485.40000000000003, 861.2, 34.4, 958.1999999999996, 201.70000000000002, 462.99999999999994, 243.29999999999998, 687.7, 162.09999999999997, 487.4, 230.50000000000009, 1007.7999999999995, 668.9999999999998, 460.79999999999995, 1322.8000000000006, 401.3999999999998, 837.2, 419.9999999999999, 998.4000000000004, 922.3999999999997, 951.9999999999995, 459.2999999999999, 158.3, 1018.9999999999995, 446.0, 218.40000000000003, 818.6, 1339.2000000000005, 217.5, 12.3, 1240.0000000000002, 35.6, 798.3999999999997, 296.09999999999997, 466.80000000000024, 943.4000000000003, 1157.4, 333.8999999999999, 187.69999999999993, 47.79999999999999, 300.00000000000006, 434.3999999999999, 837.5999999999997, 820.4, 914.7999999999998, 1180.2000000000003, 1206.1, 1282.9000000000003, 21.799999999999997, 904.2000000000002, 1022.9999999999999, 369.6000000000001, 1319.0999999999995, 430.1999999999999, 763.5999999999998, 382.5, 927.1999999999999, 705.1999999999995, 933.8, 1172.1999999999998, 345.29999999999995, 214.00000000000003, 1049.7999999999997, 270.1, 711.3999999999995, 974.9, 930.0999999999998, 1349.6000000000004, 310.40000000000003, 878.1999999999999, 515.1999999999999, 851.1999999999997, 431.0999999999999, 1335.8000000000004, 124.90000000000003, 262.70000000000005, 859.3999999999999, 1243.4000000000005, 881.4000000000002, 1068.3999999999992, 506.19999999999993, 914.5999999999998, 179.60000000000002, 4.2, 971.5999999999996, 763.5999999999999, 801.0, 264.3, 884.9999999999998, 1062.5999999999997, 786.5999999999997, 757.7999999999998, 292.0, 885.5999999999995, 968.3999999999997, 212.4, 888.6000000000001, 917.5999999999995, 892.1999999999999, 411.4000000000001, 895.0000000000002, 27.9, 937.1999999999998, 1015.3999999999996, 152.20000000000002, 328.9000000000001, 824.2000000000002, 1045.7, 176.70000000000002, 1184.8000000000002, 443.99999999999994, 15.0, 1026.7999999999997, 824.0, 1177.2999999999997, 190.49999999999994, 34.0, 1060.4000000000008, 405.0, 35.5, 159.49999999999997, 870.5999999999998, 921.3999999999999, 32.099999999999994, 30.3, 325.79999999999995, 388.60000000000014, 384.90000000000003, 843.9999999999999, 287.29999999999984, 11.5, 910.5999999999997, 924.0999999999999, 388.4000000000002, 441.0, 203.4, 998.2000000000002, 1195.8999999999999, 1145.8, 867.2, 1153.3999999999996, 1002.9999999999998, 30.800000000000004, 11.0, 999.3999999999997, 33.9, 913.5999999999997, 208.3, 1036.9999999999995, 1327.8000000000002, 962.1999999999997, 175.39999999999998, 1077.9999999999995, 273.00000000000006, 295.40000000000003, 432.3999999999999, 926.1999999999997, 505.6000000000002, 350.2, 1176.4999999999995, 228.4999999999999, 7.9, 922.7999999999997, 792.1999999999998, 990.3999999999999, 1209.5999999999995, 324.6, 903.3999999999996, 897.5999999999996, 206.99999999999991, 161.29999999999995, 252.9, 284.2, 102.79999999999998, 732.5999999999996, 898.9999999999999, 58.2, 1257.3999999999996, 272.80000000000007, 1011.7999999999998, 399.20000000000016, 14.799999999999999, 1335.8, 310.4, 1214.8999999999996, 443.2, 1414.9999999999998, 41.2, 235.1000000000001, 815.6, 834.1999999999999, 1013.6000000000001, 1199.2999999999997, 772.8, 1044.5999999999988, 265.2, 438.90000000000003, 1117.3999999999994, 1086.0, 860.3999999999999, 233.2, 960.9000000000003, 817.3999999999996, 991.5999999999997, 20.5, 823.6, 1638.799999999999, 911.0000000000001, 384.0, 895.1999999999998, 1031.999999999999, 1199.9999999999995, 1032.1999999999994, 262.00000000000006, 524.5999999999999, 543.8000000000001, 989.3999999999999, 1256.5999999999983, 1111.5999999999997, 341.1, 350.70000000000005, 842.0000000000001, 523.4, 404.09999999999997, 3.0, 310.90000000000003, 657.1999999999998, 775.2, 453.5999999999999, 281.7000000000001, 1187.2999999999995, 462.8, 410.19999999999993, 135.39999999999998, 265.8, 330.6000000000001, 859.1999999999998, 29.0, 986.0000000000001, 508.40000000000015, 1243.5999999999995, 867.9999999999999, 24.6, 284.7, 202.19999999999996, 153.20000000000002, 15.399999999999999, 208.99999999999994, 921.4, 1037.2, 792.9999999999999, 388.7, 154.69999999999996, 166.1, 1063.9, 1527.7999999999993, 833.3999999999997, 181.90000000000003, 986.1, 427.20000000000005, 408.20000000000005, 875.7999999999997, 446.5999999999999, 943.5999999999998, 18.0, 826.6, 132.99999999999997, 364.59999999999985, 261.59999999999997, 946.8999999999993, 189.9, 399.4, 344.3999999999999, 927.6000000000006, 796.9999999999999, 454.99999999999994, 1179.3999999999996, 420.59999999999997, 806.6000000000003, 433.80000000000007, 846.9999999999995, 850.1999999999995, 1016.9999999999997, 365.4000000000001, 88.30000000000001, 903.8, 405.9000000000001, 288.8000000000001, 875.2, 1219.2, 180.00000000000003, 35.2, 1012.3999999999997, 17.7, 954.2, 166.00000000000006, 389.79999999999995, 932.9999999999995, 1151.3, 229.39999999999995, 172.50000000000003, 42.2, 177.1, 564.4000000000002, 1034.9999999999995, 617.4000000000001, 894.6, 1277.1999999999998, 1140.3999999999996, 1075.8, 46.0, 914.4, 1005.9999999999995, 358.59999999999997, 1157.2999999999993, 474.3999999999999, 927.1999999999997, 380.8, 921.5999999999992, 872.9999999999997, 928.5999999999999, 1299.2, 321.3, 182.0, 1209.1999999999998, 210.20000000000002, 765.3999999999996, 1009.8999999999992, 1011.2999999999997, 1161.5999999999997, 358.20000000000005, 881.3999999999996, 440.0, 830.1999999999996, 387.0, 1286.5999999999997, 222.90000000000003, 310.90000000000003, 859.5000000000005, 965.4000000000002, 1000.4, 1126.1000000000008, 461.99999999999994, 809.3999999999996, 103.90000000000002, 17.4, 1049.6, 844.8, 901.9999999999999, 332.2, 901.5999999999998, 827.1999999999996, 886.6000000000001, 894.5999999999996, 352.70000000000005, 867.5999999999999, 935.3999999999996, 162.89999999999998, 952.1999999999996, 774.5999999999998, 964.5999999999998, 322.99999999999994, 861.3999999999999, 984.3999999999997, 910.5, 189.80000000000004, 312.00000000000006, 905.1999999999997, 989.6000000000001, 154.90000000000003, 1117.4999999999995, 421.1999999999999, 36.4, 899.7999999999995, 885.2000000000003, 1164.6, 186.3, 21.800000000000004, 1097.5999999999995, 384.1999999999999, 33.1, 137.9, 988.5999999999997, 944.1999999999995, 23.8, 8.7, 340.29999999999995, 505.2, 432.6000000000001, 693.9999999999995, 275.0, 40.5, 867.0000000000001, 638.6000000000003, 406.20000000000005, 431.60000000000014, 166.7, 1059.4000000000003, 1046.1000000000001, 1177.6, 835.1999999999999, 1149.2, 832.1999999999996, 30.6, 5.8, 920.199999999999, 20.799999999999997, 736.3999999999997, 209.29999999999998, 931.9999999999991, 1461.9999999999998, 1053.8999999999996, 116.70000000000002, 912.5999999999998, 323.09999999999997, 362.8, 360.79999999999995, 909.8, 450.8, 394.4999999999999, 1097.8999999999999, 192.9, 29.1, 824.7999999999997, 1073.7999999999997, 1072.9999999999998, 1163.3000000000004, 398.0, 896.6, 900.7999999999997, 262.3, 177.70000000000005, 204.89999999999998, 199.09999999999997, 108.59999999999997, 835.9999999999999, 835.7999999999993, 22.700000000000003, 1.8, 1042.999999999999, 138.10000000000002, 926.1999999999995, 322.1, 19.200000000000003, 1215.2000000000003, 491.40000000000015, 1142.5000000000007, 484.59999999999985, 1125.1999999999998, 21.400000000000002, 240.50000000000003, 859.6, 773.1999999999998, 890.7999999999998, 1236.7999999999995, 649.9999999999997, 996.7999999999993, 234.6, 413.99999999999994, 1080.4999999999998, 1161.6, 38.2, 859.5999999999996, 227.9000000000001, 887.4, 766.9999999999999, 912.8, 25.299999999999997, 817.5999999999999, 1325.9000000000005, 980.7999999999997, 278.6, 840.5999999999995, 1108.9999999999995, 1144.0000000000002, 822.9999999999999, 183.69999999999996, 294.99999999999994, 554.0000000000001, 839.1999999999997, 1222.1, 1258.099999999999, 392.1, 366.20000000000005, 831.3999999999994, 523.1, 438.20000000000005, 45.3, 347.70000000000005, 451.4000000000001, 927.5999999999996, 354.0999999999999, 302.79999999999995, 982.7999999999997, 359.2, 349.4, 131.6, 234.90000000000003, 315.29999999999995, 813.8000000000002, 35.2, 995.7999999999995, 341.40000000000003, 1279.7999999999995, 637.8, 21.299999999999997, 245.59999999999994, 177.0, 146.09999999999997, 34.400000000000006, 152.30000000000004, 968.1999999999996, 1064.7999999999995, 859.6000000000003, 423.0, 224.3999999999999, 133.1, 1203.8000000000004, 861.9999999999999, 716.2000000000003, 236.4, 1023.9999999999999, 365.19999999999993, 258.20000000000005, 854.7999999999996, 347.8, 868.4000000000001, 34.4, 726.9999999999999, 137.29999999999998, 406.79999999999995, 184.1, 758.0999999999996, 186.49999999999997, 431.00000000000006, 365.20000000000005, 855.0000000000001, 678.7999999999997, 456.7999999999999, 1064.3999999999996, 359.3999999999999, 837.5999999999999, 332.59999999999997, 792.7999999999997, 556.6000000000001, 756.5999999999996, 289.70000000000005, 125.99999999999997, 919.1999999999998, 355.00000000000006, 259.90000000000003, 703.3999999999997, 1358.5999999999997, 231.4, 17.099999999999998, 869.6000000000005, 38.2, 808.9999999999995, 222.4, 369.5, 709.7999999999997, 1013.2999999999997, 161.89999999999998, 204.7, 27.1, 181.60000000000002, 328.8, 758.8000000000001, 651.8000000000001, 897.9999999999999, 1192.3999999999999, 917.0999999999997, 957.8999999999994, 43.3, 847.4000000000002, 822.6000000000001, 313.79999999999995, 1190.3, 344.59999999999997, 752.4000000000001, 382.69999999999993, 864.3999999999999, 738.3999999999997, 993.1999999999999, 1134.9999999999995, 320.3, 191.69999999999993, 986.7999999999996, 240.49999999999997, 717.1999999999999, 965.6000000000003, 951.4999999999998, 1140.8999999999999, 295.8999999999999, 726.4, 349.79999999999995, 939.2000000000002, 265.6, 1363.9999999999998, 144.5, 248.10000000000005, 914.6999999999999, 985.1999999999998, 860.9999999999995, 1080.1999999999998, 344.00000000000006, 746.3999999999999, 101.30000000000001, 20.5, 950.5999999999995, 818.5999999999997, 771.4000000000001, 259.6000000000001, 838.3999999999999, 736.8000000000001, 849.3999999999993, 557.0000000000001, 297.49999999999994, 864.6000000000001, 671.7999999999998, 171.4, 1048.1999999999998, 757.5999999999998, 861.1999999999996, 305.40000000000003, 759.9999999999995, 5.9, 813.4000000000001, 1044.4999999999998, 131.10000000000002, 238.90000000000003, 712.3999999999999, 1217.1999999999998, 218.10000000000002, 904.1999999999998, 513.3, 17.8, 1021.9999999999994, 791.4000000000003, 1094.8000000000002, 186.10000000000005, 15.4, 801.9000000000001, 354.19999999999993, 38.300000000000004, 171.5, 843.6, 789.6000000000005, 22.799999999999997, 7.0, 257.49999999999994, 414.8000000000001, 458.7, 665.5999999999996, 241.4, 27.8, 866.5999999999997, 689.2999999999997, 430.00000000000006, 263.59999999999997, 169.59999999999997, 867.5999999999998, 986.9999999999995, 975.6000000000006, 902.7999999999994, 987.3999999999996, 821.0000000000001, 21.8, 28.6, 826.1999999999999, 14.900000000000002, 739.5999999999999, 188.0, 755.9999999999998, 1184.2999999999997, 979.9000000000002, 159.79999999999998, 1075.3999999999999, 309.5, 252.80000000000004, 389.49999999999994, 884.9999999999995, 348.79999999999995, 477.70000000000005, 915.5999999999996, 249.60000000000005, 13.7, 1120.6000000000004, 1076.0, 850.3999999999996, 1093.999999999999, 282.90000000000003, 741.2, 858.9999999999999, 214.79999999999998, 129.4, 239.80000000000004, 257.70000000000005, 85.90000000000002, 845.6, 861.7999999999995, 11.0, 7.6, 946.9, 188.29999999999995, 720.1999999999999, 300.50000000000006, 11.8, 1278.9999999999998, 346.20000000000016, 1124.999999999999, 435.4000000000002, 1159.9999999999993, 11.4, 171.8, 761.1999999999995, 616.6, 884.8000000000003, 921.5000000000006, 577.3999999999997, 1015.6000000000004, 224.70000000000002, 310.79999999999995, 1075.6, 941.2000000000002, 8.8, 821.3999999999996, 211.70000000000005, 780.0999999999999, 731.9999999999997, 977.9999999999998, 8.9, 795.6000000000001, 1282.4, 825.9999999999995, 303.80000000000007, 805.3999999999996, 1132.5999999999995, 1091.8, 919.3000000000001, 244.7000000000001, 350.90000000000003, 430.4, 913.3999999999996, 1399.799999999999, 1015.2000000000004, 405.49999999999994, 252.00000000000003, 607.7999999999998, 463.40000000000003, 405.59999999999997, 3.0, 339.49999999999994, 501.5999999999999, 909.7999999999994, 254.9, 290.0999999999999, 1033.0999999999997, 345.2, 338.99999999999994, 89.60000000000001, 215.29999999999998, 259.19999999999993, 812.8, 41.4, 924.5999999999997, 458.80000000000007, 1028.6000000000001, 749.7999999999997, 37.4, 170.3, 209.79999999999998, 119.70000000000002, 30.4, 169.20000000000002, 937.1999999999996, 862.8, 743.7999999999998, 395.5000000000001, 194.20000000000005, 192.09999999999997, 1084.4999999999995, 1223.9999999999995, 682.6000000000001, 169.79999999999998, 1127.6999999999998, 447.6000000000001, 369.4000000000001, 866.1999999999994, 488.0, 1048.2000000000003, 13.2, 772.7999999999995, 143.2, 428.30000000000024, 277.19999999999993, 563.6999999999999, 260.19999999999993, 378.19999999999993, 301.59999999999997, 788.9999999999995, 888.5999999999996, 423.0000000000003, 1324.5999999999995, 435.0, 714.9999999999997, 422.8999999999999, 941.9999999999994, 818.5999999999999, 908.8000000000002, 316.7, 154.0, 915.3999999999999, 459.7999999999999, 219.90000000000006, 908.1999999999996, 1288.9999999999995, 215.39999999999998, 24.2, 1105.0000000000005, 23.7, 730.1999999999999, 259.2, 282.20000000000005, 833.2, 1235.8, 214.39999999999998, 144.7, 42.599999999999994, 219.10000000000002, 465.20000000000005, 906.5999999999996, 685.9999999999998, 797.3999999999997, 1301.2000000000003, 1070.8999999999994, 1076.1999999999998, 83.59999999999998, 870.7999999999994, 1093.3999999999996, 482.8, 1097.6, 514.5000000000002, 908.3999999999999, 343.99999999999994, 950.5999999999999, 739.9999999999998, 1121.6, 1198.8000000000006, 315.00000000000006, 177.59999999999997, 873.1999999999998, 283.5999999999999, 784.7999999999998, 904.4, 940.1000000000005, 1286.0999999999997, 394.20000000000005, 835.3999999999995, 360.4, 1002.3999999999995, 329.1000000000001, 1484.1999999999991, 259.50000000000006, 338.1, 905.0000000000003, 9.2, 1049.9999999999995, 988.5999999999999, 1291.3000000000002, 367.80000000000007, 849.6000000000003, 112.10000000000004, 32.400000000000006, 1064.6000000000001, 729.6, 829.1999999999995, 340.8999999999999, 968.2000000000003, 902.5999999999999, 900.5999999999998, 822.7999999999998, 317.0, 1023.7999999999994, 987.6000000000003, 226.79999999999998, 1038.1999999999998, 960.1999999999997, 956.7999999999997, 280.59999999999997, 886.3999999999997, 10.7, 879.9999999999997, 929.8999999999992, 106.20000000000002, 272.5, 862.7999999999997, 1163.2000000000003, 216.99999999999997, 1269.8, 473.4, 30.699999999999996, 894.0, 842.4000000000002, 1287.1000000000001, 219.30000000000004, 72.8, 919.3999999999996, 414.00000000000006, 23.200000000000003, 181.5, 740.3999999999995, 924.4000000000001, 35.599999999999994, 48.4, 240.1, 487.80000000000007, 355.3999999999999, 705.9999999999999, 372.59999999999997, 45.49999999999999, 894.5999999999996, 860.5999999999999, 449.7999999999999, 466.6000000000001, 131.00000000000003, 1127.2, 1109.6999999999998, 1125.1, 828.3999999999997, 1047.9999999999998, 1065.5999999999997, 36.8, 56.800000000000004, 1076.6000000000001, 8.3, 796.9999999999998, 267.8999999999999, 1000.3999999999997, 1180.1999999999996, 911.6999999999996, 189.99999999999997, 1090.9999999999998, 279.09999999999997, 246.00000000000003, 473.3999999999999, 745.2000000000003, 552.2000000000002, 468.79999999999995, 915.0, 244.90000000000003, 19.5, 1004.7999999999997, 1117.3999999999994, 958.3999999999996, 1248.2000000000007, 292.5, 855.5999999999999, 931.1999999999992, 241.7, 124.40000000000002, 229.10000000000008, 326.7, 128.5, 941.9999999999999, 989.1999999999997, 20.700000000000003, 1271.5000000000002, 184.9, 965.9999999999993, 344.7, 19.9, 1304.7999999999997, 393.3999999999999, 1395.3999999999985, 441.4000000000002, 1126.8, 46.400000000000006, 344.2, 891.4, 819.2, 788.8000000000001, 1273.6999999999996, 881.5999999999998, 1127.4, 278.9, 358.49999999999994, 1100.6999999999998, 1114.6000000000001, 38.0, 747.7999999999998, 262.3999999999999, 810.8999999999997, 861.3999999999995, 875.8000000000002, 39.699999999999996, 840.6000000000003, 1522.9999999999993, 990.6, 419.80000000000007, 1017.1999999999996, 1000.8000000000001, 1184.2, 784.0, 193.20000000000005, 464.59999999999985, 564.9999999999999, 926.9999999999992, 1213.1999999999996, 942.2999999999996, 328.8999999999999, 455.00000000000006, 858.6000000000001, 554.6999999999998, 404.4, 22.799999999999997, 428.1, 509.2, 887.1999999999998, 274.29999999999995, 278.4999999999999, 1099.0999999999997, 385.2000000000001, 3.7, 446.4, 166.39999999999998, 205.4, 362.2999999999999, 1167.3999999999996, 39.0, 1026.1999999999994, 518.4, 1273.6, 767.2000000000002, 26.0, 151.79999999999995, 164.1, 132.59999999999997, 16.2, 222.10000000000002, 854.5999999999998, 988.4000000000002, 744.7999999999993, 478.49999999999994, 190.89999999999998, 200.2, 936.8000000000003, 1187.699999999999, 729.5999999999998, 206.6, 991.6999999999999, 347.8, 271.40000000000003, 735.7999999999998, 458.20000000000016, 1002.0000000000003, 17.3, 730.8000000000001, 84.2, 403.3999999999999, 250.40000000000006, 717.8, 212.39999999999998, 389.7999999999999, 337.59999999999997, 895.5999999999998, 744.4, 450.0, 1219.1999999999998, 498.09999999999997, 827.5999999999997, 417.29999999999984, 802.2000000000002, 838.8000000000002, 1077.3999999999992, 419.3000000000001, 138.89999999999998, 1020.6000000000001, 381.90000000000003, 250.60000000000002, 884.8, 1206.9999999999998, 235.1, 6.7, 964.7999999999995, 20.9, 808.4, 279.49999999999994, 375.4, 836.6000000000003, 1060.0000000000002, 245.39999999999992, 173.20000000000002, 46.300000000000004, 227.80000000000004, 518.9999999999998, 875.5999999999997, 771.0, 911.7999999999998, 1404.0000000000005, 1091.2999999999997, 1245.8000000000004, 41.599999999999994, 898.7999999999996, 997.1999999999996, 392.39999999999986, 977.7999999999993, 545.8999999999999, 888.1999999999999, 262.59999999999997, 804.3999999999997, 799.8, 967.3999999999997, 1072.0000000000002, 363.2, 160.89999999999998, 1138.8999999999992, 245.2, 703.4000000000003, 1000.3000000000004, 948.5, 1185.0999999999995, 304.4000000000001, 834.5999999999999, 427.1999999999999, 869.5999999999996, 301.4, 1422.3999999999994, 165.6, 247.70000000000005, 937.1, 1074.2, 952.1999999999996, 1179.1999999999996, 399.59999999999997, 844.8000000000002, 180.70000000000007, 11.7, 993.3999999999996, 766.7999999999998, 738.3999999999997, 297.3, 794.9999999999999, 939.3999999999995, 813.7999999999998, 822.5999999999993, 301.70000000000005, 736.0000000000001, 850.1999999999999, 191.60000000000002, 920.6000000000001, 781.4000000000002, 899.7999999999998, 378.20000000000005, 917.1999999999991, 18.6, 904.4, 879.6999999999995, 158.2, 229.70000000000002, 782.0000000000001, 1048.6999999999998, 154.39999999999998, 1084.0, 303.2, 33.2, 1066.1999999999998, 871.6, 964.0000000000001, 219.7, 25.4, 1013.1999999999994, 569.9999999999999, 33.1, 181.2, 832.4, 848.1999999999996, 34.0, 14.600000000000001, 180.29999999999998, 518.2, 344.7, 743.9999999999999, 315.7999999999999, 5.9, 868.4000000000003, 730.4000000000003, 340.30000000000007, 334.7, 115.1, 1040.1999999999994, 1124.1999999999985, 1137.5999999999997, 847.9999999999995, 936.7999999999998, 981.9999999999992, 11.2, 30.699999999999996, 977.3999999999996, 31.499999999999996, 967.5999999999997, 188.60000000000005, 1042.7999999999997, 1455.6999999999994, 1063.6999999999998, 188.19999999999996, 925.1999999999995, 325.1999999999999, 265.0, 346.40000000000003, 878.9999999999997, 585.3999999999999, 376.00000000000006, 1037.8999999999994, 232.7, 1013.7999999999997, 1023.3999999999997, 940.4, 1087.7, 388.59999999999997, 822.3999999999999, 986.9999999999999, 309.2999999999999, 153.70000000000002, 237.2, 312.2000000000001, 89.39999999999999, 790.4000000000001, 971.2, 29.700000000000003, 852.8000000000003, 199.70000000000005, 921.3999999999999, 262.2, 23.299999999999997, 1174.4, 344.59999999999997, 1234.4000000000005, 554.2, 1012.5999999999998, 23.200000000000003, 185.3, 4.6, 869.3999999999996, 689.3999999999996, 667.3999999999997, 1186.3, 2.6, 774.1999999999999, 1139.1999999999996, 246.60000000000008, 375.59999999999997, 1021.2999999999997, 1143.9999999999993, 40.3, 821.9999999999995, 231.50000000000006, 823.9, 781.3999999999999, 961.4000000000001, 40.3, 1049.1999999999998, 1489.5999999999997, 848.2000000000002, 395.70000000000005, 942.3999999999996, 1026.1999999999996, 1001.3999999999996, 776.9999999999999, 181.8, 472.40000000000003, 416.6000000000001, 823.0000000000002, 1181.7999999999997, 1206.9999999999993, 290.4, 351.3, 740.9999999999999, 414.3999999999999, 385.90000000000003, 29.799999999999997, 301.9000000000001, 517.8000000000002, 1068.0000000000005, 339.00000000000006, 270.5, 1022.9999999999993, 447.70000000000016, 418.59999999999997, 77.5, 234.4, 222.6, 951.0000000000001, 28.4, 1101.1999999999998, 474.59999999999985, 1024.0, 805.7999999999996, 9.0, 201.00000000000006, 267.70000000000016, 124.60000000000001, 14.0, 191.79999999999993, 998.5999999999999, 945.7999999999993, 764.7999999999996, 415.50000000000017, 223.4, 195.89999999999992, 1013.0999999999995, 1011.1499999999999, 756.5000000000001, 245.90000000000006, 912.3999999999996, 369.19999999999993, 346.8000000000001, 789.2499999999995, 375.30000000000007, 786.2000000000002, 18.200000000000003, 779.45, 131.60000000000002, 337.40000000000003, 288.0, 823.1999999999999, 233.95000000000002, 484.20000000000005, 420.6999999999999, 836.8999999999997, 785.4999999999994, 411.95000000000005, 1102.9, 354.2000000000001, 625.0, 489.1000000000001, 793.9, 858.2999999999996, 916.3999999999997, 345.5000000000001, 174.40000000000003, 916.3999999999996, 273.99999999999994, 217.09999999999994, 800.0500000000002, 1331.6999999999994, 259.6, 30.3, 1087.2499999999995, 56.49999999999999, 692.9999999999997, 244.35, 381.2000000000001, 818.0999999999998, 1172.0000000000005, 242.19999999999996, 202.49999999999997, 32.6, 275.04999999999995, 347.7499999999999, 713.8499999999997, 659.25, 876.0999999999997, 1075.7, 964.0499999999998, 1041.0999999999995, 27.499999999999996, 743.5, 1185.2000000000005, 433.69999999999993, 1041.05, 385.00000000000006, 880.5000000000001, 386.6, 893.8000000000002, 739.3999999999999, 890.1000000000004, 1115.5, 300.6000000000001, 226.09999999999994, 1031.5999999999995, 307.40000000000003, 897.8499999999999, 937.75, 917.0999999999996, 1138.6500000000005, 423.7, 842.8999999999996, 538.5999999999999, 868.4999999999998, 329.9000000000001, 1320.4500000000003, 245.6999999999999, 314.49999999999994, 1095.3999999999996, 1099.0999999999995, 895.4999999999999, 1170.55, 291.3000000000002, 896.0999999999997, 166.0, 24.299999999999997, 983.9000000000001, 901.4999999999997, 870.6999999999996, 306.20000000000005, 993.4999999999993, 833.1000000000003, 907.5500000000003, 737.0, 384.4999999999999, 737.5999999999997, 805.7999999999997, 185.6, 818.7999999999998, 785.3000000000001, 768.5500000000001, 430.74999999999994, 897.5, 13.3, 808.7999999999998, 817.2000000000003, 160.14999999999998, 326.09999999999997, 826.6999999999998, 969.4999999999999, 157.7, 1078.3000000000006, 476.0, 27.6, 886.4999999999997, 800.1999999999998, 1362.0999999999995, 188.80000000000004, 71.69999999999999, 926.1499999999995, 408.50000000000006, 34.400000000000006, 183.40000000000006, 1048.6999999999998, 815.5999999999999, 27.9, 5.9, 191.59999999999997, 349.9999999999999, 316.55, 728.5499999999996, 266.19999999999993, 29.6, 785.4499999999999, 682.8999999999996, 430.4999999999999, 350.6000000000001, 196.9, 935.9000000000001, 977.4499999999999, 861.0999999999998, 876.0499999999997, 853.1, 903.2999999999996, 26.4, 18.8, 766.2499999999998, 19.900000000000002, 692.0000000000001, 238.0, 847.6999999999997, 1414.049999999999, 1001.3499999999996, 240.19999999999993, 954.2499999999997, 262.1, 327.4, 439.29999999999984, 860.9999999999998, 433.8000000000001, 302.40000000000003, 1016.6000000000004, 280.7, 18.1, 892.7999999999995, 1029.3999999999999, 896.5999999999999, 1058.9999999999998, 406.0, 823.1999999999996, 944.9499999999997, 297.9000000000001, 186.49999999999997, 218.70000000000005, 300.8, 139.4, 977.4, 806.2999999999998, 22.900000000000002, 1013.6999999999996, 239.69999999999996, 916.8999999999999, 287.0, 28.5, 1183.1999999999994, 421.60000000000025, 1086.7999999999997, 436.55000000000007, 1088.6999999999998, 58.60000000000001, 243.39999999999995, 781.1, 1079.3000000000004, 765.4000000000002, 1089.749999999999, 811.3000000000001, 915.9999999999999, 204.29999999999995, 285.20000000000005, 936.2000000000003, 1274.6999999999994, 25.0, 822.2999999999997, 252.89999999999998, 742.1999999999998, 771.6, 836.1499999999994, 62.8, 884.5999999999998, 1595.8999999999999, 800.4, 297.79999999999995, 850.9, 1105.6000000000004, 989.5999999999995, 903.3999999999996, 315.99999999999983, 424.2, 468.7, 990.6000000000001, 1268.3, 1245.8999999999996, 328.25, 445.2, 754.4000000000002, 462.99999999999994, 402.7000000000001, 29.15, 335.2, 432.99999999999994, 905.4999999999995, 231.4, 272.9999999999999, 863.4, 305.40000000000003, 327.6, 149.69999999999996, 238.0, 300.90000000000003, 842.9000000000001, 23.900000000000002, 891.9999999999997, 486.3499999999999, 1125.5500000000002, 665.2999999999998, 9.8, 240.09999999999997, 157.29999999999998, 170.29999999999998, 37.39999999999999, 239.79999999999993, 927.7, 878.0000000000001, 768.6999999999997, 322.80000000000007, 169.49999999999997, 149.7, 996.9000000000003, 1195.999999999999, 848.1999999999999, 207.39999999999998, 1076.5999999999997, 330.80000000000007, 253.50000000000003, 713.0, 298.79999999999995, 825.3999999999997, 44.4, 786.0, 109.19999999999999, 272.3999999999999, 290.59999999999997, 661.0999999999999, 253.79999999999995, 377.59999999999997, 266.29999999999995, 793.3999999999999, 743.4000000000001, 424.2000000000001, 1229.8000000000004, 479.5, 775.6, 346.00000000000006, 777.4, 797.1999999999995, 788.5999999999998, 272.9, 126.60000000000002, 1117.1999999999996, 351.5999999999999, 248.70000000000002, 776.3999999999997, 1458.6000000000001, 233.10000000000002, 15.5, 1092.9999999999995, 50.0, 818.8, 260.0, 369.6, 852.7999999999998, 1235.1, 242.10000000000002, 132.3, 62.39999999999999, 196.2, 371.70000000000005, 985.1999999999999, 583.9, 859.7999999999998, 1061.3999999999996, 1136.5999999999992, 874.8000000000001, 24.799999999999997, 839.1999999999996, 1077.1999999999998, 342.5999999999999, 1032.9, 393.0, 887.9999999999999, 201.5, 1040.0, 627.9999999999998, 894.0000000000001, 1124.999999999999, 317.3999999999999, 214.89999999999995, 1029.4, 253.29999999999995, 771.0000000000001, 833.3999999999996, 1018.2000000000002, 1308.7000000000003, 392.40000000000003, 900.6000000000003, 465.99999999999994, 817.1999999999996, 344.1, 1304.6, 178.9, 273.1999999999999, 922.2999999999997, 1129.8000000000002, 771.9999999999999, 1146.3, 246.79999999999995, 808.0, 152.59999999999997, 22.799999999999997, 990.8000000000002, 892.9999999999994, 926.7999999999998, 240.99999999999997, 716.6000000000001, 806.3999999999994, 657.1999999999996, 656.3999999999999, 311.5999999999999, 779.5999999999999, 747.9999999999998, 200.40000000000006, 991.1999999999992, 822.3999999999997, 1004.1999999999999, 279.80000000000007, 854.3999999999996, 6.1, 778.5999999999999, 853.0, 179.90000000000003, 241.4, 842.1999999999997, 922.2999999999997, 175.1, 981.3999999999997, 387.70000000000005, 32.300000000000004, 973.1999999999997, 725.5999999999999, 1283.6000000000001, 145.00000000000003, 38.300000000000004, 932.1999999999998, 445.3999999999999, 38.99999999999999, 227.7999999999999, 801.7999999999997, 1118.0000000000005, 14.2, 19.0, 238.39999999999998, 394.4000000000001, 411.9, 739.1999999999992, 307.79999999999995, 8.1, 714.8000000000002, 755.1999999999997, 349.19999999999993, 420.4, 158.29999999999995, 784.5999999999997, 1118.3999999999994, 1175.2, 848.3999999999997, 933.6000000000003, 860.6000000000001, 43.699999999999996, 28.599999999999998, 926.0000000000001, 20.6, 702.8, 236.10000000000002, 769.9999999999998, 1413.2999999999993, 918.6000000000004, 191.0, 819.7999999999998, 352.9999999999999, 389.4000000000001, 333.6, 1022.5999999999996, 485.00000000000017, 394.99999999999994, 1087.3999999999999, 265.09999999999997, 26.0, 707.5999999999998, 890.3999999999996, 939.3999999999999, 1190.0999999999995, 276.6000000000001, 905.3999999999995, 893.4000000000001, 209.99999999999994, 179.6, 250.69999999999996, 196.70000000000005, 90.60000000000001, 627.6000000000001, 810.6, 25.0, 3.7, 1209.3999999999999, 184.60000000000002, 721.6, 352.4, 13.8, 1175.5999999999997, 512.0, 1219.8999999999987, 576.0, 1204.0, 35.0, 227.89999999999995, 892.5999999999997, 809.1999999999999, 800.7999999999997, 1128.3999999999996, 755.5999999999997, 935.9999999999997, 247.00000000000003, 287.3999999999999, 1220.7000000000003, 1191.3999999999992, 22.799999999999997, 772.4, 261.0999999999999, 813.3, 655.4000000000001, 911.6, 50.4, 906.0000000000005, 1441.000000000001, 807.7999999999998, 351.8, 807.9999999999999, 1031.2, 956.3999999999999, 653.6, 221.00000000000003, 295.4, 427.60000000000014, 736.1999999999999, 1077.0, 1047.3999999999996, 328.6, 355.30000000000007, 756.3999999999999, 476.40000000000003, 321.3, 61.4, 384.7000000000001, 435.8000000000001, 848.9999999999994, 372.5, 277.99999999999994, 1100.9, 314.20000000000005, 470.0, 140.79999999999998, 295.2, 246.90000000000003, 952.3999999999997, 18.2, 794.8000000000001, 445.0, 1125.8, 885.5999999999995, 31.5, 213.80000000000004, 195.49999999999997, 153.59999999999997, 18.5, 224.70000000000002, 810.9999999999998, 892.0000000000001, 907.9999999999999, 297.29999999999995], \"yaxis\": \"y\"}],\n",
              "                        {\"barmode\": \"relative\", \"coloraxis\": {\"colorbar\": {\"title\": {\"text\": \"STORE_NBR\"}}, \"colorscale\": [[0.0, \"#0d0887\"], [0.1111111111111111, \"#46039f\"], [0.2222222222222222, \"#7201a8\"], [0.3333333333333333, \"#9c179e\"], [0.4444444444444444, \"#bd3786\"], [0.5555555555555556, \"#d8576b\"], [0.6666666666666666, \"#ed7953\"], [0.7777777777777778, \"#fb9f3a\"], [0.8888888888888888, \"#fdca26\"], [1.0, \"#f0f921\"]]}, \"legend\": {\"tracegroupgap\": 0}, \"margin\": {\"t\": 60}, \"template\": {\"data\": {\"bar\": [{\"error_x\": {\"color\": \"#2a3f5f\"}, \"error_y\": {\"color\": \"#2a3f5f\"}, \"marker\": {\"line\": {\"color\": \"#E5ECF6\", \"width\": 0.5}}, \"type\": \"bar\"}], \"barpolar\": [{\"marker\": {\"line\": {\"color\": \"#E5ECF6\", \"width\": 0.5}}, \"type\": \"barpolar\"}], \"carpet\": [{\"aaxis\": {\"endlinecolor\": \"#2a3f5f\", \"gridcolor\": \"white\", \"linecolor\": \"white\", \"minorgridcolor\": \"white\", \"startlinecolor\": \"#2a3f5f\"}, \"baxis\": {\"endlinecolor\": \"#2a3f5f\", \"gridcolor\": \"white\", \"linecolor\": \"white\", \"minorgridcolor\": \"white\", \"startlinecolor\": \"#2a3f5f\"}, \"type\": \"carpet\"}], \"choropleth\": [{\"colorbar\": {\"outlinewidth\": 0, \"ticks\": \"\"}, \"type\": \"choropleth\"}], \"contour\": [{\"colorbar\": {\"outlinewidth\": 0, \"ticks\": \"\"}, \"colorscale\": [[0.0, \"#0d0887\"], [0.1111111111111111, \"#46039f\"], [0.2222222222222222, \"#7201a8\"], [0.3333333333333333, \"#9c179e\"], [0.4444444444444444, \"#bd3786\"], [0.5555555555555556, \"#d8576b\"], [0.6666666666666666, \"#ed7953\"], [0.7777777777777778, \"#fb9f3a\"], [0.8888888888888888, \"#fdca26\"], [1.0, \"#f0f921\"]], \"type\": \"contour\"}], \"contourcarpet\": [{\"colorbar\": {\"outlinewidth\": 0, \"ticks\": \"\"}, \"type\": \"contourcarpet\"}], \"heatmap\": [{\"colorbar\": {\"outlinewidth\": 0, \"ticks\": \"\"}, \"colorscale\": [[0.0, \"#0d0887\"], [0.1111111111111111, \"#46039f\"], [0.2222222222222222, \"#7201a8\"], [0.3333333333333333, \"#9c179e\"], [0.4444444444444444, \"#bd3786\"], [0.5555555555555556, \"#d8576b\"], [0.6666666666666666, \"#ed7953\"], [0.7777777777777778, \"#fb9f3a\"], [0.8888888888888888, \"#fdca26\"], [1.0, \"#f0f921\"]], \"type\": \"heatmap\"}], \"heatmapgl\": [{\"colorbar\": {\"outlinewidth\": 0, \"ticks\": \"\"}, \"colorscale\": [[0.0, \"#0d0887\"], [0.1111111111111111, \"#46039f\"], [0.2222222222222222, \"#7201a8\"], [0.3333333333333333, \"#9c179e\"], [0.4444444444444444, \"#bd3786\"], [0.5555555555555556, \"#d8576b\"], [0.6666666666666666, \"#ed7953\"], [0.7777777777777778, \"#fb9f3a\"], [0.8888888888888888, \"#fdca26\"], [1.0, \"#f0f921\"]], \"type\": \"heatmapgl\"}], \"histogram\": [{\"marker\": {\"colorbar\": {\"outlinewidth\": 0, \"ticks\": \"\"}}, \"type\": \"histogram\"}], \"histogram2d\": [{\"colorbar\": {\"outlinewidth\": 0, \"ticks\": \"\"}, \"colorscale\": [[0.0, \"#0d0887\"], [0.1111111111111111, \"#46039f\"], [0.2222222222222222, \"#7201a8\"], [0.3333333333333333, \"#9c179e\"], [0.4444444444444444, \"#bd3786\"], [0.5555555555555556, \"#d8576b\"], [0.6666666666666666, \"#ed7953\"], [0.7777777777777778, \"#fb9f3a\"], [0.8888888888888888, \"#fdca26\"], [1.0, \"#f0f921\"]], \"type\": \"histogram2d\"}], \"histogram2dcontour\": [{\"colorbar\": {\"outlinewidth\": 0, \"ticks\": \"\"}, \"colorscale\": [[0.0, \"#0d0887\"], [0.1111111111111111, \"#46039f\"], [0.2222222222222222, \"#7201a8\"], [0.3333333333333333, \"#9c179e\"], [0.4444444444444444, \"#bd3786\"], [0.5555555555555556, \"#d8576b\"], [0.6666666666666666, \"#ed7953\"], [0.7777777777777778, \"#fb9f3a\"], [0.8888888888888888, \"#fdca26\"], [1.0, \"#f0f921\"]], \"type\": \"histogram2dcontour\"}], \"mesh3d\": [{\"colorbar\": {\"outlinewidth\": 0, \"ticks\": \"\"}, \"type\": \"mesh3d\"}], \"parcoords\": [{\"line\": {\"colorbar\": {\"outlinewidth\": 0, \"ticks\": \"\"}}, \"type\": \"parcoords\"}], \"pie\": [{\"automargin\": true, \"type\": \"pie\"}], \"scatter\": [{\"marker\": {\"colorbar\": {\"outlinewidth\": 0, \"ticks\": \"\"}}, \"type\": \"scatter\"}], \"scatter3d\": [{\"line\": {\"colorbar\": {\"outlinewidth\": 0, \"ticks\": \"\"}}, \"marker\": {\"colorbar\": {\"outlinewidth\": 0, \"ticks\": \"\"}}, \"type\": \"scatter3d\"}], \"scattercarpet\": [{\"marker\": {\"colorbar\": {\"outlinewidth\": 0, \"ticks\": \"\"}}, \"type\": \"scattercarpet\"}], \"scattergeo\": [{\"marker\": {\"colorbar\": {\"outlinewidth\": 0, \"ticks\": \"\"}}, \"type\": \"scattergeo\"}], \"scattergl\": [{\"marker\": {\"colorbar\": {\"outlinewidth\": 0, \"ticks\": \"\"}}, \"type\": \"scattergl\"}], \"scattermapbox\": [{\"marker\": {\"colorbar\": {\"outlinewidth\": 0, \"ticks\": \"\"}}, \"type\": \"scattermapbox\"}], \"scatterpolar\": [{\"marker\": {\"colorbar\": {\"outlinewidth\": 0, \"ticks\": \"\"}}, \"type\": \"scatterpolar\"}], \"scatterpolargl\": [{\"marker\": {\"colorbar\": {\"outlinewidth\": 0, \"ticks\": \"\"}}, \"type\": \"scatterpolargl\"}], \"scatterternary\": [{\"marker\": {\"colorbar\": {\"outlinewidth\": 0, \"ticks\": \"\"}}, \"type\": \"scatterternary\"}], \"surface\": [{\"colorbar\": {\"outlinewidth\": 0, \"ticks\": \"\"}, \"colorscale\": [[0.0, \"#0d0887\"], [0.1111111111111111, \"#46039f\"], [0.2222222222222222, \"#7201a8\"], [0.3333333333333333, \"#9c179e\"], [0.4444444444444444, \"#bd3786\"], [0.5555555555555556, \"#d8576b\"], [0.6666666666666666, \"#ed7953\"], [0.7777777777777778, \"#fb9f3a\"], [0.8888888888888888, \"#fdca26\"], [1.0, \"#f0f921\"]], \"type\": \"surface\"}], \"table\": [{\"cells\": {\"fill\": {\"color\": \"#EBF0F8\"}, \"line\": {\"color\": \"white\"}}, \"header\": {\"fill\": {\"color\": \"#C8D4E3\"}, \"line\": {\"color\": \"white\"}}, \"type\": \"table\"}]}, \"layout\": {\"annotationdefaults\": {\"arrowcolor\": \"#2a3f5f\", \"arrowhead\": 0, \"arrowwidth\": 1}, \"coloraxis\": {\"colorbar\": {\"outlinewidth\": 0, \"ticks\": \"\"}}, \"colorscale\": {\"diverging\": [[0, \"#8e0152\"], [0.1, \"#c51b7d\"], [0.2, \"#de77ae\"], [0.3, \"#f1b6da\"], [0.4, \"#fde0ef\"], [0.5, \"#f7f7f7\"], [0.6, \"#e6f5d0\"], [0.7, \"#b8e186\"], [0.8, \"#7fbc41\"], [0.9, \"#4d9221\"], [1, \"#276419\"]], \"sequential\": [[0.0, \"#0d0887\"], [0.1111111111111111, \"#46039f\"], [0.2222222222222222, \"#7201a8\"], [0.3333333333333333, \"#9c179e\"], [0.4444444444444444, \"#bd3786\"], [0.5555555555555556, \"#d8576b\"], [0.6666666666666666, \"#ed7953\"], [0.7777777777777778, \"#fb9f3a\"], [0.8888888888888888, \"#fdca26\"], [1.0, \"#f0f921\"]], \"sequentialminus\": [[0.0, \"#0d0887\"], [0.1111111111111111, \"#46039f\"], [0.2222222222222222, \"#7201a8\"], [0.3333333333333333, \"#9c179e\"], [0.4444444444444444, \"#bd3786\"], [0.5555555555555556, \"#d8576b\"], [0.6666666666666666, \"#ed7953\"], [0.7777777777777778, \"#fb9f3a\"], [0.8888888888888888, \"#fdca26\"], [1.0, \"#f0f921\"]]}, \"colorway\": [\"#636efa\", \"#EF553B\", \"#00cc96\", \"#ab63fa\", \"#FFA15A\", \"#19d3f3\", \"#FF6692\", \"#B6E880\", \"#FF97FF\", \"#FECB52\"], \"font\": {\"color\": \"#2a3f5f\"}, \"geo\": {\"bgcolor\": \"white\", \"lakecolor\": \"white\", \"landcolor\": \"#E5ECF6\", \"showlakes\": true, \"showland\": true, \"subunitcolor\": \"white\"}, \"hoverlabel\": {\"align\": \"left\"}, \"hovermode\": \"closest\", \"mapbox\": {\"style\": \"light\"}, \"paper_bgcolor\": \"white\", \"plot_bgcolor\": \"#E5ECF6\", \"polar\": {\"angularaxis\": {\"gridcolor\": \"white\", \"linecolor\": \"white\", \"ticks\": \"\"}, \"bgcolor\": \"#E5ECF6\", \"radialaxis\": {\"gridcolor\": \"white\", \"linecolor\": \"white\", \"ticks\": \"\"}}, \"scene\": {\"xaxis\": {\"backgroundcolor\": \"#E5ECF6\", \"gridcolor\": \"white\", \"gridwidth\": 2, \"linecolor\": \"white\", \"showbackground\": true, \"ticks\": \"\", \"zerolinecolor\": \"white\"}, \"yaxis\": {\"backgroundcolor\": \"#E5ECF6\", \"gridcolor\": \"white\", \"gridwidth\": 2, \"linecolor\": \"white\", \"showbackground\": true, \"ticks\": \"\", \"zerolinecolor\": \"white\"}, \"zaxis\": {\"backgroundcolor\": \"#E5ECF6\", \"gridcolor\": \"white\", \"gridwidth\": 2, \"linecolor\": \"white\", \"showbackground\": true, \"ticks\": \"\", \"zerolinecolor\": \"white\"}}, \"shapedefaults\": {\"line\": {\"color\": \"#2a3f5f\"}}, \"ternary\": {\"aaxis\": {\"gridcolor\": \"white\", \"linecolor\": \"white\", \"ticks\": \"\"}, \"baxis\": {\"gridcolor\": \"white\", \"linecolor\": \"white\", \"ticks\": \"\"}, \"bgcolor\": \"#E5ECF6\", \"caxis\": {\"gridcolor\": \"white\", \"linecolor\": \"white\", \"ticks\": \"\"}}, \"title\": {\"x\": 0.05}, \"xaxis\": {\"automargin\": true, \"gridcolor\": \"white\", \"linecolor\": \"white\", \"ticks\": \"\", \"title\": {\"standoff\": 15}, \"zerolinecolor\": \"white\", \"zerolinewidth\": 2}, \"yaxis\": {\"automargin\": true, \"gridcolor\": \"white\", \"linecolor\": \"white\", \"ticks\": \"\", \"title\": {\"standoff\": 15}, \"zerolinecolor\": \"white\", \"zerolinewidth\": 2}}}, \"xaxis\": {\"anchor\": \"y\", \"domain\": [0.0, 1.0], \"title\": {\"text\": \"year_month\"}}, \"yaxis\": {\"anchor\": \"x\", \"domain\": [0.0, 1.0], \"title\": {\"text\": \"TOT_SALES\"}}},\n",
              "                        {\"responsive\": true}\n",
              "                    ).then(function(){\n",
              "                            \n",
              "var gd = document.getElementById('0eff6f93-f667-44ee-971a-1073652392e8');\n",
              "var x = new MutationObserver(function (mutations, observer) {{\n",
              "        var display = window.getComputedStyle(gd).display;\n",
              "        if (!display || display === 'none') {{\n",
              "            console.log([gd, 'removed!']);\n",
              "            Plotly.purge(gd);\n",
              "            observer.disconnect();\n",
              "        }}\n",
              "}});\n",
              "\n",
              "// Listen for the removal of the full notebook cells\n",
              "var notebookContainer = gd.closest('#notebook-container');\n",
              "if (notebookContainer) {{\n",
              "    x.observe(notebookContainer, {childList: true});\n",
              "}}\n",
              "\n",
              "// Listen for the clearing of the current output cell\n",
              "var outputEl = gd.closest('.output');\n",
              "if (outputEl) {{\n",
              "    x.observe(outputEl, {childList: true});\n",
              "}}\n",
              "\n",
              "                        })\n",
              "                };\n",
              "                \n",
              "            </script>\n",
              "        </div>\n",
              "</body>\n",
              "</html>"
            ]
          },
          "metadata": {
            "tags": []
          }
        }
      ]
    },
    {
      "cell_type": "code",
      "metadata": {
        "id": "9DSNCrZOS9Ck",
        "colab_type": "code",
        "colab": {
          "base_uri": "https://localhost:8080/",
          "height": 230
        },
        "outputId": "203bfac1-68d4-4be1-dd40-8aaea031e58a"
      },
      "source": [
        "nTxn= df.groupby(['STORE_NBR','year_month'])['TXN_ID'].count().reset_index(drop=True)\n",
        "nTxn"
      ],
      "execution_count": 231,
      "outputs": [
        {
          "output_type": "execute_result",
          "data": {
            "text/plain": [
              "0        2\n",
              "1       55\n",
              "2       41\n",
              "3       62\n",
              "4       45\n",
              "        ..\n",
              "3382    48\n",
              "3383    58\n",
              "3384    52\n",
              "3385    41\n",
              "3386    35\n",
              "Name: TXN_ID, Length: 3387, dtype: int64"
            ]
          },
          "metadata": {
            "tags": []
          },
          "execution_count": 231
        }
      ]
    },
    {
      "cell_type": "code",
      "metadata": {
        "id": "ExluFKSfA6C-",
        "colab_type": "code",
        "colab": {
          "base_uri": "https://localhost:8080/",
          "height": 247
        },
        "outputId": "61c47ccf-1d89-4a03-eb84-b564e4857795"
      },
      "source": [
        "sorted(df['year_month'].unique())"
      ],
      "execution_count": 176,
      "outputs": [
        {
          "output_type": "execute_result",
          "data": {
            "text/plain": [
              "[numpy.datetime64('2018-06-01T00:00:00.000000000'),\n",
              " numpy.datetime64('2018-07-01T00:00:00.000000000'),\n",
              " numpy.datetime64('2018-08-01T00:00:00.000000000'),\n",
              " numpy.datetime64('2018-09-01T00:00:00.000000000'),\n",
              " numpy.datetime64('2018-10-01T00:00:00.000000000'),\n",
              " numpy.datetime64('2018-11-01T00:00:00.000000000'),\n",
              " numpy.datetime64('2018-12-01T00:00:00.000000000'),\n",
              " numpy.datetime64('2019-01-01T00:00:00.000000000'),\n",
              " numpy.datetime64('2019-02-01T00:00:00.000000000'),\n",
              " numpy.datetime64('2019-03-01T00:00:00.000000000'),\n",
              " numpy.datetime64('2019-04-01T00:00:00.000000000'),\n",
              " numpy.datetime64('2019-05-01T00:00:00.000000000'),\n",
              " numpy.datetime64('2019-06-01T00:00:00.000000000')]"
            ]
          },
          "metadata": {
            "tags": []
          },
          "execution_count": 176
        }
      ]
    },
    {
      "cell_type": "code",
      "metadata": {
        "id": "IoK9iHdclRDU",
        "colab_type": "code",
        "colab": {
          "base_uri": "https://localhost:8080/",
          "height": 197
        },
        "outputId": "459207ce-d9ef-4dd2-8609-4c8be3e6ec18"
      },
      "source": [
        "measureOverTime2['nCustomers'] = df.groupby(['STORE_NBR','year_month','LYLTY_CARD_NBR'])['DATE'].count().groupby(['STORE_NBR','year_month']).count().reset_index(drop=True)\n",
        "measureOverTime2.head()"
      ],
      "execution_count": 226,
      "outputs": [
        {
          "output_type": "execute_result",
          "data": {
            "text/html": [
              "<div>\n",
              "<style scoped>\n",
              "    .dataframe tbody tr th:only-of-type {\n",
              "        vertical-align: middle;\n",
              "    }\n",
              "\n",
              "    .dataframe tbody tr th {\n",
              "        vertical-align: top;\n",
              "    }\n",
              "\n",
              "    .dataframe thead th {\n",
              "        text-align: right;\n",
              "    }\n",
              "</style>\n",
              "<table border=\"1\" class=\"dataframe\">\n",
              "  <thead>\n",
              "    <tr style=\"text-align: right;\">\n",
              "      <th></th>\n",
              "      <th>STORE_NBR</th>\n",
              "      <th>year_month</th>\n",
              "      <th>TOT_SALES</th>\n",
              "      <th>nCustomers</th>\n",
              "      <th>nTxnPerCust</th>\n",
              "    </tr>\n",
              "  </thead>\n",
              "  <tbody>\n",
              "    <tr>\n",
              "      <th>0</th>\n",
              "      <td>1</td>\n",
              "      <td>2018-06-01</td>\n",
              "      <td>4.8</td>\n",
              "      <td>2</td>\n",
              "      <td>1.000000</td>\n",
              "    </tr>\n",
              "    <tr>\n",
              "      <th>1</th>\n",
              "      <td>1</td>\n",
              "      <td>2018-07-01</td>\n",
              "      <td>220.2</td>\n",
              "      <td>52</td>\n",
              "      <td>1.057692</td>\n",
              "    </tr>\n",
              "    <tr>\n",
              "      <th>2</th>\n",
              "      <td>1</td>\n",
              "      <td>2018-08-01</td>\n",
              "      <td>171.8</td>\n",
              "      <td>41</td>\n",
              "      <td>1.000000</td>\n",
              "    </tr>\n",
              "    <tr>\n",
              "      <th>3</th>\n",
              "      <td>1</td>\n",
              "      <td>2018-09-01</td>\n",
              "      <td>278.2</td>\n",
              "      <td>59</td>\n",
              "      <td>1.050847</td>\n",
              "    </tr>\n",
              "    <tr>\n",
              "      <th>4</th>\n",
              "      <td>1</td>\n",
              "      <td>2018-10-01</td>\n",
              "      <td>186.4</td>\n",
              "      <td>44</td>\n",
              "      <td>1.022727</td>\n",
              "    </tr>\n",
              "  </tbody>\n",
              "</table>\n",
              "</div>"
            ],
            "text/plain": [
              "   STORE_NBR year_month  TOT_SALES  nCustomers  nTxnPerCust\n",
              "0          1 2018-06-01        4.8           2     1.000000\n",
              "1          1 2018-07-01      220.2          52     1.057692\n",
              "2          1 2018-08-01      171.8          41     1.000000\n",
              "3          1 2018-09-01      278.2          59     1.050847\n",
              "4          1 2018-10-01      186.4          44     1.022727"
            ]
          },
          "metadata": {
            "tags": []
          },
          "execution_count": 226
        }
      ]
    },
    {
      "cell_type": "code",
      "metadata": {
        "id": "_PQnUgYFDEju",
        "colab_type": "code",
        "colab": {
          "base_uri": "https://localhost:8080/",
          "height": 197
        },
        "outputId": "ff264815-3933-4a19-a015-19921dfd0c01"
      },
      "source": [
        "measureOverTime2['nTxnPerCust'] = nTxn/measureOverTime2['nCustomers']\n",
        "measureOverTime2.head()"
      ],
      "execution_count": 233,
      "outputs": [
        {
          "output_type": "execute_result",
          "data": {
            "text/html": [
              "<div>\n",
              "<style scoped>\n",
              "    .dataframe tbody tr th:only-of-type {\n",
              "        vertical-align: middle;\n",
              "    }\n",
              "\n",
              "    .dataframe tbody tr th {\n",
              "        vertical-align: top;\n",
              "    }\n",
              "\n",
              "    .dataframe thead th {\n",
              "        text-align: right;\n",
              "    }\n",
              "</style>\n",
              "<table border=\"1\" class=\"dataframe\">\n",
              "  <thead>\n",
              "    <tr style=\"text-align: right;\">\n",
              "      <th></th>\n",
              "      <th>STORE_NBR</th>\n",
              "      <th>year_month</th>\n",
              "      <th>TOT_SALES</th>\n",
              "      <th>nCustomers</th>\n",
              "      <th>nTxnPerCust</th>\n",
              "    </tr>\n",
              "  </thead>\n",
              "  <tbody>\n",
              "    <tr>\n",
              "      <th>0</th>\n",
              "      <td>1</td>\n",
              "      <td>2018-06-01</td>\n",
              "      <td>4.8</td>\n",
              "      <td>2</td>\n",
              "      <td>1.000000</td>\n",
              "    </tr>\n",
              "    <tr>\n",
              "      <th>1</th>\n",
              "      <td>1</td>\n",
              "      <td>2018-07-01</td>\n",
              "      <td>220.2</td>\n",
              "      <td>52</td>\n",
              "      <td>1.057692</td>\n",
              "    </tr>\n",
              "    <tr>\n",
              "      <th>2</th>\n",
              "      <td>1</td>\n",
              "      <td>2018-08-01</td>\n",
              "      <td>171.8</td>\n",
              "      <td>41</td>\n",
              "      <td>1.000000</td>\n",
              "    </tr>\n",
              "    <tr>\n",
              "      <th>3</th>\n",
              "      <td>1</td>\n",
              "      <td>2018-09-01</td>\n",
              "      <td>278.2</td>\n",
              "      <td>59</td>\n",
              "      <td>1.050847</td>\n",
              "    </tr>\n",
              "    <tr>\n",
              "      <th>4</th>\n",
              "      <td>1</td>\n",
              "      <td>2018-10-01</td>\n",
              "      <td>186.4</td>\n",
              "      <td>44</td>\n",
              "      <td>1.022727</td>\n",
              "    </tr>\n",
              "  </tbody>\n",
              "</table>\n",
              "</div>"
            ],
            "text/plain": [
              "   STORE_NBR year_month  TOT_SALES  nCustomers  nTxnPerCust\n",
              "0          1 2018-06-01        4.8           2     1.000000\n",
              "1          1 2018-07-01      220.2          52     1.057692\n",
              "2          1 2018-08-01      171.8          41     1.000000\n",
              "3          1 2018-09-01      278.2          59     1.050847\n",
              "4          1 2018-10-01      186.4          44     1.022727"
            ]
          },
          "metadata": {
            "tags": []
          },
          "execution_count": 233
        }
      ]
    },
    {
      "cell_type": "code",
      "metadata": {
        "id": "kvFtNZXPDjSv",
        "colab_type": "code",
        "colab": {
          "base_uri": "https://localhost:8080/",
          "height": 230
        },
        "outputId": "574ebcc3-ac40-40a0-83c2-83b0af8e042d"
      },
      "source": [
        "totQty = df.groupby(['STORE_NBR','year_month'])['PROD_QTY'].sum().reset_index(drop=True)\n",
        "totQty"
      ],
      "execution_count": 234,
      "outputs": [
        {
          "output_type": "execute_result",
          "data": {
            "text/plain": [
              "0         2\n",
              "1        65\n",
              "2        53\n",
              "3        75\n",
              "4        57\n",
              "       ... \n",
              "3382     91\n",
              "3383    111\n",
              "3384     97\n",
              "3385     73\n",
              "3386     66\n",
              "Name: PROD_QTY, Length: 3387, dtype: int64"
            ]
          },
          "metadata": {
            "tags": []
          },
          "execution_count": 234
        }
      ]
    },
    {
      "cell_type": "code",
      "metadata": {
        "id": "XOr2t0W95gQW",
        "colab_type": "code",
        "colab": {
          "base_uri": "https://localhost:8080/",
          "height": 197
        },
        "outputId": "ad6738bd-07cc-4cc0-a202-8fcba25eae5b"
      },
      "source": [
        "measureOverTime2['nChipsPerTxn'] = totQty/nTxn\n",
        "measureOverTime2.head()"
      ],
      "execution_count": 235,
      "outputs": [
        {
          "output_type": "execute_result",
          "data": {
            "text/html": [
              "<div>\n",
              "<style scoped>\n",
              "    .dataframe tbody tr th:only-of-type {\n",
              "        vertical-align: middle;\n",
              "    }\n",
              "\n",
              "    .dataframe tbody tr th {\n",
              "        vertical-align: top;\n",
              "    }\n",
              "\n",
              "    .dataframe thead th {\n",
              "        text-align: right;\n",
              "    }\n",
              "</style>\n",
              "<table border=\"1\" class=\"dataframe\">\n",
              "  <thead>\n",
              "    <tr style=\"text-align: right;\">\n",
              "      <th></th>\n",
              "      <th>STORE_NBR</th>\n",
              "      <th>year_month</th>\n",
              "      <th>TOT_SALES</th>\n",
              "      <th>nCustomers</th>\n",
              "      <th>nTxnPerCust</th>\n",
              "      <th>nChipsPerTxn</th>\n",
              "    </tr>\n",
              "  </thead>\n",
              "  <tbody>\n",
              "    <tr>\n",
              "      <th>0</th>\n",
              "      <td>1</td>\n",
              "      <td>2018-06-01</td>\n",
              "      <td>4.8</td>\n",
              "      <td>2</td>\n",
              "      <td>1.000000</td>\n",
              "      <td>1.000000</td>\n",
              "    </tr>\n",
              "    <tr>\n",
              "      <th>1</th>\n",
              "      <td>1</td>\n",
              "      <td>2018-07-01</td>\n",
              "      <td>220.2</td>\n",
              "      <td>52</td>\n",
              "      <td>1.057692</td>\n",
              "      <td>1.181818</td>\n",
              "    </tr>\n",
              "    <tr>\n",
              "      <th>2</th>\n",
              "      <td>1</td>\n",
              "      <td>2018-08-01</td>\n",
              "      <td>171.8</td>\n",
              "      <td>41</td>\n",
              "      <td>1.000000</td>\n",
              "      <td>1.292683</td>\n",
              "    </tr>\n",
              "    <tr>\n",
              "      <th>3</th>\n",
              "      <td>1</td>\n",
              "      <td>2018-09-01</td>\n",
              "      <td>278.2</td>\n",
              "      <td>59</td>\n",
              "      <td>1.050847</td>\n",
              "      <td>1.209677</td>\n",
              "    </tr>\n",
              "    <tr>\n",
              "      <th>4</th>\n",
              "      <td>1</td>\n",
              "      <td>2018-10-01</td>\n",
              "      <td>186.4</td>\n",
              "      <td>44</td>\n",
              "      <td>1.022727</td>\n",
              "      <td>1.266667</td>\n",
              "    </tr>\n",
              "  </tbody>\n",
              "</table>\n",
              "</div>"
            ],
            "text/plain": [
              "   STORE_NBR year_month  TOT_SALES  nCustomers  nTxnPerCust  nChipsPerTxn\n",
              "0          1 2018-06-01        4.8           2     1.000000      1.000000\n",
              "1          1 2018-07-01      220.2          52     1.057692      1.181818\n",
              "2          1 2018-08-01      171.8          41     1.000000      1.292683\n",
              "3          1 2018-09-01      278.2          59     1.050847      1.209677\n",
              "4          1 2018-10-01      186.4          44     1.022727      1.266667"
            ]
          },
          "metadata": {
            "tags": []
          },
          "execution_count": 235
        }
      ]
    },
    {
      "cell_type": "code",
      "metadata": {
        "id": "9WncMsG45xeM",
        "colab_type": "code",
        "colab": {
          "base_uri": "https://localhost:8080/",
          "height": 406
        },
        "outputId": "f3718ea2-1697-4d8d-89d1-9fa37655edfd"
      },
      "source": [
        "measureOverTime2['avgPricePerUnit'] = totSales/totQty\n",
        "measureOverTime2"
      ],
      "execution_count": 240,
      "outputs": [
        {
          "output_type": "execute_result",
          "data": {
            "text/html": [
              "<div>\n",
              "<style scoped>\n",
              "    .dataframe tbody tr th:only-of-type {\n",
              "        vertical-align: middle;\n",
              "    }\n",
              "\n",
              "    .dataframe tbody tr th {\n",
              "        vertical-align: top;\n",
              "    }\n",
              "\n",
              "    .dataframe thead th {\n",
              "        text-align: right;\n",
              "    }\n",
              "</style>\n",
              "<table border=\"1\" class=\"dataframe\">\n",
              "  <thead>\n",
              "    <tr style=\"text-align: right;\">\n",
              "      <th></th>\n",
              "      <th>STORE_NBR</th>\n",
              "      <th>year_month</th>\n",
              "      <th>TOT_SALES</th>\n",
              "      <th>nCustomers</th>\n",
              "      <th>nTxnPerCust</th>\n",
              "      <th>nChipsPerTxn</th>\n",
              "      <th>avgPricePerUnit</th>\n",
              "    </tr>\n",
              "  </thead>\n",
              "  <tbody>\n",
              "    <tr>\n",
              "      <th>0</th>\n",
              "      <td>1</td>\n",
              "      <td>2018-06-01</td>\n",
              "      <td>4.8</td>\n",
              "      <td>2</td>\n",
              "      <td>1.000000</td>\n",
              "      <td>1.000000</td>\n",
              "      <td>2.400000</td>\n",
              "    </tr>\n",
              "    <tr>\n",
              "      <th>1</th>\n",
              "      <td>1</td>\n",
              "      <td>2018-07-01</td>\n",
              "      <td>220.2</td>\n",
              "      <td>52</td>\n",
              "      <td>1.057692</td>\n",
              "      <td>1.181818</td>\n",
              "      <td>3.387692</td>\n",
              "    </tr>\n",
              "    <tr>\n",
              "      <th>2</th>\n",
              "      <td>1</td>\n",
              "      <td>2018-08-01</td>\n",
              "      <td>171.8</td>\n",
              "      <td>41</td>\n",
              "      <td>1.000000</td>\n",
              "      <td>1.292683</td>\n",
              "      <td>3.241509</td>\n",
              "    </tr>\n",
              "    <tr>\n",
              "      <th>3</th>\n",
              "      <td>1</td>\n",
              "      <td>2018-09-01</td>\n",
              "      <td>278.2</td>\n",
              "      <td>59</td>\n",
              "      <td>1.050847</td>\n",
              "      <td>1.209677</td>\n",
              "      <td>3.709333</td>\n",
              "    </tr>\n",
              "    <tr>\n",
              "      <th>4</th>\n",
              "      <td>1</td>\n",
              "      <td>2018-10-01</td>\n",
              "      <td>186.4</td>\n",
              "      <td>44</td>\n",
              "      <td>1.022727</td>\n",
              "      <td>1.266667</td>\n",
              "      <td>3.270175</td>\n",
              "    </tr>\n",
              "    <tr>\n",
              "      <th>...</th>\n",
              "      <td>...</td>\n",
              "      <td>...</td>\n",
              "      <td>...</td>\n",
              "      <td>...</td>\n",
              "      <td>...</td>\n",
              "      <td>...</td>\n",
              "      <td>...</td>\n",
              "    </tr>\n",
              "    <tr>\n",
              "      <th>3382</th>\n",
              "      <td>272</td>\n",
              "      <td>2019-02-01</td>\n",
              "      <td>395.5</td>\n",
              "      <td>45</td>\n",
              "      <td>1.066667</td>\n",
              "      <td>1.895833</td>\n",
              "      <td>4.346154</td>\n",
              "    </tr>\n",
              "    <tr>\n",
              "      <th>3383</th>\n",
              "      <td>272</td>\n",
              "      <td>2019-03-01</td>\n",
              "      <td>478.5</td>\n",
              "      <td>52</td>\n",
              "      <td>1.115385</td>\n",
              "      <td>1.913793</td>\n",
              "      <td>4.310811</td>\n",
              "    </tr>\n",
              "    <tr>\n",
              "      <th>3384</th>\n",
              "      <td>272</td>\n",
              "      <td>2019-04-01</td>\n",
              "      <td>415.5</td>\n",
              "      <td>50</td>\n",
              "      <td>1.040000</td>\n",
              "      <td>1.865385</td>\n",
              "      <td>4.283505</td>\n",
              "    </tr>\n",
              "    <tr>\n",
              "      <th>3385</th>\n",
              "      <td>272</td>\n",
              "      <td>2019-05-01</td>\n",
              "      <td>322.8</td>\n",
              "      <td>36</td>\n",
              "      <td>1.138889</td>\n",
              "      <td>1.780488</td>\n",
              "      <td>4.421918</td>\n",
              "    </tr>\n",
              "    <tr>\n",
              "      <th>3386</th>\n",
              "      <td>272</td>\n",
              "      <td>2019-06-01</td>\n",
              "      <td>297.3</td>\n",
              "      <td>32</td>\n",
              "      <td>1.093750</td>\n",
              "      <td>1.885714</td>\n",
              "      <td>4.504545</td>\n",
              "    </tr>\n",
              "  </tbody>\n",
              "</table>\n",
              "<p>3387 rows × 7 columns</p>\n",
              "</div>"
            ],
            "text/plain": [
              "      STORE_NBR year_month  ...  nChipsPerTxn  avgPricePerUnit\n",
              "0             1 2018-06-01  ...      1.000000         2.400000\n",
              "1             1 2018-07-01  ...      1.181818         3.387692\n",
              "2             1 2018-08-01  ...      1.292683         3.241509\n",
              "3             1 2018-09-01  ...      1.209677         3.709333\n",
              "4             1 2018-10-01  ...      1.266667         3.270175\n",
              "...         ...        ...  ...           ...              ...\n",
              "3382        272 2019-02-01  ...      1.895833         4.346154\n",
              "3383        272 2019-03-01  ...      1.913793         4.310811\n",
              "3384        272 2019-04-01  ...      1.865385         4.283505\n",
              "3385        272 2019-05-01  ...      1.780488         4.421918\n",
              "3386        272 2019-06-01  ...      1.885714         4.504545\n",
              "\n",
              "[3387 rows x 7 columns]"
            ]
          },
          "metadata": {
            "tags": []
          },
          "execution_count": 240
        }
      ]
    },
    {
      "cell_type": "markdown",
      "metadata": {
        "id": "6krH8h2UGCHm",
        "colab_type": "text"
      },
      "source": [
        "#### Filter pre-trial & stores with full obs"
      ]
    },
    {
      "cell_type": "code",
      "metadata": {
        "id": "DS9NYz-V593M",
        "colab_type": "code",
        "colab": {
          "base_uri": "https://localhost:8080/",
          "height": 158
        },
        "outputId": "f8fbfb18-f910-4409-f5b9-c80a8e8c8f98"
      },
      "source": [
        "pd.date_range(start='2018-06-01',end='2019-02-01').difference(df.year_month)"
      ],
      "execution_count": 186,
      "outputs": [
        {
          "output_type": "execute_result",
          "data": {
            "text/plain": [
              "DatetimeIndex(['2018-06-02', '2018-06-03', '2018-06-04', '2018-06-05',\n",
              "               '2018-06-06', '2018-06-07', '2018-06-08', '2018-06-09',\n",
              "               '2018-06-10', '2018-06-11',\n",
              "               ...\n",
              "               '2019-01-22', '2019-01-23', '2019-01-24', '2019-01-25',\n",
              "               '2019-01-26', '2019-01-27', '2019-01-28', '2019-01-29',\n",
              "               '2019-01-30', '2019-01-31'],\n",
              "              dtype='datetime64[ns]', length=237, freq=None)"
            ]
          },
          "metadata": {
            "tags": []
          },
          "execution_count": 186
        }
      ]
    },
    {
      "cell_type": "markdown",
      "metadata": {
        "id": "2DsobUSAlvUE",
        "colab_type": "text"
      },
      "source": [
        "## Owen's Solution"
      ]
    },
    {
      "cell_type": "code",
      "metadata": {
        "id": "IQR6mOdPmgOJ",
        "colab_type": "code",
        "colab": {
          "base_uri": "https://localhost:8080/",
          "height": 417
        },
        "outputId": "cbadc0be-827e-4336-cb85-2b823477b7cd"
      },
      "source": [
        "df.head()"
      ],
      "execution_count": 187,
      "outputs": [
        {
          "output_type": "execute_result",
          "data": {
            "text/html": [
              "<div>\n",
              "<style scoped>\n",
              "    .dataframe tbody tr th:only-of-type {\n",
              "        vertical-align: middle;\n",
              "    }\n",
              "\n",
              "    .dataframe tbody tr th {\n",
              "        vertical-align: top;\n",
              "    }\n",
              "\n",
              "    .dataframe thead th {\n",
              "        text-align: right;\n",
              "    }\n",
              "</style>\n",
              "<table border=\"1\" class=\"dataframe\">\n",
              "  <thead>\n",
              "    <tr style=\"text-align: right;\">\n",
              "      <th></th>\n",
              "      <th>LYLTY_CARD_NBR</th>\n",
              "      <th>DATE</th>\n",
              "      <th>STORE_NBR</th>\n",
              "      <th>TXN_ID</th>\n",
              "      <th>PROD_NBR</th>\n",
              "      <th>PROD_NAME</th>\n",
              "      <th>PROD_QTY</th>\n",
              "      <th>TOT_SALES</th>\n",
              "      <th>PACK_SIZE</th>\n",
              "      <th>BRAND</th>\n",
              "      <th>LIFESTAGE</th>\n",
              "      <th>PREMIUM_CUSTOMER</th>\n",
              "      <th>year</th>\n",
              "      <th>month</th>\n",
              "      <th>year_month</th>\n",
              "    </tr>\n",
              "  </thead>\n",
              "  <tbody>\n",
              "    <tr>\n",
              "      <th>0</th>\n",
              "      <td>1000</td>\n",
              "      <td>2018-10-17</td>\n",
              "      <td>1</td>\n",
              "      <td>1</td>\n",
              "      <td>5</td>\n",
              "      <td>Natural Chip        Compny SeaSalt175g</td>\n",
              "      <td>2</td>\n",
              "      <td>6.0</td>\n",
              "      <td>175</td>\n",
              "      <td>NATURAL</td>\n",
              "      <td>YOUNG SINGLES/COUPLES</td>\n",
              "      <td>Premium</td>\n",
              "      <td>2018</td>\n",
              "      <td>10</td>\n",
              "      <td>2018-10-01</td>\n",
              "    </tr>\n",
              "    <tr>\n",
              "      <th>1</th>\n",
              "      <td>1002</td>\n",
              "      <td>2018-09-16</td>\n",
              "      <td>1</td>\n",
              "      <td>2</td>\n",
              "      <td>58</td>\n",
              "      <td>Red Rock Deli Chikn&amp;Garlic Aioli 150g</td>\n",
              "      <td>1</td>\n",
              "      <td>2.7</td>\n",
              "      <td>150</td>\n",
              "      <td>RRD</td>\n",
              "      <td>YOUNG SINGLES/COUPLES</td>\n",
              "      <td>Mainstream</td>\n",
              "      <td>2018</td>\n",
              "      <td>9</td>\n",
              "      <td>2018-09-01</td>\n",
              "    </tr>\n",
              "    <tr>\n",
              "      <th>2</th>\n",
              "      <td>1003</td>\n",
              "      <td>2019-03-07</td>\n",
              "      <td>1</td>\n",
              "      <td>3</td>\n",
              "      <td>52</td>\n",
              "      <td>Grain Waves Sour    Cream&amp;Chives 210G</td>\n",
              "      <td>1</td>\n",
              "      <td>3.6</td>\n",
              "      <td>210</td>\n",
              "      <td>GRNWVES</td>\n",
              "      <td>YOUNG FAMILIES</td>\n",
              "      <td>Budget</td>\n",
              "      <td>2019</td>\n",
              "      <td>3</td>\n",
              "      <td>2019-03-01</td>\n",
              "    </tr>\n",
              "    <tr>\n",
              "      <th>3</th>\n",
              "      <td>1003</td>\n",
              "      <td>2019-03-08</td>\n",
              "      <td>1</td>\n",
              "      <td>4</td>\n",
              "      <td>106</td>\n",
              "      <td>Natural ChipCo      Hony Soy Chckn175g</td>\n",
              "      <td>1</td>\n",
              "      <td>3.0</td>\n",
              "      <td>175</td>\n",
              "      <td>NATURAL</td>\n",
              "      <td>YOUNG FAMILIES</td>\n",
              "      <td>Budget</td>\n",
              "      <td>2019</td>\n",
              "      <td>3</td>\n",
              "      <td>2019-03-01</td>\n",
              "    </tr>\n",
              "    <tr>\n",
              "      <th>4</th>\n",
              "      <td>1004</td>\n",
              "      <td>2018-11-02</td>\n",
              "      <td>1</td>\n",
              "      <td>5</td>\n",
              "      <td>96</td>\n",
              "      <td>WW Original Stacked Chips 160g</td>\n",
              "      <td>1</td>\n",
              "      <td>1.9</td>\n",
              "      <td>160</td>\n",
              "      <td>WOOLWORTHS</td>\n",
              "      <td>OLDER SINGLES/COUPLES</td>\n",
              "      <td>Mainstream</td>\n",
              "      <td>2018</td>\n",
              "      <td>11</td>\n",
              "      <td>2018-11-01</td>\n",
              "    </tr>\n",
              "  </tbody>\n",
              "</table>\n",
              "</div>"
            ],
            "text/plain": [
              "   LYLTY_CARD_NBR        DATE  STORE_NBR  ...  year  month year_month\n",
              "0            1000  2018-10-17          1  ...  2018     10 2018-10-01\n",
              "1            1002  2018-09-16          1  ...  2018      9 2018-09-01\n",
              "2            1003  2019-03-07          1  ...  2019      3 2019-03-01\n",
              "3            1003  2019-03-08          1  ...  2019      3 2019-03-01\n",
              "4            1004  2018-11-02          1  ...  2018     11 2018-11-01\n",
              "\n",
              "[5 rows x 15 columns]"
            ]
          },
          "metadata": {
            "tags": []
          },
          "execution_count": 187
        }
      ]
    },
    {
      "cell_type": "code",
      "metadata": {
        "id": "XZ1XfSJrQSQh",
        "colab_type": "code",
        "colab": {}
      },
      "source": [
        "measureOverTime = df.groupby(['STORE_NBR','year_month','LYLTY_CARD_NBR']).\\\n",
        "                      agg(\n",
        "                          totSalesPerCust=('TOT_SALES', sum),\n",
        "                          nTxn=('TXN_ID', \"count\"),\n",
        "                          nChips=('PROD_QTY', sum)\n",
        "                          ).\\\n",
        "                      groupby(['STORE_NBR','year_month']).\\\n",
        "                      agg(\n",
        "                          totSales=(\"totSalesPerCust\", sum),\n",
        "                          nCustomers=(\"nTxn\", \"count\"),\n",
        "                          nTxnPerCust=(\"nTxn\", lambda x: x.sum()/x.count()),\n",
        "                          totChips=(\"nChips\", sum),\n",
        "                          totTxn=(\"nTxn\", sum)).\\\n",
        "                      reset_index()"
      ],
      "execution_count": 188,
      "outputs": []
    },
    {
      "cell_type": "code",
      "metadata": {
        "id": "3_VxltsjlzvN",
        "colab_type": "code",
        "colab": {}
      },
      "source": [
        "measureOverTime['nChipsPerTxn'] = measureOverTime['totChips']/measureOverTime['totTxn']\n",
        "measureOverTime['avgPricePerUnit'] = measureOverTime['totSales']/measureOverTime['totChips']\n",
        "measureOverTime.drop(['totChips', 'totTxn'], axis=1, inplace=True)"
      ],
      "execution_count": 189,
      "outputs": []
    },
    {
      "cell_type": "code",
      "metadata": {
        "id": "eVh5PNt_uk13",
        "colab_type": "code",
        "colab": {
          "base_uri": "https://localhost:8080/",
          "height": 406
        },
        "outputId": "62067f6a-1018-4021-e9cc-858947dd3f7e"
      },
      "source": [
        "measureOverTime"
      ],
      "execution_count": 190,
      "outputs": [
        {
          "output_type": "execute_result",
          "data": {
            "text/html": [
              "<div>\n",
              "<style scoped>\n",
              "    .dataframe tbody tr th:only-of-type {\n",
              "        vertical-align: middle;\n",
              "    }\n",
              "\n",
              "    .dataframe tbody tr th {\n",
              "        vertical-align: top;\n",
              "    }\n",
              "\n",
              "    .dataframe thead th {\n",
              "        text-align: right;\n",
              "    }\n",
              "</style>\n",
              "<table border=\"1\" class=\"dataframe\">\n",
              "  <thead>\n",
              "    <tr style=\"text-align: right;\">\n",
              "      <th></th>\n",
              "      <th>STORE_NBR</th>\n",
              "      <th>year_month</th>\n",
              "      <th>totSales</th>\n",
              "      <th>nCustomers</th>\n",
              "      <th>nTxnPerCust</th>\n",
              "      <th>nChipsPerTxn</th>\n",
              "      <th>avgPricePerUnit</th>\n",
              "    </tr>\n",
              "  </thead>\n",
              "  <tbody>\n",
              "    <tr>\n",
              "      <th>0</th>\n",
              "      <td>1</td>\n",
              "      <td>2018-06-01</td>\n",
              "      <td>4.8</td>\n",
              "      <td>2</td>\n",
              "      <td>1.000000</td>\n",
              "      <td>1.000000</td>\n",
              "      <td>2.400000</td>\n",
              "    </tr>\n",
              "    <tr>\n",
              "      <th>1</th>\n",
              "      <td>1</td>\n",
              "      <td>2018-07-01</td>\n",
              "      <td>220.2</td>\n",
              "      <td>52</td>\n",
              "      <td>1.057692</td>\n",
              "      <td>1.181818</td>\n",
              "      <td>3.387692</td>\n",
              "    </tr>\n",
              "    <tr>\n",
              "      <th>2</th>\n",
              "      <td>1</td>\n",
              "      <td>2018-08-01</td>\n",
              "      <td>171.8</td>\n",
              "      <td>41</td>\n",
              "      <td>1.000000</td>\n",
              "      <td>1.292683</td>\n",
              "      <td>3.241509</td>\n",
              "    </tr>\n",
              "    <tr>\n",
              "      <th>3</th>\n",
              "      <td>1</td>\n",
              "      <td>2018-09-01</td>\n",
              "      <td>278.2</td>\n",
              "      <td>59</td>\n",
              "      <td>1.050847</td>\n",
              "      <td>1.209677</td>\n",
              "      <td>3.709333</td>\n",
              "    </tr>\n",
              "    <tr>\n",
              "      <th>4</th>\n",
              "      <td>1</td>\n",
              "      <td>2018-10-01</td>\n",
              "      <td>186.4</td>\n",
              "      <td>44</td>\n",
              "      <td>1.022727</td>\n",
              "      <td>1.266667</td>\n",
              "      <td>3.270175</td>\n",
              "    </tr>\n",
              "    <tr>\n",
              "      <th>...</th>\n",
              "      <td>...</td>\n",
              "      <td>...</td>\n",
              "      <td>...</td>\n",
              "      <td>...</td>\n",
              "      <td>...</td>\n",
              "      <td>...</td>\n",
              "      <td>...</td>\n",
              "    </tr>\n",
              "    <tr>\n",
              "      <th>3382</th>\n",
              "      <td>272</td>\n",
              "      <td>2019-02-01</td>\n",
              "      <td>395.5</td>\n",
              "      <td>45</td>\n",
              "      <td>1.066667</td>\n",
              "      <td>1.895833</td>\n",
              "      <td>4.346154</td>\n",
              "    </tr>\n",
              "    <tr>\n",
              "      <th>3383</th>\n",
              "      <td>272</td>\n",
              "      <td>2019-03-01</td>\n",
              "      <td>478.5</td>\n",
              "      <td>52</td>\n",
              "      <td>1.115385</td>\n",
              "      <td>1.913793</td>\n",
              "      <td>4.310811</td>\n",
              "    </tr>\n",
              "    <tr>\n",
              "      <th>3384</th>\n",
              "      <td>272</td>\n",
              "      <td>2019-04-01</td>\n",
              "      <td>415.5</td>\n",
              "      <td>50</td>\n",
              "      <td>1.040000</td>\n",
              "      <td>1.865385</td>\n",
              "      <td>4.283505</td>\n",
              "    </tr>\n",
              "    <tr>\n",
              "      <th>3385</th>\n",
              "      <td>272</td>\n",
              "      <td>2019-05-01</td>\n",
              "      <td>322.8</td>\n",
              "      <td>36</td>\n",
              "      <td>1.138889</td>\n",
              "      <td>1.780488</td>\n",
              "      <td>4.421918</td>\n",
              "    </tr>\n",
              "    <tr>\n",
              "      <th>3386</th>\n",
              "      <td>272</td>\n",
              "      <td>2019-06-01</td>\n",
              "      <td>297.3</td>\n",
              "      <td>32</td>\n",
              "      <td>1.093750</td>\n",
              "      <td>1.885714</td>\n",
              "      <td>4.504545</td>\n",
              "    </tr>\n",
              "  </tbody>\n",
              "</table>\n",
              "<p>3387 rows × 7 columns</p>\n",
              "</div>"
            ],
            "text/plain": [
              "      STORE_NBR year_month  ...  nChipsPerTxn  avgPricePerUnit\n",
              "0             1 2018-06-01  ...      1.000000         2.400000\n",
              "1             1 2018-07-01  ...      1.181818         3.387692\n",
              "2             1 2018-08-01  ...      1.292683         3.241509\n",
              "3             1 2018-09-01  ...      1.209677         3.709333\n",
              "4             1 2018-10-01  ...      1.266667         3.270175\n",
              "...         ...        ...  ...           ...              ...\n",
              "3382        272 2019-02-01  ...      1.895833         4.346154\n",
              "3383        272 2019-03-01  ...      1.913793         4.310811\n",
              "3384        272 2019-04-01  ...      1.865385         4.283505\n",
              "3385        272 2019-05-01  ...      1.780488         4.421918\n",
              "3386        272 2019-06-01  ...      1.885714         4.504545\n",
              "\n",
              "[3387 rows x 7 columns]"
            ]
          },
          "metadata": {
            "tags": []
          },
          "execution_count": 190
        }
      ]
    },
    {
      "cell_type": "code",
      "metadata": {
        "id": "o1jDSw6Bu-Qx",
        "colab_type": "code",
        "colab": {}
      },
      "source": [
        ""
      ],
      "execution_count": 190,
      "outputs": []
    }
  ]
}