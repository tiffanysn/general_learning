{
  "nbformat": 4,
  "nbformat_minor": 0,
  "metadata": {
    "jupytext": {
      "cell_metadata_filter": "-all",
      "main_language": "python",
      "notebook_metadata_filter": "-all"
    },
    "kernelspec": {
      "display_name": "Python 3.6",
      "language": "python",
      "name": "python3"
    },
    "language_info": {
      "codemirror_mode": {
        "name": "ipython",
        "version": 3
      },
      "file_extension": ".py",
      "mimetype": "text/x-python",
      "name": "python",
      "nbconvert_exporter": "python",
      "pygments_lexer": "ipython3",
      "version": "3.6.9"
    },
    "colab": {
      "name": "colab_titanic_main.ipynb",
      "provenance": [],
      "collapsed_sections": [],
      "include_colab_link": true
    }
  },
  "cells": [
    {
      "cell_type": "markdown",
      "metadata": {
        "id": "view-in-github",
        "colab_type": "text"
      },
      "source": [
        "<a href=\"https://colab.research.google.com/github/couyang24/general_learning-tiffany/blob/master/Titanic/analysis/colab_titanic_main.ipynb\" target=\"_parent\"><img src=\"https://colab.research.google.com/assets/colab-badge.svg\" alt=\"Open In Colab\"/></a>"
      ]
    },
    {
      "cell_type": "markdown",
      "metadata": {
        "id": "Zmthz2OpC0Ws",
        "colab_type": "text"
      },
      "source": [
        "Need to mount Drive on or upload kaggle.json"
      ]
    },
    {
      "cell_type": "code",
      "metadata": {
        "id": "x7SeWqjkDkjv",
        "colab_type": "code",
        "colab": {
          "base_uri": "https://localhost:8080/",
          "height": 122
        },
        "outputId": "9b424059-2d46-45c5-fd40-11adc2d26a94"
      },
      "source": [
        "from google.colab import drive\n",
        "drive.mount('/content/drive')"
      ],
      "execution_count": 1,
      "outputs": [
        {
          "output_type": "stream",
          "text": [
            "Go to this URL in a browser: https://accounts.google.com/o/oauth2/auth?client_id=947318989803-6bn6qk8qdgf4n4g3pfee6491hc0brc4i.apps.googleusercontent.com&redirect_uri=urn%3aietf%3awg%3aoauth%3a2.0%3aoob&response_type=code&scope=email%20https%3a%2f%2fwww.googleapis.com%2fauth%2fdocs.test%20https%3a%2f%2fwww.googleapis.com%2fauth%2fdrive%20https%3a%2f%2fwww.googleapis.com%2fauth%2fdrive.photos.readonly%20https%3a%2f%2fwww.googleapis.com%2fauth%2fpeopleapi.readonly\n",
            "\n",
            "Enter your authorization code:\n",
            "··········\n",
            "Mounted at /content/drive\n"
          ],
          "name": "stdout"
        }
      ]
    },
    {
      "cell_type": "code",
      "metadata": {
        "id": "Qh3MJSehFUA9",
        "colab_type": "code",
        "colab": {
          "base_uri": "https://localhost:8080/",
          "height": 34
        },
        "outputId": "234cf296-8647-4427-be02-b556da3932f0"
      },
      "source": [
        "!mkdir ~/.kaggle/"
      ],
      "execution_count": 2,
      "outputs": [
        {
          "output_type": "stream",
          "text": [
            "rm: cannot remove '/root/.kaggle': No such file or directory\n"
          ],
          "name": "stdout"
        }
      ]
    },
    {
      "cell_type": "code",
      "metadata": {
        "id": "7pAWPSK9-qHr",
        "colab_type": "code",
        "colab": {}
      },
      "source": [
        "!cp drive/My\\ Drive/input/kaggle.json ~/.kaggle/"
      ],
      "execution_count": 3,
      "outputs": []
    },
    {
      "cell_type": "code",
      "metadata": {
        "id": "QIZ6tgqxBjQy",
        "colab_type": "code",
        "colab": {
          "base_uri": "https://localhost:8080/",
          "height": 207
        },
        "outputId": "66a4918a-5e07-4bec-947d-b64de0ca4a69"
      },
      "source": [
        "!kaggle competitions download -c titanic"
      ],
      "execution_count": 4,
      "outputs": [
        {
          "output_type": "stream",
          "text": [
            "Warning: Looks like you're using an outdated API Version, please consider updating (server 1.5.6 / client 1.5.4)\n",
            "Downloading train.csv to /content\n",
            "  0% 0.00/59.8k [00:00<?, ?B/s]\n",
            "100% 59.8k/59.8k [00:00<00:00, 22.9MB/s]\n",
            "Downloading test.csv to /content\n",
            "  0% 0.00/28.0k [00:00<?, ?B/s]\n",
            "100% 28.0k/28.0k [00:00<00:00, 29.4MB/s]\n",
            "Downloading gender_submission.csv to /content\n",
            "  0% 0.00/3.18k [00:00<?, ?B/s]\n",
            "100% 3.18k/3.18k [00:00<00:00, 3.26MB/s]\n"
          ],
          "name": "stdout"
        }
      ]
    },
    {
      "cell_type": "code",
      "metadata": {
        "id": "zs1tyyPpr4xl",
        "colab_type": "code",
        "colab": {
          "base_uri": "https://localhost:8080/",
          "height": 71
        },
        "outputId": "cb082524-f1e8-44b4-d5a5-3edffba6a755"
      },
      "source": [
        "# Load Package\n",
        "# import numpy as np\n",
        "import pandas as pd\n",
        "import seaborn as sns\n",
        "import featuretools"
      ],
      "execution_count": 5,
      "outputs": [
        {
          "output_type": "stream",
          "text": [
            "/usr/local/lib/python3.6/dist-packages/statsmodels/tools/_testing.py:19: FutureWarning: pandas.util.testing is deprecated. Use the functions in the public API at pandas.testing instead.\n",
            "  import pandas.util.testing as tm\n"
          ],
          "name": "stderr"
        }
      ]
    },
    {
      "cell_type": "code",
      "metadata": {
        "id": "p9fGBc5Fr4yH",
        "colab_type": "code",
        "colab": {}
      },
      "source": [
        "import featuretools as ft"
      ],
      "execution_count": 6,
      "outputs": []
    },
    {
      "cell_type": "code",
      "metadata": {
        "id": "aMaa7cbIr4ym",
        "colab_type": "code",
        "colab": {}
      },
      "source": [
        "from sklearn.base import BaseEstimator, TransformerMixin\n",
        "from sklearn.impute import SimpleImputer, MissingIndicator\n",
        "from sklearn.pipeline import Pipeline, FeatureUnion\n",
        "from sklearn.preprocessing import (\n",
        "    OneHotEncoder,\n",
        "    StandardScaler,\n",
        "    LabelEncoder,\n",
        "    OrdinalEncoder,\n",
        ")\n",
        "from sklearn.compose import ColumnTransformer\n",
        "from sklearn.model_selection import cross_val_score, RandomizedSearchCV"
      ],
      "execution_count": 7,
      "outputs": []
    },
    {
      "cell_type": "code",
      "metadata": {
        "id": "KE-TsNxxr4zD",
        "colab_type": "code",
        "colab": {}
      },
      "source": [
        "# Load data\n",
        "train_df= pd.read_csv(\"train.csv\")\n",
        "test_df = pd.read_csv(\"test.csv\")"
      ],
      "execution_count": 8,
      "outputs": []
    },
    {
      "cell_type": "code",
      "metadata": {
        "id": "OFw7uEO0r4zj",
        "colab_type": "code",
        "colab": {}
      },
      "source": [
        "# Save data\n",
        "target = train_df[[\"Survived\"]]\n",
        "submission = test_df[[\"PassengerId\"]]"
      ],
      "execution_count": 9,
      "outputs": []
    },
    {
      "cell_type": "code",
      "metadata": {
        "id": "P1RTgzk2r4z8",
        "colab_type": "code",
        "colab": {}
      },
      "source": [
        "# Join and Clean\n",
        "combine = pd.concat([train_df, test_df])"
      ],
      "execution_count": 10,
      "outputs": []
    },
    {
      "cell_type": "code",
      "metadata": {
        "id": "MOBpyjWOr40i",
        "colab_type": "code",
        "colab": {
          "base_uri": "https://localhost:8080/",
          "height": 340
        },
        "outputId": "514e31f3-7339-4afe-f7a1-5f9fc0c65646"
      },
      "source": [
        "# EDA\n",
        "combine.info()"
      ],
      "execution_count": 11,
      "outputs": [
        {
          "output_type": "stream",
          "text": [
            "<class 'pandas.core.frame.DataFrame'>\n",
            "Int64Index: 1309 entries, 0 to 417\n",
            "Data columns (total 12 columns):\n",
            " #   Column       Non-Null Count  Dtype  \n",
            "---  ------       --------------  -----  \n",
            " 0   PassengerId  1309 non-null   int64  \n",
            " 1   Survived     891 non-null    float64\n",
            " 2   Pclass       1309 non-null   int64  \n",
            " 3   Name         1309 non-null   object \n",
            " 4   Sex          1309 non-null   object \n",
            " 5   Age          1046 non-null   float64\n",
            " 6   SibSp        1309 non-null   int64  \n",
            " 7   Parch        1309 non-null   int64  \n",
            " 8   Ticket       1309 non-null   object \n",
            " 9   Fare         1308 non-null   float64\n",
            " 10  Cabin        295 non-null    object \n",
            " 11  Embarked     1307 non-null   object \n",
            "dtypes: float64(3), int64(4), object(5)\n",
            "memory usage: 132.9+ KB\n"
          ],
          "name": "stdout"
        }
      ]
    },
    {
      "cell_type": "code",
      "metadata": {
        "id": "-DEa_rD5r40w",
        "colab_type": "code",
        "colab": {
          "base_uri": "https://localhost:8080/",
          "height": 68
        },
        "outputId": "2df1c8db-5f1f-4239-a965-efbb90c8cedf"
      },
      "source": [
        "combine.columns"
      ],
      "execution_count": 12,
      "outputs": [
        {
          "output_type": "execute_result",
          "data": {
            "text/plain": [
              "Index(['PassengerId', 'Survived', 'Pclass', 'Name', 'Sex', 'Age', 'SibSp',\n",
              "       'Parch', 'Ticket', 'Fare', 'Cabin', 'Embarked'],\n",
              "      dtype='object')"
            ]
          },
          "metadata": {
            "tags": []
          },
          "execution_count": 12
        }
      ]
    },
    {
      "cell_type": "code",
      "metadata": {
        "id": "ryvEn5wvr41E",
        "colab_type": "code",
        "colab": {}
      },
      "source": [
        "mapping = {'Mlle': 'Miss', 'Major': 'Mr', 'Col': 'Mr', 'Sir': 'Mr', 'Don': 'Mr', 'Mme': 'Miss',\n",
        "          'Jonkheer': 'Mr', 'Lady': 'Mrs', 'Capt': 'Mr', 'Countess': 'Mrs', 'Ms': 'Miss', 'Dona': 'Mrs'}"
      ],
      "execution_count": 13,
      "outputs": []
    },
    {
      "cell_type": "code",
      "metadata": {
        "id": "eht0KyQar41Z",
        "colab_type": "code",
        "colab": {}
      },
      "source": [
        "combine['Title'] = combine.Name.apply(lambda x: x.split(\".\")[0].split(\",\")[1].strip()).replace(mapping)"
      ],
      "execution_count": 14,
      "outputs": []
    },
    {
      "cell_type": "code",
      "metadata": {
        "id": "g0b2YDDFr41-",
        "colab_type": "code",
        "colab": {}
      },
      "source": [
        "combine.drop(['Cabin', 'Ticket', 'Name'], axis=1, inplace=True)"
      ],
      "execution_count": 15,
      "outputs": []
    },
    {
      "cell_type": "code",
      "metadata": {
        "id": "0f_QA4R0r42T",
        "colab_type": "code",
        "colab": {}
      },
      "source": [
        "# combine['Sex2'] = combine['Sex'].apply(lambda x: 0 if x=='female' else 1)"
      ],
      "execution_count": 16,
      "outputs": []
    },
    {
      "cell_type": "code",
      "metadata": {
        "id": "M_KM2Pp0r42p",
        "colab_type": "code",
        "colab": {}
      },
      "source": [
        "# class ModifiedLabelEncoder(LabelEncoder):\n",
        "\n",
        "#     def fit_transform(self, y, *args, **kwargs):\n",
        "#         return super().fit_transform(y)\n",
        "\n",
        "#     def transform(self, y, *args, **kwargs):\n",
        "#         return super().transform(y)"
      ],
      "execution_count": 17,
      "outputs": []
    },
    {
      "cell_type": "code",
      "metadata": {
        "id": "ef5ZhUYGr421",
        "colab_type": "code",
        "colab": {}
      },
      "source": [
        "categorical_transformer = Pipeline(steps=[\n",
        "    (\"imputer\", SimpleImputer(strategy=\"most_frequent\")),\n",
        "    (\"encode\", OrdinalEncoder()),\n",
        "])\n",
        "\n",
        "numeric_transformer = Pipeline([\n",
        "    (\"imputer\", SimpleImputer(strategy=\"median\")),\n",
        "])"
      ],
      "execution_count": 18,
      "outputs": []
    },
    {
      "cell_type": "code",
      "metadata": {
        "id": "RK2CUmpcr43I",
        "colab_type": "code",
        "colab": {}
      },
      "source": [
        "combine[['Sex','Embarked', 'Title']] = categorical_transformer.fit_transform(combine[['Sex', 'Embarked', 'Title']])"
      ],
      "execution_count": 19,
      "outputs": []
    },
    {
      "cell_type": "code",
      "metadata": {
        "id": "cWUn89cmr43e",
        "colab_type": "code",
        "colab": {}
      },
      "source": [
        "combine[['Age', 'Fare']] = numeric_transformer.fit_transform(combine[['Age', 'Fare']])"
      ],
      "execution_count": 20,
      "outputs": []
    },
    {
      "cell_type": "code",
      "metadata": {
        "id": "aU1nVplRr430",
        "colab_type": "code",
        "colab": {
          "base_uri": "https://localhost:8080/",
          "height": 102
        },
        "outputId": "ad16f547-caaf-4cd1-d0ab-c00c111f435d"
      },
      "source": [
        "es = ft.EntitySet(id = 'titanic_data')\n",
        "\n",
        "es = es.entity_from_dataframe(entity_id = 'combine', dataframe = combine.drop(['Survived'], axis=1), \n",
        "                              variable_types = \n",
        "                              {\n",
        "                                  'Embarked': ft.variable_types.Categorical,\n",
        "                                  'Sex': ft.variable_types.Boolean,\n",
        "                                  'Title': ft.variable_types.Categorical\n",
        "                              },\n",
        "                              index = 'PassengerId')\n",
        "\n",
        "es"
      ],
      "execution_count": 21,
      "outputs": [
        {
          "output_type": "execute_result",
          "data": {
            "text/plain": [
              "Entityset: titanic_data\n",
              "  Entities:\n",
              "    combine [Rows: 1309, Columns: 9]\n",
              "  Relationships:\n",
              "    No relationships"
            ]
          },
          "metadata": {
            "tags": []
          },
          "execution_count": 21
        }
      ]
    },
    {
      "cell_type": "code",
      "metadata": {
        "id": "eTxALOFTr44C",
        "colab_type": "code",
        "colab": {
          "base_uri": "https://localhost:8080/",
          "height": 289
        },
        "outputId": "b497dc01-c893-426a-fb60-d0f5dd50bc92"
      },
      "source": [
        "es = es.normalize_entity(base_entity_id='combine', new_entity_id='Embarked', index='Embarked')\n",
        "es = es.normalize_entity(base_entity_id='combine', new_entity_id='Sex', index='Sex')\n",
        "es = es.normalize_entity(base_entity_id='combine', new_entity_id='Title', index='Title')\n",
        "es = es.normalize_entity(base_entity_id='combine', new_entity_id='Pclass', index='Pclass')\n",
        "es = es.normalize_entity(base_entity_id='combine', new_entity_id='Parch', index='Parch')\n",
        "es = es.normalize_entity(base_entity_id='combine', new_entity_id='SibSp', index='SibSp')\n",
        "es"
      ],
      "execution_count": 22,
      "outputs": [
        {
          "output_type": "execute_result",
          "data": {
            "text/plain": [
              "Entityset: titanic_data\n",
              "  Entities:\n",
              "    combine [Rows: 1309, Columns: 9]\n",
              "    Embarked [Rows: 3, Columns: 1]\n",
              "    Sex [Rows: 2, Columns: 1]\n",
              "    Title [Rows: 7, Columns: 1]\n",
              "    Pclass [Rows: 3, Columns: 1]\n",
              "    Parch [Rows: 8, Columns: 1]\n",
              "    SibSp [Rows: 7, Columns: 1]\n",
              "  Relationships:\n",
              "    combine.Embarked -> Embarked.Embarked\n",
              "    combine.Sex -> Sex.Sex\n",
              "    combine.Title -> Title.Title\n",
              "    combine.Pclass -> Pclass.Pclass\n",
              "    combine.Parch -> Parch.Parch\n",
              "    combine.SibSp -> SibSp.SibSp"
            ]
          },
          "metadata": {
            "tags": []
          },
          "execution_count": 22
        }
      ]
    },
    {
      "cell_type": "code",
      "metadata": {
        "id": "eae_JR98r44T",
        "colab_type": "code",
        "colab": {
          "base_uri": "https://localhost:8080/",
          "height": 638
        },
        "outputId": "580240c6-fb72-4dc6-9581-2f32532066ba"
      },
      "source": [
        "primitives = ft.list_primitives()\n",
        "pd.options.display.max_colwidth = 100\n",
        "primitives[primitives['type'] == 'aggregation'].head(primitives[primitives['type'] == 'aggregation'].shape[0])"
      ],
      "execution_count": 23,
      "outputs": [
        {
          "output_type": "execute_result",
          "data": {
            "text/html": [
              "<div>\n",
              "<style scoped>\n",
              "    .dataframe tbody tr th:only-of-type {\n",
              "        vertical-align: middle;\n",
              "    }\n",
              "\n",
              "    .dataframe tbody tr th {\n",
              "        vertical-align: top;\n",
              "    }\n",
              "\n",
              "    .dataframe thead th {\n",
              "        text-align: right;\n",
              "    }\n",
              "</style>\n",
              "<table border=\"1\" class=\"dataframe\">\n",
              "  <thead>\n",
              "    <tr style=\"text-align: right;\">\n",
              "      <th></th>\n",
              "      <th>name</th>\n",
              "      <th>type</th>\n",
              "      <th>description</th>\n",
              "    </tr>\n",
              "  </thead>\n",
              "  <tbody>\n",
              "    <tr>\n",
              "      <th>0</th>\n",
              "      <td>count</td>\n",
              "      <td>aggregation</td>\n",
              "      <td>Counts the number of non null values.</td>\n",
              "    </tr>\n",
              "    <tr>\n",
              "      <th>1</th>\n",
              "      <td>mode</td>\n",
              "      <td>aggregation</td>\n",
              "      <td>Finds the most common element in a categorical feature.</td>\n",
              "    </tr>\n",
              "    <tr>\n",
              "      <th>2</th>\n",
              "      <td>n_most_common</td>\n",
              "      <td>aggregation</td>\n",
              "      <td>Finds the N most common elements in a categorical feature.</td>\n",
              "    </tr>\n",
              "    <tr>\n",
              "      <th>3</th>\n",
              "      <td>sum</td>\n",
              "      <td>aggregation</td>\n",
              "      <td>Sums elements of a numeric or boolean feature.</td>\n",
              "    </tr>\n",
              "    <tr>\n",
              "      <th>4</th>\n",
              "      <td>all</td>\n",
              "      <td>aggregation</td>\n",
              "      <td>Test if all values are 'True'.</td>\n",
              "    </tr>\n",
              "    <tr>\n",
              "      <th>5</th>\n",
              "      <td>percent_true</td>\n",
              "      <td>aggregation</td>\n",
              "      <td>Finds the percent of 'True' values in a boolean feature.</td>\n",
              "    </tr>\n",
              "    <tr>\n",
              "      <th>6</th>\n",
              "      <td>time_since_last</td>\n",
              "      <td>aggregation</td>\n",
              "      <td>Time since last related instance.</td>\n",
              "    </tr>\n",
              "    <tr>\n",
              "      <th>7</th>\n",
              "      <td>trend</td>\n",
              "      <td>aggregation</td>\n",
              "      <td>Calculates the slope of the linear trend of variable overtime.</td>\n",
              "    </tr>\n",
              "    <tr>\n",
              "      <th>8</th>\n",
              "      <td>any</td>\n",
              "      <td>aggregation</td>\n",
              "      <td>Test if any value is 'True'.</td>\n",
              "    </tr>\n",
              "    <tr>\n",
              "      <th>9</th>\n",
              "      <td>num_true</td>\n",
              "      <td>aggregation</td>\n",
              "      <td>Finds the number of 'True' values in a boolean.</td>\n",
              "    </tr>\n",
              "    <tr>\n",
              "      <th>10</th>\n",
              "      <td>last</td>\n",
              "      <td>aggregation</td>\n",
              "      <td>Returns the last value.</td>\n",
              "    </tr>\n",
              "    <tr>\n",
              "      <th>11</th>\n",
              "      <td>num_unique</td>\n",
              "      <td>aggregation</td>\n",
              "      <td>Returns the number of unique categorical variables.</td>\n",
              "    </tr>\n",
              "    <tr>\n",
              "      <th>12</th>\n",
              "      <td>max</td>\n",
              "      <td>aggregation</td>\n",
              "      <td>Finds the maximum non-null value of a numeric feature.</td>\n",
              "    </tr>\n",
              "    <tr>\n",
              "      <th>13</th>\n",
              "      <td>std</td>\n",
              "      <td>aggregation</td>\n",
              "      <td>Finds the standard deviation of a numeric feature ignoring null values.</td>\n",
              "    </tr>\n",
              "    <tr>\n",
              "      <th>14</th>\n",
              "      <td>mean</td>\n",
              "      <td>aggregation</td>\n",
              "      <td>Computes the average value of a numeric feature.</td>\n",
              "    </tr>\n",
              "    <tr>\n",
              "      <th>15</th>\n",
              "      <td>min</td>\n",
              "      <td>aggregation</td>\n",
              "      <td>Finds the minimum non-null value of a numeric feature.</td>\n",
              "    </tr>\n",
              "    <tr>\n",
              "      <th>16</th>\n",
              "      <td>skew</td>\n",
              "      <td>aggregation</td>\n",
              "      <td>Computes the skewness of a data set.</td>\n",
              "    </tr>\n",
              "    <tr>\n",
              "      <th>17</th>\n",
              "      <td>median</td>\n",
              "      <td>aggregation</td>\n",
              "      <td>Finds the median value of any feature with well-ordered values.</td>\n",
              "    </tr>\n",
              "    <tr>\n",
              "      <th>18</th>\n",
              "      <td>avg_time_between</td>\n",
              "      <td>aggregation</td>\n",
              "      <td>Computes the average time between consecutive events.</td>\n",
              "    </tr>\n",
              "  </tbody>\n",
              "</table>\n",
              "</div>"
            ],
            "text/plain": [
              "                name  ...                                                              description\n",
              "0              count  ...                                    Counts the number of non null values.\n",
              "1               mode  ...                  Finds the most common element in a categorical feature.\n",
              "2      n_most_common  ...               Finds the N most common elements in a categorical feature.\n",
              "3                sum  ...                           Sums elements of a numeric or boolean feature.\n",
              "4                all  ...                                           Test if all values are 'True'.\n",
              "5       percent_true  ...                 Finds the percent of 'True' values in a boolean feature.\n",
              "6    time_since_last  ...                                        Time since last related instance.\n",
              "7              trend  ...           Calculates the slope of the linear trend of variable overtime.\n",
              "8                any  ...                                             Test if any value is 'True'.\n",
              "9           num_true  ...                          Finds the number of 'True' values in a boolean.\n",
              "10              last  ...                                                  Returns the last value.\n",
              "11        num_unique  ...                      Returns the number of unique categorical variables.\n",
              "12               max  ...                   Finds the maximum non-null value of a numeric feature.\n",
              "13               std  ...  Finds the standard deviation of a numeric feature ignoring null values.\n",
              "14              mean  ...                         Computes the average value of a numeric feature.\n",
              "15               min  ...                   Finds the minimum non-null value of a numeric feature.\n",
              "16              skew  ...                                     Computes the skewness of a data set.\n",
              "17            median  ...          Finds the median value of any feature with well-ordered values.\n",
              "18  avg_time_between  ...                    Computes the average time between consecutive events.\n",
              "\n",
              "[19 rows x 3 columns]"
            ]
          },
          "metadata": {
            "tags": []
          },
          "execution_count": 23
        }
      ]
    },
    {
      "cell_type": "code",
      "metadata": {
        "id": "j5oMl_aUr44j",
        "colab_type": "code",
        "colab": {
          "base_uri": "https://localhost:8080/",
          "height": 1000
        },
        "outputId": "cfc02640-33c4-4159-d409-44863905834a"
      },
      "source": [
        "primitives[primitives['type'] == 'transform'].head(primitives[primitives['type'] == 'transform'].shape[0])"
      ],
      "execution_count": 24,
      "outputs": [
        {
          "output_type": "execute_result",
          "data": {
            "text/html": [
              "<div>\n",
              "<style scoped>\n",
              "    .dataframe tbody tr th:only-of-type {\n",
              "        vertical-align: middle;\n",
              "    }\n",
              "\n",
              "    .dataframe tbody tr th {\n",
              "        vertical-align: top;\n",
              "    }\n",
              "\n",
              "    .dataframe thead th {\n",
              "        text-align: right;\n",
              "    }\n",
              "</style>\n",
              "<table border=\"1\" class=\"dataframe\">\n",
              "  <thead>\n",
              "    <tr style=\"text-align: right;\">\n",
              "      <th></th>\n",
              "      <th>name</th>\n",
              "      <th>type</th>\n",
              "      <th>description</th>\n",
              "    </tr>\n",
              "  </thead>\n",
              "  <tbody>\n",
              "    <tr>\n",
              "      <th>19</th>\n",
              "      <td>month</td>\n",
              "      <td>transform</td>\n",
              "      <td>Transform a Datetime feature into the month.</td>\n",
              "    </tr>\n",
              "    <tr>\n",
              "      <th>20</th>\n",
              "      <td>year</td>\n",
              "      <td>transform</td>\n",
              "      <td>Transform a Datetime feature into the year.</td>\n",
              "    </tr>\n",
              "    <tr>\n",
              "      <th>21</th>\n",
              "      <td>and</td>\n",
              "      <td>transform</td>\n",
              "      <td>For two boolean values, determine if both values are 'True'.</td>\n",
              "    </tr>\n",
              "    <tr>\n",
              "      <th>22</th>\n",
              "      <td>longitude</td>\n",
              "      <td>transform</td>\n",
              "      <td>Returns the second value on the tuple base feature.</td>\n",
              "    </tr>\n",
              "    <tr>\n",
              "      <th>23</th>\n",
              "      <td>week</td>\n",
              "      <td>transform</td>\n",
              "      <td>Transform a Datetime feature into the week.</td>\n",
              "    </tr>\n",
              "    <tr>\n",
              "      <th>24</th>\n",
              "      <td>minute</td>\n",
              "      <td>transform</td>\n",
              "      <td>Transform a Datetime feature into the minute.</td>\n",
              "    </tr>\n",
              "    <tr>\n",
              "      <th>25</th>\n",
              "      <td>percentile</td>\n",
              "      <td>transform</td>\n",
              "      <td>For each value of the base feature, determines the percentile in relation</td>\n",
              "    </tr>\n",
              "    <tr>\n",
              "      <th>26</th>\n",
              "      <td>diff</td>\n",
              "      <td>transform</td>\n",
              "      <td>Compute the difference between the value of a base feature and the previous value.</td>\n",
              "    </tr>\n",
              "    <tr>\n",
              "      <th>27</th>\n",
              "      <td>second</td>\n",
              "      <td>transform</td>\n",
              "      <td>Transform a Datetime feature into the second.</td>\n",
              "    </tr>\n",
              "    <tr>\n",
              "      <th>28</th>\n",
              "      <td>days_since</td>\n",
              "      <td>transform</td>\n",
              "      <td>For each value of the base feature, compute the number of days between it</td>\n",
              "    </tr>\n",
              "    <tr>\n",
              "      <th>29</th>\n",
              "      <td>hour</td>\n",
              "      <td>transform</td>\n",
              "      <td>Transform a Datetime feature into the hour.</td>\n",
              "    </tr>\n",
              "    <tr>\n",
              "      <th>30</th>\n",
              "      <td>add</td>\n",
              "      <td>transform</td>\n",
              "      <td>Creates a transform feature that adds two features.</td>\n",
              "    </tr>\n",
              "    <tr>\n",
              "      <th>31</th>\n",
              "      <td>day</td>\n",
              "      <td>transform</td>\n",
              "      <td>Transform a Datetime feature into the day.</td>\n",
              "    </tr>\n",
              "    <tr>\n",
              "      <th>32</th>\n",
              "      <td>negate</td>\n",
              "      <td>transform</td>\n",
              "      <td>Creates a transform feature that negates a feature.</td>\n",
              "    </tr>\n",
              "    <tr>\n",
              "      <th>33</th>\n",
              "      <td>numwords</td>\n",
              "      <td>transform</td>\n",
              "      <td>Returns the words in a given string by counting the spaces.</td>\n",
              "    </tr>\n",
              "    <tr>\n",
              "      <th>34</th>\n",
              "      <td>cum_min</td>\n",
              "      <td>transform</td>\n",
              "      <td>Calculates the min of previous values of an instance for each value in a time-dependent entity.</td>\n",
              "    </tr>\n",
              "    <tr>\n",
              "      <th>35</th>\n",
              "      <td>divide</td>\n",
              "      <td>transform</td>\n",
              "      <td>Creates a transform feature that divides two features.</td>\n",
              "    </tr>\n",
              "    <tr>\n",
              "      <th>36</th>\n",
              "      <td>weekday</td>\n",
              "      <td>transform</td>\n",
              "      <td>Transform Datetime feature into the boolean of Weekday.</td>\n",
              "    </tr>\n",
              "    <tr>\n",
              "      <th>37</th>\n",
              "      <td>absolute</td>\n",
              "      <td>transform</td>\n",
              "      <td>Absolute value of base feature.</td>\n",
              "    </tr>\n",
              "    <tr>\n",
              "      <th>38</th>\n",
              "      <td>cum_count</td>\n",
              "      <td>transform</td>\n",
              "      <td>Calculates the number of previous values of an instance for each value in a time-dependent entity.</td>\n",
              "    </tr>\n",
              "    <tr>\n",
              "      <th>39</th>\n",
              "      <td>subtract</td>\n",
              "      <td>transform</td>\n",
              "      <td>Creates a transform feature that subtracts two features.</td>\n",
              "    </tr>\n",
              "    <tr>\n",
              "      <th>40</th>\n",
              "      <td>years</td>\n",
              "      <td>transform</td>\n",
              "      <td>Transform a Timedelta feature into the number of years.</td>\n",
              "    </tr>\n",
              "    <tr>\n",
              "      <th>41</th>\n",
              "      <td>cum_sum</td>\n",
              "      <td>transform</td>\n",
              "      <td>Calculates the sum of previous values of an instance for each value in a time-dependent entity.</td>\n",
              "    </tr>\n",
              "    <tr>\n",
              "      <th>42</th>\n",
              "      <td>months</td>\n",
              "      <td>transform</td>\n",
              "      <td>Transform a Timedelta feature into the number of months.</td>\n",
              "    </tr>\n",
              "    <tr>\n",
              "      <th>43</th>\n",
              "      <td>haversine</td>\n",
              "      <td>transform</td>\n",
              "      <td>Calculate the approximate haversine distance in miles between two LatLong variable types.</td>\n",
              "    </tr>\n",
              "    <tr>\n",
              "      <th>44</th>\n",
              "      <td>or</td>\n",
              "      <td>transform</td>\n",
              "      <td>For two boolean values, determine if one value is 'True'.</td>\n",
              "    </tr>\n",
              "    <tr>\n",
              "      <th>45</th>\n",
              "      <td>weeks</td>\n",
              "      <td>transform</td>\n",
              "      <td>Transform a Timedelta feature into the number of weeks.</td>\n",
              "    </tr>\n",
              "    <tr>\n",
              "      <th>46</th>\n",
              "      <td>latitude</td>\n",
              "      <td>transform</td>\n",
              "      <td>Returns the first value of the tuple base feature.</td>\n",
              "    </tr>\n",
              "    <tr>\n",
              "      <th>47</th>\n",
              "      <td>minutes</td>\n",
              "      <td>transform</td>\n",
              "      <td>Transform a Timedelta feature into the number of minutes.</td>\n",
              "    </tr>\n",
              "    <tr>\n",
              "      <th>48</th>\n",
              "      <td>not</td>\n",
              "      <td>transform</td>\n",
              "      <td>For each value of the base feature, negates the boolean value.</td>\n",
              "    </tr>\n",
              "    <tr>\n",
              "      <th>49</th>\n",
              "      <td>seconds</td>\n",
              "      <td>transform</td>\n",
              "      <td>Transform a Timedelta feature into the number of seconds.</td>\n",
              "    </tr>\n",
              "    <tr>\n",
              "      <th>50</th>\n",
              "      <td>hours</td>\n",
              "      <td>transform</td>\n",
              "      <td>Transform a Timedelta feature into the number of hours.</td>\n",
              "    </tr>\n",
              "    <tr>\n",
              "      <th>51</th>\n",
              "      <td>isin</td>\n",
              "      <td>transform</td>\n",
              "      <td>For each value of the base feature, checks whether it is in a provided list.</td>\n",
              "    </tr>\n",
              "    <tr>\n",
              "      <th>52</th>\n",
              "      <td>days</td>\n",
              "      <td>transform</td>\n",
              "      <td>Transform a Timedelta feature into the number of days.</td>\n",
              "    </tr>\n",
              "    <tr>\n",
              "      <th>53</th>\n",
              "      <td>is_null</td>\n",
              "      <td>transform</td>\n",
              "      <td>For each value of base feature, return 'True' if value is null.</td>\n",
              "    </tr>\n",
              "    <tr>\n",
              "      <th>54</th>\n",
              "      <td>time_since</td>\n",
              "      <td>transform</td>\n",
              "      <td>Calculates time since the cutoff time.</td>\n",
              "    </tr>\n",
              "    <tr>\n",
              "      <th>55</th>\n",
              "      <td>mod</td>\n",
              "      <td>transform</td>\n",
              "      <td>Creates a transform feature that divides two features.</td>\n",
              "    </tr>\n",
              "    <tr>\n",
              "      <th>56</th>\n",
              "      <td>characters</td>\n",
              "      <td>transform</td>\n",
              "      <td>Return the characters in a given string.</td>\n",
              "    </tr>\n",
              "    <tr>\n",
              "      <th>57</th>\n",
              "      <td>cum_max</td>\n",
              "      <td>transform</td>\n",
              "      <td>Calculates the max of previous values of an instance for each value in a time-dependent entity.</td>\n",
              "    </tr>\n",
              "    <tr>\n",
              "      <th>58</th>\n",
              "      <td>multiply</td>\n",
              "      <td>transform</td>\n",
              "      <td>Creates a transform feature that multplies two features.</td>\n",
              "    </tr>\n",
              "    <tr>\n",
              "      <th>59</th>\n",
              "      <td>time_since_previous</td>\n",
              "      <td>transform</td>\n",
              "      <td>Compute the time since the previous instance.</td>\n",
              "    </tr>\n",
              "    <tr>\n",
              "      <th>60</th>\n",
              "      <td>weekend</td>\n",
              "      <td>transform</td>\n",
              "      <td>Transform Datetime feature into the boolean of Weekend.</td>\n",
              "    </tr>\n",
              "    <tr>\n",
              "      <th>61</th>\n",
              "      <td>cum_mean</td>\n",
              "      <td>transform</td>\n",
              "      <td>Calculates the mean of previous values of an instance for each value in a time-dependent entity.</td>\n",
              "    </tr>\n",
              "  </tbody>\n",
              "</table>\n",
              "</div>"
            ],
            "text/plain": [
              "                   name  ...                                                                                         description\n",
              "19                month  ...                                                        Transform a Datetime feature into the month.\n",
              "20                 year  ...                                                         Transform a Datetime feature into the year.\n",
              "21                  and  ...                                        For two boolean values, determine if both values are 'True'.\n",
              "22            longitude  ...                                                 Returns the second value on the tuple base feature.\n",
              "23                 week  ...                                                         Transform a Datetime feature into the week.\n",
              "24               minute  ...                                                       Transform a Datetime feature into the minute.\n",
              "25           percentile  ...                           For each value of the base feature, determines the percentile in relation\n",
              "26                 diff  ...                  Compute the difference between the value of a base feature and the previous value.\n",
              "27               second  ...                                                       Transform a Datetime feature into the second.\n",
              "28           days_since  ...                           For each value of the base feature, compute the number of days between it\n",
              "29                 hour  ...                                                         Transform a Datetime feature into the hour.\n",
              "30                  add  ...                                                 Creates a transform feature that adds two features.\n",
              "31                  day  ...                                                          Transform a Datetime feature into the day.\n",
              "32               negate  ...                                                 Creates a transform feature that negates a feature.\n",
              "33             numwords  ...                                         Returns the words in a given string by counting the spaces.\n",
              "34              cum_min  ...     Calculates the min of previous values of an instance for each value in a time-dependent entity.\n",
              "35               divide  ...                                              Creates a transform feature that divides two features.\n",
              "36              weekday  ...                                             Transform Datetime feature into the boolean of Weekday.\n",
              "37             absolute  ...                                                                     Absolute value of base feature.\n",
              "38            cum_count  ...  Calculates the number of previous values of an instance for each value in a time-dependent entity.\n",
              "39             subtract  ...                                            Creates a transform feature that subtracts two features.\n",
              "40                years  ...                                             Transform a Timedelta feature into the number of years.\n",
              "41              cum_sum  ...     Calculates the sum of previous values of an instance for each value in a time-dependent entity.\n",
              "42               months  ...                                            Transform a Timedelta feature into the number of months.\n",
              "43            haversine  ...           Calculate the approximate haversine distance in miles between two LatLong variable types.\n",
              "44                   or  ...                                           For two boolean values, determine if one value is 'True'.\n",
              "45                weeks  ...                                             Transform a Timedelta feature into the number of weeks.\n",
              "46             latitude  ...                                                  Returns the first value of the tuple base feature.\n",
              "47              minutes  ...                                           Transform a Timedelta feature into the number of minutes.\n",
              "48                  not  ...                                      For each value of the base feature, negates the boolean value.\n",
              "49              seconds  ...                                           Transform a Timedelta feature into the number of seconds.\n",
              "50                hours  ...                                             Transform a Timedelta feature into the number of hours.\n",
              "51                 isin  ...                        For each value of the base feature, checks whether it is in a provided list.\n",
              "52                 days  ...                                              Transform a Timedelta feature into the number of days.\n",
              "53              is_null  ...                                     For each value of base feature, return 'True' if value is null.\n",
              "54           time_since  ...                                                              Calculates time since the cutoff time.\n",
              "55                  mod  ...                                              Creates a transform feature that divides two features.\n",
              "56           characters  ...                                                            Return the characters in a given string.\n",
              "57              cum_max  ...     Calculates the max of previous values of an instance for each value in a time-dependent entity.\n",
              "58             multiply  ...                                            Creates a transform feature that multplies two features.\n",
              "59  time_since_previous  ...                                                       Compute the time since the previous instance.\n",
              "60              weekend  ...                                             Transform Datetime feature into the boolean of Weekend.\n",
              "61             cum_mean  ...    Calculates the mean of previous values of an instance for each value in a time-dependent entity.\n",
              "\n",
              "[43 rows x 3 columns]"
            ]
          },
          "metadata": {
            "tags": []
          },
          "execution_count": 24
        }
      ]
    },
    {
      "cell_type": "code",
      "metadata": {
        "id": "ZkGgoXzar44z",
        "colab_type": "code",
        "colab": {}
      },
      "source": [
        "features, feature_names = ft.dfs(entityset = es, \n",
        "                                 target_entity = 'combine', \n",
        "#                                  trans_primitives=['subtract_numeric', 'add_numeric', 'divide_numeric', 'multiply_numeric'],\n",
        "                                 max_depth = 2)"
      ],
      "execution_count": 25,
      "outputs": []
    },
    {
      "cell_type": "code",
      "metadata": {
        "id": "Bba1URkrr449",
        "colab_type": "code",
        "colab": {
          "base_uri": "https://localhost:8080/",
          "height": 1000
        },
        "outputId": "2ec1c685-ba23-41ce-ccc5-340253223ed3"
      },
      "source": [
        "feature_names"
      ],
      "execution_count": 26,
      "outputs": [
        {
          "output_type": "execute_result",
          "data": {
            "text/plain": [
              "[<Feature: Pclass>,\n",
              " <Feature: Age>,\n",
              " <Feature: SibSp>,\n",
              " <Feature: Parch>,\n",
              " <Feature: Fare>,\n",
              " <Feature: Embarked>,\n",
              " <Feature: Sex>,\n",
              " <Feature: Title>,\n",
              " <Feature: Embarked.SUM(combine.Age)>,\n",
              " <Feature: Embarked.SUM(combine.Fare)>,\n",
              " <Feature: Embarked.STD(combine.Age)>,\n",
              " <Feature: Embarked.STD(combine.Fare)>,\n",
              " <Feature: Embarked.MAX(combine.Age)>,\n",
              " <Feature: Embarked.MAX(combine.Fare)>,\n",
              " <Feature: Embarked.SKEW(combine.Age)>,\n",
              " <Feature: Embarked.SKEW(combine.Fare)>,\n",
              " <Feature: Embarked.MIN(combine.Age)>,\n",
              " <Feature: Embarked.MIN(combine.Fare)>,\n",
              " <Feature: Embarked.MEAN(combine.Age)>,\n",
              " <Feature: Embarked.MEAN(combine.Fare)>,\n",
              " <Feature: Embarked.COUNT(combine)>,\n",
              " <Feature: Embarked.NUM_UNIQUE(combine.Pclass)>,\n",
              " <Feature: Embarked.NUM_UNIQUE(combine.SibSp)>,\n",
              " <Feature: Embarked.NUM_UNIQUE(combine.Parch)>,\n",
              " <Feature: Embarked.NUM_UNIQUE(combine.Sex)>,\n",
              " <Feature: Embarked.NUM_UNIQUE(combine.Title)>,\n",
              " <Feature: Embarked.MODE(combine.Pclass)>,\n",
              " <Feature: Embarked.MODE(combine.SibSp)>,\n",
              " <Feature: Embarked.MODE(combine.Parch)>,\n",
              " <Feature: Embarked.MODE(combine.Sex)>,\n",
              " <Feature: Embarked.MODE(combine.Title)>,\n",
              " <Feature: Sex.SUM(combine.Age)>,\n",
              " <Feature: Sex.SUM(combine.Fare)>,\n",
              " <Feature: Sex.STD(combine.Age)>,\n",
              " <Feature: Sex.STD(combine.Fare)>,\n",
              " <Feature: Sex.MAX(combine.Age)>,\n",
              " <Feature: Sex.MAX(combine.Fare)>,\n",
              " <Feature: Sex.SKEW(combine.Age)>,\n",
              " <Feature: Sex.SKEW(combine.Fare)>,\n",
              " <Feature: Sex.MIN(combine.Age)>,\n",
              " <Feature: Sex.MIN(combine.Fare)>,\n",
              " <Feature: Sex.MEAN(combine.Age)>,\n",
              " <Feature: Sex.MEAN(combine.Fare)>,\n",
              " <Feature: Sex.COUNT(combine)>,\n",
              " <Feature: Sex.NUM_UNIQUE(combine.Pclass)>,\n",
              " <Feature: Sex.NUM_UNIQUE(combine.SibSp)>,\n",
              " <Feature: Sex.NUM_UNIQUE(combine.Parch)>,\n",
              " <Feature: Sex.NUM_UNIQUE(combine.Embarked)>,\n",
              " <Feature: Sex.NUM_UNIQUE(combine.Title)>,\n",
              " <Feature: Sex.MODE(combine.Pclass)>,\n",
              " <Feature: Sex.MODE(combine.SibSp)>,\n",
              " <Feature: Sex.MODE(combine.Parch)>,\n",
              " <Feature: Sex.MODE(combine.Embarked)>,\n",
              " <Feature: Sex.MODE(combine.Title)>,\n",
              " <Feature: Title.SUM(combine.Age)>,\n",
              " <Feature: Title.SUM(combine.Fare)>,\n",
              " <Feature: Title.STD(combine.Age)>,\n",
              " <Feature: Title.STD(combine.Fare)>,\n",
              " <Feature: Title.MAX(combine.Age)>,\n",
              " <Feature: Title.MAX(combine.Fare)>,\n",
              " <Feature: Title.SKEW(combine.Age)>,\n",
              " <Feature: Title.SKEW(combine.Fare)>,\n",
              " <Feature: Title.MIN(combine.Age)>,\n",
              " <Feature: Title.MIN(combine.Fare)>,\n",
              " <Feature: Title.MEAN(combine.Age)>,\n",
              " <Feature: Title.MEAN(combine.Fare)>,\n",
              " <Feature: Title.COUNT(combine)>,\n",
              " <Feature: Title.NUM_UNIQUE(combine.Pclass)>,\n",
              " <Feature: Title.NUM_UNIQUE(combine.SibSp)>,\n",
              " <Feature: Title.NUM_UNIQUE(combine.Parch)>,\n",
              " <Feature: Title.NUM_UNIQUE(combine.Embarked)>,\n",
              " <Feature: Title.NUM_UNIQUE(combine.Sex)>,\n",
              " <Feature: Title.MODE(combine.Pclass)>,\n",
              " <Feature: Title.MODE(combine.SibSp)>,\n",
              " <Feature: Title.MODE(combine.Parch)>,\n",
              " <Feature: Title.MODE(combine.Embarked)>,\n",
              " <Feature: Title.MODE(combine.Sex)>,\n",
              " <Feature: Pclass.SUM(combine.Age)>,\n",
              " <Feature: Pclass.SUM(combine.Fare)>,\n",
              " <Feature: Pclass.STD(combine.Age)>,\n",
              " <Feature: Pclass.STD(combine.Fare)>,\n",
              " <Feature: Pclass.MAX(combine.Age)>,\n",
              " <Feature: Pclass.MAX(combine.Fare)>,\n",
              " <Feature: Pclass.SKEW(combine.Age)>,\n",
              " <Feature: Pclass.SKEW(combine.Fare)>,\n",
              " <Feature: Pclass.MIN(combine.Age)>,\n",
              " <Feature: Pclass.MIN(combine.Fare)>,\n",
              " <Feature: Pclass.MEAN(combine.Age)>,\n",
              " <Feature: Pclass.MEAN(combine.Fare)>,\n",
              " <Feature: Pclass.COUNT(combine)>,\n",
              " <Feature: Pclass.NUM_UNIQUE(combine.SibSp)>,\n",
              " <Feature: Pclass.NUM_UNIQUE(combine.Parch)>,\n",
              " <Feature: Pclass.NUM_UNIQUE(combine.Embarked)>,\n",
              " <Feature: Pclass.NUM_UNIQUE(combine.Sex)>,\n",
              " <Feature: Pclass.NUM_UNIQUE(combine.Title)>,\n",
              " <Feature: Pclass.MODE(combine.SibSp)>,\n",
              " <Feature: Pclass.MODE(combine.Parch)>,\n",
              " <Feature: Pclass.MODE(combine.Embarked)>,\n",
              " <Feature: Pclass.MODE(combine.Sex)>,\n",
              " <Feature: Pclass.MODE(combine.Title)>,\n",
              " <Feature: Parch.SUM(combine.Age)>,\n",
              " <Feature: Parch.SUM(combine.Fare)>,\n",
              " <Feature: Parch.STD(combine.Age)>,\n",
              " <Feature: Parch.STD(combine.Fare)>,\n",
              " <Feature: Parch.MAX(combine.Age)>,\n",
              " <Feature: Parch.MAX(combine.Fare)>,\n",
              " <Feature: Parch.SKEW(combine.Age)>,\n",
              " <Feature: Parch.SKEW(combine.Fare)>,\n",
              " <Feature: Parch.MIN(combine.Age)>,\n",
              " <Feature: Parch.MIN(combine.Fare)>,\n",
              " <Feature: Parch.MEAN(combine.Age)>,\n",
              " <Feature: Parch.MEAN(combine.Fare)>,\n",
              " <Feature: Parch.COUNT(combine)>,\n",
              " <Feature: Parch.NUM_UNIQUE(combine.Pclass)>,\n",
              " <Feature: Parch.NUM_UNIQUE(combine.SibSp)>,\n",
              " <Feature: Parch.NUM_UNIQUE(combine.Embarked)>,\n",
              " <Feature: Parch.NUM_UNIQUE(combine.Sex)>,\n",
              " <Feature: Parch.NUM_UNIQUE(combine.Title)>,\n",
              " <Feature: Parch.MODE(combine.Pclass)>,\n",
              " <Feature: Parch.MODE(combine.SibSp)>,\n",
              " <Feature: Parch.MODE(combine.Embarked)>,\n",
              " <Feature: Parch.MODE(combine.Sex)>,\n",
              " <Feature: Parch.MODE(combine.Title)>,\n",
              " <Feature: SibSp.SUM(combine.Age)>,\n",
              " <Feature: SibSp.SUM(combine.Fare)>,\n",
              " <Feature: SibSp.STD(combine.Age)>,\n",
              " <Feature: SibSp.STD(combine.Fare)>,\n",
              " <Feature: SibSp.MAX(combine.Age)>,\n",
              " <Feature: SibSp.MAX(combine.Fare)>,\n",
              " <Feature: SibSp.SKEW(combine.Age)>,\n",
              " <Feature: SibSp.SKEW(combine.Fare)>,\n",
              " <Feature: SibSp.MIN(combine.Age)>,\n",
              " <Feature: SibSp.MIN(combine.Fare)>,\n",
              " <Feature: SibSp.MEAN(combine.Age)>,\n",
              " <Feature: SibSp.MEAN(combine.Fare)>,\n",
              " <Feature: SibSp.COUNT(combine)>,\n",
              " <Feature: SibSp.NUM_UNIQUE(combine.Pclass)>,\n",
              " <Feature: SibSp.NUM_UNIQUE(combine.Parch)>,\n",
              " <Feature: SibSp.NUM_UNIQUE(combine.Embarked)>,\n",
              " <Feature: SibSp.NUM_UNIQUE(combine.Sex)>,\n",
              " <Feature: SibSp.NUM_UNIQUE(combine.Title)>,\n",
              " <Feature: SibSp.MODE(combine.Pclass)>,\n",
              " <Feature: SibSp.MODE(combine.Parch)>,\n",
              " <Feature: SibSp.MODE(combine.Embarked)>,\n",
              " <Feature: SibSp.MODE(combine.Sex)>,\n",
              " <Feature: SibSp.MODE(combine.Title)>]"
            ]
          },
          "metadata": {
            "tags": []
          },
          "execution_count": 26
        }
      ]
    },
    {
      "cell_type": "code",
      "metadata": {
        "id": "RoPsG4JZr45T",
        "colab_type": "code",
        "colab": {
          "base_uri": "https://localhost:8080/",
          "height": 34
        },
        "outputId": "459c7198-d4bd-45d5-b5ff-49b298454fb6"
      },
      "source": [
        "len(feature_names)"
      ],
      "execution_count": 27,
      "outputs": [
        {
          "output_type": "execute_result",
          "data": {
            "text/plain": [
              "146"
            ]
          },
          "metadata": {
            "tags": []
          },
          "execution_count": 27
        }
      ]
    },
    {
      "cell_type": "code",
      "metadata": {
        "id": "E_Ul_GyNr45k",
        "colab_type": "code",
        "colab": {
          "base_uri": "https://localhost:8080/",
          "height": 221
        },
        "outputId": "a877738c-cd6b-497f-ce41-a3cf55351fe8"
      },
      "source": [
        "features.isnull().sum()"
      ],
      "execution_count": 28,
      "outputs": [
        {
          "output_type": "execute_result",
          "data": {
            "text/plain": [
              "Pclass                          0\n",
              "Age                             0\n",
              "SibSp                           0\n",
              "Parch                           0\n",
              "Fare                            0\n",
              "                               ..\n",
              "SibSp.MODE(combine.Pclass)      0\n",
              "SibSp.MODE(combine.Parch)       0\n",
              "SibSp.MODE(combine.Embarked)    0\n",
              "SibSp.MODE(combine.Sex)         0\n",
              "SibSp.MODE(combine.Title)       0\n",
              "Length: 146, dtype: int64"
            ]
          },
          "metadata": {
            "tags": []
          },
          "execution_count": 28
        }
      ]
    },
    {
      "cell_type": "code",
      "metadata": {
        "id": "GREhpgO_r45x",
        "colab_type": "code",
        "colab": {}
      },
      "source": [
        "class RemoveLowInfo(BaseEstimator, TransformerMixin):\n",
        "    def __init__(self, threshold):\n",
        "        self.threshold = threshold\n",
        "\n",
        "    def fit(self, X, y=None):\n",
        "        return self\n",
        "\n",
        "    def transform(self, X):\n",
        "        df = X.copy()\n",
        "        keep = [column for column in df.columns if df[column].value_counts(normalize=True).reset_index(drop=True)[0]<self.threshold]\n",
        "        return df[keep]"
      ],
      "execution_count": 29,
      "outputs": []
    },
    {
      "cell_type": "code",
      "metadata": {
        "id": "xshXSQ5Nr46E",
        "colab_type": "code",
        "colab": {}
      },
      "source": [
        "from sklearn.preprocessing import OneHotEncoder, StandardScaler, FunctionTransformer"
      ],
      "execution_count": 32,
      "outputs": []
    },
    {
      "cell_type": "code",
      "metadata": {
        "id": "wQhYZAj2r46O",
        "colab_type": "code",
        "colab": {}
      },
      "source": [
        "impute_median = FunctionTransformer(lambda x: x.fillna(x.median()), validate=False)"
      ],
      "execution_count": 33,
      "outputs": []
    },
    {
      "cell_type": "code",
      "metadata": {
        "id": "TSoU2DWsr46h",
        "colab_type": "code",
        "colab": {}
      },
      "source": [
        "normalize = FunctionTransformer(lambda x: (x-x.mean())/x.std(), validate=False)"
      ],
      "execution_count": 34,
      "outputs": []
    },
    {
      "cell_type": "code",
      "metadata": {
        "id": "a9j5EUOrr46s",
        "colab_type": "code",
        "colab": {}
      },
      "source": [
        "from sklearn.decomposition import PCA"
      ],
      "execution_count": 35,
      "outputs": []
    },
    {
      "cell_type": "code",
      "metadata": {
        "id": "RsYdTl23r47G",
        "colab_type": "code",
        "colab": {}
      },
      "source": [
        "transformer = Pipeline([\n",
        "    (\"imputer\", impute_median),\n",
        "    ('removelowinfo',RemoveLowInfo(threshold=.95)),\n",
        "    ('scaler', normalize),\n",
        "])"
      ],
      "execution_count": 36,
      "outputs": []
    },
    {
      "cell_type": "code",
      "metadata": {
        "id": "Cmv4GyMWr47V",
        "colab_type": "code",
        "colab": {}
      },
      "source": [
        "clean_features = transformer.fit_transform(features)"
      ],
      "execution_count": 37,
      "outputs": []
    },
    {
      "cell_type": "code",
      "metadata": {
        "id": "0njGqBWMHHWm",
        "colab_type": "code",
        "colab": {
          "base_uri": "https://localhost:8080/",
          "height": 343
        },
        "outputId": "065f6b0e-4d4f-4930-fa86-c728f9fb7cad"
      },
      "source": [
        "!pip install catboost"
      ],
      "execution_count": 41,
      "outputs": [
        {
          "output_type": "stream",
          "text": [
            "Collecting catboost\n",
            "\u001b[?25l  Downloading https://files.pythonhosted.org/packages/b2/aa/e61819d04ef2bbee778bf4b3a748db1f3ad23512377e43ecfdc3211437a0/catboost-0.23.2-cp36-none-manylinux1_x86_64.whl (64.8MB)\n",
            "\u001b[K     |████████████████████████████████| 64.8MB 62kB/s \n",
            "\u001b[?25hRequirement already satisfied: matplotlib in /usr/local/lib/python3.6/dist-packages (from catboost) (3.2.2)\n",
            "Requirement already satisfied: scipy in /usr/local/lib/python3.6/dist-packages (from catboost) (1.4.1)\n",
            "Requirement already satisfied: pandas>=0.24.0 in /usr/local/lib/python3.6/dist-packages (from catboost) (1.0.5)\n",
            "Requirement already satisfied: graphviz in /usr/local/lib/python3.6/dist-packages (from catboost) (0.10.1)\n",
            "Requirement already satisfied: numpy>=1.16.0 in /usr/local/lib/python3.6/dist-packages (from catboost) (1.18.5)\n",
            "Requirement already satisfied: six in /usr/local/lib/python3.6/dist-packages (from catboost) (1.15.0)\n",
            "Requirement already satisfied: plotly in /usr/local/lib/python3.6/dist-packages (from catboost) (4.4.1)\n",
            "Requirement already satisfied: python-dateutil>=2.1 in /usr/local/lib/python3.6/dist-packages (from matplotlib->catboost) (2.8.1)\n",
            "Requirement already satisfied: kiwisolver>=1.0.1 in /usr/local/lib/python3.6/dist-packages (from matplotlib->catboost) (1.2.0)\n",
            "Requirement already satisfied: cycler>=0.10 in /usr/local/lib/python3.6/dist-packages (from matplotlib->catboost) (0.10.0)\n",
            "Requirement already satisfied: pyparsing!=2.0.4,!=2.1.2,!=2.1.6,>=2.0.1 in /usr/local/lib/python3.6/dist-packages (from matplotlib->catboost) (2.4.7)\n",
            "Requirement already satisfied: pytz>=2017.2 in /usr/local/lib/python3.6/dist-packages (from pandas>=0.24.0->catboost) (2018.9)\n",
            "Requirement already satisfied: retrying>=1.3.3 in /usr/local/lib/python3.6/dist-packages (from plotly->catboost) (1.3.3)\n",
            "Installing collected packages: catboost\n",
            "Successfully installed catboost-0.23.2\n"
          ],
          "name": "stdout"
        }
      ]
    },
    {
      "cell_type": "code",
      "metadata": {
        "id": "wlWgyumYr47e",
        "colab_type": "code",
        "colab": {}
      },
      "source": [
        "from sklearn.linear_model  import LogisticRegression, SGDClassifier\n",
        "from sklearn.ensemble import RandomForestClassifier, GradientBoostingClassifier, AdaBoostClassifier, BaggingClassifier, VotingClassifier\n",
        "from sklearn.neural_network import MLPClassifier\n",
        "from sklearn.svm import SVC, LinearSVC\n",
        "from sklearn.naive_bayes import GaussianNB\n",
        "from sklearn.neighbors import KNeighborsClassifier\n",
        "from sklearn.tree import DecisionTreeClassifier\n",
        "from sklearn.decomposition import PCA\n",
        "import xgboost as xgb\n",
        "import lightgbm as lgb\n",
        "import catboost as cgb"
      ],
      "execution_count": 42,
      "outputs": []
    },
    {
      "cell_type": "code",
      "metadata": {
        "id": "I7YRU8xzr476",
        "colab_type": "code",
        "colab": {
          "base_uri": "https://localhost:8080/",
          "height": 955
        },
        "outputId": "2777a66a-b783-4938-a084-40925fc58187"
      },
      "source": [
        "methods = [\n",
        "           ('logistic', LogisticRegression(solver='lbfgs')), \n",
        "#            ('sgd', SGDClassifier()), \n",
        "           ('tree', DecisionTreeClassifier()),\n",
        "           ('bag', BaggingClassifier()),\n",
        "           ('xgb', xgb.XGBClassifier(max_depth=3)),\n",
        "           ('lgb', lgb.LGBMClassifier(max_depth=3)),\n",
        "#            ('cgb', cgb.CatBoostClassifier(max_depth=3,silent=True)),\n",
        "           ('ada', AdaBoostClassifier()),\n",
        "           ('gbm', GradientBoostingClassifier()),\n",
        "           ('rf', RandomForestClassifier(n_estimators=100)),\n",
        "#            ('svc', LinearSVC()),\n",
        "#            ('rbf', SVC()),\n",
        "           ('nb', Pipeline([('pca', PCA()), ('gnb', GaussianNB())])),\n",
        "           ('nn', MLPClassifier()),\n",
        "           ('knn', KNeighborsClassifier()),\n",
        "          ]\n",
        "\n",
        "\n",
        "ensemble = VotingClassifier(\n",
        "        methods,\n",
        "        voting='soft', \n",
        "#         weights=[1,1,1,1,2,2,1,1],\n",
        "#         flatten_transform=True,\n",
        ")\n",
        "\n",
        "clf = Pipeline([\n",
        "#          ('transformer', transformer),\n",
        "     ('ensemble', ensemble),\n",
        "])\n",
        "\n",
        "clf.fit(clean_features.iloc[:train_df.shape[0],:], target)"
      ],
      "execution_count": 43,
      "outputs": [
        {
          "output_type": "stream",
          "text": [
            "/usr/local/lib/python3.6/dist-packages/sklearn/preprocessing/_label.py:235: DataConversionWarning: A column-vector y was passed when a 1d array was expected. Please change the shape of y to (n_samples, ), for example using ravel().\n",
            "  y = column_or_1d(y, warn=True)\n",
            "/usr/local/lib/python3.6/dist-packages/sklearn/preprocessing/_label.py:268: DataConversionWarning: A column-vector y was passed when a 1d array was expected. Please change the shape of y to (n_samples, ), for example using ravel().\n",
            "  y = column_or_1d(y, warn=True)\n",
            "/usr/local/lib/python3.6/dist-packages/sklearn/linear_model/_logistic.py:940: ConvergenceWarning: lbfgs failed to converge (status=1):\n",
            "STOP: TOTAL NO. of ITERATIONS REACHED LIMIT.\n",
            "\n",
            "Increase the number of iterations (max_iter) or scale the data as shown in:\n",
            "    https://scikit-learn.org/stable/modules/preprocessing.html\n",
            "Please also refer to the documentation for alternative solver options:\n",
            "    https://scikit-learn.org/stable/modules/linear_model.html#logistic-regression\n",
            "  extra_warning_msg=_LOGISTIC_SOLVER_CONVERGENCE_MSG)\n",
            "/usr/local/lib/python3.6/dist-packages/sklearn/neural_network/_multilayer_perceptron.py:571: ConvergenceWarning: Stochastic Optimizer: Maximum iterations (200) reached and the optimization hasn't converged yet.\n",
            "  % self.max_iter, ConvergenceWarning)\n"
          ],
          "name": "stderr"
        },
        {
          "output_type": "execute_result",
          "data": {
            "text/plain": [
              "Pipeline(memory=None,\n",
              "         steps=[('ensemble',\n",
              "                 VotingClassifier(estimators=[('logistic',\n",
              "                                               LogisticRegression(C=1.0,\n",
              "                                                                  class_weight=None,\n",
              "                                                                  dual=False,\n",
              "                                                                  fit_intercept=True,\n",
              "                                                                  intercept_scaling=1,\n",
              "                                                                  l1_ratio=None,\n",
              "                                                                  max_iter=100,\n",
              "                                                                  multi_class='auto',\n",
              "                                                                  n_jobs=None,\n",
              "                                                                  penalty='l2',\n",
              "                                                                  random_state=None,\n",
              "                                                                  solver='lbfgs',\n",
              "                                                                  tol=0.0001,\n",
              "                                                                  verbose=0,\n",
              "                                                                  warm_start=False)),\n",
              "                                              ('tree',\n",
              "                                               DecisionTreeClassifier(c...\n",
              "                                                             power_t=0.5,\n",
              "                                                             random_state=None,\n",
              "                                                             shuffle=True,\n",
              "                                                             solver='adam',\n",
              "                                                             tol=0.0001,\n",
              "                                                             validation_fraction=0.1,\n",
              "                                                             verbose=False,\n",
              "                                                             warm_start=False)),\n",
              "                                              ('knn',\n",
              "                                               KNeighborsClassifier(algorithm='auto',\n",
              "                                                                    leaf_size=30,\n",
              "                                                                    metric='minkowski',\n",
              "                                                                    metric_params=None,\n",
              "                                                                    n_jobs=None,\n",
              "                                                                    n_neighbors=5,\n",
              "                                                                    p=2,\n",
              "                                                                    weights='uniform'))],\n",
              "                                  flatten_transform=True, n_jobs=None,\n",
              "                                  voting='soft', weights=None))],\n",
              "         verbose=False)"
            ]
          },
          "metadata": {
            "tags": []
          },
          "execution_count": 43
        }
      ]
    },
    {
      "cell_type": "code",
      "metadata": {
        "id": "uvbhTItar48D",
        "colab_type": "code",
        "colab": {}
      },
      "source": [
        "submission['Survived'] = pd.DataFrame(clf.predict(clean_features.iloc[train_df.shape[0]:,:]))"
      ],
      "execution_count": 44,
      "outputs": []
    },
    {
      "cell_type": "code",
      "metadata": {
        "id": "oO2O93hNr48W",
        "colab_type": "code",
        "colab": {
          "base_uri": "https://localhost:8080/",
          "height": 68
        },
        "outputId": "cc35ee09-ab18-4975-c557-f971bef7556e"
      },
      "source": [
        "print(submission.dtypes)"
      ],
      "execution_count": 45,
      "outputs": [
        {
          "output_type": "stream",
          "text": [
            "PassengerId    int64\n",
            "Survived       int64\n",
            "dtype: object\n"
          ],
          "name": "stdout"
        }
      ]
    },
    {
      "cell_type": "code",
      "metadata": {
        "id": "Jh-cEyMir48f",
        "colab_type": "code",
        "colab": {}
      },
      "source": [
        "submission.to_csv(\"titanic_submission.csv\", index=False)"
      ],
      "execution_count": 50,
      "outputs": []
    }
  ]
}