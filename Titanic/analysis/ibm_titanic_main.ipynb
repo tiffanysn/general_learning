{
    "cells": [
        {
            "cell_type": "code",
            "execution_count": 1,
            "metadata": {},
            "outputs": [],
            "source": "# The code was removed by Watson Studio for sharing."
        },
        {
            "cell_type": "code",
            "execution_count": 2,
            "metadata": {},
            "outputs": [
                {
                    "name": "stdout",
                    "output_type": "stream",
                    "text": "Collecting featuretools\n\u001b[?25l  Downloading https://files.pythonhosted.org/packages/65/8b/62e93852d771cd1f5bd91635327d9933346dc24a34b6f87cf4ccb01d0f6b/featuretools-0.17.0-py3-none-any.whl (269kB)\n\u001b[K     |\u2588\u2588\u2588\u2588\u2588\u2588\u2588\u2588\u2588\u2588\u2588\u2588\u2588\u2588\u2588\u2588\u2588\u2588\u2588\u2588\u2588\u2588\u2588\u2588\u2588\u2588\u2588\u2588\u2588\u2588\u2588\u2588| 276kB 9.2MB/s eta 0:00:01\n\u001b[?25hRequirement already satisfied: scipy>=0.13.3 in /opt/conda/envs/Python36/lib/python3.6/site-packages (from featuretools) (1.2.0)\nRequirement already satisfied: pyyaml>=3.12 in /opt/conda/envs/Python36/lib/python3.6/site-packages (from featuretools) (3.13)\nRequirement already satisfied: pandas>=0.24.1 in /opt/conda/envs/Python36/lib/python3.6/site-packages (from featuretools) (0.24.1)\nRequirement already satisfied: cloudpickle>=0.4.0 in /opt/conda/envs/Python36/lib/python3.6/site-packages (from featuretools) (0.7.0)\nRequirement already satisfied: psutil>=5.4.8 in /opt/conda/envs/Python36/lib/python3.6/site-packages (from featuretools) (5.5.0)\nCollecting tqdm>=4.32.0 (from featuretools)\n\u001b[?25l  Downloading https://files.pythonhosted.org/packages/af/88/7b0ea5fa8192d1733dea459a9e3059afc87819cb4072c43263f2ec7ab768/tqdm-4.48.0-py2.py3-none-any.whl (67kB)\n\u001b[K     |\u2588\u2588\u2588\u2588\u2588\u2588\u2588\u2588\u2588\u2588\u2588\u2588\u2588\u2588\u2588\u2588\u2588\u2588\u2588\u2588\u2588\u2588\u2588\u2588\u2588\u2588\u2588\u2588\u2588\u2588\u2588\u2588| 71kB 20.5MB/s eta 0:00:01\n\u001b[?25hRequirement already satisfied: numpy>=1.13.3 in /opt/conda/envs/Python36/lib/python3.6/site-packages (from featuretools) (1.15.4)\nRequirement already satisfied: distributed>=1.24.2 in /opt/conda/envs/Python36/lib/python3.6/site-packages (from featuretools) (1.25.3)\nRequirement already satisfied: click>=7.0.0 in /opt/conda/envs/Python36/lib/python3.6/site-packages (from featuretools) (7.0)\nRequirement already satisfied: dask[dataframe]>=1.1.0 in /opt/conda/envs/Python36/lib/python3.6/site-packages (from featuretools) (1.1.1)\nRequirement already satisfied: pytz>=2011k in /opt/conda/envs/Python36/lib/python3.6/site-packages (from pandas>=0.24.1->featuretools) (2018.9)\nRequirement already satisfied: python-dateutil>=2.5.0 in /opt/conda/envs/Python36/lib/python3.6/site-packages (from pandas>=0.24.1->featuretools) (2.7.5)\nRequirement already satisfied: msgpack in /opt/conda/envs/Python36/lib/python3.6/site-packages (from distributed>=1.24.2->featuretools) (0.6.1)\nRequirement already satisfied: six in /opt/conda/envs/Python36/lib/python3.6/site-packages (from distributed>=1.24.2->featuretools) (1.12.0)\nRequirement already satisfied: sortedcontainers!=2.0.0,!=2.0.1 in /opt/conda/envs/Python36/lib/python3.6/site-packages (from distributed>=1.24.2->featuretools) (2.1.0)\nRequirement already satisfied: tblib in /opt/conda/envs/Python36/lib/python3.6/site-packages (from distributed>=1.24.2->featuretools) (1.3.2)\nRequirement already satisfied: toolz>=0.7.4 in /opt/conda/envs/Python36/lib/python3.6/site-packages (from distributed>=1.24.2->featuretools) (0.9.0)\nRequirement already satisfied: tornado>=4.5.1 in /opt/conda/envs/Python36/lib/python3.6/site-packages (from distributed>=1.24.2->featuretools) (5.1.1)\nRequirement already satisfied: zict>=0.1.3 in /opt/conda/envs/Python36/lib/python3.6/site-packages (from distributed>=1.24.2->featuretools) (0.1.3)\nRequirement already satisfied: partd>=0.3.8; extra == \"dataframe\" in /opt/conda/envs/Python36/lib/python3.6/site-packages (from dask[dataframe]>=1.1.0->featuretools) (0.3.9)\nRequirement already satisfied: heapdict in /opt/conda/envs/Python36/lib/python3.6/site-packages (from zict>=0.1.3->distributed>=1.24.2->featuretools) (1.0.0)\nRequirement already satisfied: locket in /opt/conda/envs/Python36/lib/python3.6/site-packages (from partd>=0.3.8; extra == \"dataframe\"->dask[dataframe]>=1.1.0->featuretools) (0.2.0)\nInstalling collected packages: tqdm, featuretools\n  Found existing installation: tqdm 4.31.1\n    Uninstalling tqdm-4.31.1:\n      Successfully uninstalled tqdm-4.31.1\nSuccessfully installed featuretools-0.17.0 tqdm-4.48.0\n"
                }
            ],
            "source": "! pip install featuretools"
        },
        {
            "cell_type": "code",
            "execution_count": 3,
            "metadata": {},
            "outputs": [],
            "source": "# Load Package\n# import numpy as np\nimport pandas as pd\nimport seaborn as sns"
        },
        {
            "cell_type": "code",
            "execution_count": 4,
            "metadata": {},
            "outputs": [],
            "source": "import featuretools as ft"
        },
        {
            "cell_type": "code",
            "execution_count": 5,
            "metadata": {},
            "outputs": [],
            "source": "from sklearn.base import BaseEstimator, TransformerMixin\nfrom sklearn.impute import SimpleImputer, MissingIndicator\nfrom sklearn.pipeline import Pipeline, FeatureUnion\nfrom sklearn.preprocessing import (\n    OneHotEncoder,\n    StandardScaler,\n    LabelEncoder,\n    OrdinalEncoder,\n)\nfrom sklearn.compose import ColumnTransformer\nfrom sklearn.model_selection import cross_val_score, RandomizedSearchCV"
        },
        {
            "cell_type": "code",
            "execution_count": 6,
            "metadata": {},
            "outputs": [],
            "source": "# Load data\ntrain_df = project.get_file(\"train.csv\")\ntest_df = project.get_file(\"test.csv\")\ntrain_df= pd.read_csv(train_df)\ntest_df = pd.read_csv(test_df)"
        },
        {
            "cell_type": "code",
            "execution_count": 7,
            "metadata": {},
            "outputs": [],
            "source": "# Save data\ntarget = train_df[[\"Survived\"]]\nsubmission = test_df[[\"PassengerId\"]]"
        },
        {
            "cell_type": "code",
            "execution_count": 8,
            "metadata": {},
            "outputs": [
                {
                    "name": "stderr",
                    "output_type": "stream",
                    "text": "/opt/conda/envs/Python36/lib/python3.6/site-packages/ipykernel/__main__.py:2: FutureWarning: Sorting because non-concatenation axis is not aligned. A future version\nof pandas will change to not sort by default.\n\nTo accept the future behavior, pass 'sort=False'.\n\nTo retain the current behavior and silence the warning, pass 'sort=True'.\n\n  from ipykernel import kernelapp as app\n"
                }
            ],
            "source": "# Join and Clean\ncombine = pd.concat([train_df, test_df])"
        },
        {
            "cell_type": "code",
            "execution_count": 9,
            "metadata": {},
            "outputs": [
                {
                    "name": "stdout",
                    "output_type": "stream",
                    "text": "<class 'pandas.core.frame.DataFrame'>\nInt64Index: 1309 entries, 0 to 417\nData columns (total 12 columns):\nAge            1046 non-null float64\nCabin          295 non-null object\nEmbarked       1307 non-null object\nFare           1308 non-null float64\nName           1309 non-null object\nParch          1309 non-null int64\nPassengerId    1309 non-null int64\nPclass         1309 non-null int64\nSex            1309 non-null object\nSibSp          1309 non-null int64\nSurvived       891 non-null float64\nTicket         1309 non-null object\ndtypes: float64(3), int64(4), object(5)\nmemory usage: 132.9+ KB\n"
                }
            ],
            "source": "# EDA\ncombine.info()"
        },
        {
            "cell_type": "code",
            "execution_count": 10,
            "metadata": {},
            "outputs": [
                {
                    "data": {
                        "text/plain": "Index(['Age', 'Cabin', 'Embarked', 'Fare', 'Name', 'Parch', 'PassengerId',\n       'Pclass', 'Sex', 'SibSp', 'Survived', 'Ticket'],\n      dtype='object')"
                    },
                    "execution_count": 10,
                    "metadata": {},
                    "output_type": "execute_result"
                }
            ],
            "source": "combine.columns"
        },
        {
            "cell_type": "code",
            "execution_count": 11,
            "metadata": {},
            "outputs": [],
            "source": "mapping = {'Mlle': 'Miss', 'Major': 'Mr', 'Col': 'Mr', 'Sir': 'Mr', 'Don': 'Mr', 'Mme': 'Miss',\n          'Jonkheer': 'Mr', 'Lady': 'Mrs', 'Capt': 'Mr', 'Countess': 'Mrs', 'Ms': 'Miss', 'Dona': 'Mrs'}"
        },
        {
            "cell_type": "code",
            "execution_count": 12,
            "metadata": {},
            "outputs": [],
            "source": "combine['Title'] = combine.Name.apply(lambda x: x.split(\".\")[0].split(\",\")[1].strip()).replace(mapping)"
        },
        {
            "cell_type": "code",
            "execution_count": 13,
            "metadata": {},
            "outputs": [],
            "source": "combine.drop(['Cabin', 'Ticket', 'Name'], axis=1, inplace=True)"
        },
        {
            "cell_type": "code",
            "execution_count": 14,
            "metadata": {},
            "outputs": [],
            "source": "# combine['Sex2'] = combine['Sex'].apply(lambda x: 0 if x=='female' else 1)"
        },
        {
            "cell_type": "code",
            "execution_count": 15,
            "metadata": {},
            "outputs": [],
            "source": "# class ModifiedLabelEncoder(LabelEncoder):\n\n#     def fit_transform(self, y, *args, **kwargs):\n#         return super().fit_transform(y)\n\n#     def transform(self, y, *args, **kwargs):\n#         return super().transform(y)"
        },
        {
            "cell_type": "code",
            "execution_count": 16,
            "metadata": {},
            "outputs": [],
            "source": "categorical_transformer = Pipeline(steps=[\n    (\"imputer\", SimpleImputer(strategy=\"most_frequent\")),\n    (\"encode\", OrdinalEncoder()),\n])\n\nnumeric_transformer = Pipeline([\n    (\"imputer\", SimpleImputer(strategy=\"median\")),\n])"
        },
        {
            "cell_type": "code",
            "execution_count": 17,
            "metadata": {},
            "outputs": [],
            "source": "combine[['Sex','Embarked', 'Title']] = categorical_transformer.fit_transform(combine[['Sex', 'Embarked', 'Title']])"
        },
        {
            "cell_type": "code",
            "execution_count": 18,
            "metadata": {},
            "outputs": [],
            "source": "combine[['Age', 'Fare']] = numeric_transformer.fit_transform(combine[['Age', 'Fare']])"
        },
        {
            "cell_type": "code",
            "execution_count": 19,
            "metadata": {},
            "outputs": [
                {
                    "data": {
                        "text/plain": "Entityset: titanic_data\n  Entities:\n    combine [Rows: 1309, Columns: 9]\n  Relationships:\n    No relationships"
                    },
                    "execution_count": 19,
                    "metadata": {},
                    "output_type": "execute_result"
                }
            ],
            "source": "es = ft.EntitySet(id = 'titanic_data')\n\nes = es.entity_from_dataframe(entity_id = 'combine', dataframe = combine.drop(['Survived'], axis=1), \n                              variable_types = \n                              {\n                                  'Embarked': ft.variable_types.Categorical,\n                                  'Sex': ft.variable_types.Boolean,\n                                  'Title': ft.variable_types.Categorical\n                              },\n                              index = 'PassengerId')\n\nes"
        },
        {
            "cell_type": "code",
            "execution_count": 20,
            "metadata": {},
            "outputs": [
                {
                    "data": {
                        "text/plain": "Entityset: titanic_data\n  Entities:\n    combine [Rows: 1309, Columns: 9]\n    Embarked [Rows: 3, Columns: 1]\n    Sex [Rows: 2, Columns: 1]\n    Title [Rows: 7, Columns: 1]\n    Pclass [Rows: 3, Columns: 1]\n    Parch [Rows: 8, Columns: 1]\n    SibSp [Rows: 7, Columns: 1]\n  Relationships:\n    combine.Embarked -> Embarked.Embarked\n    combine.Sex -> Sex.Sex\n    combine.Title -> Title.Title\n    combine.Pclass -> Pclass.Pclass\n    combine.Parch -> Parch.Parch\n    combine.SibSp -> SibSp.SibSp"
                    },
                    "execution_count": 20,
                    "metadata": {},
                    "output_type": "execute_result"
                }
            ],
            "source": "es = es.normalize_entity(base_entity_id='combine', new_entity_id='Embarked', index='Embarked')\nes = es.normalize_entity(base_entity_id='combine', new_entity_id='Sex', index='Sex')\nes = es.normalize_entity(base_entity_id='combine', new_entity_id='Title', index='Title')\nes = es.normalize_entity(base_entity_id='combine', new_entity_id='Pclass', index='Pclass')\nes = es.normalize_entity(base_entity_id='combine', new_entity_id='Parch', index='Parch')\nes = es.normalize_entity(base_entity_id='combine', new_entity_id='SibSp', index='SibSp')\nes"
        },
        {
            "cell_type": "code",
            "execution_count": 21,
            "metadata": {},
            "outputs": [
                {
                    "data": {
                        "text/html": "<div>\n<style scoped>\n    .dataframe tbody tr th:only-of-type {\n        vertical-align: middle;\n    }\n\n    .dataframe tbody tr th {\n        vertical-align: top;\n    }\n\n    .dataframe thead th {\n        text-align: right;\n    }\n</style>\n<table border=\"1\" class=\"dataframe\">\n  <thead>\n    <tr style=\"text-align: right;\">\n      <th></th>\n      <th>name</th>\n      <th>type</th>\n      <th>dask_compatible</th>\n      <th>description</th>\n    </tr>\n  </thead>\n  <tbody>\n    <tr>\n      <th>0</th>\n      <td>n_most_common</td>\n      <td>aggregation</td>\n      <td>False</td>\n      <td>Determines the `n` most common elements.</td>\n    </tr>\n    <tr>\n      <th>1</th>\n      <td>sum</td>\n      <td>aggregation</td>\n      <td>True</td>\n      <td>Calculates the total addition, ignoring `NaN`.</td>\n    </tr>\n    <tr>\n      <th>2</th>\n      <td>num_true</td>\n      <td>aggregation</td>\n      <td>True</td>\n      <td>Counts the number of `True` values.</td>\n    </tr>\n    <tr>\n      <th>3</th>\n      <td>all</td>\n      <td>aggregation</td>\n      <td>True</td>\n      <td>Calculates if all values are 'True' in a list.</td>\n    </tr>\n    <tr>\n      <th>4</th>\n      <td>last</td>\n      <td>aggregation</td>\n      <td>False</td>\n      <td>Determines the last value in a list.</td>\n    </tr>\n    <tr>\n      <th>5</th>\n      <td>count</td>\n      <td>aggregation</td>\n      <td>True</td>\n      <td>Determines the total number of values, excluding `NaN`.</td>\n    </tr>\n    <tr>\n      <th>6</th>\n      <td>std</td>\n      <td>aggregation</td>\n      <td>True</td>\n      <td>Computes the dispersion relative to the mean value, ignoring `NaN`.</td>\n    </tr>\n    <tr>\n      <th>7</th>\n      <td>num_unique</td>\n      <td>aggregation</td>\n      <td>True</td>\n      <td>Determines the number of distinct values, ignoring `NaN` values.</td>\n    </tr>\n    <tr>\n      <th>8</th>\n      <td>median</td>\n      <td>aggregation</td>\n      <td>False</td>\n      <td>Determines the middlemost number in a list of values.</td>\n    </tr>\n    <tr>\n      <th>9</th>\n      <td>min</td>\n      <td>aggregation</td>\n      <td>True</td>\n      <td>Calculates the smallest value, ignoring `NaN` values.</td>\n    </tr>\n    <tr>\n      <th>10</th>\n      <td>mean</td>\n      <td>aggregation</td>\n      <td>True</td>\n      <td>Computes the average for a list of values.</td>\n    </tr>\n    <tr>\n      <th>11</th>\n      <td>avg_time_between</td>\n      <td>aggregation</td>\n      <td>False</td>\n      <td>Computes the average number of seconds between consecutive events.</td>\n    </tr>\n    <tr>\n      <th>12</th>\n      <td>percent_true</td>\n      <td>aggregation</td>\n      <td>True</td>\n      <td>Determines the percent of `True` values.</td>\n    </tr>\n    <tr>\n      <th>13</th>\n      <td>time_since_last</td>\n      <td>aggregation</td>\n      <td>False</td>\n      <td>Calculates the time elapsed since the last datetime (default in seconds).</td>\n    </tr>\n    <tr>\n      <th>14</th>\n      <td>any</td>\n      <td>aggregation</td>\n      <td>True</td>\n      <td>Determines if any value is 'True' in a list.</td>\n    </tr>\n    <tr>\n      <th>15</th>\n      <td>time_since_first</td>\n      <td>aggregation</td>\n      <td>False</td>\n      <td>Calculates the time elapsed since the first datetime (in seconds).</td>\n    </tr>\n    <tr>\n      <th>16</th>\n      <td>trend</td>\n      <td>aggregation</td>\n      <td>False</td>\n      <td>Calculates the trend of a variable over time.</td>\n    </tr>\n    <tr>\n      <th>17</th>\n      <td>first</td>\n      <td>aggregation</td>\n      <td>False</td>\n      <td>Determines the first value in a list.</td>\n    </tr>\n    <tr>\n      <th>18</th>\n      <td>entropy</td>\n      <td>aggregation</td>\n      <td>False</td>\n      <td>Calculates the entropy for a categorical variable</td>\n    </tr>\n    <tr>\n      <th>19</th>\n      <td>skew</td>\n      <td>aggregation</td>\n      <td>False</td>\n      <td>Computes the extent to which a distribution differs from a normal distribution.</td>\n    </tr>\n    <tr>\n      <th>20</th>\n      <td>max</td>\n      <td>aggregation</td>\n      <td>True</td>\n      <td>Calculates the highest value, ignoring `NaN` values.</td>\n    </tr>\n    <tr>\n      <th>21</th>\n      <td>mode</td>\n      <td>aggregation</td>\n      <td>False</td>\n      <td>Determines the most commonly repeated value.</td>\n    </tr>\n  </tbody>\n</table>\n</div>",
                        "text/plain": "                name         type  dask_compatible  \\\n0      n_most_common  aggregation            False   \n1                sum  aggregation             True   \n2           num_true  aggregation             True   \n3                all  aggregation             True   \n4               last  aggregation            False   \n5              count  aggregation             True   \n6                std  aggregation             True   \n7         num_unique  aggregation             True   \n8             median  aggregation            False   \n9                min  aggregation             True   \n10              mean  aggregation             True   \n11  avg_time_between  aggregation            False   \n12      percent_true  aggregation             True   \n13   time_since_last  aggregation            False   \n14               any  aggregation             True   \n15  time_since_first  aggregation            False   \n16             trend  aggregation            False   \n17             first  aggregation            False   \n18           entropy  aggregation            False   \n19              skew  aggregation            False   \n20               max  aggregation             True   \n21              mode  aggregation            False   \n\n                                                                        description  \n0                                          Determines the `n` most common elements.  \n1                                    Calculates the total addition, ignoring `NaN`.  \n2                                               Counts the number of `True` values.  \n3                                    Calculates if all values are 'True' in a list.  \n4                                              Determines the last value in a list.  \n5                           Determines the total number of values, excluding `NaN`.  \n6               Computes the dispersion relative to the mean value, ignoring `NaN`.  \n7                  Determines the number of distinct values, ignoring `NaN` values.  \n8                             Determines the middlemost number in a list of values.  \n9                             Calculates the smallest value, ignoring `NaN` values.  \n10                                       Computes the average for a list of values.  \n11               Computes the average number of seconds between consecutive events.  \n12                                         Determines the percent of `True` values.  \n13        Calculates the time elapsed since the last datetime (default in seconds).  \n14                                     Determines if any value is 'True' in a list.  \n15               Calculates the time elapsed since the first datetime (in seconds).  \n16                                    Calculates the trend of a variable over time.  \n17                                            Determines the first value in a list.  \n18                                Calculates the entropy for a categorical variable  \n19  Computes the extent to which a distribution differs from a normal distribution.  \n20                             Calculates the highest value, ignoring `NaN` values.  \n21                                     Determines the most commonly repeated value.  "
                    },
                    "execution_count": 21,
                    "metadata": {},
                    "output_type": "execute_result"
                }
            ],
            "source": "primitives = ft.list_primitives()\npd.options.display.max_colwidth = 100\nprimitives[primitives['type'] == 'aggregation'].head(primitives[primitives['type'] == 'aggregation'].shape[0])"
        },
        {
            "cell_type": "code",
            "execution_count": 22,
            "metadata": {},
            "outputs": [
                {
                    "data": {
                        "text/html": "<div>\n<style scoped>\n    .dataframe tbody tr th:only-of-type {\n        vertical-align: middle;\n    }\n\n    .dataframe tbody tr th {\n        vertical-align: top;\n    }\n\n    .dataframe thead th {\n        text-align: right;\n    }\n</style>\n<table border=\"1\" class=\"dataframe\">\n  <thead>\n    <tr style=\"text-align: right;\">\n      <th></th>\n      <th>name</th>\n      <th>type</th>\n      <th>dask_compatible</th>\n      <th>description</th>\n    </tr>\n  </thead>\n  <tbody>\n    <tr>\n      <th>22</th>\n      <td>greater_than_equal_to</td>\n      <td>transform</td>\n      <td>True</td>\n      <td>Determines if values in one list are greater than or equal to another list.</td>\n    </tr>\n    <tr>\n      <th>23</th>\n      <td>subtract_numeric_scalar</td>\n      <td>transform</td>\n      <td>True</td>\n      <td>Subtract a scalar from each element in the list.</td>\n    </tr>\n    <tr>\n      <th>24</th>\n      <td>divide_numeric_scalar</td>\n      <td>transform</td>\n      <td>True</td>\n      <td>Divide each element in the list by a scalar.</td>\n    </tr>\n    <tr>\n      <th>25</th>\n      <td>divide_by_feature</td>\n      <td>transform</td>\n      <td>True</td>\n      <td>Divide a scalar by each value in the list.</td>\n    </tr>\n    <tr>\n      <th>26</th>\n      <td>less_than</td>\n      <td>transform</td>\n      <td>True</td>\n      <td>Determines if values in one list are less than another list.</td>\n    </tr>\n    <tr>\n      <th>27</th>\n      <td>latitude</td>\n      <td>transform</td>\n      <td>False</td>\n      <td>Returns the first tuple value in a list of LatLong tuples.</td>\n    </tr>\n    <tr>\n      <th>28</th>\n      <td>greater_than</td>\n      <td>transform</td>\n      <td>True</td>\n      <td>Determines if values in one list are greater than another list.</td>\n    </tr>\n    <tr>\n      <th>29</th>\n      <td>cum_min</td>\n      <td>transform</td>\n      <td>False</td>\n      <td>Calculates the cumulative minimum.</td>\n    </tr>\n    <tr>\n      <th>30</th>\n      <td>minute</td>\n      <td>transform</td>\n      <td>True</td>\n      <td>Determines the minutes value of a datetime.</td>\n    </tr>\n    <tr>\n      <th>31</th>\n      <td>not</td>\n      <td>transform</td>\n      <td>True</td>\n      <td>Negates a boolean value.</td>\n    </tr>\n    <tr>\n      <th>32</th>\n      <td>longitude</td>\n      <td>transform</td>\n      <td>False</td>\n      <td>Returns the second tuple value in a list of LatLong tuples.</td>\n    </tr>\n    <tr>\n      <th>33</th>\n      <td>cum_count</td>\n      <td>transform</td>\n      <td>False</td>\n      <td>Calculates the cumulative count.</td>\n    </tr>\n    <tr>\n      <th>34</th>\n      <td>hour</td>\n      <td>transform</td>\n      <td>True</td>\n      <td>Determines the hour value of a datetime.</td>\n    </tr>\n    <tr>\n      <th>35</th>\n      <td>subtract_numeric</td>\n      <td>transform</td>\n      <td>True</td>\n      <td>Element-wise subtraction of two lists.</td>\n    </tr>\n    <tr>\n      <th>36</th>\n      <td>diff</td>\n      <td>transform</td>\n      <td>False</td>\n      <td>Compute the difference between the value in a list and the</td>\n    </tr>\n    <tr>\n      <th>37</th>\n      <td>num_words</td>\n      <td>transform</td>\n      <td>True</td>\n      <td>Determines the number of words in a string by counting the spaces.</td>\n    </tr>\n    <tr>\n      <th>38</th>\n      <td>divide_numeric</td>\n      <td>transform</td>\n      <td>True</td>\n      <td>Element-wise division of two lists.</td>\n    </tr>\n    <tr>\n      <th>39</th>\n      <td>add_numeric</td>\n      <td>transform</td>\n      <td>True</td>\n      <td>Element-wise addition of two lists.</td>\n    </tr>\n    <tr>\n      <th>40</th>\n      <td>month</td>\n      <td>transform</td>\n      <td>True</td>\n      <td>Determines the month value of a datetime.</td>\n    </tr>\n    <tr>\n      <th>41</th>\n      <td>weekday</td>\n      <td>transform</td>\n      <td>True</td>\n      <td>Determines the day of the week from a datetime.</td>\n    </tr>\n    <tr>\n      <th>42</th>\n      <td>multiply_numeric_scalar</td>\n      <td>transform</td>\n      <td>True</td>\n      <td>Multiply each element in the list by a scalar.</td>\n    </tr>\n    <tr>\n      <th>43</th>\n      <td>absolute</td>\n      <td>transform</td>\n      <td>True</td>\n      <td>Computes the absolute value of a number.</td>\n    </tr>\n    <tr>\n      <th>44</th>\n      <td>not_equal</td>\n      <td>transform</td>\n      <td>False</td>\n      <td>Determines if values in one list are not equal to another list.</td>\n    </tr>\n    <tr>\n      <th>45</th>\n      <td>modulo_by_feature</td>\n      <td>transform</td>\n      <td>True</td>\n      <td>Return the modulo of a scalar by each element in the list.</td>\n    </tr>\n    <tr>\n      <th>46</th>\n      <td>scalar_subtract_numeric_feature</td>\n      <td>transform</td>\n      <td>True</td>\n      <td>Subtract each value in the list from a given scalar.</td>\n    </tr>\n    <tr>\n      <th>47</th>\n      <td>equal</td>\n      <td>transform</td>\n      <td>False</td>\n      <td>Determines if values in one list are equal to another list.</td>\n    </tr>\n    <tr>\n      <th>48</th>\n      <td>is_weekend</td>\n      <td>transform</td>\n      <td>True</td>\n      <td>Determines if a date falls on a weekend.</td>\n    </tr>\n    <tr>\n      <th>49</th>\n      <td>modulo_numeric</td>\n      <td>transform</td>\n      <td>True</td>\n      <td>Element-wise modulo of two lists.</td>\n    </tr>\n    <tr>\n      <th>50</th>\n      <td>age</td>\n      <td>transform</td>\n      <td>False</td>\n      <td>Calculates the age in years as a floating point number given a</td>\n    </tr>\n    <tr>\n      <th>51</th>\n      <td>less_than_equal_to</td>\n      <td>transform</td>\n      <td>True</td>\n      <td>Determines if values in one list are less than or equal to another list.</td>\n    </tr>\n    <tr>\n      <th>52</th>\n      <td>less_than_scalar</td>\n      <td>transform</td>\n      <td>True</td>\n      <td>Determines if values are less than a given scalar.</td>\n    </tr>\n    <tr>\n      <th>53</th>\n      <td>greater_than_scalar</td>\n      <td>transform</td>\n      <td>True</td>\n      <td>Determines if values are greater than a given scalar.</td>\n    </tr>\n    <tr>\n      <th>54</th>\n      <td>cum_max</td>\n      <td>transform</td>\n      <td>False</td>\n      <td>Calculates the cumulative maximum.</td>\n    </tr>\n    <tr>\n      <th>55</th>\n      <td>week</td>\n      <td>transform</td>\n      <td>True</td>\n      <td>Determines the week of the year from a datetime.</td>\n    </tr>\n    <tr>\n      <th>56</th>\n      <td>greater_than_equal_to_scalar</td>\n      <td>transform</td>\n      <td>True</td>\n      <td>Determines if values are greater than or equal to a given scalar.</td>\n    </tr>\n    <tr>\n      <th>57</th>\n      <td>percentile</td>\n      <td>transform</td>\n      <td>False</td>\n      <td>Determines the percentile rank for each value in a list.</td>\n    </tr>\n    <tr>\n      <th>58</th>\n      <td>haversine</td>\n      <td>transform</td>\n      <td>False</td>\n      <td>Calculates the approximate haversine distance between two LatLong</td>\n    </tr>\n    <tr>\n      <th>59</th>\n      <td>cum_mean</td>\n      <td>transform</td>\n      <td>False</td>\n      <td>Calculates the cumulative mean.</td>\n    </tr>\n    <tr>\n      <th>60</th>\n      <td>second</td>\n      <td>transform</td>\n      <td>True</td>\n      <td>Determines the seconds value of a datetime.</td>\n    </tr>\n    <tr>\n      <th>61</th>\n      <td>negate</td>\n      <td>transform</td>\n      <td>True</td>\n      <td>Negates a numeric value.</td>\n    </tr>\n    <tr>\n      <th>62</th>\n      <td>time_since</td>\n      <td>transform</td>\n      <td>True</td>\n      <td>Calculates time from a value to a specified cutoff datetime.</td>\n    </tr>\n    <tr>\n      <th>63</th>\n      <td>cum_sum</td>\n      <td>transform</td>\n      <td>False</td>\n      <td>Calculates the cumulative sum.</td>\n    </tr>\n    <tr>\n      <th>64</th>\n      <td>day</td>\n      <td>transform</td>\n      <td>True</td>\n      <td>Determines the day of the month from a datetime.</td>\n    </tr>\n    <tr>\n      <th>65</th>\n      <td>add_numeric_scalar</td>\n      <td>transform</td>\n      <td>True</td>\n      <td>Add a scalar to each value in the list.</td>\n    </tr>\n    <tr>\n      <th>66</th>\n      <td>isin</td>\n      <td>transform</td>\n      <td>True</td>\n      <td>Determines whether a value is present in a provided list.</td>\n    </tr>\n    <tr>\n      <th>67</th>\n      <td>num_characters</td>\n      <td>transform</td>\n      <td>True</td>\n      <td>Calculates the number of characters in a string.</td>\n    </tr>\n    <tr>\n      <th>68</th>\n      <td>year</td>\n      <td>transform</td>\n      <td>True</td>\n      <td>Determines the year value of a datetime.</td>\n    </tr>\n    <tr>\n      <th>69</th>\n      <td>multiply_boolean</td>\n      <td>transform</td>\n      <td>True</td>\n      <td>Element-wise multiplication of two lists of boolean values.</td>\n    </tr>\n    <tr>\n      <th>70</th>\n      <td>time_since_previous</td>\n      <td>transform</td>\n      <td>False</td>\n      <td>Compute the time since the previous entry in a list.</td>\n    </tr>\n    <tr>\n      <th>71</th>\n      <td>not_equal_scalar</td>\n      <td>transform</td>\n      <td>True</td>\n      <td>Determines if values in a list are not equal to a given scalar.</td>\n    </tr>\n    <tr>\n      <th>72</th>\n      <td>and</td>\n      <td>transform</td>\n      <td>True</td>\n      <td>Element-wise logical AND of two lists.</td>\n    </tr>\n    <tr>\n      <th>73</th>\n      <td>is_null</td>\n      <td>transform</td>\n      <td>True</td>\n      <td>Determines if a value is null.</td>\n    </tr>\n    <tr>\n      <th>74</th>\n      <td>equal_scalar</td>\n      <td>transform</td>\n      <td>True</td>\n      <td>Determines if values in a list are equal to a given scalar.</td>\n    </tr>\n    <tr>\n      <th>75</th>\n      <td>multiply_numeric</td>\n      <td>transform</td>\n      <td>True</td>\n      <td>Element-wise multiplication of two lists.</td>\n    </tr>\n    <tr>\n      <th>76</th>\n      <td>modulo_numeric_scalar</td>\n      <td>transform</td>\n      <td>True</td>\n      <td>Return the modulo of each element in the list by a scalar.</td>\n    </tr>\n    <tr>\n      <th>77</th>\n      <td>or</td>\n      <td>transform</td>\n      <td>True</td>\n      <td>Element-wise logical OR of two lists.</td>\n    </tr>\n    <tr>\n      <th>78</th>\n      <td>less_than_equal_to_scalar</td>\n      <td>transform</td>\n      <td>True</td>\n      <td>Determines if values are less than or equal to a given scalar.</td>\n    </tr>\n  </tbody>\n</table>\n</div>",
                        "text/plain": "                               name       type  dask_compatible  \\\n22            greater_than_equal_to  transform             True   \n23          subtract_numeric_scalar  transform             True   \n24            divide_numeric_scalar  transform             True   \n25                divide_by_feature  transform             True   \n26                        less_than  transform             True   \n27                         latitude  transform            False   \n28                     greater_than  transform             True   \n29                          cum_min  transform            False   \n30                           minute  transform             True   \n31                              not  transform             True   \n32                        longitude  transform            False   \n33                        cum_count  transform            False   \n34                             hour  transform             True   \n35                 subtract_numeric  transform             True   \n36                             diff  transform            False   \n37                        num_words  transform             True   \n38                   divide_numeric  transform             True   \n39                      add_numeric  transform             True   \n40                            month  transform             True   \n41                          weekday  transform             True   \n42          multiply_numeric_scalar  transform             True   \n43                         absolute  transform             True   \n44                        not_equal  transform            False   \n45                modulo_by_feature  transform             True   \n46  scalar_subtract_numeric_feature  transform             True   \n47                            equal  transform            False   \n48                       is_weekend  transform             True   \n49                   modulo_numeric  transform             True   \n50                              age  transform            False   \n51               less_than_equal_to  transform             True   \n52                 less_than_scalar  transform             True   \n53              greater_than_scalar  transform             True   \n54                          cum_max  transform            False   \n55                             week  transform             True   \n56     greater_than_equal_to_scalar  transform             True   \n57                       percentile  transform            False   \n58                        haversine  transform            False   \n59                         cum_mean  transform            False   \n60                           second  transform             True   \n61                           negate  transform             True   \n62                       time_since  transform             True   \n63                          cum_sum  transform            False   \n64                              day  transform             True   \n65               add_numeric_scalar  transform             True   \n66                             isin  transform             True   \n67                   num_characters  transform             True   \n68                             year  transform             True   \n69                 multiply_boolean  transform             True   \n70              time_since_previous  transform            False   \n71                 not_equal_scalar  transform             True   \n72                              and  transform             True   \n73                          is_null  transform             True   \n74                     equal_scalar  transform             True   \n75                 multiply_numeric  transform             True   \n76            modulo_numeric_scalar  transform             True   \n77                               or  transform             True   \n78        less_than_equal_to_scalar  transform             True   \n\n                                                                    description  \n22  Determines if values in one list are greater than or equal to another list.  \n23                             Subtract a scalar from each element in the list.  \n24                                 Divide each element in the list by a scalar.  \n25                                   Divide a scalar by each value in the list.  \n26                 Determines if values in one list are less than another list.  \n27                   Returns the first tuple value in a list of LatLong tuples.  \n28              Determines if values in one list are greater than another list.  \n29                                           Calculates the cumulative minimum.  \n30                                  Determines the minutes value of a datetime.  \n31                                                     Negates a boolean value.  \n32                  Returns the second tuple value in a list of LatLong tuples.  \n33                                             Calculates the cumulative count.  \n34                                     Determines the hour value of a datetime.  \n35                                       Element-wise subtraction of two lists.  \n36                   Compute the difference between the value in a list and the  \n37           Determines the number of words in a string by counting the spaces.  \n38                                          Element-wise division of two lists.  \n39                                          Element-wise addition of two lists.  \n40                                    Determines the month value of a datetime.  \n41                              Determines the day of the week from a datetime.  \n42                               Multiply each element in the list by a scalar.  \n43                                     Computes the absolute value of a number.  \n44              Determines if values in one list are not equal to another list.  \n45                   Return the modulo of a scalar by each element in the list.  \n46                         Subtract each value in the list from a given scalar.  \n47                  Determines if values in one list are equal to another list.  \n48                                     Determines if a date falls on a weekend.  \n49                                            Element-wise modulo of two lists.  \n50               Calculates the age in years as a floating point number given a  \n51     Determines if values in one list are less than or equal to another list.  \n52                           Determines if values are less than a given scalar.  \n53                        Determines if values are greater than a given scalar.  \n54                                           Calculates the cumulative maximum.  \n55                             Determines the week of the year from a datetime.  \n56            Determines if values are greater than or equal to a given scalar.  \n57                     Determines the percentile rank for each value in a list.  \n58            Calculates the approximate haversine distance between two LatLong  \n59                                              Calculates the cumulative mean.  \n60                                  Determines the seconds value of a datetime.  \n61                                                     Negates a numeric value.  \n62                 Calculates time from a value to a specified cutoff datetime.  \n63                                               Calculates the cumulative sum.  \n64                             Determines the day of the month from a datetime.  \n65                                      Add a scalar to each value in the list.  \n66                    Determines whether a value is present in a provided list.  \n67                             Calculates the number of characters in a string.  \n68                                     Determines the year value of a datetime.  \n69                  Element-wise multiplication of two lists of boolean values.  \n70                         Compute the time since the previous entry in a list.  \n71              Determines if values in a list are not equal to a given scalar.  \n72                                       Element-wise logical AND of two lists.  \n73                                               Determines if a value is null.  \n74                  Determines if values in a list are equal to a given scalar.  \n75                                    Element-wise multiplication of two lists.  \n76                   Return the modulo of each element in the list by a scalar.  \n77                                        Element-wise logical OR of two lists.  \n78               Determines if values are less than or equal to a given scalar.  "
                    },
                    "execution_count": 22,
                    "metadata": {},
                    "output_type": "execute_result"
                }
            ],
            "source": "primitives[primitives['type'] == 'transform'].head(primitives[primitives['type'] == 'transform'].shape[0])"
        },
        {
            "cell_type": "code",
            "execution_count": 38,
            "metadata": {},
            "outputs": [],
            "source": "features, feature_names = ft.dfs(entityset = es, \n                                 target_entity = 'combine', \n#                                  trans_primitives=['subtract_numeric', 'add_numeric', 'divide_numeric', 'multiply_numeric'],\n                                 max_depth = 2)"
        },
        {
            "cell_type": "code",
            "execution_count": 39,
            "metadata": {},
            "outputs": [
                {
                    "data": {
                        "text/plain": "[<Feature: Age>,\n <Feature: Fare>,\n <Feature: Parch>,\n <Feature: Pclass>,\n <Feature: SibSp>,\n <Feature: Embarked>,\n <Feature: Sex>,\n <Feature: Title>,\n <Feature: Embarked.SUM(combine.Fare)>,\n <Feature: Embarked.SUM(combine.Age)>,\n <Feature: Embarked.STD(combine.Fare)>,\n <Feature: Embarked.STD(combine.Age)>,\n <Feature: Embarked.MAX(combine.Fare)>,\n <Feature: Embarked.MAX(combine.Age)>,\n <Feature: Embarked.SKEW(combine.Fare)>,\n <Feature: Embarked.SKEW(combine.Age)>,\n <Feature: Embarked.MIN(combine.Fare)>,\n <Feature: Embarked.MIN(combine.Age)>,\n <Feature: Embarked.MEAN(combine.Fare)>,\n <Feature: Embarked.MEAN(combine.Age)>,\n <Feature: Embarked.COUNT(combine)>,\n <Feature: Embarked.NUM_UNIQUE(combine.Pclass)>,\n <Feature: Embarked.NUM_UNIQUE(combine.Title)>,\n <Feature: Embarked.NUM_UNIQUE(combine.Parch)>,\n <Feature: Embarked.NUM_UNIQUE(combine.SibSp)>,\n <Feature: Embarked.NUM_UNIQUE(combine.Sex)>,\n <Feature: Embarked.MODE(combine.Pclass)>,\n <Feature: Embarked.MODE(combine.Title)>,\n <Feature: Embarked.MODE(combine.Parch)>,\n <Feature: Embarked.MODE(combine.SibSp)>,\n <Feature: Embarked.MODE(combine.Sex)>,\n <Feature: Sex.SUM(combine.Fare)>,\n <Feature: Sex.SUM(combine.Age)>,\n <Feature: Sex.STD(combine.Fare)>,\n <Feature: Sex.STD(combine.Age)>,\n <Feature: Sex.MAX(combine.Fare)>,\n <Feature: Sex.MAX(combine.Age)>,\n <Feature: Sex.SKEW(combine.Fare)>,\n <Feature: Sex.SKEW(combine.Age)>,\n <Feature: Sex.MIN(combine.Fare)>,\n <Feature: Sex.MIN(combine.Age)>,\n <Feature: Sex.MEAN(combine.Fare)>,\n <Feature: Sex.MEAN(combine.Age)>,\n <Feature: Sex.COUNT(combine)>,\n <Feature: Sex.NUM_UNIQUE(combine.Pclass)>,\n <Feature: Sex.NUM_UNIQUE(combine.Title)>,\n <Feature: Sex.NUM_UNIQUE(combine.Parch)>,\n <Feature: Sex.NUM_UNIQUE(combine.SibSp)>,\n <Feature: Sex.NUM_UNIQUE(combine.Embarked)>,\n <Feature: Sex.MODE(combine.Pclass)>,\n <Feature: Sex.MODE(combine.Title)>,\n <Feature: Sex.MODE(combine.Parch)>,\n <Feature: Sex.MODE(combine.SibSp)>,\n <Feature: Sex.MODE(combine.Embarked)>,\n <Feature: Title.SUM(combine.Fare)>,\n <Feature: Title.SUM(combine.Age)>,\n <Feature: Title.STD(combine.Fare)>,\n <Feature: Title.STD(combine.Age)>,\n <Feature: Title.MAX(combine.Fare)>,\n <Feature: Title.MAX(combine.Age)>,\n <Feature: Title.SKEW(combine.Fare)>,\n <Feature: Title.SKEW(combine.Age)>,\n <Feature: Title.MIN(combine.Fare)>,\n <Feature: Title.MIN(combine.Age)>,\n <Feature: Title.MEAN(combine.Fare)>,\n <Feature: Title.MEAN(combine.Age)>,\n <Feature: Title.COUNT(combine)>,\n <Feature: Title.NUM_UNIQUE(combine.Pclass)>,\n <Feature: Title.NUM_UNIQUE(combine.Parch)>,\n <Feature: Title.NUM_UNIQUE(combine.SibSp)>,\n <Feature: Title.NUM_UNIQUE(combine.Embarked)>,\n <Feature: Title.NUM_UNIQUE(combine.Sex)>,\n <Feature: Title.MODE(combine.Pclass)>,\n <Feature: Title.MODE(combine.Parch)>,\n <Feature: Title.MODE(combine.SibSp)>,\n <Feature: Title.MODE(combine.Embarked)>,\n <Feature: Title.MODE(combine.Sex)>,\n <Feature: Pclass.SUM(combine.Fare)>,\n <Feature: Pclass.SUM(combine.Age)>,\n <Feature: Pclass.STD(combine.Fare)>,\n <Feature: Pclass.STD(combine.Age)>,\n <Feature: Pclass.MAX(combine.Fare)>,\n <Feature: Pclass.MAX(combine.Age)>,\n <Feature: Pclass.SKEW(combine.Fare)>,\n <Feature: Pclass.SKEW(combine.Age)>,\n <Feature: Pclass.MIN(combine.Fare)>,\n <Feature: Pclass.MIN(combine.Age)>,\n <Feature: Pclass.MEAN(combine.Fare)>,\n <Feature: Pclass.MEAN(combine.Age)>,\n <Feature: Pclass.COUNT(combine)>,\n <Feature: Pclass.NUM_UNIQUE(combine.Title)>,\n <Feature: Pclass.NUM_UNIQUE(combine.Parch)>,\n <Feature: Pclass.NUM_UNIQUE(combine.SibSp)>,\n <Feature: Pclass.NUM_UNIQUE(combine.Embarked)>,\n <Feature: Pclass.NUM_UNIQUE(combine.Sex)>,\n <Feature: Pclass.MODE(combine.Title)>,\n <Feature: Pclass.MODE(combine.Parch)>,\n <Feature: Pclass.MODE(combine.SibSp)>,\n <Feature: Pclass.MODE(combine.Embarked)>,\n <Feature: Pclass.MODE(combine.Sex)>,\n <Feature: Parch.SUM(combine.Fare)>,\n <Feature: Parch.SUM(combine.Age)>,\n <Feature: Parch.STD(combine.Fare)>,\n <Feature: Parch.STD(combine.Age)>,\n <Feature: Parch.MAX(combine.Fare)>,\n <Feature: Parch.MAX(combine.Age)>,\n <Feature: Parch.SKEW(combine.Fare)>,\n <Feature: Parch.SKEW(combine.Age)>,\n <Feature: Parch.MIN(combine.Fare)>,\n <Feature: Parch.MIN(combine.Age)>,\n <Feature: Parch.MEAN(combine.Fare)>,\n <Feature: Parch.MEAN(combine.Age)>,\n <Feature: Parch.COUNT(combine)>,\n <Feature: Parch.NUM_UNIQUE(combine.Pclass)>,\n <Feature: Parch.NUM_UNIQUE(combine.Title)>,\n <Feature: Parch.NUM_UNIQUE(combine.SibSp)>,\n <Feature: Parch.NUM_UNIQUE(combine.Embarked)>,\n <Feature: Parch.NUM_UNIQUE(combine.Sex)>,\n <Feature: Parch.MODE(combine.Pclass)>,\n <Feature: Parch.MODE(combine.Title)>,\n <Feature: Parch.MODE(combine.SibSp)>,\n <Feature: Parch.MODE(combine.Embarked)>,\n <Feature: Parch.MODE(combine.Sex)>,\n <Feature: SibSp.SUM(combine.Fare)>,\n <Feature: SibSp.SUM(combine.Age)>,\n <Feature: SibSp.STD(combine.Fare)>,\n <Feature: SibSp.STD(combine.Age)>,\n <Feature: SibSp.MAX(combine.Fare)>,\n <Feature: SibSp.MAX(combine.Age)>,\n <Feature: SibSp.SKEW(combine.Fare)>,\n <Feature: SibSp.SKEW(combine.Age)>,\n <Feature: SibSp.MIN(combine.Fare)>,\n <Feature: SibSp.MIN(combine.Age)>,\n <Feature: SibSp.MEAN(combine.Fare)>,\n <Feature: SibSp.MEAN(combine.Age)>,\n <Feature: SibSp.COUNT(combine)>,\n <Feature: SibSp.NUM_UNIQUE(combine.Pclass)>,\n <Feature: SibSp.NUM_UNIQUE(combine.Title)>,\n <Feature: SibSp.NUM_UNIQUE(combine.Parch)>,\n <Feature: SibSp.NUM_UNIQUE(combine.Embarked)>,\n <Feature: SibSp.NUM_UNIQUE(combine.Sex)>,\n <Feature: SibSp.MODE(combine.Pclass)>,\n <Feature: SibSp.MODE(combine.Title)>,\n <Feature: SibSp.MODE(combine.Parch)>,\n <Feature: SibSp.MODE(combine.Embarked)>,\n <Feature: SibSp.MODE(combine.Sex)>]"
                    },
                    "execution_count": 39,
                    "metadata": {},
                    "output_type": "execute_result"
                }
            ],
            "source": "feature_names"
        },
        {
            "cell_type": "code",
            "execution_count": 40,
            "metadata": {},
            "outputs": [
                {
                    "data": {
                        "text/plain": "146"
                    },
                    "execution_count": 40,
                    "metadata": {},
                    "output_type": "execute_result"
                }
            ],
            "source": "len(feature_names)"
        },
        {
            "cell_type": "code",
            "execution_count": 41,
            "metadata": {},
            "outputs": [
                {
                    "data": {
                        "text/plain": "Age                                    0\nFare                                   0\nParch                                  0\nPclass                                 0\nSibSp                                  0\nEmbarked                               0\nSex                                    0\nTitle                                  0\nEmbarked.SUM(combine.Fare)             0\nEmbarked.SUM(combine.Age)              0\nEmbarked.STD(combine.Fare)             0\nEmbarked.STD(combine.Age)              0\nEmbarked.MAX(combine.Fare)             0\nEmbarked.MAX(combine.Age)              0\nEmbarked.SKEW(combine.Fare)            0\nEmbarked.SKEW(combine.Age)             0\nEmbarked.MIN(combine.Fare)             0\nEmbarked.MIN(combine.Age)              0\nEmbarked.MEAN(combine.Fare)            0\nEmbarked.MEAN(combine.Age)             0\nEmbarked.COUNT(combine)                0\nEmbarked.NUM_UNIQUE(combine.Pclass)    0\nEmbarked.NUM_UNIQUE(combine.Title)     0\nEmbarked.NUM_UNIQUE(combine.Parch)     0\nEmbarked.NUM_UNIQUE(combine.SibSp)     0\nEmbarked.NUM_UNIQUE(combine.Sex)       0\nEmbarked.MODE(combine.Pclass)          0\nEmbarked.MODE(combine.Title)           0\nEmbarked.MODE(combine.Parch)           0\nEmbarked.MODE(combine.SibSp)           0\n                                      ..\nParch.NUM_UNIQUE(combine.Embarked)     0\nParch.NUM_UNIQUE(combine.Sex)          0\nParch.MODE(combine.Pclass)             0\nParch.MODE(combine.Title)              0\nParch.MODE(combine.SibSp)              0\nParch.MODE(combine.Embarked)           0\nParch.MODE(combine.Sex)                0\nSibSp.SUM(combine.Fare)                0\nSibSp.SUM(combine.Age)                 0\nSibSp.STD(combine.Fare)                0\nSibSp.STD(combine.Age)                 0\nSibSp.MAX(combine.Fare)                0\nSibSp.MAX(combine.Age)                 0\nSibSp.SKEW(combine.Fare)               0\nSibSp.SKEW(combine.Age)                0\nSibSp.MIN(combine.Fare)                0\nSibSp.MIN(combine.Age)                 0\nSibSp.MEAN(combine.Fare)               0\nSibSp.MEAN(combine.Age)                0\nSibSp.COUNT(combine)                   0\nSibSp.NUM_UNIQUE(combine.Pclass)       0\nSibSp.NUM_UNIQUE(combine.Title)        0\nSibSp.NUM_UNIQUE(combine.Parch)        0\nSibSp.NUM_UNIQUE(combine.Embarked)     0\nSibSp.NUM_UNIQUE(combine.Sex)          0\nSibSp.MODE(combine.Pclass)             0\nSibSp.MODE(combine.Title)              0\nSibSp.MODE(combine.Parch)              0\nSibSp.MODE(combine.Embarked)           0\nSibSp.MODE(combine.Sex)                0\nLength: 146, dtype: int64"
                    },
                    "execution_count": 41,
                    "metadata": {},
                    "output_type": "execute_result"
                }
            ],
            "source": "features.isnull().sum()"
        },
        {
            "cell_type": "code",
            "execution_count": 55,
            "metadata": {},
            "outputs": [],
            "source": "class RemoveLowInfo(BaseEstimator, TransformerMixin):\n    def __init__(self, threshold):\n        self.threshold = threshold\n\n    def fit(self, X, y=None):\n        return self\n\n    def transform(self, X):\n        df = X.copy()\n        keep = [column for column in df.columns if df[column].value_counts(normalize=True).reset_index(drop=True)[0]<self.threshold]\n        return df[keep]"
        },
        {
            "cell_type": "code",
            "execution_count": 43,
            "metadata": {},
            "outputs": [],
            "source": "from sklearn.preprocessing import Imputer, OneHotEncoder, StandardScaler, FunctionTransformer"
        },
        {
            "cell_type": "code",
            "execution_count": 52,
            "metadata": {},
            "outputs": [],
            "source": "impute_median = FunctionTransformer(lambda x: x.fillna(x.median()), validate=False)"
        },
        {
            "cell_type": "code",
            "execution_count": 60,
            "metadata": {},
            "outputs": [],
            "source": "normalize = FunctionTransformer(lambda x: (x-x.mean())/x.std(), validate=False)"
        },
        {
            "cell_type": "code",
            "execution_count": 45,
            "metadata": {},
            "outputs": [],
            "source": "from sklearn.decomposition import PCA"
        },
        {
            "cell_type": "code",
            "execution_count": 61,
            "metadata": {},
            "outputs": [],
            "source": "transformer = Pipeline([\n    (\"imputer\", impute_median),\n    ('removelowinfo',RemoveLowInfo(threshold=.95)),\n    ('scaler', normalize),\n])"
        },
        {
            "cell_type": "code",
            "execution_count": 63,
            "metadata": {},
            "outputs": [],
            "source": "clean_features = transformer.fit_transform(features)"
        },
        {
            "cell_type": "code",
            "execution_count": 71,
            "metadata": {},
            "outputs": [],
            "source": "from sklearn.linear_model  import LogisticRegression, SGDClassifier\nfrom sklearn.ensemble import RandomForestClassifier, GradientBoostingClassifier, AdaBoostClassifier, BaggingClassifier, VotingClassifier\nfrom sklearn.neural_network import MLPClassifier\nfrom sklearn.svm import SVC, LinearSVC\nfrom sklearn.naive_bayes import GaussianNB\nfrom sklearn.neighbors import KNeighborsClassifier\nfrom sklearn.tree import DecisionTreeClassifier\nfrom sklearn.decomposition import PCA\nimport xgboost as xgb\nimport lightgbm as lgb\n# import catboost as cgb"
        },
        {
            "cell_type": "code",
            "execution_count": 72,
            "metadata": {},
            "outputs": [
                {
                    "name": "stdout",
                    "output_type": "stream",
                    "text": "Requirement already satisfied: lightgbm in /opt/conda/envs/Python36/lib/python3.6/site-packages (2.3.1)\r\nRequirement already satisfied: scipy in /opt/conda/envs/Python36/lib/python3.6/site-packages (from lightgbm) (1.2.0)\r\nRequirement already satisfied: numpy in /opt/conda/envs/Python36/lib/python3.6/site-packages (from lightgbm) (1.19.1)\r\nRequirement already satisfied: scikit-learn in /opt/conda/envs/Python36/lib/python3.6/site-packages (from lightgbm) (0.20.3)\r\n"
                }
            ],
            "source": "! pip install lightgbm"
        },
        {
            "cell_type": "code",
            "execution_count": 84,
            "metadata": {},
            "outputs": [
                {
                    "name": "stderr",
                    "output_type": "stream",
                    "text": "/opt/conda/envs/Python36/lib/python3.6/site-packages/sklearn/preprocessing/label.py:219: DataConversionWarning: A column-vector y was passed when a 1d array was expected. Please change the shape of y to (n_samples, ), for example using ravel().\n  y = column_or_1d(y, warn=True)\n/opt/conda/envs/Python36/lib/python3.6/site-packages/sklearn/preprocessing/label.py:252: DataConversionWarning: A column-vector y was passed when a 1d array was expected. Please change the shape of y to (n_samples, ), for example using ravel().\n  y = column_or_1d(y, warn=True)\n/opt/conda/envs/Python36/lib/python3.6/site-packages/sklearn/neural_network/multilayer_perceptron.py:562: ConvergenceWarning: Stochastic Optimizer: Maximum iterations (200) reached and the optimization hasn't converged yet.\n  % self.max_iter, ConvergenceWarning)\n"
                },
                {
                    "data": {
                        "text/plain": "Pipeline(memory=None,\n     steps=[('ensemble', VotingClassifier(estimators=[('logistic', LogisticRegression(C=1.0, class_weight=None, dual=False, fit_intercept=True,\n          intercept_scaling=1, max_iter=100, multi_class='warn',\n          n_jobs=None, penalty='l2', random_state=None, solver='lbfgs',\n          tol=0.0001, ve...  weights='uniform'))],\n         flatten_transform=None, n_jobs=None, voting='soft', weights=None))])"
                    },
                    "execution_count": 84,
                    "metadata": {},
                    "output_type": "execute_result"
                }
            ],
            "source": "methods = [\n           ('logistic', LogisticRegression(solver='lbfgs')), \n#            ('sgd', SGDClassifier()), \n           ('tree', DecisionTreeClassifier()),\n           ('bag', BaggingClassifier()),\n           ('xgb', xgb.XGBClassifier(max_depth=3)),\n           ('lgb', lgb.LGBMClassifier(max_depth=3)),\n#            ('cgb', cgb.CatBoostClassifier(max_depth=3,silent=True)),\n           ('ada', AdaBoostClassifier()),\n           ('gbm', GradientBoostingClassifier()),\n           ('rf', RandomForestClassifier(n_estimators=100)),\n#            ('svc', LinearSVC()),\n#            ('rbf', SVC()),\n           ('nb', Pipeline([('pca', PCA()), ('gnb', GaussianNB())])),\n           ('nn', MLPClassifier()),\n           ('knn', KNeighborsClassifier()),\n          ]\n\n\nensemble = VotingClassifier(\n        methods,\n        voting='soft', \n#         weights=[1,1,1,1,2,2,1,1],\n#         flatten_transform=True,\n)\n\nclf = Pipeline([\n#          ('transformer', transformer),\n     ('ensemble', ensemble),\n])\n\nclf.fit(clean_features.iloc[:train_df.shape[0],:], target)"
        },
        {
            "cell_type": "code",
            "execution_count": 87,
            "metadata": {},
            "outputs": [],
            "source": "submission['Survived'] = pd.DataFrame(clf.predict(clean_features.iloc[train_df.shape[0]:,:]))"
        },
        {
            "cell_type": "code",
            "execution_count": 88,
            "metadata": {},
            "outputs": [
                {
                    "name": "stdout",
                    "output_type": "stream",
                    "text": "PassengerId    int64\nSurvived       int64\ndtype: object\n"
                }
            ],
            "source": "print(submission.dtypes)"
        },
        {
            "cell_type": "code",
            "execution_count": 90,
            "metadata": {},
            "outputs": [],
            "source": "# project.save_data(file_name = \"submission2.csv\",data = submission.to_csv(index=False))"
        },
        {
            "cell_type": "code",
            "execution_count": null,
            "metadata": {},
            "outputs": [],
            "source": ""
        }
    ],
    "metadata": {
        "jupytext": {
            "cell_metadata_filter": "-all",
            "main_language": "python",
            "notebook_metadata_filter": "-all"
        },
        "kernelspec": {
            "display_name": "Python 3.6",
            "language": "python",
            "name": "python3"
        },
        "language_info": {
            "codemirror_mode": {
                "name": "ipython",
                "version": 3
            },
            "file_extension": ".py",
            "mimetype": "text/x-python",
            "name": "python",
            "nbconvert_exporter": "python",
            "pygments_lexer": "ipython3",
            "version": "3.6.9"
        }
    },
    "nbformat": 4,
    "nbformat_minor": 4
}